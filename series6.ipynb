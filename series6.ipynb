{
 "cells": [
  {
   "cell_type": "code",
   "execution_count": 1,
   "metadata": {
    "collapsed": true
   },
   "outputs": [],
   "source": [
    "import pandas as pd\n",
    "import matplotlib.pyplot as plt\n",
    "import numpy as np\n",
    "%matplotlib inline\n",
    "\n",
    "# squeeze=TRUE  import as series not as DF\n",
    "google=pd.read_csv('csvs/google_stock_price.csv',squeeze=True)\n",
    "pokemon=pd.read_csv('csvs/pokemon.csv',usecols=['Pokemon'],squeeze=True)\n"
   ]
  },
  {
   "cell_type": "code",
   "execution_count": 2,
   "metadata": {},
   "outputs": [
    {
     "data": {
      "text/plain": [
       "0     Bulbasaur\n1       Ivysaur\n2      Venusaur\n3    Charmander\n4    Charmeleon\nName: Pokemon, dtype: object"
      ]
     },
     "execution_count": 2,
     "metadata": {},
     "output_type": "execute_result"
    }
   ],
   "source": [
    "pokemon.head()"
   ]
  },
  {
   "cell_type": "code",
   "execution_count": 4,
   "metadata": {},
   "outputs": [
    {
     "data": {
      "text/plain": [
       "False"
      ]
     },
     "execution_count": 4,
     "metadata": {},
     "output_type": "execute_result"
    }
   ],
   "source": [
    "\"Bulbasaur\" in pokemon \n",
    "# in es para buscar por defecto en los indices"
   ]
  },
  {
   "cell_type": "code",
   "execution_count": 5,
   "metadata": {},
   "outputs": [
    {
     "data": {
      "text/plain": [
       "True"
      ]
     },
     "execution_count": 5,
     "metadata": {},
     "output_type": "execute_result"
    }
   ],
   "source": [
    "100 in pokemon.index"
   ]
  },
  {
   "cell_type": "code",
   "execution_count": 6,
   "metadata": {},
   "outputs": [
    {
     "data": {
      "text/plain": [
       "True"
      ]
     },
     "execution_count": 6,
     "metadata": {},
     "output_type": "execute_result"
    }
   ],
   "source": [
    "\"Bulbasaur\" in pokemon.values"
   ]
  },
  {
   "cell_type": "code",
   "execution_count": 7,
   "metadata": {},
   "outputs": [
    {
     "data": {
      "text/plain": [
       "40        Zubat\n41       Golbat\n42       Oddish\n43        Gloom\n44    Vileplume\n45        Paras\n46     Parasect\n47      Venonat\n48     Venomoth\n49      Diglett\n50      Dugtrio\n51       Meowth\n52      Persian\n53      Psyduck\n54      Golduck\n55       Mankey\n56     Primeape\n57    Growlithe\n58     Arcanine\n59      Poliwag\nName: Pokemon, dtype: object"
      ]
     },
     "execution_count": 7,
     "metadata": {},
     "output_type": "execute_result"
    }
   ],
   "source": [
    "pokemon[40 :60]"
   ]
  },
  {
   "cell_type": "code",
   "execution_count": 8,
   "metadata": {},
   "outputs": [
    {
     "data": {
      "text/plain": [
       "0      Bulbasaur\n1        Ivysaur\n2       Venusaur\n3     Charmander\n4     Charmeleon\n5      Charizard\n6       Squirtle\n7      Wartortle\n8      Blastoise\n9       Caterpie\n10       Metapod\n11    Butterfree\n12        Weedle\n13        Kakuna\n14      Beedrill\n15        Pidgey\n16     Pidgeotto\n17       Pidgeot\n18       Rattata\n19      Raticate\n20       Spearow\n21        Fearow\n22         Ekans\n23         Arbok\n24       Pikachu\n25        Raichu\n26     Sandshrew\n27     Sandslash\n28       Nidoran\n29      Nidorina\n30     Nidoqueen\n31      Nidoran♂\n32      Nidorino\n33      Nidoking\n34      Clefairy\n35      Clefable\n36        Vulpix\n37     Ninetales\n38    Jigglypuff\n39    Wigglytuff\n40         Zubat\n41        Golbat\n42        Oddish\n43         Gloom\n44     Vileplume\n45         Paras\n46      Parasect\n47       Venonat\n48      Venomoth\n49       Diglett\nName: Pokemon, dtype: object"
      ]
     },
     "execution_count": 8,
     "metadata": {},
     "output_type": "execute_result"
    }
   ],
   "source": [
    "pokemon[:50]"
   ]
  },
  {
   "cell_type": "code",
   "execution_count": 9,
   "metadata": {},
   "outputs": [
    {
     "data": {
      "text/plain": [
       "691     Clauncher\n692     Clawitzer\n693    Helioptile\n694     Heliolisk\n695        Tyrunt\n696     Tyrantrum\n697        Amaura\n698       Aurorus\n699       Sylveon\n700      Hawlucha\n701       Dedenne\n702       Carbink\n703         Goomy\n704       Sliggoo\n705        Goodra\n706        Klefki\n707      Phantump\n708     Trevenant\n709     Pumpkaboo\n710     Gourgeist\n711      Bergmite\n712       Avalugg\n713        Noibat\n714       Noivern\n715       Xerneas\n716       Yveltal\n717       Zygarde\n718       Diancie\n719         Hoopa\n720     Volcanion\nName: Pokemon, dtype: object"
      ]
     },
     "execution_count": 9,
     "metadata": {},
     "output_type": "execute_result"
    }
   ],
   "source": [
    "pokemon[-30:]"
   ]
  },
  {
   "cell_type": "code",
   "execution_count": 10,
   "metadata": {},
   "outputs": [
    {
     "data": {
      "text/plain": [
       "711     Bergmite\n712      Avalugg\n713       Noibat\n714      Noivern\n715      Xerneas\n716      Yveltal\n717      Zygarde\n718      Diancie\n719        Hoopa\n720    Volcanion\nName: Pokemon, dtype: object"
      ]
     },
     "execution_count": 10,
     "metadata": {},
     "output_type": "execute_result"
    }
   ],
   "source": [
    "pokemon[-10:]"
   ]
  },
  {
   "cell_type": "code",
   "execution_count": null,
   "metadata": {},
   "outputs": [],
   "source": []
  }
 ],
 "metadata": {
  "kernelspec": {
   "display_name": "Python 2",
   "language": "python",
   "name": "python2"
  },
  "language_info": {
   "codemirror_mode": {
    "name": "ipython",
    "version": 2
   },
   "file_extension": ".py",
   "mimetype": "text/x-python",
   "name": "python",
   "nbconvert_exporter": "python",
   "pygments_lexer": "ipython2",
   "version": "2.7.6"
  }
 },
 "nbformat": 4,
 "nbformat_minor": 0
}
