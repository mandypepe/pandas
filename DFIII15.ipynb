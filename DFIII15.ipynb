{
 "cells": [
  {
   "cell_type": "code",
   "execution_count": 7,
   "metadata": {
    "collapsed": true
   },
   "outputs": [
    {
     "name": "stdout",
     "output_type": "stream",
     "text": [
      "<class 'pandas.core.frame.DataFrame'>\nIndex: 26 entries, A View to a Kill to You Only Live Twice\nData columns (total 6 columns):\nYear                 26 non-null int64\nActor                26 non-null object\nDirector             26 non-null object\nBox Office           26 non-null float64\nBudget               26 non-null float64\nBond Actor Salary    18 non-null float64\ndtypes: float64(3), int64(1), object(2)\nmemory usage: 1.4+ KB\n"
     ]
    }
   ],
   "source": [
    "import pandas as pd\n",
    "import matplotlib.pyplot as plt\n",
    "import numpy as np\n",
    "%matplotlib inline\n",
    "bond=pd.read_csv(\"csvs/jamesbond.csv\", index_col='Film')\n",
    "bond.sort_index(inplace=True)\n",
    "bond.info()\n"
   ]
  },
  {
   "cell_type": "code",
   "execution_count": 8,
   "metadata": {
    "collapsed": true
   },
   "outputs": [],
   "source": [
    "boss=bond['Director'].copy()"
   ]
  },
  {
   "cell_type": "code",
   "execution_count": 9,
   "metadata": {
    "collapsed": false
   },
   "outputs": [
    {
     "data": {
      "text/plain": [
       "<bound method NDFrame.head of Film\nA View to a Kill                            John Glen\nCasino Royale                         Martin Campbell\nCasino Royale                              Ken Hughes\nDiamonds Are Forever                     Guy Hamilton\nDie Another Day                          Lee Tamahori\nDr. No                                  Terence Young\nFor Your Eyes Only                          John Glen\nFrom Russia with Love                   Terence Young\nGoldenEye                             Martin Campbell\nGoldfinger                               Guy Hamilton\nLicence to Kill                             John Glen\nLive and Let Die                         Guy Hamilton\nMoonraker                               Lewis Gilbert\nNever Say Never Again                  Irvin Kershner\nOctopussy                                   John Glen\nOn Her Majesty's Secret Service         Peter R. Hunt\nQuantum of Solace                        Marc Forster\nSkyfall                                    Sam Mendes\nSpectre                                    Sam Mendes\nThe Living Daylights                        John Glen\nThe Man with the Golden Gun              Guy Hamilton\nThe Spy Who Loved Me                    Lewis Gilbert\nThe World Is Not Enough                 Michael Apted\nThunderball                             Terence Young\nTomorrow Never Dies                Roger Spottiswoode\nYou Only Live Twice                     Lewis Gilbert\nName: Director, dtype: object>"
      ]
     },
     "execution_count": 9,
     "metadata": {},
     "output_type": "execute_result"
    }
   ],
   "source": [
    "boss.head"
   ]
  },
  {
   "cell_type": "code",
   "execution_count": 10,
   "metadata": {},
   "outputs": [],
   "source": [
    "boss['Skyfall']=\"Martin Scorsese\""
   ]
  },
  {
   "cell_type": "code",
   "execution_count": 11,
   "metadata": {},
   "outputs": [
    {
     "data": {
      "text/plain": [
       "<bound method NDFrame.head of Film\nA View to a Kill                            John Glen\nCasino Royale                         Martin Campbell\nCasino Royale                              Ken Hughes\nDiamonds Are Forever                     Guy Hamilton\nDie Another Day                          Lee Tamahori\nDr. No                                  Terence Young\nFor Your Eyes Only                          John Glen\nFrom Russia with Love                   Terence Young\nGoldenEye                             Martin Campbell\nGoldfinger                               Guy Hamilton\nLicence to Kill                             John Glen\nLive and Let Die                         Guy Hamilton\nMoonraker                               Lewis Gilbert\nNever Say Never Again                  Irvin Kershner\nOctopussy                                   John Glen\nOn Her Majesty's Secret Service         Peter R. Hunt\nQuantum of Solace                        Marc Forster\nSkyfall                               Martin Scorsese\nSpectre                                    Sam Mendes\nThe Living Daylights                        John Glen\nThe Man with the Golden Gun              Guy Hamilton\nThe Spy Who Loved Me                    Lewis Gilbert\nThe World Is Not Enough                 Michael Apted\nThunderball                             Terence Young\nTomorrow Never Dies                Roger Spottiswoode\nYou Only Live Twice                     Lewis Gilbert\nName: Director, dtype: object>"
      ]
     },
     "execution_count": 11,
     "metadata": {},
     "output_type": "execute_result"
    }
   ],
   "source": [
    "boss.head"
   ]
  },
  {
   "cell_type": "code",
   "execution_count": null,
   "metadata": {},
   "outputs": [],
   "source": []
  }
 ],
 "metadata": {
  "kernelspec": {
   "display_name": "Python 2",
   "language": "python",
   "name": "python2"
  },
  "language_info": {
   "codemirror_mode": {
    "name": "ipython",
    "version": 2
   },
   "file_extension": ".py",
   "mimetype": "text/x-python",
   "name": "python",
   "nbconvert_exporter": "python",
   "pygments_lexer": "ipython2",
   "version": "2.7.6"
  }
 },
 "nbformat": 4,
 "nbformat_minor": 0
}
