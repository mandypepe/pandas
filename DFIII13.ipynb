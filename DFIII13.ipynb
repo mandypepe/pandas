{
 "cells": [
  {
   "cell_type": "code",
   "execution_count": 1,
   "metadata": {
    "collapsed": true
   },
   "outputs": [
    {
     "name": "stdout",
     "output_type": "stream",
     "text": [
      "<class 'pandas.core.frame.DataFrame'>\nIndex: 26 entries, A View to a Kill to You Only Live Twice\nData columns (total 6 columns):\nYear                 26 non-null int64\nActor                26 non-null object\nDirector             26 non-null object\nBox Office           26 non-null float64\nBudget               26 non-null float64\nBond Actor Salary    18 non-null float64\ndtypes: float64(3), int64(1), object(2)\nmemory usage: 1.4+ KB\n"
     ]
    }
   ],
   "source": [
    "import pandas as pd\n",
    "import matplotlib.pyplot as plt\n",
    "import numpy as np\n",
    "%matplotlib inline\n",
    "bond=pd.read_csv(\"csvs/jamesbond.csv\", index_col='Film')\n",
    "bond.sort_index(inplace=True)\n",
    "bond.info()\n"
   ]
  },
  {
   "cell_type": "code",
   "execution_count": 3,
   "metadata": {},
   "outputs": [],
   "source": [
    "bond['Director']=bond['Director'].apply(lambda x : x.upper())\n"
   ]
  },
  {
   "cell_type": "code",
   "execution_count": 4,
   "metadata": {
    "collapsed": true
   },
   "outputs": [
    {
     "data": {
      "text/plain": [
       "Film\nA View to a Kill                            JOHN GLEN\nCasino Royale                         MARTIN CAMPBELL\nCasino Royale                              KEN HUGHES\nDiamonds Are Forever                     GUY HAMILTON\nDie Another Day                          LEE TAMAHORI\nDr. No                                  TERENCE YOUNG\nFor Your Eyes Only                          JOHN GLEN\nFrom Russia with Love                   TERENCE YOUNG\nGoldenEye                             MARTIN CAMPBELL\nGoldfinger                               GUY HAMILTON\nLicence to Kill                             JOHN GLEN\nLive and Let Die                         GUY HAMILTON\nMoonraker                               LEWIS GILBERT\nNever Say Never Again                  IRVIN KERSHNER\nOctopussy                                   JOHN GLEN\nOn Her Majesty's Secret Service         PETER R. HUNT\nQuantum of Solace                        MARC FORSTER\nSkyfall                                    SAM MENDES\nSpectre                                    SAM MENDES\nThe Living Daylights                        JOHN GLEN\nThe Man with the Golden Gun              GUY HAMILTON\nThe Spy Who Loved Me                    LEWIS GILBERT\nThe World Is Not Enough                 MICHAEL APTED\nThunderball                             TERENCE YOUNG\nTomorrow Never Dies                ROGER SPOTTISWOODE\nYou Only Live Twice                     LEWIS GILBERT\nName: Director, dtype: object"
      ]
     },
     "execution_count": 4,
     "metadata": {},
     "output_type": "execute_result"
    }
   ],
   "source": [
    "bond['Director']"
   ]
  },
  {
   "cell_type": "code",
   "execution_count": 13,
   "metadata": {},
   "outputs": [
    {
     "name": "stdout",
     "output_type": "stream",
     "text": [
      "['Year' 'Actor' 'Director' 'Box Office' 'Budget' 'Bond Actor Salary']\n"
     ]
    }
   ],
   "source": [
    "colum=bond.columns.values\n",
    "print(colum)\n",
    "for colu in colum:\n",
    "    bond[colu]=bond[colu].apply(lambda  x  : str(x) +'-GUS')"
   ]
  },
  {
   "cell_type": "code",
   "execution_count": 14,
   "metadata": {
    "collapsed": true
   },
   "outputs": [
    {
     "data": {
      "text/plain": [
       "<bound method NDFrame.head of                                             Year                      Actor  \\\nFilm                                                                          \nA View to a Kill                 1985GUS GUS-GUS     Roger MooreGUS GUS-GUS   \nCasino Royale                    2006GUS GUS-GUS    Daniel CraigGUS GUS-GUS   \nCasino Royale                    1967GUS GUS-GUS     David NivenGUS GUS-GUS   \nDiamonds Are Forever             1971GUS GUS-GUS    Sean ConneryGUS GUS-GUS   \nDie Another Day                  2002GUS GUS-GUS  Pierce BrosnanGUS GUS-GUS   \nDr. No                           1962GUS GUS-GUS    Sean ConneryGUS GUS-GUS   \nFor Your Eyes Only               1981GUS GUS-GUS     Roger MooreGUS GUS-GUS   \nFrom Russia with Love            1963GUS GUS-GUS    Sean ConneryGUS GUS-GUS   \nGoldenEye                        1995GUS GUS-GUS  Pierce BrosnanGUS GUS-GUS   \nGoldfinger                       1964GUS GUS-GUS    Sean ConneryGUS GUS-GUS   \nLicence to Kill                  1989GUS GUS-GUS  Timothy DaltonGUS GUS-GUS   \nLive and Let Die                 1973GUS GUS-GUS     Roger MooreGUS GUS-GUS   \nMoonraker                        1979GUS GUS-GUS     Roger MooreGUS GUS-GUS   \nNever Say Never Again            1983GUS GUS-GUS    Sean ConneryGUS GUS-GUS   \nOctopussy                        1983GUS GUS-GUS     Roger MooreGUS GUS-GUS   \nOn Her Majesty's Secret Service  1969GUS GUS-GUS  George LazenbyGUS GUS-GUS   \nQuantum of Solace                2008GUS GUS-GUS    Daniel CraigGUS GUS-GUS   \nSkyfall                          2012GUS GUS-GUS    Daniel CraigGUS GUS-GUS   \nSpectre                          2015GUS GUS-GUS    Daniel CraigGUS GUS-GUS   \nThe Living Daylights             1987GUS GUS-GUS  Timothy DaltonGUS GUS-GUS   \nThe Man with the Golden Gun      1974GUS GUS-GUS     Roger MooreGUS GUS-GUS   \nThe Spy Who Loved Me             1977GUS GUS-GUS     Roger MooreGUS GUS-GUS   \nThe World Is Not Enough          1999GUS GUS-GUS  Pierce BrosnanGUS GUS-GUS   \nThunderball                      1965GUS GUS-GUS    Sean ConneryGUS GUS-GUS   \nTomorrow Never Dies              1997GUS GUS-GUS  Pierce BrosnanGUS GUS-GUS   \nYou Only Live Twice              1967GUS GUS-GUS    Sean ConneryGUS GUS-GUS   \n\n                                                      Director  \\\nFilm                                                             \nA View to a Kill                          JOHN GLENGUS GUS-GUS   \nCasino Royale                       MARTIN CAMPBELLGUS GUS-GUS   \nCasino Royale                            KEN HUGHESGUS GUS-GUS   \nDiamonds Are Forever                   GUY HAMILTONGUS GUS-GUS   \nDie Another Day                        LEE TAMAHORIGUS GUS-GUS   \nDr. No                                TERENCE YOUNGGUS GUS-GUS   \nFor Your Eyes Only                        JOHN GLENGUS GUS-GUS   \nFrom Russia with Love                 TERENCE YOUNGGUS GUS-GUS   \nGoldenEye                           MARTIN CAMPBELLGUS GUS-GUS   \nGoldfinger                             GUY HAMILTONGUS GUS-GUS   \nLicence to Kill                           JOHN GLENGUS GUS-GUS   \nLive and Let Die                       GUY HAMILTONGUS GUS-GUS   \nMoonraker                             LEWIS GILBERTGUS GUS-GUS   \nNever Say Never Again                IRVIN KERSHNERGUS GUS-GUS   \nOctopussy                                 JOHN GLENGUS GUS-GUS   \nOn Her Majesty's Secret Service       PETER R. HUNTGUS GUS-GUS   \nQuantum of Solace                      MARC FORSTERGUS GUS-GUS   \nSkyfall                                  SAM MENDESGUS GUS-GUS   \nSpectre                                  SAM MENDESGUS GUS-GUS   \nThe Living Daylights                      JOHN GLENGUS GUS-GUS   \nThe Man with the Golden Gun            GUY HAMILTONGUS GUS-GUS   \nThe Spy Who Loved Me                  LEWIS GILBERTGUS GUS-GUS   \nThe World Is Not Enough               MICHAEL APTEDGUS GUS-GUS   \nThunderball                           TERENCE YOUNGGUS GUS-GUS   \nTomorrow Never Dies              ROGER SPOTTISWOODEGUS GUS-GUS   \nYou Only Live Twice                   LEWIS GILBERTGUS GUS-GUS   \n\n                                       Box Office            Budget  \\\nFilm                                                                  \nA View to a Kill                 275.2GUS GUS-GUS   54.5GUS GUS-GUS   \nCasino Royale                    581.5GUS GUS-GUS  145.3GUS GUS-GUS   \nCasino Royale                    315.0GUS GUS-GUS   85.0GUS GUS-GUS   \nDiamonds Are Forever             442.5GUS GUS-GUS   34.7GUS GUS-GUS   \nDie Another Day                  465.4GUS GUS-GUS  154.2GUS GUS-GUS   \nDr. No                           448.8GUS GUS-GUS    7.0GUS GUS-GUS   \nFor Your Eyes Only               449.4GUS GUS-GUS   60.2GUS GUS-GUS   \nFrom Russia with Love            543.8GUS GUS-GUS   12.6GUS GUS-GUS   \nGoldenEye                        518.5GUS GUS-GUS   76.9GUS GUS-GUS   \nGoldfinger                       820.4GUS GUS-GUS   18.6GUS GUS-GUS   \nLicence to Kill                  250.9GUS GUS-GUS   56.7GUS GUS-GUS   \nLive and Let Die                 460.3GUS GUS-GUS   30.8GUS GUS-GUS   \nMoonraker                        535.0GUS GUS-GUS   91.5GUS GUS-GUS   \nNever Say Never Again            380.0GUS GUS-GUS   86.0GUS GUS-GUS   \nOctopussy                        373.8GUS GUS-GUS   53.9GUS GUS-GUS   \nOn Her Majesty's Secret Service  291.5GUS GUS-GUS   37.3GUS GUS-GUS   \nQuantum of Solace                514.2GUS GUS-GUS  181.4GUS GUS-GUS   \nSkyfall                          943.5GUS GUS-GUS  170.2GUS GUS-GUS   \nSpectre                          726.7GUS GUS-GUS  206.3GUS GUS-GUS   \nThe Living Daylights             313.5GUS GUS-GUS   68.8GUS GUS-GUS   \nThe Man with the Golden Gun      334.0GUS GUS-GUS   27.7GUS GUS-GUS   \nThe Spy Who Loved Me             533.0GUS GUS-GUS   45.1GUS GUS-GUS   \nThe World Is Not Enough          439.5GUS GUS-GUS  158.3GUS GUS-GUS   \nThunderball                      848.1GUS GUS-GUS   41.9GUS GUS-GUS   \nTomorrow Never Dies              463.2GUS GUS-GUS  133.9GUS GUS-GUS   \nYou Only Live Twice              514.2GUS GUS-GUS   59.9GUS GUS-GUS   \n\n                                Bond Actor Salary  \nFilm                                               \nA View to a Kill                   9.1GUS GUS-GUS  \nCasino Royale                      3.3GUS GUS-GUS  \nCasino Royale                      nanGUS GUS-GUS  \nDiamonds Are Forever               5.8GUS GUS-GUS  \nDie Another Day                   17.9GUS GUS-GUS  \nDr. No                             0.6GUS GUS-GUS  \nFor Your Eyes Only                 nanGUS GUS-GUS  \nFrom Russia with Love              1.6GUS GUS-GUS  \nGoldenEye                          5.1GUS GUS-GUS  \nGoldfinger                         3.2GUS GUS-GUS  \nLicence to Kill                    7.9GUS GUS-GUS  \nLive and Let Die                   nanGUS GUS-GUS  \nMoonraker                          nanGUS GUS-GUS  \nNever Say Never Again              nanGUS GUS-GUS  \nOctopussy                          7.8GUS GUS-GUS  \nOn Her Majesty's Secret Service    0.6GUS GUS-GUS  \nQuantum of Solace                  8.1GUS GUS-GUS  \nSkyfall                           14.5GUS GUS-GUS  \nSpectre                            nanGUS GUS-GUS  \nThe Living Daylights               5.2GUS GUS-GUS  \nThe Man with the Golden Gun        nanGUS GUS-GUS  \nThe Spy Who Loved Me               nanGUS GUS-GUS  \nThe World Is Not Enough           13.5GUS GUS-GUS  \nThunderball                        4.7GUS GUS-GUS  \nTomorrow Never Dies               10.0GUS GUS-GUS  \nYou Only Live Twice                4.4GUS GUS-GUS  >"
      ]
     },
     "execution_count": 14,
     "metadata": {},
     "output_type": "execute_result"
    }
   ],
   "source": [
    "bond.head"
   ]
  },
  {
   "cell_type": "code",
   "execution_count": null,
   "metadata": {},
   "outputs": [],
   "source": []
  }
 ],
 "metadata": {
  "kernelspec": {
   "display_name": "Python 2",
   "language": "python",
   "name": "python2"
  },
  "language_info": {
   "codemirror_mode": {
    "name": "ipython",
    "version": 2
   },
   "file_extension": ".py",
   "mimetype": "text/x-python",
   "name": "python",
   "nbconvert_exporter": "python",
   "pygments_lexer": "ipython2",
   "version": "2.7.6"
  }
 },
 "nbformat": 4,
 "nbformat_minor": 0
}
