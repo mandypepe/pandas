{
 "cells": [
  {
   "cell_type": "code",
   "execution_count": 1,
   "metadata": {
    "collapsed": true
   },
   "outputs": [
    {
     "name": "stdout",
     "output_type": "stream",
     "text": [
      "<class 'pandas.core.frame.DataFrame'>\nInt64Index: 1000 entries, 1 to 1000\nData columns (total 7 columns):\nCompany      1000 non-null object\nSector       1000 non-null object\nIndustry     1000 non-null object\nLocation     1000 non-null object\nRevenue      1000 non-null int64\nProfits      1000 non-null int64\nEmployees    1000 non-null int64\ndtypes: int64(3), object(4)\nmemory usage: 62.5+ KB\n"
     ]
    }
   ],
   "source": [
    "import pandas as pd\n",
    "import matplotlib.pyplot as plt\n",
    "import numpy as np\n",
    "%matplotlib inline\n",
    "fot=pd.read_csv(\"csvs/fortune1000.csv\", index_col='Rank')\n",
    "fot.info()"
   ]
  },
  {
   "cell_type": "code",
   "execution_count": 2,
   "metadata": {},
   "outputs": [
    {
     "data": {
      "text/plain": [
       "<bound method GroupBy.head of <pandas.core.groupby.groupby.DataFrameGroupBy object at 0x000001B6E2E029E8>>"
      ]
     },
     "execution_count": 2,
     "metadata": {},
     "output_type": "execute_result"
    }
   ],
   "source": [
    "sector_industry=fot.groupby(['Sector','Industry'])\n",
    "sector_industry"
   ]
  },
  {
   "cell_type": "code",
   "execution_count": 4,
   "metadata": {
    "collapsed": true
   },
   "outputs": [
    {
     "data": {
      "text/plain": [
       "Sector                      Industry                                      \nAerospace & Defense         Aerospace and Defense                             20\nApparel                     Apparel                                           15\nBusiness Services           Advertising, marketing                             2\n                            Diversified Outsourcing Services                  14\n                            Education                                          3\n                            Financial Data Services                           19\n                            Miscellaneous                                      3\n                            Temporary Help                                     5\n                            Waste Management                                   5\nChemicals                   Chemicals                                         30\nEnergy                      Energy                                            14\n                            Mining, Crude-Oil Production                      28\n                            Miscellaneous                                      1\n                            Oil and Gas Equipment, Services                    9\n                            Petroleum Refining                                17\n                            Pipelines                                         12\n                            Utilities: Gas and Electric                       41\nEngineering & Construction  Engineering, Construction                         14\n                            Homebuilders                                      12\nFinancials                  Commercial Banks                                  28\n                            Diversified Financials                            15\n                            Insurance: Life, Health (Mutual)                  10\n                            Insurance: Life, Health (stock)                   18\n                            Insurance: Property and Casualty (Mutual)          7\n                            Insurance: Property and Casualty (Stock)          28\n                            Real estate                                       15\n                            Securities                                        18\nFood and Drug Stores        Food and Drug Stores                              15\nFood, Beverages & Tobacco   Beverages                                          9\n                            Food Consumer Products                            20\n                                                                              ..\nMaterials                   Metals                                            14\n                            Miscellaneous                                      1\n                            Packaging, Containers                             16\nMedia                       Entertainment                                     18\n                            Publishing, Printing                               7\nMotor Vehicles & Parts      Motor Vehicles and Parts                          24\nRetailing                   Automotive Retailing, Services                    10\n                            General Merchandisers                             10\n                            Specialty Retailers: Apparel                      18\n                            Specialty Retailers: Other                        42\nTechnology                  Computer Peripherals                               4\n                            Computer Software                                 14\n                            Computers, Office Equipment                        7\n                            Information Technology Services                   13\n                            Internet Services and Retailing                   15\n                            Network and Other Communications Equipment        14\n                            Scientific,Photographic and Control Equipment     12\n                            Semiconductors and Other Electronic Components    23\nTelecommunications          Telecommunications                                15\nTransportation              Airlines                                           9\n                            Mail, Package, and Freight Delivery                2\n                            Miscellaneous                                      1\n                            Railroads                                          5\n                            Transportation Equipment                           5\n                            Transportation and Logistics                       5\n                            Trucking, Truck Leasing                            9\nWholesalers                 Miscellaneous                                      1\n                            Wholesalers: Diversified                          25\n                            Wholesalers: Electronics and Office Equipment      8\n                            Wholesalers: Food and Grocery                      6\nLength: 79, dtype: int64"
      ]
     },
     "execution_count": 4,
     "metadata": {},
     "output_type": "execute_result"
    }
   ],
   "source": [
    "sector_industry.size()"
   ]
  },
  {
   "cell_type": "code",
   "execution_count": 5,
   "metadata": {
    "collapsed": true
   },
   "outputs": [
    {
     "data": {
      "text/plain": [
       "Sector                      Industry                                      \nAerospace & Defense         Aerospace and Defense                             357940\nApparel                     Apparel                                            95968\nBusiness Services           Advertising, marketing                             22748\n                            Diversified Outsourcing Services                   64829\n                            Education                                           7485\n                            Financial Data Services                           100778\n                            Miscellaneous                                      11185\n                            Temporary Help                                     34716\n                            Waste Management                                   30454\nChemicals                   Chemicals                                         243897\nEnergy                      Energy                                             67749\n                            Mining, Crude-Oil Production                      176435\n                            Miscellaneous                                       3159\n                            Oil and Gas Equipment, Services                    82827\n                            Petroleum Refining                                705472\n                            Pipelines                                         138756\n                            Utilities: Gas and Electric                       343411\nEngineering & Construction  Engineering, Construction                          99774\n                            Homebuilders                                       54209\nFinancials                  Commercial Banks                                  623669\n                            Diversified Financials                            327075\n                            Insurance: Life, Health (Mutual)                  181336\n                            Insurance: Life, Health (stock)                   245551\n                            Insurance: Property and Casualty (Mutual)         143682\n                            Insurance: Property and Casualty (Stock)          548027\n                            Real estate                                        62748\n                            Securities                                         85071\nFood and Drug Stores        Food and Drug Stores                              483769\nFood, Beverages & Tobacco   Beverages                                          79396\n                            Food Consumer Products                            238954\n                                                                               ...  \nMaterials                   Metals                                             99925\n                            Miscellaneous                                       6070\n                            Packaging, Containers                             105965\nMedia                       Entertainment                                     186276\n                            Publishing, Printing                               34488\nMotor Vehicles & Parts      Motor Vehicles and Parts                          482540\nRetailing                   Automotive Retailing, Services                    113823\n                            General Merchandisers                             684320\n                            Specialty Retailers: Apparel                      122975\n                            Specialty Retailers: Other                        543958\nTechnology                  Computer Peripherals                               48950\n                            Computer Software                                 179112\n                            Computers, Office Equipment                       353781\n                            Information Technology Services                   166067\n                            Internet Services and Retailing                   259136\n                            Network and Other Communications Equipment        125697\n                            Scientific,Photographic and Control Equipment      65832\n                            Semiconductors and Other Electronic Components    179025\nTelecommunications          Telecommunications                                461834\nTransportation              Airlines                                          158948\n                            Mail, Package, and Freight Delivery               105816\n                            Miscellaneous                                       2148\n                            Railroads                                          48554\n                            Transportation Equipment                           23855\n                            Transportation and Logistics                       33237\n                            Trucking, Truck Leasing                            35950\nWholesalers                 Miscellaneous                                       8982\n                            Wholesalers: Diversified                          176138\n                            Wholesalers: Electronics and Office Equipment     147906\n                            Wholesalers: Food and Grocery                     111774\nName: Revenue, Length: 79, dtype: int64"
      ]
     },
     "execution_count": 5,
     "metadata": {},
     "output_type": "execute_result"
    }
   ],
   "source": [
    "sector_industry['Revenue'].sum()"
   ]
  },
  {
   "cell_type": "code",
   "execution_count": 6,
   "metadata": {
    "collapsed": true
   },
   "outputs": [
    {
     "data": {
      "text/plain": [
       "Sector                      Industry                                      \nAerospace & Defense         Aerospace and Defense                              48402.850000\nApparel                     Apparel                                            23093.133333\nBusiness Services           Advertising, marketing                             62050.000000\n                            Diversified Outsourcing Services                   50595.000000\n                            Education                                          15585.000000\n                            Financial Data Services                            13943.473684\n                            Miscellaneous                                      12573.333333\n                            Temporary Help                                     12004.000000\n                            Waste Management                                   23839.800000\nChemicals                   Chemicals                                          15455.033333\nEnergy                      Energy                                              5005.142857\n                            Mining, Crude-Oil Production                        5325.357143\n                            Miscellaneous                                       6700.000000\n                            Oil and Gas Equipment, Services                    25088.333333\n                            Petroleum Refining                                 14404.705882\n                            Pipelines                                           6011.750000\n                            Utilities: Gas and Electric                        10249.487805\nEngineering & Construction  Engineering, Construction                          26293.142857\n                            Homebuilders                                        3217.000000\nFinancials                  Commercial Banks                                   54965.142857\n                            Diversified Financials                             21940.933333\n                            Insurance: Life, Health (Mutual)                    5880.100000\n                            Insurance: Life, Health (stock)                    11235.166667\n                            Insurance: Property and Casualty (Mutual)          19021.142857\n                            Insurance: Property and Casualty (Stock)           28361.535714\n                            Real estate                                        10705.266667\n                            Securities                                          7940.333333\nFood and Drug Stores        Food and Drug Stores                               93026.533333\nFood, Beverages & Tobacco   Beverages                                          22123.000000\n                            Food Consumer Products                             33271.950000\n                                                                                  ...      \nMaterials                   Metals                                             13825.642857\n                            Miscellaneous                                         52.000000\n                            Packaging, Containers                              20840.375000\nMedia                       Entertainment                                      21309.111111\n                            Publishing, Printing                               23821.428571\nMotor Vehicles & Parts      Motor Vehicles and Parts                           45106.666667\nRetailing                   Automotive Retailing, Services                     17497.400000\n                            General Merchandisers                             340810.000000\n                            Specialty Retailers: Apparel                       42807.944444\n                            Specialty Retailers: Other                         44619.333333\nTechnology                  Computer Peripherals                               43814.750000\n                            Computer Software                                  27771.142857\n                            Computers, Office Equipment                        66869.285714\n                            Information Technology Services                    75818.384615\n                            Internet Services and Retailing                    28723.666667\n                            Network and Other Communications Equipment         21379.285714\n                            Scientific,Photographic and Control Equipment      19291.750000\n                            Semiconductors and Other Electronic Components     26065.391304\nTelecommunications          Telecommunications                                 55497.866667\nTransportation              Airlines                                           43511.222222\n                            Mail, Package, and Freight Delivery               332137.500000\n                            Miscellaneous                                       4200.000000\n                            Railroads                                          24368.800000\n                            Transportation Equipment                           11945.200000\n                            Transportation and Logistics                       24938.200000\n                            Trucking, Truck Leasing                            18939.555556\nWholesalers                 Miscellaneous                                       9200.000000\n                            Wholesalers: Diversified                            9353.240000\n                            Wholesalers: Electronics and Office Equipment      20832.625000\n                            Wholesalers: Food and Grocery                      19317.500000\nName: Employees, Length: 79, dtype: float64"
      ]
     },
     "execution_count": 6,
     "metadata": {},
     "output_type": "execute_result"
    }
   ],
   "source": [
    "sector_industry['Employees'].mean()"
   ]
  },
  {
   "cell_type": "code",
   "execution_count": null,
   "metadata": {},
   "outputs": [],
   "source": []
  }
 ],
 "metadata": {
  "kernelspec": {
   "display_name": "Python 2",
   "language": "python",
   "name": "python2"
  },
  "language_info": {
   "codemirror_mode": {
    "name": "ipython",
    "version": 2
   },
   "file_extension": ".py",
   "mimetype": "text/x-python",
   "name": "python",
   "nbconvert_exporter": "python",
   "pygments_lexer": "ipython2",
   "version": "2.7.6"
  }
 },
 "nbformat": 4,
 "nbformat_minor": 0
}
