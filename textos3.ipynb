{
 "cells": [
  {
   "cell_type": "code",
   "execution_count": 1,
   "metadata": {
    "collapsed": true
   },
   "outputs": [
    {
     "name": "stdout",
     "output_type": "stream",
     "text": [
      "<class 'pandas.core.frame.DataFrame'>\nInt64Index: 32062 entries, 0 to 32061\nData columns (total 4 columns):\nName                      32062 non-null object\nPosition Title            32062 non-null object\nDepartment                32062 non-null category\nEmployee Annual Salary    32062 non-null object\ndtypes: category(1), object(3)\nmemory usage: 1.0+ MB\n"
     ]
    }
   ],
   "source": [
    "import pandas as pd\n",
    "import matplotlib.pyplot as plt\n",
    "import numpy as np\n",
    "%matplotlib inline\n",
    "ch=pd.read_csv(\"csvs/chicago.csv\").dropna(how='all')\n",
    "ch['Department']=ch['Department'].astype('category')\n",
    "ch.info()\n",
    "\n"
   ]
  },
  {
   "cell_type": "code",
   "execution_count": 4,
   "metadata": {
    "collapsed": true
   },
   "outputs": [
    {
     "data": {
      "text/plain": [
       "0         True\n1        False\n2        False\n3        False\n4        False\n5        False\n6        False\n7        False\n8        False\n9        False\n10       False\n11       False\n12       False\n13       False\n14       False\n15       False\n16       False\n17       False\n18       False\n19       False\n20       False\n21       False\n22       False\n23       False\n24       False\n25       False\n26       False\n27       False\n28       False\n29       False\n         ...  \n32032    False\n32033    False\n32034    False\n32035    False\n32036    False\n32037    False\n32038    False\n32039    False\n32040    False\n32041    False\n32042    False\n32043    False\n32044    False\n32045    False\n32046    False\n32047    False\n32048    False\n32049    False\n32050    False\n32051    False\n32052    False\n32053    False\n32054    False\n32055    False\n32056    False\n32057    False\n32058    False\n32059    False\n32060    False\n32061    False\nName: Position Title, Length: 32062, dtype: bool"
      ]
     },
     "execution_count": 4,
     "metadata": {},
     "output_type": "execute_result"
    }
   ],
   "source": [
    "ch['Position Title'].str.lower().str.contains('water')"
   ]
  },
  {
   "cell_type": "code",
   "execution_count": 5,
   "metadata": {
    "collapsed": true
   },
   "outputs": [
    {
     "data": {
      "text/plain": [
       "0         True\n1        False\n2        False\n3        False\n4        False\n5        False\n6        False\n7        False\n8        False\n9        False\n10       False\n11       False\n12       False\n13       False\n14       False\n15       False\n16       False\n17       False\n18       False\n19       False\n20       False\n21       False\n22       False\n23       False\n24       False\n25       False\n26       False\n27       False\n28       False\n29       False\n         ...  \n32032    False\n32033    False\n32034    False\n32035    False\n32036    False\n32037    False\n32038    False\n32039    False\n32040    False\n32041    False\n32042    False\n32043    False\n32044    False\n32045    False\n32046    False\n32047    False\n32048    False\n32049    False\n32050    False\n32051    False\n32052    False\n32053    False\n32054    False\n32055    False\n32056    False\n32057    False\n32058    False\n32059    False\n32060    False\n32061    False\nName: Position Title, Length: 32062, dtype: bool"
      ]
     },
     "execution_count": 5,
     "metadata": {},
     "output_type": "execute_result"
    }
   ],
   "source": [
    "ch['Position Title'].str.lower().str.startswith('water')"
   ]
  },
  {
   "cell_type": "code",
   "execution_count": 7,
   "metadata": {
    "collapsed": true
   },
   "outputs": [
    {
     "data": {
      "text/plain": [
       "0        False\n1        False\n2        False\n3        False\n4        False\n5        False\n6        False\n7        False\n8        False\n9        False\n10       False\n11       False\n12       False\n13       False\n14       False\n15       False\n16       False\n17       False\n18       False\n19       False\n20       False\n21       False\n22       False\n23       False\n24       False\n25       False\n26       False\n27       False\n28       False\n29       False\n         ...  \n32032    False\n32033    False\n32034    False\n32035    False\n32036    False\n32037    False\n32038    False\n32039    False\n32040    False\n32041    False\n32042    False\n32043    False\n32044    False\n32045    False\n32046    False\n32047    False\n32048    False\n32049    False\n32050    False\n32051    False\n32052    False\n32053    False\n32054    False\n32055    False\n32056    False\n32057    False\n32058    False\n32059    False\n32060    False\n32061    False\nName: Position Title, Length: 32062, dtype: bool"
      ]
     },
     "execution_count": 7,
     "metadata": {},
     "output_type": "execute_result"
    }
   ],
   "source": [
    "ch['Position Title'].str.lower().str.endswith('ist')"
   ]
  },
  {
   "cell_type": "code",
   "execution_count": 11,
   "metadata": {
    "collapsed": true
   },
   "outputs": [],
   "source": [
    "# eliminar espacios a la izq\n",
    "ch['Name']=ch['Name'].str.lstrip()\n"
   ]
  },
  {
   "cell_type": "code",
   "execution_count": 10,
   "metadata": {
    "collapsed": true
   },
   "outputs": [],
   "source": [
    "# eliminar espacios a la derech\n",
    "ch['Name']=ch['Name'].str.rstrip()"
   ]
  },
  {
   "cell_type": "code",
   "execution_count": 13,
   "metadata": {},
   "outputs": [],
   "source": [
    "ch['Name']=ch['Name'].str.strip()"
   ]
  },
  {
   "cell_type": "code",
   "execution_count": 15,
   "metadata": {
    "collapsed": true
   },
   "outputs": [
    {
     "data": {
      "text/plain": [
       "0                 [AARON,   ELVIA J]\n1               [AARON,   JEFFERY M]\n2                  [AARON,   KARINA]\n3             [AARON,   KIMBERLEI R]\n4             [ABAD JR,   VICENTE M]\n5                 [ABARCA,   ANABEL]\n6               [ABARCA,   EMMANUEL]\n7               [ABASCAL,   REECE E]\n8            [ABBASI,   CHRISTOPHER]\n9           [ABBATACOLA,   ROBERT J]\n10          [ABBATEMARCO,   JAMES J]\n11               [ABBATE,   TERRY M]\n12               [ABBOTT,   BETTY L]\n13              [ABBOTT,   LYNISE M]\n14         [ABBRUZZESE,   WILLIAM J]\n15                [ABDALLAH,   ZAID]\n16          [ABDELHADI,   ABDALMAHD]\n17            [ABDELLATIF,   AREF R]\n18             [ABDELMAJEID,   AZIZ]\n19            [ABDOLLAHZADEH,   ALI]\n20       [ABDUL-KARIM,   MUHAMMAD A]\n21            [ABDULLAH,   DANIEL N]\n22               [ABDULLAH,   KEVIN]\n23           [ABDULLAH,   LAKENYA N]\n24            [ABDULLAH,   RASHAD J]\n25           [ABDULSATTAR,   MUDHAR]\n26           [ABDUL-SHAKUR,   TAHIR]\n27         [ABDULWAHAB,   ABUUBAIDA]\n28              [ABEJERO,   JASON V]\n29        [ABERCROMBIE IV,   EARL S]\n                    ...             \n32032           [ZUNIGA JR,   JAMES]\n32033             [ZUNIGA,   JUAN M]\n32034              [ZUNIGA,   OSCAR]\n32035             [ZUNIGA,   RONALD]\n32036             [ZUNIGA,   THOMAS]\n32037            [ZUNIGA,   VICENTE]\n32038                 [ZUNO,   ERIK]\n32039              [ZUPAN,   BILL M]\n32040            [ZUPANCIC,   KELLY]\n32041          [ZURAWSKI,   CAROL A]\n32042          [ZURAWSKI,   JEFFREY]\n32043            [ZURAWSKI,   MAC Z]\n32044           [ZURAWSKI,   MARY E]\n32045             [ZUREK,   FRANCIS]\n32046              [ZUREK,   MARY H]\n32047             [ZURITA,   ADRIEL]\n32048             [ZVANJA,   TINA M]\n32049      [ZWARYCZ MANN,   IRENE A]\n32050          [ZWARYCZ,   THOMAS J]\n32051          [ZWIESLER,   MATTHEW]\n32052            [ZWIT,   JEFFREY J]\n32053         [ZWOLFER,   MATTHEW W]\n32054              [ZYCH,   MATEUSZ]\n32055               [ZYDEK,   BRYAN]\n32056            [ZYGADLO,   JOHN P]\n32057         [ZYGADLO,   MICHAEL J]\n32058          [ZYGOWICZ,   PETER J]\n32059           [ZYMANTAS,   MARK E]\n32060         [ZYRKOWSKI,   CARLO E]\n32061         [ZYSKOWSKI,   DARIUSZ]\nName: Name, Length: 32062, dtype: object"
      ]
     },
     "execution_count": 15,
     "metadata": {},
     "output_type": "execute_result"
    }
   ],
   "source": [
    "ch['Name'].str.split(',')"
   ]
  },
  {
   "cell_type": "code",
   "execution_count": 16,
   "metadata": {
    "collapsed": true
   },
   "outputs": [
    {
     "data": {
      "text/plain": [
       "0                 AARON\n1                 AARON\n2                 AARON\n3                 AARON\n4               ABAD JR\n5                ABARCA\n6                ABARCA\n7               ABASCAL\n8                ABBASI\n9            ABBATACOLA\n10          ABBATEMARCO\n11               ABBATE\n12               ABBOTT\n13               ABBOTT\n14           ABBRUZZESE\n15             ABDALLAH\n16            ABDELHADI\n17           ABDELLATIF\n18          ABDELMAJEID\n19        ABDOLLAHZADEH\n20          ABDUL-KARIM\n21             ABDULLAH\n22             ABDULLAH\n23             ABDULLAH\n24             ABDULLAH\n25          ABDULSATTAR\n26         ABDUL-SHAKUR\n27           ABDULWAHAB\n28              ABEJERO\n29       ABERCROMBIE IV\n              ...      \n32032         ZUNIGA JR\n32033            ZUNIGA\n32034            ZUNIGA\n32035            ZUNIGA\n32036            ZUNIGA\n32037            ZUNIGA\n32038              ZUNO\n32039             ZUPAN\n32040          ZUPANCIC\n32041          ZURAWSKI\n32042          ZURAWSKI\n32043          ZURAWSKI\n32044          ZURAWSKI\n32045             ZUREK\n32046             ZUREK\n32047            ZURITA\n32048            ZVANJA\n32049      ZWARYCZ MANN\n32050           ZWARYCZ\n32051          ZWIESLER\n32052              ZWIT\n32053           ZWOLFER\n32054              ZYCH\n32055             ZYDEK\n32056           ZYGADLO\n32057           ZYGADLO\n32058          ZYGOWICZ\n32059          ZYMANTAS\n32060         ZYRKOWSKI\n32061         ZYSKOWSKI\nName: Name, Length: 32062, dtype: object"
      ]
     },
     "execution_count": 16,
     "metadata": {},
     "output_type": "execute_result"
    }
   ],
   "source": [
    "ch['Name'].str.split(',').str.get(0)"
   ]
  },
  {
   "cell_type": "code",
   "execution_count": 17,
   "metadata": {
    "collapsed": true
   },
   "outputs": [
    {
     "data": {
      "text/plain": [
       "0                 Aaron\n1                 Aaron\n2                 Aaron\n3                 Aaron\n4               Abad Jr\n5                Abarca\n6                Abarca\n7               Abascal\n8                Abbasi\n9            Abbatacola\n10          Abbatemarco\n11               Abbate\n12               Abbott\n13               Abbott\n14           Abbruzzese\n15             Abdallah\n16            Abdelhadi\n17           Abdellatif\n18          Abdelmajeid\n19        Abdollahzadeh\n20          Abdul-Karim\n21             Abdullah\n22             Abdullah\n23             Abdullah\n24             Abdullah\n25          Abdulsattar\n26         Abdul-Shakur\n27           Abdulwahab\n28              Abejero\n29       Abercrombie Iv\n              ...      \n32032         Zuniga Jr\n32033            Zuniga\n32034            Zuniga\n32035            Zuniga\n32036            Zuniga\n32037            Zuniga\n32038              Zuno\n32039             Zupan\n32040          Zupancic\n32041          Zurawski\n32042          Zurawski\n32043          Zurawski\n32044          Zurawski\n32045             Zurek\n32046             Zurek\n32047            Zurita\n32048            Zvanja\n32049      Zwarycz Mann\n32050           Zwarycz\n32051          Zwiesler\n32052              Zwit\n32053           Zwolfer\n32054              Zych\n32055             Zydek\n32056           Zygadlo\n32057           Zygadlo\n32058          Zygowicz\n32059          Zymantas\n32060         Zyrkowski\n32061         Zyskowski\nName: Name, Length: 32062, dtype: object"
      ]
     },
     "execution_count": 17,
     "metadata": {},
     "output_type": "execute_result"
    }
   ],
   "source": [
    "ch['Name'].str.split(',').str.get(0).str.title()"
   ]
  },
  {
   "cell_type": "code",
   "execution_count": 19,
   "metadata": {
    "collapsed": true
   },
   "outputs": [
    {
     "data": {
      "text/plain": [
       "Williams           293\nJohnson            244\nSmith              241\nBrown              185\nJones              183\nRodriguez          171\nJackson            136\nGarcia             130\nDavis              127\nHernandez          110\nMartinez           108\nLopez              106\nGonzalez           104\nPerez              100\nWilson              94\nRivera              90\nThomas              89\nAnderson            82\nTorres              81\nMurphy              80\nRobinson            79\nMoore               78\nHarris              76\nSanchez             76\nMiller              75\nLewis               74\nTaylor              73\nMartin              72\nWhite               66\nClark               66\n                  ... \nKunis                1\nCalvert              1\nHefel                1\nBinfa                1\nScherr               1\nMontalto             1\nDanielson            1\nCunningham Jr        1\nKung                 1\nPoniatowski          1\nMcmillian            1\nFulgiam Hudson       1\nGlaesser             1\nMcdonald  Iv         1\nWexler               1\nNorsworthy           1\nGurskis              1\nDel Dotto            1\nRanne                1\nHuertas              1\nHaralampopoulos      1\nFrancois             1\nSzpara               1\nVelasco Jr           1\nMora Jr              1\nBelt                 1\nCoan                 1\nMartinelli           1\nLunebach             1\nLenart               1\nName: Name, Length: 13829, dtype: int64"
      ]
     },
     "execution_count": 19,
     "metadata": {},
     "output_type": "execute_result"
    }
   ],
   "source": [
    "ch['Name'].str.split(',').str.get(0).str.title().value_counts()"
   ]
  },
  {
   "cell_type": "code",
   "execution_count": null,
   "metadata": {},
   "outputs": [],
   "source": []
  }
 ],
 "metadata": {
  "kernelspec": {
   "display_name": "Python 2",
   "language": "python",
   "name": "python2"
  },
  "language_info": {
   "codemirror_mode": {
    "name": "ipython",
    "version": 2
   },
   "file_extension": ".py",
   "mimetype": "text/x-python",
   "name": "python",
   "nbconvert_exporter": "python",
   "pygments_lexer": "ipython2",
   "version": "2.7.6"
  }
 },
 "nbformat": 4,
 "nbformat_minor": 0
}
