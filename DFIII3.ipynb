{
 "cells": [
  {
   "cell_type": "code",
   "execution_count": 3,
   "metadata": {
    "collapsed": true
   },
   "outputs": [
    {
     "name": "stdout",
     "output_type": "stream",
     "text": [
      "<class 'pandas.core.frame.DataFrame'>\nRangeIndex: 26 entries, 0 to 25\nData columns (total 7 columns):\nFilm                 26 non-null object\nYear                 26 non-null int64\nActor                26 non-null object\nDirector             26 non-null object\nBox Office           26 non-null float64\nBudget               26 non-null float64\nBond Actor Salary    18 non-null float64\ndtypes: float64(3), int64(1), object(3)\nmemory usage: 1.5+ KB\n"
     ]
    }
   ],
   "source": [
    "import pandas as pd\n",
    "import matplotlib.pyplot as plt\n",
    "import numpy as np\n",
    "%matplotlib inline\n",
    "bond=pd.read_csv(\"csvs/jamesbond.csv\")\n",
    "bond.info()\n"
   ]
  },
  {
   "cell_type": "code",
   "execution_count": 4,
   "metadata": {
    "collapsed": true
   },
   "outputs": [
    {
     "data": {
      "text/plain": [
       "Film                 A View to a Kill\nYear                             1985\nActor                     Roger Moore\nDirector                    John Glen\nBox Office                      275.2\nBudget                           54.5\nBond Actor Salary                 9.1\nName: 15, dtype: object"
      ]
     },
     "execution_count": 4,
     "metadata": {},
     "output_type": "execute_result"
    }
   ],
   "source": [
    "bond.iloc[15]"
   ]
  },
  {
   "cell_type": "code",
   "execution_count": 6,
   "metadata": {
    "collapsed": true
   },
   "outputs": [
    {
     "data": {
      "text/plain": [
       "<bound method NDFrame.head of                     Film  Year           Actor            Director  \\\n16  The Living Daylights  1987  Timothy Dalton           John Glen   \n17       Licence to Kill  1989  Timothy Dalton           John Glen   \n18             GoldenEye  1995  Pierce Brosnan     Martin Campbell   \n19   Tomorrow Never Dies  1997  Pierce Brosnan  Roger Spottiswoode   \n\n    Box Office  Budget  Bond Actor Salary  \n16       313.5    68.8                5.2  \n17       250.9    56.7                7.9  \n18       518.5    76.9                5.1  \n19       463.2   133.9               10.0  >"
      ]
     },
     "execution_count": 6,
     "metadata": {},
     "output_type": "execute_result"
    }
   ],
   "source": [
    "tramos=bond.iloc[16:20]\n",
    "tramos.head"
   ]
  },
  {
   "cell_type": "code",
   "execution_count": 7,
   "metadata": {
    "collapsed": true
   },
   "outputs": [
    {
     "data": {
      "text/plain": [
       "<bound method NDFrame.head of                        Film  Year           Actor       Director  Box Office  \\\n16     The Living Daylights  1987  Timothy Dalton      John Glen       313.5   \n20  The World Is Not Enough  1999  Pierce Brosnan  Michael Apted       439.5   \n\n    Budget  Bond Actor Salary  \n16    68.8                5.2  \n20   158.3               13.5  >"
      ]
     },
     "execution_count": 7,
     "metadata": {},
     "output_type": "execute_result"
    }
   ],
   "source": [
    "espesificos=bond.iloc[[16,20]]\n",
    "espesificos.head"
   ]
  },
  {
   "cell_type": "code",
   "execution_count": 8,
   "metadata": {
    "collapsed": true
   },
   "outputs": [
    {
     "data": {
      "text/plain": [
       "<bound method NDFrame.head of                     Film  Year         Actor       Director  Box Office  \\\n0                 Dr. No  1962  Sean Connery  Terence Young       448.8   \n1  From Russia with Love  1963  Sean Connery  Terence Young       543.8   \n2             Goldfinger  1964  Sean Connery   Guy Hamilton       820.4   \n3            Thunderball  1965  Sean Connery  Terence Young       848.1   \n\n   Budget  Bond Actor Salary  \n0     7.0                0.6  \n1    12.6                1.6  \n2    18.6                3.2  \n3    41.9                4.7  >"
      ]
     },
     "execution_count": 8,
     "metadata": {},
     "output_type": "execute_result"
    }
   ],
   "source": [
    "inicio_a=bond.iloc[:4]\n",
    "inicio_a.head"
   ]
  },
  {
   "cell_type": "code",
   "execution_count": 11,
   "metadata": {},
   "outputs": [
    {
     "data": {
      "text/plain": [
       "<bound method NDFrame.head of                  Film  Year         Actor         Director  Box Office  \\\n22      Casino Royale  2006  Daniel Craig  Martin Campbell       581.5   \n23  Quantum of Solace  2008  Daniel Craig     Marc Forster       514.2   \n24            Skyfall  2012  Daniel Craig       Sam Mendes       943.5   \n25            Spectre  2015  Daniel Craig       Sam Mendes       726.7   \n\n    Budget  Bond Actor Salary  \n22   145.3                3.3  \n23   181.4                8.1  \n24   170.2               14.5  \n25   206.3                NaN  >"
      ]
     },
     "execution_count": 11,
     "metadata": {},
     "output_type": "execute_result"
    }
   ],
   "source": [
    "hasta_fin=bond.iloc[22:]\n",
    "hasta_fin.head"
   ]
  },
  {
   "cell_type": "code",
   "execution_count": null,
   "metadata": {},
   "outputs": [],
   "source": []
  }
 ],
 "metadata": {
  "kernelspec": {
   "display_name": "Python 2",
   "language": "python",
   "name": "python2"
  },
  "language_info": {
   "codemirror_mode": {
    "name": "ipython",
    "version": 2
   },
   "file_extension": ".py",
   "mimetype": "text/x-python",
   "name": "python",
   "nbconvert_exporter": "python",
   "pygments_lexer": "ipython2",
   "version": "2.7.6"
  }
 },
 "nbformat": 4,
 "nbformat_minor": 0
}
