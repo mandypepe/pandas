{
 "cells": [
  {
   "cell_type": "code",
   "execution_count": 1,
   "metadata": {
    "collapsed": true
   },
   "outputs": [
    {
     "name": "stdout",
     "output_type": "stream",
     "text": [
      "<class 'pandas.core.frame.DataFrame'>\nRangeIndex: 9 entries, 0 to 8\nData columns (total 5 columns):\nSalesman    9 non-null object\nQ1          9 non-null int64\nQ2          9 non-null int64\nQ3          9 non-null int64\nQ4          9 non-null int64\ndtypes: int64(4), object(1)\nmemory usage: 440.0+ bytes\n"
     ]
    }
   ],
   "source": [
    "import pandas as pd\n",
    "import matplotlib.pyplot as plt\n",
    "import numpy as np\n",
    "%matplotlib inline\n",
    "qu=pd.read_csv(\"csvs/quarters.csv\")\n",
    "qu.info()\n",
    "\n"
   ]
  },
  {
   "cell_type": "code",
   "execution_count": 4,
   "metadata": {},
   "outputs": [
    {
     "data": {
      "text/plain": [
       "<bound method NDFrame.head of    Salesman  qs  valores\n0     Boris  Q1   602908\n1       Bob  Q1    43790\n2     Tommy  Q1   392668\n3    Travis  Q1   834663\n4    Donald  Q1   580935\n5       Ted  Q1   656644\n6       Jeb  Q1   486141\n7     Stacy  Q1   479662\n8    Morgan  Q1   992673\n9     Boris  Q2   233879\n10      Bob  Q2   514863\n11    Tommy  Q2   113579\n12   Travis  Q2   266785\n13   Donald  Q2   411379\n14      Ted  Q2    70803\n15      Jeb  Q2   600753\n16    Stacy  Q2   742806\n17   Morgan  Q2   879183\n18    Boris  Q3   354479\n19      Bob  Q3   297151\n20    Tommy  Q3   430882\n21   Travis  Q3   749238\n22   Donald  Q3   110390\n23      Ted  Q3   375948\n24      Jeb  Q3   742716\n25    Stacy  Q3   770712\n26   Morgan  Q3    37945\n27    Boris  Q4    32704\n28      Bob  Q4   544493\n29    Tommy  Q4   247231\n30   Travis  Q4   570524\n31   Donald  Q4   651572\n32      Ted  Q4   321388\n33      Jeb  Q4   404995\n34    Stacy  Q4     2501\n35   Morgan  Q4   293710>"
      ]
     },
     "execution_count": 4,
     "metadata": {},
     "output_type": "execute_result"
    }
   ],
   "source": [
    "pd.melt(qu,id_vars='Salesman',var_name=\"qs\",value_name='valores').head"
   ]
  },
  {
   "cell_type": "code",
   "execution_count": null,
   "metadata": {},
   "outputs": [],
   "source": []
  }
 ],
 "metadata": {
  "kernelspec": {
   "display_name": "Python 2",
   "language": "python",
   "name": "python2"
  },
  "language_info": {
   "codemirror_mode": {
    "name": "ipython",
    "version": 2
   },
   "file_extension": ".py",
   "mimetype": "text/x-python",
   "name": "python",
   "nbconvert_exporter": "python",
   "pygments_lexer": "ipython2",
   "version": "2.7.6"
  }
 },
 "nbformat": 4,
 "nbformat_minor": 0
}
