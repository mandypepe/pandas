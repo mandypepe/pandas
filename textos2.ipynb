{
 "cells": [
  {
   "cell_type": "code",
   "execution_count": 15,
   "metadata": {
    "collapsed": true
   },
   "outputs": [
    {
     "name": "stdout",
     "output_type": "stream",
     "text": [
      "<class 'pandas.core.frame.DataFrame'>\nInt64Index: 32062 entries, 0 to 32061\nData columns (total 4 columns):\nName                      32062 non-null object\nPosition Title            32062 non-null object\nDepartment                32062 non-null category\nEmployee Annual Salary    32062 non-null object\ndtypes: category(1), object(3)\nmemory usage: 1.0+ MB\n"
     ]
    }
   ],
   "source": [
    "import pandas as pd\n",
    "import matplotlib.pyplot as plt\n",
    "import numpy as np\n",
    "%matplotlib inline\n",
    "ch=pd.read_csv(\"csvs/chicago.csv\").dropna(how='all')\n",
    "ch['Department']=ch['Department'].astype('category')\n",
    "ch.info()\n"
   ]
  },
  {
   "cell_type": "code",
   "execution_count": 9,
   "metadata": {
    "collapsed": true
   },
   "outputs": [],
   "source": [
    "ch['Name']=ch['Name'].str.lower().str.title()"
   ]
  },
  {
   "cell_type": "code",
   "execution_count": 11,
   "metadata": {},
   "outputs": [],
   "source": [
    "ch['Position Title']=ch['Position Title'].str.lower().str.title()"
   ]
  },
  {
   "cell_type": "code",
   "execution_count": 12,
   "metadata": {
    "collapsed": true
   },
   "outputs": [
    {
     "data": {
      "text/plain": [
       "0                                     Water Rate Taker\n1                                       Police Officer\n2                                       Police Officer\n3                             Chief Contract Expediter\n4                                    Civil Engineer Iv\n5                                 Asst To The Alderman\n6                                General Laborer - Dss\n7                          Traffic Control Aide-Hourly\n8                           Staff Asst To The Alderman\n9                                  Electrical Mechanic\n10                                   Fire Engineer-Emt\n11                                      Police Officer\n12                                  Foster Grandparent\n13                                           Clerk Iii\n14                              Investigator - Ipra Ii\n15                                      Police Officer\n16                                      Police Officer\n17       Firefighter (Per Arbitrators Award)-Paramedic\n18                                      Police Officer\n19                               Firefighter/Paramedic\n20                           Engineering Technician Vi\n21                                     Firefighter-Emt\n22                                          Lieutenant\n23                                      Crossing Guard\n24             Electrical Mechanic-Auto-Police Mtr Mnt\n25                                   Civil Engineer Ii\n26                               General Laborer - Dss\n27                                  Foster Grandparent\n28                                      Police Officer\n29                                           Paramedic\n                             ...                      \n32033                                   Police Officer\n32034                                   Police Officer\n32035                                   Police Officer\n32036                            General Laborer - Dss\n32037                                  Firefighter-Emt\n32038                             Laborer - Apprentice\n32039                                   Lieutenant-Emt\n32040                                   Police Officer\n32041                                   Crossing Guard\n32042                   Frm Of Machinists - Automotive\n32043                               Sanitation Laborer\n32044                                   Police Officer\n32045                              Electrical Mechanic\n32046                Senior Public Information Officer\n32047                                   Police Officer\n32048                                  Legal Secretary\n32049                                   Crossing Guard\n32050                          Pool Motor Truck Driver\n32051                      Airport Operations Supvsr I\n32052                                   Police Officer\n32053                                  Firefighter-Emt\n32054                                   Police Officer\n32055                                   Police Officer\n32056                           Machinist (Automotive)\n32057                   Frm Of Machinists - Automotive\n32058                                   Police Officer\n32059                                   Police Officer\n32060                                   Police Officer\n32061                          Chief Data Base Analyst\n32062                                              NaN\nName: Position Title, Length: 32063, dtype: object"
      ]
     },
     "execution_count": 12,
     "metadata": {},
     "output_type": "execute_result"
    }
   ],
   "source": [
    "ch['Position Title']"
   ]
  },
  {
   "cell_type": "code",
   "execution_count": 13,
   "metadata": {},
   "outputs": [],
   "source": [
    "ch['Name']=ch['Name'].str.lower().str.upper()"
   ]
  },
  {
   "cell_type": "code",
   "execution_count": 14,
   "metadata": {
    "collapsed": true
   },
   "outputs": [
    {
     "data": {
      "text/plain": [
       "0        11.0\n1         6.0\n2         6.0\n3        16.0\n4        11.0\n5        12.0\n6        13.0\n7         4.0\n8        12.0\n9         8.0\n10        4.0\n11        6.0\n12       16.0\n13        6.0\n14        4.0\n15        6.0\n16        6.0\n17        4.0\n18        6.0\n19        4.0\n20       11.0\n21        4.0\n22        4.0\n23        4.0\n24       16.0\n25       11.0\n26       13.0\n27       16.0\n28        6.0\n29        4.0\n         ... \n32033     6.0\n32034     6.0\n32035     6.0\n32036    13.0\n32037     4.0\n32038    11.0\n32039     4.0\n32040     6.0\n32041     4.0\n32042    16.0\n32043    13.0\n32044     6.0\n32045     4.0\n32046     7.0\n32047     6.0\n32048     3.0\n32049     4.0\n32050    11.0\n32051     8.0\n32052     6.0\n32053     4.0\n32054     6.0\n32055     6.0\n32056    16.0\n32057    16.0\n32058     6.0\n32059     6.0\n32060     6.0\n32061     4.0\n32062     NaN\nName: Department, Length: 32063, dtype: float64"
      ]
     },
     "execution_count": 14,
     "metadata": {},
     "output_type": "execute_result"
    }
   ],
   "source": [
    "ch['Department'].str.len()"
   ]
  },
  {
   "cell_type": "code",
   "execution_count": 18,
   "metadata": {},
   "outputs": [],
   "source": [
    "ch['Department']=ch['Department'].str.replace('MGMNT','MANAGEMENT')"
   ]
  },
  {
   "cell_type": "code",
   "execution_count": 22,
   "metadata": {},
   "outputs": [],
   "source": [
    "ch['Employee Annual Salary']=ch['Employee Annual Salary']\\\n",
    "    .str.replace('$','').astype('float')"
   ]
  },
  {
   "cell_type": "code",
   "execution_count": 24,
   "metadata": {},
   "outputs": [
    {
     "data": {
      "text/plain": [
       "count     32062.000000\nmean      80204.178634\nstd       25098.329868\nmin           0.960000\n25%       72862.400000\n50%       84450.000000\n75%       93240.000000\nmax      300000.000000\nName: Employee Annual Salary, dtype: float64"
      ]
     },
     "execution_count": 24,
     "metadata": {},
     "output_type": "execute_result"
    }
   ],
   "source": [
    "ch['Employee Annual Salary'].describe()"
   ]
  },
  {
   "cell_type": "code",
   "execution_count": 25,
   "metadata": {},
   "outputs": [
    {
     "data": {
      "text/plain": [
       "8184     300000.0\n7954     216210.0\n25532    202728.0\n8924     197736.0\n8042     197724.0\n19208    195000.0\n3706     187680.0\n18556    187680.0\n29466    187680.0\n13754    185364.0\nName: Employee Annual Salary, dtype: float64"
      ]
     },
     "execution_count": 25,
     "metadata": {},
     "output_type": "execute_result"
    }
   ],
   "source": [
    "ch['Employee Annual Salary'].nlargest(10)"
   ]
  },
  {
   "cell_type": "code",
   "execution_count": null,
   "metadata": {},
   "outputs": [],
   "source": []
  }
 ],
 "metadata": {
  "kernelspec": {
   "display_name": "Python 2",
   "language": "python",
   "name": "python2"
  },
  "language_info": {
   "codemirror_mode": {
    "name": "ipython",
    "version": 2
   },
   "file_extension": ".py",
   "mimetype": "text/x-python",
   "name": "python",
   "nbconvert_exporter": "python",
   "pygments_lexer": "ipython2",
   "version": "2.7.6"
  }
 },
 "nbformat": 4,
 "nbformat_minor": 0
}
