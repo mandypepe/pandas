{
 "cells": [
  {
   "cell_type": "code",
   "execution_count": 7,
   "metadata": {
    "collapsed": true
   },
   "outputs": [],
   "source": [
    "import pandas as pd\n",
    "import datetime as dt\n",
    "dates=pd.date_range(start='2000-01-01',end='2010-12-31',freq='24D')"
   ]
  },
  {
   "cell_type": "code",
   "execution_count": 6,
   "metadata": {
    "collapsed": true
   },
   "outputs": [],
   "source": [
    "s=pd.Series(dates)"
   ]
  },
  {
   "cell_type": "code",
   "execution_count": 9,
   "metadata": {
    "collapsed": true
   },
   "outputs": [
    {
     "data": {
      "text/plain": [
       "0       1\n1       1\n2       2\n3       3\n4       4\n5       4\n6       5\n7       6\n8       7\n9       8\n10      8\n11      9\n12     10\n13     11\n14     12\n15     12\n16      1\n17      2\n18      3\n19      4\n20      4\n21      5\n22      6\n23      7\n24      7\n25      8\n26      9\n27     10\n28     11\n29     11\n       ..\n138     1\n139     2\n140     3\n141     4\n142     5\n143     5\n144     6\n145     7\n146     8\n147     8\n148     9\n149    10\n150    11\n151    12\n152    12\n153     1\n154     2\n155     3\n156     4\n157     4\n158     5\n159     6\n160     7\n161     7\n162     8\n163     9\n164    10\n165    11\n166    11\n167    12\nLength: 168, dtype: int64"
      ]
     },
     "execution_count": 9,
     "metadata": {},
     "output_type": "execute_result"
    }
   ],
   "source": [
    "ass=s.dt.month\n",
    "ass"
   ]
  },
  {
   "cell_type": "code",
   "execution_count": 11,
   "metadata": {
    "collapsed": true
   },
   "outputs": [
    {
     "data": {
      "text/plain": [
       "0       Saturday\n1        Tuesday\n2         Friday\n3         Monday\n4       Thursday\n5         Sunday\n6      Wednesday\n7       Saturday\n8        Tuesday\n9         Friday\n10        Monday\n11      Thursday\n12        Sunday\n13     Wednesday\n14      Saturday\n15       Tuesday\n16        Friday\n17        Monday\n18      Thursday\n19        Sunday\n20     Wednesday\n21      Saturday\n22       Tuesday\n23        Friday\n24        Monday\n25      Thursday\n26        Sunday\n27     Wednesday\n28      Saturday\n29       Tuesday\n         ...    \n138       Sunday\n139    Wednesday\n140     Saturday\n141      Tuesday\n142       Friday\n143       Monday\n144     Thursday\n145       Sunday\n146    Wednesday\n147     Saturday\n148      Tuesday\n149       Friday\n150       Monday\n151     Thursday\n152       Sunday\n153    Wednesday\n154     Saturday\n155      Tuesday\n156       Friday\n157       Monday\n158     Thursday\n159       Sunday\n160    Wednesday\n161     Saturday\n162      Tuesday\n163       Friday\n164       Monday\n165     Thursday\n166       Sunday\n167    Wednesday\nLength: 168, dtype: object"
      ]
     },
     "execution_count": 11,
     "metadata": {},
     "output_type": "execute_result"
    }
   ],
   "source": [
    "we=s.dt.weekday_name\n",
    "we"
   ]
  },
  {
   "cell_type": "code",
   "execution_count": 14,
   "metadata": {
    "collapsed": true
   },
   "outputs": [
    {
     "data": {
      "text/plain": [
       "0     2000-01-01\n19    2001-04-01\n38    2002-07-01\n137   2009-01-01\ndtype: datetime64[ns]"
      ]
     },
     "execution_count": 14,
     "metadata": {},
     "output_type": "execute_result"
    }
   ],
   "source": [
    "que=s.dt.is_quarter_start\n",
    "que"
   ]
  },
  {
   "cell_type": "code",
   "execution_count": 15,
   "metadata": {},
   "outputs": [
    {
     "data": {
      "text/plain": [
       "0     2000-01-01\n19    2001-04-01\n38    2002-07-01\n137   2009-01-01\ndtype: datetime64[ns]"
      ]
     },
     "execution_count": 15,
     "metadata": {},
     "output_type": "execute_result"
    }
   ],
   "source": [
    "que=s.dt.is_quarter_start\n",
    "s[que]"
   ]
  },
  {
   "cell_type": "code",
   "execution_count": 16,
   "metadata": {},
   "outputs": [
    {
     "data": {
      "text/plain": [
       "5     2000-04-30\n57    2003-09-30\n71    2004-08-31\n90    2005-11-30\n123   2008-01-31\n161   2010-07-31\ndtype: datetime64[ns]"
      ]
     },
     "execution_count": 16,
     "metadata": {},
     "output_type": "execute_result"
    }
   ],
   "source": [
    "que=s.dt.is_month_end\n",
    "s[que]"
   ]
  },
  {
   "cell_type": "code",
   "execution_count": null,
   "metadata": {},
   "outputs": [],
   "source": []
  }
 ],
 "metadata": {
  "kernelspec": {
   "display_name": "Python 2",
   "language": "python",
   "name": "python2"
  },
  "language_info": {
   "codemirror_mode": {
    "name": "ipython",
    "version": 2
   },
   "file_extension": ".py",
   "mimetype": "text/x-python",
   "name": "python",
   "nbconvert_exporter": "python",
   "pygments_lexer": "ipython2",
   "version": "2.7.6"
  }
 },
 "nbformat": 4,
 "nbformat_minor": 0
}
