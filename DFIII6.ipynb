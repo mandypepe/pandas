{
 "cells": [
  {
   "cell_type": "code",
   "execution_count": 1,
   "metadata": {
    "collapsed": true
   },
   "outputs": [
    {
     "name": "stdout",
     "output_type": "stream",
     "text": [
      "<class 'pandas.core.frame.DataFrame'>\nIndex: 26 entries, A View to a Kill to You Only Live Twice\nData columns (total 6 columns):\nYear                 26 non-null int64\nActor                26 non-null object\nDirector             26 non-null object\nBox Office           26 non-null float64\nBudget               26 non-null float64\nBond Actor Salary    18 non-null float64\ndtypes: float64(3), int64(1), object(2)\nmemory usage: 1.4+ KB\n"
     ]
    }
   ],
   "source": [
    "import pandas as pd\n",
    "import matplotlib.pyplot as plt\n",
    "import numpy as np\n",
    "%matplotlib inline\n",
    "bond=pd.read_csv(\"csvs/jamesbond.csv\", index_col='Film')\n",
    "bond.sort_index(inplace=True)\n",
    "bond.info()"
   ]
  },
  {
   "cell_type": "code",
   "execution_count": 4,
   "metadata": {},
   "outputs": [
    {
     "data": {
      "text/plain": [
       "Film\nA View to a Kill                   False\nCasino Royale                      False\nCasino Royale                      False\nDiamonds Are Forever                True\nDie Another Day                    False\nDr. No                              True\nFor Your Eyes Only                 False\nFrom Russia with Love               True\nGoldenEye                          False\nGoldfinger                          True\nLicence to Kill                    False\nLive and Let Die                   False\nMoonraker                          False\nNever Say Never Again               True\nOctopussy                          False\nOn Her Majesty's Secret Service    False\nQuantum of Solace                  False\nSkyfall                            False\nSpectre                            False\nThe Living Daylights               False\nThe Man with the Golden Gun        False\nThe Spy Who Loved Me               False\nThe World Is Not Enough            False\nThunderball                         True\nTomorrow Never Dies                False\nYou Only Live Twice                 True\nName: Actor, dtype: bool"
      ]
     },
     "execution_count": 4,
     "metadata": {},
     "output_type": "execute_result"
    }
   ],
   "source": [
    "# asignar a  extrayendo datos\n",
    "serie=bond['Actor']=='Sean Connery'\n",
    "serie"
   ]
  },
  {
   "cell_type": "code",
   "execution_count": 6,
   "metadata": {},
   "outputs": [
    {
     "data": {
      "text/plain": [
       "<bound method NDFrame.head of                        Year         Actor        Director  Box Office  Budget  \\\nFilm                                                                            \nDiamonds Are Forever   1971  Sean Connery    Guy Hamilton       442.5    34.7   \nDr. No                 1962  Sean Connery   Terence Young       448.8     7.0   \nFrom Russia with Love  1963  Sean Connery   Terence Young       543.8    12.6   \nGoldfinger             1964  Sean Connery    Guy Hamilton       820.4    18.6   \nNever Say Never Again  1983  Sean Connery  Irvin Kershner       380.0    86.0   \nThunderball            1965  Sean Connery   Terence Young       848.1    41.9   \nYou Only Live Twice    1967  Sean Connery   Lewis Gilbert       514.2    59.9   \n\n                       Bond Actor Salary  \nFilm                                      \nDiamonds Are Forever                 5.8  \nDr. No                               0.6  \nFrom Russia with Love                1.6  \nGoldfinger                           3.2  \nNever Say Never Again                NaN  \nThunderball                          4.7  \nYou Only Live Twice                  4.4  >"
      ]
     },
     "execution_count": 6,
     "metadata": {},
     "output_type": "execute_result"
    }
   ],
   "source": [
    "ver=bond.loc[serie]\n",
    "ver.head"
   ]
  },
  {
   "cell_type": "code",
   "execution_count": 7,
   "metadata": {},
   "outputs": [
    {
     "data": {
      "text/plain": [
       "Film\nDiamonds Are Forever     Sean Connery\nDr. No                   Sean Connery\nFrom Russia with Love    Sean Connery\nGoldfinger               Sean Connery\nNever Say Never Again    Sean Connery\nThunderball              Sean Connery\nYou Only Live Twice      Sean Connery\nName: Actor, dtype: object"
      ]
     },
     "execution_count": 7,
     "metadata": {},
     "output_type": "execute_result"
    }
   ],
   "source": [
    "bond.loc[serie,'Actor']"
   ]
  },
  {
   "cell_type": "code",
   "execution_count": 8,
   "metadata": {},
   "outputs": [],
   "source": [
    "bond.loc[serie,'Actor']='SR SEAN CONNERY'"
   ]
  },
  {
   "cell_type": "code",
   "execution_count": 11,
   "metadata": {
    "collapsed": true
   },
   "outputs": [
    {
     "data": {
      "text/plain": [
       "Film\nA View to a Kill                   False\nCasino Royale                      False\nCasino Royale                      False\nDiamonds Are Forever                True\nDie Another Day                    False\nDr. No                              True\nFor Your Eyes Only                 False\nFrom Russia with Love               True\nGoldenEye                          False\nGoldfinger                          True\nLicence to Kill                    False\nLive and Let Die                   False\nMoonraker                          False\nNever Say Never Again               True\nOctopussy                          False\nOn Her Majesty's Secret Service    False\nQuantum of Solace                  False\nSkyfall                            False\nSpectre                            False\nThe Living Daylights               False\nThe Man with the Golden Gun        False\nThe Spy Who Loved Me               False\nThe World Is Not Enough            False\nThunderball                         True\nTomorrow Never Dies                False\nYou Only Live Twice                 True\nName: Actor, dtype: bool"
      ]
     },
     "execution_count": 11,
     "metadata": {},
     "output_type": "execute_result"
    }
   ],
   "source": [
    ""
   ]
  },
  {
   "cell_type": "code",
   "execution_count": 12,
   "metadata": {},
   "outputs": [
    {
     "data": {
      "text/plain": [
       "<bound method NDFrame.head of                        Year            Actor        Director  Box Office  \\\nFilm                                                                       \nDiamonds Are Forever   1971  SR SEAN CONNERY    Guy Hamilton       442.5   \nDr. No                 1962  SR SEAN CONNERY   Terence Young       448.8   \nFrom Russia with Love  1963  SR SEAN CONNERY   Terence Young       543.8   \nGoldfinger             1964  SR SEAN CONNERY    Guy Hamilton       820.4   \nNever Say Never Again  1983  SR SEAN CONNERY  Irvin Kershner       380.0   \nThunderball            1965  SR SEAN CONNERY   Terence Young       848.1   \nYou Only Live Twice    1967  SR SEAN CONNERY   Lewis Gilbert       514.2   \n\n                       Budget  Bond Actor Salary  \nFilm                                              \nDiamonds Are Forever     34.7                5.8  \nDr. No                    7.0                0.6  \nFrom Russia with Love    12.6                1.6  \nGoldfinger               18.6                3.2  \nNever Say Never Again    86.0                NaN  \nThunderball              41.9                4.7  \nYou Only Live Twice      59.9                4.4  >"
      ]
     },
     "execution_count": 12,
     "metadata": {},
     "output_type": "execute_result"
    }
   ],
   "source": [
    "ver=bond.loc[bond['Actor']=='SR SEAN CONNERY']\n",
    "ver.head"
   ]
  },
  {
   "cell_type": "code",
   "execution_count": null,
   "metadata": {},
   "outputs": [],
   "source": []
  }
 ],
 "metadata": {
  "kernelspec": {
   "display_name": "Python 2",
   "language": "python",
   "name": "python2"
  },
  "language_info": {
   "codemirror_mode": {
    "name": "ipython",
    "version": 2
   },
   "file_extension": ".py",
   "mimetype": "text/x-python",
   "name": "python",
   "nbconvert_exporter": "python",
   "pygments_lexer": "ipython2",
   "version": "2.7.6"
  }
 },
 "nbformat": 4,
 "nbformat_minor": 0
}
