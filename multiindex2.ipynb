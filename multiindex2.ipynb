{
 "cells": [
  {
   "cell_type": "code",
   "execution_count": 2,
   "metadata": {
    "collapsed": true
   },
   "outputs": [
    {
     "name": "stdout",
     "output_type": "stream",
     "text": [
      "<class 'pandas.core.frame.DataFrame'>\nMultiIndex: 652 entries, (2016-01-01 00:00:00, Argentina) to (2010-01-01 00:00:00, Uruguay)\nData columns (total 1 columns):\nPrice in US Dollars    652 non-null float64\ndtypes: float64(1)\nmemory usage: 7.0+ KB\n"
     ]
    }
   ],
   "source": [
    "import pandas as pd\n",
    "import matplotlib.pyplot as plt\n",
    "import numpy as np\n",
    "%matplotlib inline\n",
    "bm=pd.read_csv(\"csvs/bigmac.csv\",parse_dates=['Date'], index_col=['Date','Country'])\n",
    "bm.sort_index(inplace=True)\n",
    "bm.info()"
   ]
  },
  {
   "cell_type": "code",
   "execution_count": 3,
   "metadata": {
    "collapsed": true
   },
   "outputs": [
    {
     "data": {
      "text/plain": [
       "DatetimeIndex(['2016-01-01', '2016-01-01', '2016-01-01', '2016-01-01',\n               '2016-01-01', '2016-01-01', '2016-01-01', '2016-01-01',\n               '2016-01-01', '2016-01-01',\n               ...\n               '2010-01-01', '2010-01-01', '2010-01-01', '2010-01-01',\n               '2010-01-01', '2010-01-01', '2010-01-01', '2010-01-01',\n               '2010-01-01', '2010-01-01'],\n              dtype='datetime64[ns]', name='Date', length=652, freq=None)"
      ]
     },
     "execution_count": 3,
     "metadata": {},
     "output_type": "execute_result"
    }
   ],
   "source": [
    "bm.index.get_level_values(0)"
   ]
  },
  {
   "cell_type": "code",
   "execution_count": 4,
   "metadata": {
    "collapsed": true
   },
   "outputs": [
    {
     "data": {
      "text/plain": [
       "Index(['Argentina', 'Australia', 'Brazil', 'Britain', 'Canada', 'Chile',\n       'China', 'Colombia', 'Costa Rica', 'Czech Republic',\n       ...\n       'Sri Lanka', 'Sweden', 'Switzerland', 'Taiwan', 'Thailand', 'Turkey',\n       'UAE', 'Ukraine', 'United States', 'Uruguay'],\n      dtype='object', name='Country', length=652)"
      ]
     },
     "execution_count": 4,
     "metadata": {},
     "output_type": "execute_result"
    }
   ],
   "source": [
    "bm.index.get_level_values(1)"
   ]
  },
  {
   "cell_type": "code",
   "execution_count": 5,
   "metadata": {
    "collapsed": true
   },
   "outputs": [
    {
     "data": {
      "text/plain": [
       "DatetimeIndex(['2016-01-01', '2016-01-01', '2016-01-01', '2016-01-01',\n               '2016-01-01', '2016-01-01', '2016-01-01', '2016-01-01',\n               '2016-01-01', '2016-01-01',\n               ...\n               '2010-01-01', '2010-01-01', '2010-01-01', '2010-01-01',\n               '2010-01-01', '2010-01-01', '2010-01-01', '2010-01-01',\n               '2010-01-01', '2010-01-01'],\n              dtype='datetime64[ns]', name='Date', length=652, freq=None)"
      ]
     },
     "execution_count": 5,
     "metadata": {},
     "output_type": "execute_result"
    }
   ],
   "source": [
    "bm.index.get_level_values('Date')"
   ]
  },
  {
   "cell_type": "code",
   "execution_count": 7,
   "metadata": {
    "collapsed": true
   },
   "outputs": [
    {
     "data": {
      "text/plain": [
       "Index(['Argentina', 'Australia', 'Brazil', 'Britain', 'Canada', 'Chile',\n       'China', 'Colombia', 'Costa Rica', 'Czech Republic',\n       ...\n       'Sri Lanka', 'Sweden', 'Switzerland', 'Taiwan', 'Thailand', 'Turkey',\n       'UAE', 'Ukraine', 'United States', 'Uruguay'],\n      dtype='object', name='Country', length=652)"
      ]
     },
     "execution_count": 7,
     "metadata": {},
     "output_type": "execute_result"
    }
   ],
   "source": [
    "bm.index.get_level_values('Country')"
   ]
  },
  {
   "cell_type": "code",
   "execution_count": 9,
   "metadata": {},
   "outputs": [],
   "source": [
    "bm.index.set_names(['Day','Location'],inplace=True) # cambiar loas nombres de las cabeceras de index"
   ]
  },
  {
   "cell_type": "code",
   "execution_count": 11,
   "metadata": {},
   "outputs": [
    {
     "data": {
      "text/plain": [
       "FrozenList(['Day', 'Location'])"
      ]
     },
     "execution_count": 11,
     "metadata": {},
     "output_type": "execute_result"
    }
   ],
   "source": [
    "bm.index.names"
   ]
  },
  {
   "cell_type": "code",
   "execution_count": null,
   "metadata": {},
   "outputs": [],
   "source": []
  }
 ],
 "metadata": {
  "kernelspec": {
   "display_name": "Python 2",
   "language": "python",
   "name": "python2"
  },
  "language_info": {
   "codemirror_mode": {
    "name": "ipython",
    "version": 2
   },
   "file_extension": ".py",
   "mimetype": "text/x-python",
   "name": "python",
   "nbconvert_exporter": "python",
   "pygments_lexer": "ipython2",
   "version": "2.7.6"
  }
 },
 "nbformat": 4,
 "nbformat_minor": 0
}
