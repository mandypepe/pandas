{
 "cells": [
  {
   "cell_type": "code",
   "execution_count": 5,
   "metadata": {
    "collapsed": true
   },
   "outputs": [
    {
     "name": "stdout",
     "output_type": "stream",
     "text": [
      "<class 'pandas.core.frame.DataFrame'>\nIndex: 32062 entries, AARON,  ELVIA J to ZYSKOWSKI,  DARIUSZ\nData columns (total 3 columns):\nPosition Title            32062 non-null object\nDepartment                32062 non-null category\nEmployee Annual Salary    32062 non-null object\ndtypes: category(1), object(2)\nmemory usage: 784.3+ KB\n"
     ]
    }
   ],
   "source": [
    "import pandas as pd\n",
    "import matplotlib.pyplot as plt\n",
    "import numpy as np\n",
    "%matplotlib inline\n",
    "ch=pd.read_csv(\"csvs/chicago.csv\", index_col='Name').dropna(how='all')\n",
    "ch['Department']=ch['Department'].astype('category')\n",
    "ch.info()\n"
   ]
  },
  {
   "cell_type": "code",
   "execution_count": 10,
   "metadata": {
    "collapsed": true
   },
   "outputs": [
    {
     "data": {
      "text/plain": [
       "Index(['Aaron,  Elvia J', 'Aaron,  Jeffery M', 'Aaron,  Karina',\n       'Aaron,  Kimberlei R', 'Abad Jr,  Vicente M', 'Abarca,  Anabel',\n       'Abarca,  Emmanuel', 'Abascal,  Reece E', 'Abbasi,  Christopher',\n       'Abbatacola,  Robert J',\n       ...\n       'Zwit,  Jeffrey J', 'Zwolfer,  Matthew W', 'Zych,  Mateusz',\n       'Zydek,  Bryan', 'Zygadlo,  John P', 'Zygadlo,  Michael J',\n       'Zygowicz,  Peter J', 'Zymantas,  Mark E', 'Zyrkowski,  Carlo E',\n       'Zyskowski,  Dariusz'],\n      dtype='object', name='Name', length=32062)"
      ]
     },
     "execution_count": 10,
     "metadata": {},
     "output_type": "execute_result"
    }
   ],
   "source": [
    "ch.index=ch.index.str.title().str.strip()\n",
    "ch.index"
   ]
  },
  {
   "cell_type": "code",
   "execution_count": 15,
   "metadata": {},
   "outputs": [
    {
     "data": {
      "text/plain": [
       "Index(['POSITION TITLE', 'DEPARTMENT', 'EMPLOYEE ANNUAL SALARY'], dtype='object')"
      ]
     },
     "execution_count": 15,
     "metadata": {},
     "output_type": "execute_result"
    }
   ],
   "source": [
    "ch.columns=ch.columns.str.upper()\n",
    "ch.columns"
   ]
  },
  {
   "cell_type": "code",
   "execution_count": null,
   "metadata": {},
   "outputs": [],
   "source": []
  }
 ],
 "metadata": {
  "kernelspec": {
   "display_name": "Python 2",
   "language": "python",
   "name": "python2"
  },
  "language_info": {
   "codemirror_mode": {
    "name": "ipython",
    "version": 2
   },
   "file_extension": ".py",
   "mimetype": "text/x-python",
   "name": "python",
   "nbconvert_exporter": "python",
   "pygments_lexer": "ipython2",
   "version": "2.7.6"
  }
 },
 "nbformat": 4,
 "nbformat_minor": 0
}
