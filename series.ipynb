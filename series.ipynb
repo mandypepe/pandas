{
 "cells": [
  {
   "cell_type": "code",
   "execution_count": 1,
   "metadata": {
    "collapsed": true
   },
   "outputs": [
    {
     "data": {
      "text/plain": [
       "0    chocolate\n1     vainilla\n2        fresa\n3      ni idea\ndtype: object"
      ]
     },
     "execution_count": 1,
     "metadata": {},
     "output_type": "execute_result"
    }
   ],
   "source": [
    "import pandas as pd\n",
    "ice_cream=[\"chocolate\",\"vainilla\",\"fresa\",\"ni idea\"]\n",
    "pd.Series(ice_cream)\n"
   ]
  },
  {
   "cell_type": "code",
   "execution_count": 2,
   "metadata": {},
   "outputs": [
    {
     "data": {
      "text/plain": [
       "0    1\n1    5\n2    4\n3    7\n4    6\n5    3\n6    5\ndtype: int64"
      ]
     },
     "execution_count": 2,
     "metadata": {},
     "output_type": "execute_result"
    }
   ],
   "source": [
    "loteria=[1,5,4,7,6,3,5]\n",
    "pd.Series(loteria)"
   ]
  },
  {
   "cell_type": "code",
   "execution_count": 3,
   "metadata": {},
   "outputs": [
    {
     "data": {
      "text/plain": [
       "0     True\n1    False\n2    False\n3    False\n4     True\ndtype: bool"
      ]
     },
     "execution_count": 3,
     "metadata": {},
     "output_type": "execute_result"
    }
   ],
   "source": [
    "registro=[True,False,False,False,True]\n",
    "pd.Series(registro)"
   ]
  },
  {
   "cell_type": "code",
   "execution_count": 4,
   "metadata": {},
   "outputs": [
    {
     "data": {
      "text/plain": [
       "ANT       es insecto\nbanana      es fruta\ncyan        es color\ndtype: object"
      ]
     },
     "execution_count": 4,
     "metadata": {},
     "output_type": "execute_result"
    }
   ],
   "source": [
    "webster={\"ANT\":\"es insecto\",\n",
    "         'banana':\"es fruta\",\n",
    "         \"cyan\":\"es color\"}\n",
    "pd.Series(webster)"
   ]
  },
  {
   "cell_type": "code",
   "execution_count": 6,
   "metadata": {},
   "outputs": [
    {
     "data": {
      "text/plain": [
       "0         smart\n1        bonito\n2      charning\n3    brillaante\n4        bumble\ndtype: object"
      ]
     },
     "execution_count": 6,
     "metadata": {},
     "output_type": "execute_result"
    }
   ],
   "source": [
    "about_me=[\"smart\",\"bonito\",\"charning\",\"brillaante\",\"bumble\"]\n",
    "us=pd.Series(about_me)\n",
    "us"
   ]
  },
  {
   "cell_type": "code",
   "execution_count": 7,
   "metadata": {},
   "outputs": [
    {
     "data": {
      "text/plain": [
       "array(['smart', 'bonito', 'charning', 'brillaante', 'bumble'],\n      dtype=object)"
      ]
     },
     "execution_count": 7,
     "metadata": {},
     "output_type": "execute_result"
    }
   ],
   "source": [
    "us.values"
   ]
  },
  {
   "cell_type": "code",
   "execution_count": 8,
   "metadata": {},
   "outputs": [
    {
     "data": {
      "text/plain": [
       "RangeIndex(start=0, stop=5, step=1)"
      ]
     },
     "execution_count": 8,
     "metadata": {},
     "output_type": "execute_result"
    }
   ],
   "source": [
    "us.index"
   ]
  },
  {
   "cell_type": "code",
   "execution_count": 9,
   "metadata": {},
   "outputs": [
    {
     "data": {
      "text/plain": [
       "dtype('O')"
      ]
     },
     "execution_count": 9,
     "metadata": {},
     "output_type": "execute_result"
    }
   ],
   "source": [
    "us.dtype"
   ]
  },
  {
   "cell_type": "code",
   "execution_count": 10,
   "metadata": {},
   "outputs": [
    {
     "data": {
      "text/plain": [
       "0      2.99\n1     34.00\n2     78.23\n3    789.00\ndtype: float64"
      ]
     },
     "execution_count": 10,
     "metadata": {},
     "output_type": "execute_result"
    }
   ],
   "source": [
    "precios=[2.99,34.0,78.23,789.0]\n",
    "s=pd.Series(precios)\n",
    "s"
   ]
  },
  {
   "cell_type": "code",
   "execution_count": 12,
   "metadata": {},
   "outputs": [
    {
     "data": {
      "text/plain": [
       "904.22"
      ]
     },
     "execution_count": 12,
     "metadata": {},
     "output_type": "execute_result"
    }
   ],
   "source": [
    "s.sum()"
   ]
  },
  {
   "cell_type": "code",
   "execution_count": 14,
   "metadata": {},
   "outputs": [
    {
     "data": {
      "text/plain": [
       "6274807.9602000015"
      ]
     },
     "execution_count": 14,
     "metadata": {},
     "output_type": "execute_result"
    }
   ],
   "source": [
    "s.product()"
   ]
  },
  {
   "cell_type": "code",
   "execution_count": 15,
   "metadata": {},
   "outputs": [
    {
     "data": {
      "text/plain": [
       "226.055"
      ]
     },
     "execution_count": 15,
     "metadata": {},
     "output_type": "execute_result"
    }
   ],
   "source": [
    "s.mean()"
   ]
  },
  {
   "cell_type": "code",
   "execution_count": 16,
   "metadata": {},
   "outputs": [
    {
     "data": {
      "text/plain": [
       "Monday                  manzana\ntuesday                  orange\nwednesday          plum ciruela\nthursday                  huvas\nfriday       blueberry arandano\ndtype: object"
      ]
     },
     "execution_count": 16,
     "metadata": {},
     "output_type": "execute_result"
    }
   ],
   "source": [
    "frutas=[\"manzana\",\"orange\",\"plum ciruela\",\"huvas\",\"blueberry arandano\"]\n",
    "dias_seman=[\"Monday\",\"tuesday\",\"wednesday\",\"thursday\",\"friday\"]\n",
    "sfrutas= pd.Series(frutas, index=dias_seman)\n",
    "sfrutas= pd.Series(frutas, dias_seman)\n",
    "sfrutas= pd.Series(data=frutas, index=dias_seman)"
   ]
  },
  {
   "cell_type": "code",
   "execution_count": 19,
   "metadata": {},
   "outputs": [
    {
     "data": {
      "text/plain": [
       "Monday                  manzana\ntuesday                  orange\nwednesday          plum ciruela\nthursday                  huvas\nfriday       blueberry arandano\nMonday               Watermelon\ndtype: object"
      ]
     },
     "execution_count": 19,
     "metadata": {},
     "output_type": "execute_result"
    }
   ],
   "source": [
    "frutas2=[\"manzana\",\"orange\",\"plum ciruela\",\"huvas\",\"blueberry arandano\",\"Watermelon\"] \n",
    "dias_seman2=[\"Monday\",\"tuesday\",\"wednesday\",\"thursday\",\"friday\",\"Monday\"]\n",
    "sfrutas2= pd.Series(frutas2, index=dias_seman2)\n",
    "sfrutas2"
   ]
  },
  {
   "cell_type": "code",
   "execution_count": 31,
   "metadata": {
    "collapsed": false
   },
   "outputs": [
    {
     "data": {
      "text/plain": [
       "<bound method NDFrame.head of         Pokemon\n0     Bulbasaur\n1       Ivysaur\n2      Venusaur\n3    Charmander\n4    Charmeleon\n5     Charizard\n6      Squirtle\n7     Wartortle\n8     Blastoise\n9      Caterpie\n10      Metapod\n11   Butterfree\n12       Weedle\n13       Kakuna\n14     Beedrill\n15       Pidgey\n16    Pidgeotto\n17      Pidgeot\n18      Rattata\n19     Raticate\n20      Spearow\n21       Fearow\n22        Ekans\n23        Arbok\n24      Pikachu\n25       Raichu\n26    Sandshrew\n27    Sandslash\n28      Nidoran\n29     Nidorina\n..          ...\n691   Clauncher\n692   Clawitzer\n693  Helioptile\n694   Heliolisk\n695      Tyrunt\n696   Tyrantrum\n697      Amaura\n698     Aurorus\n699     Sylveon\n700    Hawlucha\n701     Dedenne\n702     Carbink\n703       Goomy\n704     Sliggoo\n705      Goodra\n706      Klefki\n707    Phantump\n708   Trevenant\n709   Pumpkaboo\n710   Gourgeist\n711    Bergmite\n712     Avalugg\n713      Noibat\n714     Noivern\n715     Xerneas\n716     Yveltal\n717     Zygarde\n718     Diancie\n719       Hoopa\n720   Volcanion\n\n[721 rows x 1 columns]>"
      ]
     },
     "execution_count": 31,
     "metadata": {},
     "output_type": "execute_result"
    }
   ],
   "source": [
    "#pokemon=pd.read_csv('csvs/pokemon.csv')\n",
    "pokemon=pd.read_csv('csvs/pokemon.csv',usecols=['Pokemon'])\n",
    "pokemon.head"
   ]
  },
  {
   "cell_type": "code",
   "execution_count": 32,
   "metadata": {},
   "outputs": [
    {
     "data": {
      "text/plain": [
       "<bound method NDFrame.head of 0       Bulbasaur\n1         Ivysaur\n2        Venusaur\n3      Charmander\n4      Charmeleon\n5       Charizard\n6        Squirtle\n7       Wartortle\n8       Blastoise\n9        Caterpie\n10        Metapod\n11     Butterfree\n12         Weedle\n13         Kakuna\n14       Beedrill\n15         Pidgey\n16      Pidgeotto\n17        Pidgeot\n18        Rattata\n19       Raticate\n20        Spearow\n21         Fearow\n22          Ekans\n23          Arbok\n24        Pikachu\n25         Raichu\n26      Sandshrew\n27      Sandslash\n28        Nidoran\n29       Nidorina\n          ...    \n691     Clauncher\n692     Clawitzer\n693    Helioptile\n694     Heliolisk\n695        Tyrunt\n696     Tyrantrum\n697        Amaura\n698       Aurorus\n699       Sylveon\n700      Hawlucha\n701       Dedenne\n702       Carbink\n703         Goomy\n704       Sliggoo\n705        Goodra\n706        Klefki\n707      Phantump\n708     Trevenant\n709     Pumpkaboo\n710     Gourgeist\n711      Bergmite\n712       Avalugg\n713        Noibat\n714       Noivern\n715       Xerneas\n716       Yveltal\n717       Zygarde\n718       Diancie\n719         Hoopa\n720     Volcanion\nName: Pokemon, Length: 721, dtype: object>"
      ]
     },
     "execution_count": 32,
     "metadata": {},
     "output_type": "execute_result"
    }
   ],
   "source": [
    "#squeeze impor as series , not as DF\n",
    "pokemon=pd.read_csv('csvs/pokemon.csv',usecols=['Pokemon'],squeeze=True)\n",
    "pokemon.head"
   ]
  },
  {
   "cell_type": "code",
   "execution_count": 37,
   "metadata": {},
   "outputs": [
    {
     "data": {
      "text/plain": [
       "<bound method DataFrame.info of       Stock Price\n0           50.12\n1           54.10\n2           54.65\n3           52.38\n4           52.95\n5           53.90\n6           53.02\n7           50.95\n8           51.13\n9           50.07\n10          50.70\n11          49.95\n12          50.74\n13          51.10\n14          51.10\n15          52.61\n16          53.70\n17          55.69\n18          55.94\n19          56.93\n20          58.69\n21          59.62\n22          58.86\n23          59.13\n24          60.35\n25          59.86\n26          59.07\n27          63.37\n28          65.47\n29          64.74\n...           ...\n2982       675.22\n2983       668.26\n2984       680.04\n2985       684.11\n2986       692.10\n2987       699.21\n2988       694.49\n2989       697.77\n2990       695.36\n2991       705.63\n2992       715.09\n2993       720.64\n2994       716.98\n2995       720.95\n2996       719.85\n2997       733.78\n2998       736.96\n2999       741.19\n3000       738.63\n3001       742.74\n3002       739.77\n3003       738.42\n3004       741.77\n3005       745.91\n3006       768.79\n3007       772.88\n3008       771.07\n3009       773.18\n3010       771.61\n3011       782.22\n\n[3012 rows x 1 columns]>"
      ]
     },
     "execution_count": 37,
     "metadata": {},
     "output_type": "execute_result"
    }
   ],
   "source": [
    "#squeeze impor as series , not as DF\n",
    "google=pd.read_csv('csvs/google_stock_price.csv',squeeze=True)\n",
    "google.info"
   ]
  },
  {
   "cell_type": "code",
   "execution_count": 38,
   "metadata": {},
   "outputs": [],
   "source": []
  },
  {
   "cell_type": "code",
   "execution_count": null,
   "metadata": {},
   "outputs": [],
   "source": []
  }
 ],
 "metadata": {
  "kernelspec": {
   "display_name": "Python 2",
   "language": "python",
   "name": "python2"
  },
  "language_info": {
   "codemirror_mode": {
    "name": "ipython",
    "version": 2
   },
   "file_extension": ".py",
   "mimetype": "text/x-python",
   "name": "python",
   "nbconvert_exporter": "python",
   "pygments_lexer": "ipython2",
   "version": "2.7.6"
  }
 },
 "nbformat": 4,
 "nbformat_minor": 0
}
