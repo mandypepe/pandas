{
 "cells": [
  {
   "cell_type": "code",
   "execution_count": 1,
   "metadata": {
    "collapsed": true
   },
   "outputs": [
    {
     "name": "stdout",
     "output_type": "stream",
     "text": [
      "<class 'pandas.core.frame.DataFrame'>\nInt64Index: 1000 entries, 1 to 1000\nData columns (total 7 columns):\nCompany      1000 non-null object\nSector       1000 non-null object\nIndustry     1000 non-null object\nLocation     1000 non-null object\nRevenue      1000 non-null int64\nProfits      1000 non-null int64\nEmployees    1000 non-null int64\ndtypes: int64(3), object(4)\nmemory usage: 62.5+ KB\n"
     ]
    }
   ],
   "source": [
    "import pandas as pd\n",
    "import matplotlib.pyplot as plt\n",
    "import numpy as np\n",
    "%matplotlib inline\n",
    "fot=pd.read_csv(\"csvs/fortune1000.csv\", index_col='Rank')\n",
    "fot.info()\n",
    "sectros=fot.groupby('Sector')"
   ]
  },
  {
   "cell_type": "code",
   "execution_count": 2,
   "metadata": {
    "collapsed": true
   },
   "outputs": [
    {
     "data": {
      "text/plain": [
       "Sector\nAerospace & Defense              7608\nApparel                          3273\nBusiness Services                6328\nChemicals                        7685\nEnergy                          16150\nEngineering & Construction        803\nFinancials                      24442\nFood and Drug Stores             5237\nFood, Beverages & Tobacco        7351\nHealth Care                     18108\nHotels, Resturants & Leisure     5920\nHousehold Products               7036\nIndustrials                      4833\nMaterials                         991\nMedia                            8382\nMotor Vehicles & Parts           9687\nRetailing                       14694\nTechnology                      53394\nTelecommunications              17879\nTransportation                   7610\nWholesalers                      1472\nName: Profits, dtype: int64"
      ]
     },
     "execution_count": 2,
     "metadata": {},
     "output_type": "execute_result"
    }
   ],
   "source": [
    "sectros['Profits'].max()"
   ]
  },
  {
   "cell_type": "code",
   "execution_count": 4,
   "metadata": {},
   "outputs": [
    {
     "data": {
      "text/plain": [
       "Index(['Company', 'Sector', 'Industry', 'Location', 'Revenue', 'Profits',\n       'Employees'],\n      dtype='object')"
      ]
     },
     "execution_count": 4,
     "metadata": {},
     "output_type": "execute_result"
    }
   ],
   "source": [
    "df=pd.DataFrame(columns=fot.columns)\n",
    "df.columns"
   ]
  },
  {
   "cell_type": "code",
   "execution_count": 6,
   "metadata": {},
   "outputs": [],
   "source": [
    "for sector,data in sectros:\n",
    "    hig_revenue_in_group=data.nlargest(1,'Revenue')\n",
    "    df=df.append(hig_revenue_in_group)"
   ]
  },
  {
   "cell_type": "code",
   "execution_count": 9,
   "metadata": {
    "collapsed": true
   },
   "outputs": [
    {
     "data": {
      "text/plain": [
       "<bound method NDFrame.head of                     Company                        Sector  \\\n24                   Boeing           Aerospace & Defense   \n91                     Nike                       Apparel   \n144           ManpowerGroup             Business Services   \n56             Dow Chemical                     Chemicals   \n2               Exxon Mobil                        Energy   \n155                   Fluor    Engineering & Construction   \n4        Berkshire Hathaway                    Financials   \n7                CVS Health          Food and Drug Stores   \n41   Archer Daniels Midland     Food, Beverages & Tobacco   \n5                  McKesson                   Health Care   \n109              McDonald’s  Hotels, Resturants & Leisure   \n34         Procter & Gamble            Household Products   \n11         General Electric                   Industrials   \n126                   Alcoa                     Materials   \n53                   Disney                         Media   \n8            General Motors        Motor Vehicles & Parts   \n1                   Walmart                     Retailing   \n3                     Apple                    Technology   \n10                     AT&T            Telecommunications   \n48                      UPS                Transportation   \n57                    Sysco                   Wholesalers   \n\n                                     Industry           Location Revenue  \\\n24                      Aerospace and Defense        Chicago, IL   96114   \n91                                    Apparel      Beaverton, OR   30601   \n144                            Temporary Help      Milwaukee, WI   19330   \n56                                  Chemicals        Midland, MI   48778   \n2                          Petroleum Refining         Irving, TX  246204   \n155                 Engineering, Construction         Irving, TX   18114   \n4    Insurance: Property and Casualty (Stock)          Omaha, NE  210821   \n7                        Food and Drug Stores     Woonsocket, RI  153290   \n41                            Food Production        Chicago, IL   67702   \n5                    Wholesalers: Health Care  San Francisco, CA  181241   \n109                             Food Services      Oak Brook, IL   25413   \n34            Household and Personal Products     Cincinnati, OH   78756   \n11                       Industrial Machinery      Fairfield, CT  140389   \n126                                    Metals       New York, NY   22534   \n53                              Entertainment        Burbank, CA   52465   \n8                    Motor Vehicles and Parts        Detroit, MI  152356   \n1                       General Merchandisers    Bentonville, AR  482130   \n3                 Computers, Office Equipment      Cupertino, CA  233715   \n10                         Telecommunications         Dallas, TX  146801   \n48        Mail, Package, and Freight Delivery        Atlanta, GA   58363   \n57              Wholesalers: Food and Grocery        Houston, TX   48681   \n\n    Profits Employees  \n24     5176    161400  \n91     3273     62600  \n144     419     27000  \n56     7685     49495  \n2     16150     75600  \n155     413     38758  \n4     24083    331000  \n7      5237    199000  \n41     1849     32300  \n5      1476     70400  \n109    4529    420000  \n34     7036    110000  \n11    -6126    333000  \n126    -322     60000  \n53     8382    185000  \n8      9687    215000  \n1     14694   2300000  \n3     53394    110000  \n10    13345    281450  \n48     4844    341240  \n57      687     51700  >"
      ]
     },
     "execution_count": 9,
     "metadata": {},
     "output_type": "execute_result"
    }
   ],
   "source": [
    "df.head"
   ]
  },
  {
   "cell_type": "code",
   "execution_count": 10,
   "metadata": {},
   "outputs": [
    {
     "data": {
      "text/plain": [
       "Index(['Company', 'Sector', 'Industry', 'Location', 'Revenue', 'Profits',\n       'Employees'],\n      dtype='object')"
      ]
     },
     "execution_count": 10,
     "metadata": {},
     "output_type": "execute_result"
    }
   ],
   "source": [
    "cities=fot.groupby('Location')\n",
    "df=pd.DataFrame(columns=fot.columns)\n",
    "df.columns"
   ]
  },
  {
   "cell_type": "code",
   "execution_count": null,
   "metadata": {},
   "outputs": [],
   "source": []
  },
  {
   "cell_type": "code",
   "execution_count": 12,
   "metadata": {},
   "outputs": [],
   "source": [
    "for city,data in cities:\n",
    "    hig_revenue_in_group_city=data.nlargest(1,'Revenue')\n",
    "    df=df.append(hig_revenue_in_group_city)"
   ]
  },
  {
   "cell_type": "code",
   "execution_count": 13,
   "metadata": {
    "collapsed": true
   },
   "outputs": [
    {
     "data": {
      "text/plain": [
       "<bound method NDFrame.head of                                   Company                        Sector  \\\n138                   Abbott Laboratories                   Health Care   \n169                Goodyear Tire & Rubber        Motor Vehicles & Parts   \n288              Air Products & Chemicals                     Chemicals   \n830                 Benchmark Electronics                    Technology   \n374                Casey’s General Stores                     Retailing   \n915                        Domino’s Pizza  Hotels, Resturants & Leisure   \n596                                Colfax                   Industrials   \n215                          Land O’Lakes     Food, Beverages & Tobacco   \n190                                   AES                        Energy   \n31                                    IBM                    Technology   \n28                             Home Depot                     Retailing   \n310                               Autoliv        Motor Vehicles & Parts   \n304                          Hormel Foods     Food, Beverages & Tobacco   \n181                    Whole Foods Market          Food and Drug Stores   \n668                               PolyOne                     Chemicals   \n573                         T. Rowe Price                    Financials   \n420                               Baxalta                   Health Care   \n624                             Albemarle                     Chemicals   \n207                               Kellogg     Food, Beverages & Tobacco   \n91                                   Nike                       Apparel   \n147                                Paccar        Motor Vehicles & Parts   \n645                          Regal Beloit                   Industrials   \n134                             Whirlpool                   Industrials   \n1                                 Walmart                     Retailing   \n594                                Ametek                    Technology   \n60                        Lockheed Martin           Aerospace & Defense   \n399                   Cablevision Systems            Telecommunications   \n366             Live Nation Entertainment                         Media   \n453                     Regions Financial                    Financials   \n558                   MDU Resources Group                        Energy   \n...                                   ...                           ...   \n120                              Raytheon           Aerospace & Defense   \n850                       United Refining                        Energy   \n431                Zimmer Biomet Holdings                   Health Care   \n16                             Fannie Mae                    Financials   \n542                 Keurig Green Mountain     Food, Beverages & Tobacco   \n898                          MPM Holdings                     Chemicals   \n874                  Granite Construction    Engineering & Construction   \n1000                    Briggs & Stratton                   Industrials   \n240                           Toys “R” Us                     Retailing   \n785                         B/E Aerospace           Aerospace & Defense   \n383                      AK Steel Holding                     Materials   \n829           Platform Specialty Products                     Chemicals   \n996            New York Community Bancorp                    Financials   \n456                             Ingredion     Food, Beverages & Tobacco   \n439              TravelCenters of America                     Retailing   \n396                                 Terex                   Industrials   \n847                                   ITT                   Industrials   \n389           Spirit AeroSystems Holdings           Aerospace & Defense   \n849                          Tops Holding          Food and Drug Stores   \n674   Westinghouse Air Brake Technologies                   Industrials   \n101                                DuPont                     Chemicals   \n607                              Fastenal                     Retailing   \n266                     Reynolds American     Food, Beverages & Tobacco   \n678                    Skyworks Solutions                    Technology   \n172                            Health Net                   Health Care   \n7                              CVS Health          Food and Drug Stores   \n506               Hanover Insurance Group                    Financials   \n764                  Penn National Gaming  Hotels, Resturants & Leisure   \n773                        Bon-Ton Stores                     Retailing   \n932                         Herman Miller            Household Products   \n\n                                            Industry                Location  \\\n138                   Medical Products and Equipment         Abbott Park, IL   \n169                         Motor Vehicles and Parts               Akron, OH   \n288                                        Chemicals           Allentown, PA   \n830   Semiconductors and Other Electronic Components            Angleton, TX   \n374                       Specialty Retailers: Other              Ankeny, IA   \n915                                    Food Services           Ann Arbor, MI   \n596                             Industrial Machinery  Annapolis Junction, MD   \n215                           Food Consumer Products         Arden Hills, MN   \n190                      Utilities: Gas and Electric           Arlington, VA   \n31                   Information Technology Services              Armonk, NY   \n28                        Specialty Retailers: Other             Atlanta, GA   \n310                         Motor Vehicles and Parts        Auburn Hills, MI   \n304                           Food Consumer Products              Austin, MN   \n181                             Food and Drug Stores              Austin, TX   \n668                                        Chemicals           Avon Lake, OH   \n573                                       Securities           Baltimore, MD   \n420                                  Pharmaceuticals         Bannockburn, IL   \n624                                        Chemicals         Baton Rouge, LA   \n207                           Food Consumer Products        Battle Creek, MI   \n91                                           Apparel           Beaverton, OR   \n147                         Motor Vehicles and Parts            Bellevue, WA   \n645                   Electronics, Electrical Equip.              Beloit, WI   \n134                   Electronics, Electrical Equip.       Benton Harbor, MI   \n1                              General Merchandisers         Bentonville, AR   \n594    Scientific,Photographic and Control Equipment              Berwyn, PA   \n60                             Aerospace and Defense            Bethesda, MD   \n399                               Telecommunications            Bethpage, NY   \n366                                    Entertainment       Beverly Hills, CA   \n453                                 Commercial Banks          Birmingham, AL   \n558                                           Energy            Bismarck, ND   \n...                                              ...                     ...   \n120                            Aerospace and Defense             Waltham, MA   \n850                               Petroleum Refining              Warren, PA   \n431                   Medical Products and Equipment              Warsaw, IN   \n16                            Diversified Financials          Washington, DC   \n542                                        Beverages           Waterbury, VT   \n898                                        Chemicals           Waterford, NY   \n874                        Engineering, Construction         Watsonville, CA   \n1000                            Industrial Machinery           Wauwatosa, WI   \n240                       Specialty Retailers: Other               Wayne, NJ   \n785                            Aerospace and Defense          Wellington, FL   \n383                                           Metals        West Chester, OH   \n829                                        Chemicals     West Palm Beach, FL   \n996                                 Commercial Banks            Westbury, NY   \n456                                  Food Production         Westchester, IL   \n439                       Specialty Retailers: Other            Westlake, OH   \n396                  Construction and Farm Machinery            Westport, CT   \n847                             Industrial Machinery        White Plains, NY   \n389                            Aerospace and Defense             Wichita, KS   \n849                             Food and Drug Stores       Williamsville, NY   \n674                             Industrial Machinery          Wilmerding, PA   \n101                                        Chemicals          Wilmington, DE   \n607                       Specialty Retailers: Other              Winona, MN   \n266                                          Tobacco       Winston-Salem, NC   \n678   Semiconductors and Other Electronic Components              Woburn, MA   \n172          Health Care: Insurance and Managed Care      Woodland Hills, CA   \n7                               Food and Drug Stores          Woonsocket, RI   \n506         Insurance: Property and Casualty (Stock)           Worcester, MA   \n764                         Hotels, Casinos, Resorts          Wyomissing, PA   \n773                            General Merchandisers                York, PA   \n932                      Home Equipment, Furnishings             Zeeland, MI   \n\n     Revenue Profits Employees  \n138    20661    4423     74000  \n169    16443     307     66000  \n288     9895    1278     19550  \n830     2541      95     10500  \n374     7052     181     22408  \n915     2217     193     11900  \n596     3967     168     17087  \n215    13161     308     10000  \n190    14963     306     21000  \n31     82461   13190    411798  \n28     88519    7009    385000  \n310     9170     457     59350  \n304     9264     686     20700  \n181    15389     536     76300  \n668     3378     145      6900  \n573     4201    1223      5999  \n420     6149     956     17000  \n624     3651     335      6963  \n207    13525     614     33577  \n91     30601    3273     62600  \n147    19115    1604     23000  \n645     3510     143     26200  \n134    20891     783     97000  \n1     482130   14694   2300000  \n594     3974     591     15400  \n60     46132    3605    126000  \n399     6510     175     13549  \n366     7246     -33     12200  \n453     5674    1062     23916  \n558     4376    -622      8689  \n...      ...     ...       ...  \n120    23247    2074     61000  \n850     2470      82      2997  \n431     5998     147     17500  \n16    110359   10954      7300  \n542     4520     498      6000  \n898     2289     -83      5000  \n874     2371      61      3200  \n1000    1895      46      5480  \n240    11802    -130     62000  \n785     2730     286     10057  \n383     6693    -509      8500  \n829     2542    -309      8200  \n996     1902     -47      3448  \n456     5621     402     11500  \n439     5851      28     18450  \n396     6543     146     20400  \n847     2486     352      9700  \n389     6644     789     15200  \n849     2472     -62     14800  \n674     3308     399     13000  \n101    27940    1953     52000  \n607     3869     516     20746  \n266    10675    3253      5650  \n678     3258     798      6700  \n172    16244     186      8584  \n7     153290    5237    199000  \n506     5034     332      4800  \n764     2838       1     18204  \n773     2790     -57     24100  \n932     2142      98      7510  \n\n[832 rows x 7 columns]>"
      ]
     },
     "execution_count": 13,
     "metadata": {},
     "output_type": "execute_result"
    }
   ],
   "source": [
    "df.head"
   ]
  },
  {
   "cell_type": "code",
   "execution_count": 14,
   "metadata": {},
   "outputs": [],
   "source": []
  },
  {
   "cell_type": "code",
   "execution_count": null,
   "metadata": {},
   "outputs": [],
   "source": []
  }
 ],
 "metadata": {
  "kernelspec": {
   "display_name": "Python 2",
   "language": "python",
   "name": "python2"
  },
  "language_info": {
   "codemirror_mode": {
    "name": "ipython",
    "version": 2
   },
   "file_extension": ".py",
   "mimetype": "text/x-python",
   "name": "python",
   "nbconvert_exporter": "python",
   "pygments_lexer": "ipython2",
   "version": "2.7.6"
  }
 },
 "nbformat": 4,
 "nbformat_minor": 0
}
