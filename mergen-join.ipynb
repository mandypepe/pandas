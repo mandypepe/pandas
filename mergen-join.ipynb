{
 "cells": [
  {
   "cell_type": "code",
   "execution_count": 5,
   "metadata": {
    "collapsed": true
   },
   "outputs": [],
   "source": [
    "import pandas as pd\n",
    "import matplotlib.pyplot as plt\n",
    "import numpy as np\n",
    "%matplotlib inline\n",
    "w1=pd.read_csv(\"csvs/Restaurant - Week 1 Sales.csv\")\n",
    "w2=pd.read_csv(\"csvs/Restaurant - Week 2 Sales.csv\")\n",
    "ct=pd.read_csv(\"csvs/Restaurant - Customers.csv\")\n",
    "fot=pd.read_csv(\"csvs/Restaurant - Foods.csv\")\n"
   ]
  },
  {
   "cell_type": "code",
   "execution_count": 3,
   "metadata": {
    "collapsed": true
   },
   "outputs": [
    {
     "data": {
      "text/plain": [
       "<bound method NDFrame.head of      Customer ID  Food ID\n0            537        9\n1             97        4\n2            658        1\n3            202        2\n4            155        9\n5            213        8\n6            600        1\n7            503        5\n8             71        3\n9            174        3\n10           961        9\n11           966        5\n12           641        4\n13           288        2\n14           149        4\n15           954        2\n16           147        9\n17           155        1\n18           550        6\n19           101        7\n20           549        6\n21            75        6\n22            78        7\n23           514        5\n24           833        7\n25           329        8\n26           586       10\n27           341        1\n28           519       10\n29           680        9\n..           ...      ...\n220          495        2\n221          794        6\n222          734       10\n223          540        3\n224          735        2\n225          940        8\n226          571        7\n227          888        2\n228          664        6\n229          343        7\n230          143        4\n231          505        3\n232           54        8\n233          959        2\n234          367        8\n235          883        8\n236          251        9\n237          855        4\n238          233        3\n239          559       10\n240          734        1\n241          677        3\n242          276        4\n243           45        8\n244          945        4\n245          783       10\n246          556       10\n247          547        9\n248          252        9\n249          249        6\n\n[500 rows x 2 columns]>"
      ]
     },
     "execution_count": 3,
     "metadata": {},
     "output_type": "execute_result"
    }
   ],
   "source": [
    "w=pd.concat([w1,w2])\n",
    "w.head"
   ]
  },
  {
   "cell_type": "code",
   "execution_count": 8,
   "metadata": {
    "collapsed": true
   },
   "outputs": [
    {
     "data": {
      "text/plain": [
       "<bound method NDFrame.head of      Customer ID  Food ID\n0            537        9\n1             97        4\n2            658        1\n3            202        2\n4            155        9\n5            213        8\n6            600        1\n7            503        5\n8             71        3\n9            174        3\n10           961        9\n11           966        5\n12           641        4\n13           288        2\n14           149        4\n15           954        2\n16           147        9\n17           155        1\n18           550        6\n19           101        7\n20           549        6\n21            75        6\n22            78        7\n23           514        5\n24           833        7\n25           329        8\n26           586       10\n27           341        1\n28           519       10\n29           680        9\n..           ...      ...\n470          495        2\n471          794        6\n472          734       10\n473          540        3\n474          735        2\n475          940        8\n476          571        7\n477          888        2\n478          664        6\n479          343        7\n480          143        4\n481          505        3\n482           54        8\n483          959        2\n484          367        8\n485          883        8\n486          251        9\n487          855        4\n488          233        3\n489          559       10\n490          734        1\n491          677        3\n492          276        4\n493           45        8\n494          945        4\n495          783       10\n496          556       10\n497          547        9\n498          252        9\n499          249        6\n\n[500 rows x 2 columns]>"
      ]
     },
     "execution_count": 8,
     "metadata": {},
     "output_type": "execute_result"
    }
   ],
   "source": [
    "w=pd.concat([w1,w2],ignore_index=True)\n",
    "w.head"
   ]
  },
  {
   "cell_type": "code",
   "execution_count": 9,
   "metadata": {
    "collapsed": true
   },
   "outputs": [
    {
     "data": {
      "text/plain": [
       "<bound method NDFrame.head of        Customer ID  Food ID\nA 0            537        9\n  1             97        4\n  2            658        1\n  3            202        2\n  4            155        9\n  5            213        8\n  6            600        1\n  7            503        5\n  8             71        3\n  9            174        3\n  10           961        9\n  11           966        5\n  12           641        4\n  13           288        2\n  14           149        4\n  15           954        2\n  16           147        9\n  17           155        1\n  18           550        6\n  19           101        7\n  20           549        6\n  21            75        6\n  22            78        7\n  23           514        5\n  24           833        7\n  25           329        8\n  26           586       10\n  27           341        1\n  28           519       10\n  29           680        9\n...            ...      ...\nB 220          495        2\n  221          794        6\n  222          734       10\n  223          540        3\n  224          735        2\n  225          940        8\n  226          571        7\n  227          888        2\n  228          664        6\n  229          343        7\n  230          143        4\n  231          505        3\n  232           54        8\n  233          959        2\n  234          367        8\n  235          883        8\n  236          251        9\n  237          855        4\n  238          233        3\n  239          559       10\n  240          734        1\n  241          677        3\n  242          276        4\n  243           45        8\n  244          945        4\n  245          783       10\n  246          556       10\n  247          547        9\n  248          252        9\n  249          249        6\n\n[500 rows x 2 columns]>"
      ]
     },
     "execution_count": 9,
     "metadata": {},
     "output_type": "execute_result"
    }
   ],
   "source": [
    "sales=pd.concat([w1,w2], keys=[\"A\",'B'])\n",
    "sales.head"
   ]
  },
  {
   "cell_type": "code",
   "execution_count": 14,
   "metadata": {
    "collapsed": false
   },
   "outputs": [
    {
     "data": {
      "text/plain": [
       "<bound method NDFrame.head of Customer ID    783\nFood ID         10\nName: (B, 245), dtype: int64>"
      ]
     },
     "execution_count": 14,
     "metadata": {},
     "output_type": "execute_result"
    }
   ],
   "source": [
    "sales.loc[('B',245)].head"
   ]
  },
  {
   "cell_type": "code",
   "execution_count": 15,
   "metadata": {
    "collapsed": true
   },
   "outputs": [
    {
     "data": {
      "text/plain": [
       "<bound method NDFrame.head of      Customer ID  Food ID\n0            688       10\n1            813        7\n2            495       10\n3            189        5\n4            267        3\n5            310        5\n6            761        2\n7            443        5\n8            729        9\n9            741        8\n10           847        6\n11           156       10\n12           550        7\n13           620       10\n14           272        4\n15           511        2\n16             8        6\n17           534        7\n18           909        6\n19           732        9\n20           372        4\n21           713        1\n22           496        3\n23           381        9\n24            13        2\n25           101        4\n26           325        7\n27           674        2\n28           564        8\n29           578        5\n..           ...      ...\n220          495        2\n221          794        6\n222          734       10\n223          540        3\n224          735        2\n225          940        8\n226          571        7\n227          888        2\n228          664        6\n229          343        7\n230          143        4\n231          505        3\n232           54        8\n233          959        2\n234          367        8\n235          883        8\n236          251        9\n237          855        4\n238          233        3\n239          559       10\n240          734        1\n241          677        3\n242          276        4\n243           45        8\n244          945        4\n245          783       10\n246          556       10\n247          547        9\n248          252        9\n249          249        6\n\n[250 rows x 2 columns]>"
      ]
     },
     "execution_count": 15,
     "metadata": {},
     "output_type": "execute_result"
    }
   ],
   "source": [
    "sales.loc['B'].head"
   ]
  },
  {
   "cell_type": "code",
   "execution_count": null,
   "metadata": {},
   "outputs": [],
   "source": []
  }
 ],
 "metadata": {
  "kernelspec": {
   "display_name": "Python 2",
   "language": "python",
   "name": "python2"
  },
  "language_info": {
   "codemirror_mode": {
    "name": "ipython",
    "version": 2
   },
   "file_extension": ".py",
   "mimetype": "text/x-python",
   "name": "python",
   "nbconvert_exporter": "python",
   "pygments_lexer": "ipython2",
   "version": "2.7.6"
  }
 },
 "nbformat": 4,
 "nbformat_minor": 0
}
