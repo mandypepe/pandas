{
 "cells": [
  {
   "cell_type": "code",
   "execution_count": 14,
   "metadata": {
    "collapsed": true
   },
   "outputs": [
    {
     "name": "stdout",
     "output_type": "stream",
     "text": [
      "<class 'pandas.core.frame.DataFrame'>\nIndex: 26 entries, A View to a Kill to You Only Live Twice\nData columns (total 6 columns):\nYear                 26 non-null int64\nActor                26 non-null object\nDirector             26 non-null object\nBox Office           26 non-null float64\nBudget               26 non-null float64\nBond Actor Salary    18 non-null float64\ndtypes: float64(3), int64(1), object(2)\nmemory usage: 1.4+ KB\n"
     ]
    }
   ],
   "source": [
    "import pandas as pd\n",
    "import matplotlib.pyplot as plt\n",
    "import numpy as np\n",
    "%matplotlib inline\n",
    "bond=pd.read_csv(\"csvs/jamesbond.csv\", index_col='Film')\n",
    "bond.sort_index(inplace=True)\n",
    "bond.info()"
   ]
  },
  {
   "cell_type": "code",
   "execution_count": 5,
   "metadata": {
    "collapsed": true
   },
   "outputs": [
    {
     "data": {
      "text/plain": [
       "<bound method NDFrame.head of                                  Year           Actor            Director  \\\nFilm                                                                        \nA View to a Kill                 1985     Roger Moore           John Glen   \nDiamonds Are Forever             1971    Sean Connery        Guy Hamilton   \nFor Your Eyes Only               1981     Roger Moore           John Glen   \nFrom Russia with Love            1963    Sean Connery       Terence Young   \nGoldenEye                        1995  Pierce Brosnan     Martin Campbell   \nGoldfinger                       1964    Sean Connery        Guy Hamilton   \nLicence to Kill                  1989  Timothy Dalton           John Glen   \nLive and Let Die                 1973     Roger Moore        Guy Hamilton   \nMoonraker                        1979     Roger Moore       Lewis Gilbert   \nNever Say Never Again            1983    Sean Connery      Irvin Kershner   \nOctopussy                        1983     Roger Moore           John Glen   \nOn Her Majesty's Secret Service  1969  George Lazenby       Peter R. Hunt   \nQuantum of Solace                2008    Daniel Craig        Marc Forster   \nSkyfall                          2012    Daniel Craig          Sam Mendes   \nSpectre                          2015    Daniel Craig          Sam Mendes   \nThe Living Daylights             1987  Timothy Dalton           John Glen   \nThe Man with the Golden Gun      1974     Roger Moore        Guy Hamilton   \nThe Spy Who Loved Me             1977     Roger Moore       Lewis Gilbert   \nThe World Is Not Enough          1999  Pierce Brosnan       Michael Apted   \nThunderball                      1965    Sean Connery       Terence Young   \nTomorrow Never Dies              1997  Pierce Brosnan  Roger Spottiswoode   \nYou Only Live Twice              1967    Sean Connery       Lewis Gilbert   \n\n                                 Box Office  Budget  Bond Actor Salary  \nFilm                                                                    \nA View to a Kill                      275.2    54.5                9.1  \nDiamonds Are Forever                  442.5    34.7                5.8  \nFor Your Eyes Only                    449.4    60.2                NaN  \nFrom Russia with Love                 543.8    12.6                1.6  \nGoldenEye                             518.5    76.9                5.1  \nGoldfinger                            820.4    18.6                3.2  \nLicence to Kill                       250.9    56.7                7.9  \nLive and Let Die                      460.3    30.8                NaN  \nMoonraker                             535.0    91.5                NaN  \nNever Say Never Again                 380.0    86.0                NaN  \nOctopussy                             373.8    53.9                7.8  \nOn Her Majesty's Secret Service       291.5    37.3                0.6  \nQuantum of Solace                     514.2   181.4                8.1  \nSkyfall                               943.5   170.2               14.5  \nSpectre                               726.7   206.3                NaN  \nThe Living Daylights                  313.5    68.8                5.2  \nThe Man with the Golden Gun           334.0    27.7                NaN  \nThe Spy Who Loved Me                  533.0    45.1                NaN  \nThe World Is Not Enough               439.5   158.3               13.5  \nThunderball                           848.1    41.9                4.7  \nTomorrow Never Dies                   463.2   133.9               10.0  \nYou Only Live Twice                   514.2    59.9                4.4  >"
      ]
     },
     "execution_count": 5,
     "metadata": {},
     "output_type": "execute_result"
    }
   ],
   "source": [
    "asi=bond.drop(['Dr. No','Die Another Day','Casino Royale'])\n",
    "asi.head"
   ]
  },
  {
   "cell_type": "code",
   "execution_count": 12,
   "metadata": {
    "collapsed": true
   },
   "outputs": [
    {
     "data": {
      "text/plain": [
       "<bound method NDFrame.head of                                  Box Office  Bond Actor Salary\nFilm                                                          \nA View to a Kill                      275.2                9.1\nCasino Royale                         581.5                3.3\nCasino Royale                         315.0                NaN\nDiamonds Are Forever                  442.5                5.8\nDie Another Day                       465.4               17.9\nDr. No                                448.8                0.6\nFor Your Eyes Only                    449.4                NaN\nFrom Russia with Love                 543.8                1.6\nGoldenEye                             518.5                5.1\nGoldfinger                            820.4                3.2\nLicence to Kill                       250.9                7.9\nLive and Let Die                      460.3                NaN\nMoonraker                             535.0                NaN\nNever Say Never Again                 380.0                NaN\nOctopussy                             373.8                7.8\nOn Her Majesty's Secret Service       291.5                0.6\nQuantum of Solace                     514.2                8.1\nSkyfall                               943.5               14.5\nSpectre                               726.7                NaN\nThe Living Daylights                  313.5                5.2\nThe Man with the Golden Gun           334.0                NaN\nThe Spy Who Loved Me                  533.0                NaN\nThe World Is Not Enough               439.5               13.5\nThunderball                           848.1                4.7\nTomorrow Never Dies                   463.2               10.0\nYou Only Live Twice                   514.2                4.4>"
      ]
     },
     "execution_count": 12,
     "metadata": {},
     "output_type": "execute_result"
    }
   ],
   "source": [
    "asiqueda=bond.drop(labels=['Actor','Director','Year','Budget'],axis='columns')\n",
    "asiqueda.head"
   ]
  },
  {
   "cell_type": "code",
   "execution_count": 13,
   "metadata": {
    "collapsed": true
   },
   "outputs": [
    {
     "data": {
      "text/plain": [
       "Film\nA View to a Kill                      Roger Moore\nCasino Royale                        Daniel Craig\nCasino Royale                         David Niven\nDiamonds Are Forever                 Sean Connery\nDie Another Day                    Pierce Brosnan\nDr. No                               Sean Connery\nFor Your Eyes Only                    Roger Moore\nFrom Russia with Love                Sean Connery\nGoldenEye                          Pierce Brosnan\nGoldfinger                           Sean Connery\nLicence to Kill                    Timothy Dalton\nLive and Let Die                      Roger Moore\nMoonraker                             Roger Moore\nNever Say Never Again                Sean Connery\nOctopussy                             Roger Moore\nOn Her Majesty's Secret Service    George Lazenby\nQuantum of Solace                    Daniel Craig\nSkyfall                              Daniel Craig\nSpectre                              Daniel Craig\nThe Living Daylights               Timothy Dalton\nThe Man with the Golden Gun           Roger Moore\nThe Spy Who Loved Me                  Roger Moore\nThe World Is Not Enough            Pierce Brosnan\nThunderball                          Sean Connery\nTomorrow Never Dies                Pierce Brosnan\nYou Only Live Twice                  Sean Connery\nName: Actor, dtype: object"
      ]
     },
     "execution_count": 13,
     "metadata": {},
     "output_type": "execute_result"
    }
   ],
   "source": [
    "asi_quedara=bond['Actor']\n",
    "asi_quedara"
   ]
  },
  {
   "cell_type": "code",
   "execution_count": null,
   "metadata": {},
   "outputs": [],
   "source": [
    "#del bond['Actor']"
   ]
  }
 ],
 "metadata": {
  "kernelspec": {
   "display_name": "Python 2",
   "language": "python",
   "name": "python2"
  },
  "language_info": {
   "codemirror_mode": {
    "name": "ipython",
    "version": 2
   },
   "file_extension": ".py",
   "mimetype": "text/x-python",
   "name": "python",
   "nbconvert_exporter": "python",
   "pygments_lexer": "ipython2",
   "version": "2.7.6"
  }
 },
 "nbformat": 4,
 "nbformat_minor": 0
}
