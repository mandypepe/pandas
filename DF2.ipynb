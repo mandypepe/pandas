{
 "cells": [
  {
   "cell_type": "code",
   "execution_count": 13,
   "metadata": {
    "collapsed": true
   },
   "outputs": [
    {
     "name": "stdout",
     "output_type": "stream",
     "text": [
      "<class 'pandas.core.frame.DataFrame'>\nRangeIndex: 458 entries, 0 to 457\nData columns (total 9 columns):\nName        457 non-null object\nTeam        457 non-null object\nNumber      457 non-null float64\nPosition    457 non-null object\nAge         457 non-null float64\nHeight      457 non-null object\nWeight      457 non-null float64\nCollege     373 non-null object\nSalary      446 non-null float64\ndtypes: float64(4), object(5)\nmemory usage: 32.3+ KB\n"
     ]
    }
   ],
   "source": [
    "import pandas as pd\n",
    "import matplotlib.pyplot as plt\n",
    "import numpy as np\n",
    "%matplotlib inline\n",
    "nba=pd.read_csv(\"csvs/nba.csv\")\n",
    "nba.info()\n"
   ]
  },
  {
   "cell_type": "code",
   "execution_count": 2,
   "metadata": {
    "collapsed": true
   },
   "outputs": [
    {
     "data": {
      "text/plain": [
       "0                Avery Bradley\n1                  Jae Crowder\n2                 John Holland\n3                  R.J. Hunter\n4                Jonas Jerebko\n5                 Amir Johnson\n6                Jordan Mickey\n7                 Kelly Olynyk\n8                 Terry Rozier\n9                 Marcus Smart\n10             Jared Sullinger\n11               Isaiah Thomas\n12                 Evan Turner\n13                 James Young\n14                Tyler Zeller\n15            Bojan Bogdanovic\n16                Markel Brown\n17             Wayne Ellington\n18     Rondae Hollis-Jefferson\n19                Jarrett Jack\n20              Sergey Karasev\n21             Sean Kilpatrick\n22                Shane Larkin\n23                 Brook Lopez\n24            Chris McCullough\n25                 Willie Reed\n26             Thomas Robinson\n27                  Henry Sims\n28                Donald Sloan\n29              Thaddeus Young\n                ...           \n428            Al-Farouq Aminu\n429            Pat Connaughton\n430               Allen Crabbe\n431                   Ed Davis\n432           Maurice Harkless\n433           Gerald Henderson\n434                Chris Kaman\n435             Meyers Leonard\n436             Damian Lillard\n437              C.J. McCollum\n438               Luis Montero\n439              Mason Plumlee\n440              Brian Roberts\n441                Noah Vonleh\n442              Trevor Booker\n443                 Trey Burke\n444                 Alec Burks\n445                 Dante Exum\n446             Derrick Favors\n447                Rudy Gobert\n448             Gordon Hayward\n449                Rodney Hood\n450                 Joe Ingles\n451              Chris Johnson\n452                 Trey Lyles\n453               Shelvin Mack\n454                  Raul Neto\n455               Tibor Pleiss\n456                Jeff Withey\n457                        NaN\nName: Name, Length: 458, dtype: object"
      ]
     },
     "execution_count": 2,
     "metadata": {},
     "output_type": "execute_result"
    }
   ],
   "source": [
    "nba.Name # NAME OF COLUMNS"
   ]
  },
  {
   "cell_type": "code",
   "execution_count": 3,
   "metadata": {
    "collapsed": true
   },
   "outputs": [
    {
     "data": {
      "text/plain": [
       "0       0.0\n1      99.0\n2      30.0\n3      28.0\n4       8.0\n5      90.0\n6      55.0\n7      41.0\n8      12.0\n9      36.0\n10      7.0\n11      4.0\n12     11.0\n13     13.0\n14     44.0\n15     44.0\n16     22.0\n17     21.0\n18     24.0\n19      2.0\n20     10.0\n21      6.0\n22      0.0\n23     11.0\n24      1.0\n25     33.0\n26     41.0\n27     14.0\n28     15.0\n29     30.0\n       ... \n428     8.0\n429     5.0\n430    23.0\n431    17.0\n432     4.0\n433     9.0\n434    35.0\n435    11.0\n436     0.0\n437     3.0\n438    44.0\n439    24.0\n440     2.0\n441    21.0\n442    33.0\n443     3.0\n444    10.0\n445    11.0\n446    15.0\n447    27.0\n448    20.0\n449     5.0\n450     2.0\n451    23.0\n452    41.0\n453     8.0\n454    25.0\n455    21.0\n456    24.0\n457     NaN\nName: Number, Length: 458, dtype: float64"
      ]
     },
     "execution_count": 3,
     "metadata": {},
     "output_type": "execute_result"
    }
   ],
   "source": [
    "nba.Number"
   ]
  },
  {
   "cell_type": "code",
   "execution_count": 4,
   "metadata": {
    "collapsed": true
   },
   "outputs": [
    {
     "data": {
      "text/plain": [
       "0       7730337.0\n1       6796117.0\n2             NaN\n3       1148640.0\n4       5000000.0\n5      12000000.0\n6       1170960.0\n7       2165160.0\n8       1824360.0\n9       3431040.0\n10      2569260.0\n11      6912869.0\n12      3425510.0\n13      1749840.0\n14      2616975.0\n15      3425510.0\n16       845059.0\n17      1500000.0\n18      1335480.0\n19      6300000.0\n20      1599840.0\n21       134215.0\n22      1500000.0\n23     19689000.0\n24      1140240.0\n25       947276.0\n26       981348.0\n27       947276.0\n28       947276.0\n29     11235955.0\n          ...    \n428     8042895.0\n429      625093.0\n430      947276.0\n431     6980802.0\n432     2894059.0\n433     6000000.0\n434     5016000.0\n435     3075880.0\n436     4236287.0\n437     2525160.0\n438      525093.0\n439     1415520.0\n440     2854940.0\n441     2637720.0\n442     4775000.0\n443     2658240.0\n444     9463484.0\n445     3777720.0\n446    12000000.0\n447     1175880.0\n448    15409570.0\n449     1348440.0\n450     2050000.0\n451      981348.0\n452     2239800.0\n453     2433333.0\n454      900000.0\n455     2900000.0\n456      947276.0\n457           NaN\nName: Salary, Length: 458, dtype: float64"
      ]
     },
     "execution_count": 4,
     "metadata": {},
     "output_type": "execute_result"
    }
   ],
   "source": [
    "nba.Salary"
   ]
  },
  {
   "cell_type": "code",
   "execution_count": 5,
   "metadata": {},
   "outputs": [
    {
     "data": {
      "text/plain": [
       "pandas.core.series.Series"
      ]
     },
     "execution_count": 5,
     "metadata": {},
     "output_type": "execute_result"
    }
   ],
   "source": [
    "type(nba.Salary)"
   ]
  },
  {
   "cell_type": "code",
   "execution_count": 7,
   "metadata": {
    "collapsed": true
   },
   "outputs": [
    {
     "data": {
      "text/plain": [
       "<bound method NDFrame.head of                         Name                    Team\n0              Avery Bradley          Boston Celtics\n1                Jae Crowder          Boston Celtics\n2               John Holland          Boston Celtics\n3                R.J. Hunter          Boston Celtics\n4              Jonas Jerebko          Boston Celtics\n5               Amir Johnson          Boston Celtics\n6              Jordan Mickey          Boston Celtics\n7               Kelly Olynyk          Boston Celtics\n8               Terry Rozier          Boston Celtics\n9               Marcus Smart          Boston Celtics\n10           Jared Sullinger          Boston Celtics\n11             Isaiah Thomas          Boston Celtics\n12               Evan Turner          Boston Celtics\n13               James Young          Boston Celtics\n14              Tyler Zeller          Boston Celtics\n15          Bojan Bogdanovic           Brooklyn Nets\n16              Markel Brown           Brooklyn Nets\n17           Wayne Ellington           Brooklyn Nets\n18   Rondae Hollis-Jefferson           Brooklyn Nets\n19              Jarrett Jack           Brooklyn Nets\n20            Sergey Karasev           Brooklyn Nets\n21           Sean Kilpatrick           Brooklyn Nets\n22              Shane Larkin           Brooklyn Nets\n23               Brook Lopez           Brooklyn Nets\n24          Chris McCullough           Brooklyn Nets\n25               Willie Reed           Brooklyn Nets\n26           Thomas Robinson           Brooklyn Nets\n27                Henry Sims           Brooklyn Nets\n28              Donald Sloan           Brooklyn Nets\n29            Thaddeus Young           Brooklyn Nets\n..                       ...                     ...\n428          Al-Farouq Aminu  Portland Trail Blazers\n429          Pat Connaughton  Portland Trail Blazers\n430             Allen Crabbe  Portland Trail Blazers\n431                 Ed Davis  Portland Trail Blazers\n432         Maurice Harkless  Portland Trail Blazers\n433         Gerald Henderson  Portland Trail Blazers\n434              Chris Kaman  Portland Trail Blazers\n435           Meyers Leonard  Portland Trail Blazers\n436           Damian Lillard  Portland Trail Blazers\n437            C.J. McCollum  Portland Trail Blazers\n438             Luis Montero  Portland Trail Blazers\n439            Mason Plumlee  Portland Trail Blazers\n440            Brian Roberts  Portland Trail Blazers\n441              Noah Vonleh  Portland Trail Blazers\n442            Trevor Booker               Utah Jazz\n443               Trey Burke               Utah Jazz\n444               Alec Burks               Utah Jazz\n445               Dante Exum               Utah Jazz\n446           Derrick Favors               Utah Jazz\n447              Rudy Gobert               Utah Jazz\n448           Gordon Hayward               Utah Jazz\n449              Rodney Hood               Utah Jazz\n450               Joe Ingles               Utah Jazz\n451            Chris Johnson               Utah Jazz\n452               Trey Lyles               Utah Jazz\n453             Shelvin Mack               Utah Jazz\n454                Raul Neto               Utah Jazz\n455             Tibor Pleiss               Utah Jazz\n456              Jeff Withey               Utah Jazz\n457                      NaN                     NaN\n\n[458 rows x 2 columns]>"
      ]
     },
     "execution_count": 7,
     "metadata": {},
     "output_type": "execute_result"
    }
   ],
   "source": [
    "nba[[\"Name\",\"Team\"]].head"
   ]
  },
  {
   "cell_type": "code",
   "execution_count": 8,
   "metadata": {
    "collapsed": true
   },
   "outputs": [
    {
     "data": {
      "text/plain": [
       "<bound method NDFrame.head of      Number            College\n0       0.0              Texas\n1      99.0          Marquette\n2      30.0  Boston University\n3      28.0      Georgia State\n4       8.0                NaN\n5      90.0                NaN\n6      55.0                LSU\n7      41.0            Gonzaga\n8      12.0         Louisville\n9      36.0     Oklahoma State\n10      7.0         Ohio State\n11      4.0         Washington\n12     11.0         Ohio State\n13     13.0           Kentucky\n14     44.0     North Carolina\n15     44.0                NaN\n16     22.0     Oklahoma State\n17     21.0     North Carolina\n18     24.0            Arizona\n19      2.0       Georgia Tech\n20     10.0                NaN\n21      6.0         Cincinnati\n22      0.0         Miami (FL)\n23     11.0           Stanford\n24      1.0           Syracuse\n25     33.0        Saint Louis\n26     41.0             Kansas\n27     14.0         Georgetown\n28     15.0          Texas A&M\n29     30.0       Georgia Tech\n..      ...                ...\n428     8.0        Wake Forest\n429     5.0         Notre Dame\n430    23.0         California\n431    17.0     North Carolina\n432     4.0         St. John's\n433     9.0               Duke\n434    35.0   Central Michigan\n435    11.0           Illinois\n436     0.0        Weber State\n437     3.0             Lehigh\n438    44.0     Westchester CC\n439    24.0               Duke\n440     2.0             Dayton\n441    21.0            Indiana\n442    33.0            Clemson\n443     3.0           Michigan\n444    10.0           Colorado\n445    11.0                NaN\n446    15.0       Georgia Tech\n447    27.0                NaN\n448    20.0             Butler\n449     5.0               Duke\n450     2.0                NaN\n451    23.0             Dayton\n452    41.0           Kentucky\n453     8.0             Butler\n454    25.0                NaN\n455    21.0                NaN\n456    24.0             Kansas\n457     NaN                NaN\n\n[458 rows x 2 columns]>"
      ]
     },
     "execution_count": 8,
     "metadata": {},
     "output_type": "execute_result"
    }
   ],
   "source": [
    "nba[[\"Number\",\"College\"]].head"
   ]
  },
  {
   "cell_type": "code",
   "execution_count": 10,
   "metadata": {
    "collapsed": true
   },
   "outputs": [
    {
     "data": {
      "text/plain": [
       "<bound method NDFrame.head of          Salary                    Team                     Name\n0     7730337.0          Boston Celtics            Avery Bradley\n1     6796117.0          Boston Celtics              Jae Crowder\n2           NaN          Boston Celtics             John Holland\n3     1148640.0          Boston Celtics              R.J. Hunter\n4     5000000.0          Boston Celtics            Jonas Jerebko\n5    12000000.0          Boston Celtics             Amir Johnson\n6     1170960.0          Boston Celtics            Jordan Mickey\n7     2165160.0          Boston Celtics             Kelly Olynyk\n8     1824360.0          Boston Celtics             Terry Rozier\n9     3431040.0          Boston Celtics             Marcus Smart\n10    2569260.0          Boston Celtics          Jared Sullinger\n11    6912869.0          Boston Celtics            Isaiah Thomas\n12    3425510.0          Boston Celtics              Evan Turner\n13    1749840.0          Boston Celtics              James Young\n14    2616975.0          Boston Celtics             Tyler Zeller\n15    3425510.0           Brooklyn Nets         Bojan Bogdanovic\n16     845059.0           Brooklyn Nets             Markel Brown\n17    1500000.0           Brooklyn Nets          Wayne Ellington\n18    1335480.0           Brooklyn Nets  Rondae Hollis-Jefferson\n19    6300000.0           Brooklyn Nets             Jarrett Jack\n20    1599840.0           Brooklyn Nets           Sergey Karasev\n21     134215.0           Brooklyn Nets          Sean Kilpatrick\n22    1500000.0           Brooklyn Nets             Shane Larkin\n23   19689000.0           Brooklyn Nets              Brook Lopez\n24    1140240.0           Brooklyn Nets         Chris McCullough\n25     947276.0           Brooklyn Nets              Willie Reed\n26     981348.0           Brooklyn Nets          Thomas Robinson\n27     947276.0           Brooklyn Nets               Henry Sims\n28     947276.0           Brooklyn Nets             Donald Sloan\n29   11235955.0           Brooklyn Nets           Thaddeus Young\n..          ...                     ...                      ...\n428   8042895.0  Portland Trail Blazers          Al-Farouq Aminu\n429    625093.0  Portland Trail Blazers          Pat Connaughton\n430    947276.0  Portland Trail Blazers             Allen Crabbe\n431   6980802.0  Portland Trail Blazers                 Ed Davis\n432   2894059.0  Portland Trail Blazers         Maurice Harkless\n433   6000000.0  Portland Trail Blazers         Gerald Henderson\n434   5016000.0  Portland Trail Blazers              Chris Kaman\n435   3075880.0  Portland Trail Blazers           Meyers Leonard\n436   4236287.0  Portland Trail Blazers           Damian Lillard\n437   2525160.0  Portland Trail Blazers            C.J. McCollum\n438    525093.0  Portland Trail Blazers             Luis Montero\n439   1415520.0  Portland Trail Blazers            Mason Plumlee\n440   2854940.0  Portland Trail Blazers            Brian Roberts\n441   2637720.0  Portland Trail Blazers              Noah Vonleh\n442   4775000.0               Utah Jazz            Trevor Booker\n443   2658240.0               Utah Jazz               Trey Burke\n444   9463484.0               Utah Jazz               Alec Burks\n445   3777720.0               Utah Jazz               Dante Exum\n446  12000000.0               Utah Jazz           Derrick Favors\n447   1175880.0               Utah Jazz              Rudy Gobert\n448  15409570.0               Utah Jazz           Gordon Hayward\n449   1348440.0               Utah Jazz              Rodney Hood\n450   2050000.0               Utah Jazz               Joe Ingles\n451    981348.0               Utah Jazz            Chris Johnson\n452   2239800.0               Utah Jazz               Trey Lyles\n453   2433333.0               Utah Jazz             Shelvin Mack\n454    900000.0               Utah Jazz                Raul Neto\n455   2900000.0               Utah Jazz             Tibor Pleiss\n456    947276.0               Utah Jazz              Jeff Withey\n457         NaN                     NaN                      NaN\n\n[458 rows x 3 columns]>"
      ]
     },
     "execution_count": 10,
     "metadata": {},
     "output_type": "execute_result"
    }
   ],
   "source": [
    "list_index=[\"Salary\",\"Team\",\"Name\"]\n",
    "nba[list_index].head"
   ]
  },
  {
   "cell_type": "code",
   "execution_count": 12,
   "metadata": {
    "collapsed": false
   },
   "outputs": [
    {
     "name": "stdout",
     "output_type": "stream",
     "text": [
      "<class 'pandas.core.frame.DataFrame'>\nRangeIndex: 458 entries, 0 to 457\nData columns (total 10 columns):\nName        457 non-null object\nTeam        457 non-null object\nNumber      457 non-null float64\nPosition    457 non-null object\nAge         457 non-null float64\nHeight      457 non-null object\nWeight      457 non-null float64\nCollege     373 non-null object\nSalary      446 non-null float64\nSport       458 non-null object\ndtypes: float64(4), object(6)\nmemory usage: 35.9+ KB\n"
     ]
    }
   ],
   "source": [
    "nba['Sport']=\"BASKETBALL\"\n",
    "nba.info()"
   ]
  },
  {
   "cell_type": "code",
   "execution_count": 14,
   "metadata": {
    "collapsed": true
   },
   "outputs": [
    {
     "data": {
      "text/plain": [
       "<bound method NDFrame.head of                         Name                    Team  Number     deporte  \\\n0              Avery Bradley          Boston Celtics     0.0  baloncesto   \n1                Jae Crowder          Boston Celtics    99.0  baloncesto   \n2               John Holland          Boston Celtics    30.0  baloncesto   \n3                R.J. Hunter          Boston Celtics    28.0  baloncesto   \n4              Jonas Jerebko          Boston Celtics     8.0  baloncesto   \n5               Amir Johnson          Boston Celtics    90.0  baloncesto   \n6              Jordan Mickey          Boston Celtics    55.0  baloncesto   \n7               Kelly Olynyk          Boston Celtics    41.0  baloncesto   \n8               Terry Rozier          Boston Celtics    12.0  baloncesto   \n9               Marcus Smart          Boston Celtics    36.0  baloncesto   \n10           Jared Sullinger          Boston Celtics     7.0  baloncesto   \n11             Isaiah Thomas          Boston Celtics     4.0  baloncesto   \n12               Evan Turner          Boston Celtics    11.0  baloncesto   \n13               James Young          Boston Celtics    13.0  baloncesto   \n14              Tyler Zeller          Boston Celtics    44.0  baloncesto   \n15          Bojan Bogdanovic           Brooklyn Nets    44.0  baloncesto   \n16              Markel Brown           Brooklyn Nets    22.0  baloncesto   \n17           Wayne Ellington           Brooklyn Nets    21.0  baloncesto   \n18   Rondae Hollis-Jefferson           Brooklyn Nets    24.0  baloncesto   \n19              Jarrett Jack           Brooklyn Nets     2.0  baloncesto   \n20            Sergey Karasev           Brooklyn Nets    10.0  baloncesto   \n21           Sean Kilpatrick           Brooklyn Nets     6.0  baloncesto   \n22              Shane Larkin           Brooklyn Nets     0.0  baloncesto   \n23               Brook Lopez           Brooklyn Nets    11.0  baloncesto   \n24          Chris McCullough           Brooklyn Nets     1.0  baloncesto   \n25               Willie Reed           Brooklyn Nets    33.0  baloncesto   \n26           Thomas Robinson           Brooklyn Nets    41.0  baloncesto   \n27                Henry Sims           Brooklyn Nets    14.0  baloncesto   \n28              Donald Sloan           Brooklyn Nets    15.0  baloncesto   \n29            Thaddeus Young           Brooklyn Nets    30.0  baloncesto   \n..                       ...                     ...     ...         ...   \n428          Al-Farouq Aminu  Portland Trail Blazers     8.0  baloncesto   \n429          Pat Connaughton  Portland Trail Blazers     5.0  baloncesto   \n430             Allen Crabbe  Portland Trail Blazers    23.0  baloncesto   \n431                 Ed Davis  Portland Trail Blazers    17.0  baloncesto   \n432         Maurice Harkless  Portland Trail Blazers     4.0  baloncesto   \n433         Gerald Henderson  Portland Trail Blazers     9.0  baloncesto   \n434              Chris Kaman  Portland Trail Blazers    35.0  baloncesto   \n435           Meyers Leonard  Portland Trail Blazers    11.0  baloncesto   \n436           Damian Lillard  Portland Trail Blazers     0.0  baloncesto   \n437            C.J. McCollum  Portland Trail Blazers     3.0  baloncesto   \n438             Luis Montero  Portland Trail Blazers    44.0  baloncesto   \n439            Mason Plumlee  Portland Trail Blazers    24.0  baloncesto   \n440            Brian Roberts  Portland Trail Blazers     2.0  baloncesto   \n441              Noah Vonleh  Portland Trail Blazers    21.0  baloncesto   \n442            Trevor Booker               Utah Jazz    33.0  baloncesto   \n443               Trey Burke               Utah Jazz     3.0  baloncesto   \n444               Alec Burks               Utah Jazz    10.0  baloncesto   \n445               Dante Exum               Utah Jazz    11.0  baloncesto   \n446           Derrick Favors               Utah Jazz    15.0  baloncesto   \n447              Rudy Gobert               Utah Jazz    27.0  baloncesto   \n448           Gordon Hayward               Utah Jazz    20.0  baloncesto   \n449              Rodney Hood               Utah Jazz     5.0  baloncesto   \n450               Joe Ingles               Utah Jazz     2.0  baloncesto   \n451            Chris Johnson               Utah Jazz    23.0  baloncesto   \n452               Trey Lyles               Utah Jazz    41.0  baloncesto   \n453             Shelvin Mack               Utah Jazz     8.0  baloncesto   \n454                Raul Neto               Utah Jazz    25.0  baloncesto   \n455             Tibor Pleiss               Utah Jazz    21.0  baloncesto   \n456              Jeff Withey               Utah Jazz    24.0  baloncesto   \n457                      NaN                     NaN     NaN  baloncesto   \n\n    Position   Age Height  Weight            College      Salary  \n0         PG  25.0    6-2   180.0              Texas   7730337.0  \n1         SF  25.0    6-6   235.0          Marquette   6796117.0  \n2         SG  27.0    6-5   205.0  Boston University         NaN  \n3         SG  22.0    6-5   185.0      Georgia State   1148640.0  \n4         PF  29.0   6-10   231.0                NaN   5000000.0  \n5         PF  29.0    6-9   240.0                NaN  12000000.0  \n6         PF  21.0    6-8   235.0                LSU   1170960.0  \n7          C  25.0    7-0   238.0            Gonzaga   2165160.0  \n8         PG  22.0    6-2   190.0         Louisville   1824360.0  \n9         PG  22.0    6-4   220.0     Oklahoma State   3431040.0  \n10         C  24.0    6-9   260.0         Ohio State   2569260.0  \n11        PG  27.0    5-9   185.0         Washington   6912869.0  \n12        SG  27.0    6-7   220.0         Ohio State   3425510.0  \n13        SG  20.0    6-6   215.0           Kentucky   1749840.0  \n14         C  26.0    7-0   253.0     North Carolina   2616975.0  \n15        SG  27.0    6-8   216.0                NaN   3425510.0  \n16        SG  24.0    6-3   190.0     Oklahoma State    845059.0  \n17        SG  28.0    6-4   200.0     North Carolina   1500000.0  \n18        SG  21.0    6-7   220.0            Arizona   1335480.0  \n19        PG  32.0    6-3   200.0       Georgia Tech   6300000.0  \n20        SG  22.0    6-7   208.0                NaN   1599840.0  \n21        SG  26.0    6-4   219.0         Cincinnati    134215.0  \n22        PG  23.0   5-11   175.0         Miami (FL)   1500000.0  \n23         C  28.0    7-0   275.0           Stanford  19689000.0  \n24        PF  21.0   6-11   200.0           Syracuse   1140240.0  \n25        PF  26.0   6-10   220.0        Saint Louis    947276.0  \n26        PF  25.0   6-10   237.0             Kansas    981348.0  \n27         C  26.0   6-10   248.0         Georgetown    947276.0  \n28        PG  28.0    6-3   205.0          Texas A&M    947276.0  \n29        PF  27.0    6-8   221.0       Georgia Tech  11235955.0  \n..       ...   ...    ...     ...                ...         ...  \n428       SF  25.0    6-9   215.0        Wake Forest   8042895.0  \n429       SG  23.0    6-5   206.0         Notre Dame    625093.0  \n430       SG  24.0    6-6   210.0         California    947276.0  \n431        C  27.0   6-10   240.0     North Carolina   6980802.0  \n432       SF  23.0    6-9   215.0         St. John's   2894059.0  \n433       SG  28.0    6-5   215.0               Duke   6000000.0  \n434        C  34.0    7-0   265.0   Central Michigan   5016000.0  \n435       PF  24.0    7-1   245.0           Illinois   3075880.0  \n436       PG  25.0    6-3   195.0        Weber State   4236287.0  \n437       SG  24.0    6-4   200.0             Lehigh   2525160.0  \n438       SG  23.0    6-7   185.0     Westchester CC    525093.0  \n439        C  26.0   6-11   235.0               Duke   1415520.0  \n440       PG  30.0    6-1   173.0             Dayton   2854940.0  \n441       PF  20.0    6-9   240.0            Indiana   2637720.0  \n442       PF  28.0    6-8   228.0            Clemson   4775000.0  \n443       PG  23.0    6-1   191.0           Michigan   2658240.0  \n444       SG  24.0    6-6   214.0           Colorado   9463484.0  \n445       PG  20.0    6-6   190.0                NaN   3777720.0  \n446       PF  24.0   6-10   265.0       Georgia Tech  12000000.0  \n447        C  23.0    7-1   245.0                NaN   1175880.0  \n448       SF  26.0    6-8   226.0             Butler  15409570.0  \n449       SG  23.0    6-8   206.0               Duke   1348440.0  \n450       SF  28.0    6-8   226.0                NaN   2050000.0  \n451       SF  26.0    6-6   206.0             Dayton    981348.0  \n452       PF  20.0   6-10   234.0           Kentucky   2239800.0  \n453       PG  26.0    6-3   203.0             Butler   2433333.0  \n454       PG  24.0    6-1   179.0                NaN    900000.0  \n455        C  26.0    7-3   256.0                NaN   2900000.0  \n456        C  26.0    7-0   231.0             Kansas    947276.0  \n457      NaN   NaN    NaN     NaN                NaN         NaN  \n\n[458 rows x 10 columns]>"
      ]
     },
     "execution_count": 14,
     "metadata": {},
     "output_type": "execute_result"
    }
   ],
   "source": [
    "nba.insert(3,column=\"deporte\",value=\"baloncesto\")\n",
    "nba.head"
   ]
  },
  {
   "cell_type": "code",
   "execution_count": 15,
   "metadata": {
    "collapsed": true
   },
   "outputs": [
    {
     "data": {
      "text/plain": [
       "<bound method NDFrame.head of 0      25.0\n1      25.0\n2      27.0\n3      22.0\n4      29.0\n5      29.0\n6      21.0\n7      25.0\n8      22.0\n9      22.0\n10     24.0\n11     27.0\n12     27.0\n13     20.0\n14     26.0\n15     27.0\n16     24.0\n17     28.0\n18     21.0\n19     32.0\n20     22.0\n21     26.0\n22     23.0\n23     28.0\n24     21.0\n25     26.0\n26     25.0\n27     26.0\n28     28.0\n29     27.0\n       ... \n428    25.0\n429    23.0\n430    24.0\n431    27.0\n432    23.0\n433    28.0\n434    34.0\n435    24.0\n436    25.0\n437    24.0\n438    23.0\n439    26.0\n440    30.0\n441    20.0\n442    28.0\n443    23.0\n444    24.0\n445    20.0\n446    24.0\n447    23.0\n448    26.0\n449    23.0\n450    28.0\n451    26.0\n452    20.0\n453    26.0\n454    24.0\n455    26.0\n456    26.0\n457     NaN\nName: Age, Length: 458, dtype: float64>"
      ]
     },
     "execution_count": 15,
     "metadata": {},
     "output_type": "execute_result"
    }
   ],
   "source": [
    "nba['Age'].head"
   ]
  },
  {
   "cell_type": "code",
   "execution_count": 16,
   "metadata": {
    "collapsed": true
   },
   "outputs": [
    {
     "data": {
      "text/plain": [
       "0      30.0\n1      30.0\n2      32.0\n3      27.0\n4      34.0\n5      34.0\n6      26.0\n7      30.0\n8      27.0\n9      27.0\n10     29.0\n11     32.0\n12     32.0\n13     25.0\n14     31.0\n15     32.0\n16     29.0\n17     33.0\n18     26.0\n19     37.0\n20     27.0\n21     31.0\n22     28.0\n23     33.0\n24     26.0\n25     31.0\n26     30.0\n27     31.0\n28     33.0\n29     32.0\n       ... \n428    30.0\n429    28.0\n430    29.0\n431    32.0\n432    28.0\n433    33.0\n434    39.0\n435    29.0\n436    30.0\n437    29.0\n438    28.0\n439    31.0\n440    35.0\n441    25.0\n442    33.0\n443    28.0\n444    29.0\n445    25.0\n446    29.0\n447    28.0\n448    31.0\n449    28.0\n450    33.0\n451    31.0\n452    25.0\n453    31.0\n454    29.0\n455    31.0\n456    31.0\n457     NaN\nName: Age, Length: 458, dtype: float64"
      ]
     },
     "execution_count": 16,
     "metadata": {},
     "output_type": "execute_result"
    }
   ],
   "source": [
    "nba['Age']+5"
   ]
  },
  {
   "cell_type": "code",
   "execution_count": 19,
   "metadata": {},
   "outputs": [
    {
     "data": {
      "text/plain": [
       "<bound method NDFrame.head of 0       7730337.0\n1       6796117.0\n2             NaN\n3       1148640.0\n4       5000000.0\n5      12000000.0\n6       1170960.0\n7       2165160.0\n8       1824360.0\n9       3431040.0\n10      2569260.0\n11      6912869.0\n12      3425510.0\n13      1749840.0\n14      2616975.0\n15      3425510.0\n16       845059.0\n17      1500000.0\n18      1335480.0\n19      6300000.0\n20      1599840.0\n21       134215.0\n22      1500000.0\n23     19689000.0\n24      1140240.0\n25       947276.0\n26       981348.0\n27       947276.0\n28       947276.0\n29     11235955.0\n          ...    \n428     8042895.0\n429      625093.0\n430      947276.0\n431     6980802.0\n432     2894059.0\n433     6000000.0\n434     5016000.0\n435     3075880.0\n436     4236287.0\n437     2525160.0\n438      525093.0\n439     1415520.0\n440     2854940.0\n441     2637720.0\n442     4775000.0\n443     2658240.0\n444     9463484.0\n445     3777720.0\n446    12000000.0\n447     1175880.0\n448    15409570.0\n449     1348440.0\n450     2050000.0\n451      981348.0\n452     2239800.0\n453     2433333.0\n454      900000.0\n455     2900000.0\n456      947276.0\n457           NaN\nName: Salary, Length: 458, dtype: float64>"
      ]
     },
     "execution_count": 19,
     "metadata": {},
     "output_type": "execute_result"
    }
   ],
   "source": [
    "nba['Salary'].head"
   ]
  },
  {
   "cell_type": "code",
   "execution_count": 24,
   "metadata": {
    "collapsed": true
   },
   "outputs": [
    {
     "data": {
      "text/plain": [
       "<bound method NDFrame.head of 0       4730337.0\n1       3796117.0\n2             NaN\n3      -1851360.0\n4       2000000.0\n5       9000000.0\n6      -1829040.0\n7       -834840.0\n8      -1175640.0\n9        431040.0\n10      -430740.0\n11      3912869.0\n12       425510.0\n13     -1250160.0\n14      -383025.0\n15       425510.0\n16     -2154941.0\n17     -1500000.0\n18     -1664520.0\n19      3300000.0\n20     -1400160.0\n21     -2865785.0\n22     -1500000.0\n23     16689000.0\n24     -1859760.0\n25     -2052724.0\n26     -2018652.0\n27     -2052724.0\n28     -2052724.0\n29      8235955.0\n          ...    \n428     5042895.0\n429    -2374907.0\n430    -2052724.0\n431     3980802.0\n432     -105941.0\n433     3000000.0\n434     2016000.0\n435       75880.0\n436     1236287.0\n437     -474840.0\n438    -2474907.0\n439    -1584480.0\n440     -145060.0\n441     -362280.0\n442     1775000.0\n443     -341760.0\n444     6463484.0\n445      777720.0\n446     9000000.0\n447    -1824120.0\n448    12409570.0\n449    -1651560.0\n450     -950000.0\n451    -2018652.0\n452     -760200.0\n453     -566667.0\n454    -2100000.0\n455     -100000.0\n456    -2052724.0\n457           NaN\nName: Salary, Length: 458, dtype: float64>"
      ]
     },
     "execution_count": 24,
     "metadata": {},
     "output_type": "execute_result"
    }
   ],
   "source": [
    "nba['Salary'].sub(30000) # substraer nba['Salary']- 30000\n",
    "nba['Salary'].sub(3000000).head"
   ]
  },
  {
   "cell_type": "code",
   "execution_count": 25,
   "metadata": {
    "collapsed": true
   },
   "outputs": [
    {
     "data": {
      "text/plain": [
       "<bound method NDFrame.head of                         Name                    Team  Number     deporte  \\\n0              Avery Bradley          Boston Celtics     0.0  baloncesto   \n1                Jae Crowder          Boston Celtics    99.0  baloncesto   \n2               John Holland          Boston Celtics    30.0  baloncesto   \n3                R.J. Hunter          Boston Celtics    28.0  baloncesto   \n4              Jonas Jerebko          Boston Celtics     8.0  baloncesto   \n5               Amir Johnson          Boston Celtics    90.0  baloncesto   \n6              Jordan Mickey          Boston Celtics    55.0  baloncesto   \n7               Kelly Olynyk          Boston Celtics    41.0  baloncesto   \n8               Terry Rozier          Boston Celtics    12.0  baloncesto   \n9               Marcus Smart          Boston Celtics    36.0  baloncesto   \n10           Jared Sullinger          Boston Celtics     7.0  baloncesto   \n11             Isaiah Thomas          Boston Celtics     4.0  baloncesto   \n12               Evan Turner          Boston Celtics    11.0  baloncesto   \n13               James Young          Boston Celtics    13.0  baloncesto   \n14              Tyler Zeller          Boston Celtics    44.0  baloncesto   \n15          Bojan Bogdanovic           Brooklyn Nets    44.0  baloncesto   \n16              Markel Brown           Brooklyn Nets    22.0  baloncesto   \n17           Wayne Ellington           Brooklyn Nets    21.0  baloncesto   \n18   Rondae Hollis-Jefferson           Brooklyn Nets    24.0  baloncesto   \n19              Jarrett Jack           Brooklyn Nets     2.0  baloncesto   \n20            Sergey Karasev           Brooklyn Nets    10.0  baloncesto   \n21           Sean Kilpatrick           Brooklyn Nets     6.0  baloncesto   \n22              Shane Larkin           Brooklyn Nets     0.0  baloncesto   \n23               Brook Lopez           Brooklyn Nets    11.0  baloncesto   \n24          Chris McCullough           Brooklyn Nets     1.0  baloncesto   \n25               Willie Reed           Brooklyn Nets    33.0  baloncesto   \n26           Thomas Robinson           Brooklyn Nets    41.0  baloncesto   \n27                Henry Sims           Brooklyn Nets    14.0  baloncesto   \n28              Donald Sloan           Brooklyn Nets    15.0  baloncesto   \n29            Thaddeus Young           Brooklyn Nets    30.0  baloncesto   \n..                       ...                     ...     ...         ...   \n428          Al-Farouq Aminu  Portland Trail Blazers     8.0  baloncesto   \n429          Pat Connaughton  Portland Trail Blazers     5.0  baloncesto   \n430             Allen Crabbe  Portland Trail Blazers    23.0  baloncesto   \n431                 Ed Davis  Portland Trail Blazers    17.0  baloncesto   \n432         Maurice Harkless  Portland Trail Blazers     4.0  baloncesto   \n433         Gerald Henderson  Portland Trail Blazers     9.0  baloncesto   \n434              Chris Kaman  Portland Trail Blazers    35.0  baloncesto   \n435           Meyers Leonard  Portland Trail Blazers    11.0  baloncesto   \n436           Damian Lillard  Portland Trail Blazers     0.0  baloncesto   \n437            C.J. McCollum  Portland Trail Blazers     3.0  baloncesto   \n438             Luis Montero  Portland Trail Blazers    44.0  baloncesto   \n439            Mason Plumlee  Portland Trail Blazers    24.0  baloncesto   \n440            Brian Roberts  Portland Trail Blazers     2.0  baloncesto   \n441              Noah Vonleh  Portland Trail Blazers    21.0  baloncesto   \n442            Trevor Booker               Utah Jazz    33.0  baloncesto   \n443               Trey Burke               Utah Jazz     3.0  baloncesto   \n444               Alec Burks               Utah Jazz    10.0  baloncesto   \n445               Dante Exum               Utah Jazz    11.0  baloncesto   \n446           Derrick Favors               Utah Jazz    15.0  baloncesto   \n447              Rudy Gobert               Utah Jazz    27.0  baloncesto   \n448           Gordon Hayward               Utah Jazz    20.0  baloncesto   \n449              Rodney Hood               Utah Jazz     5.0  baloncesto   \n450               Joe Ingles               Utah Jazz     2.0  baloncesto   \n451            Chris Johnson               Utah Jazz    23.0  baloncesto   \n452               Trey Lyles               Utah Jazz    41.0  baloncesto   \n453             Shelvin Mack               Utah Jazz     8.0  baloncesto   \n454                Raul Neto               Utah Jazz    25.0  baloncesto   \n455             Tibor Pleiss               Utah Jazz    21.0  baloncesto   \n456              Jeff Withey               Utah Jazz    24.0  baloncesto   \n457                      NaN                     NaN     NaN  baloncesto   \n\n    Position   Age Height  Weight            College      Salary          kg  \n0         PG  25.0    6-2   180.0              Texas   7730337.0   81.646560  \n1         SF  25.0    6-6   235.0          Marquette   6796117.0  106.594120  \n2         SG  27.0    6-5   205.0  Boston University         NaN   92.986360  \n3         SG  22.0    6-5   185.0      Georgia State   1148640.0   83.914520  \n4         PF  29.0   6-10   231.0                NaN   5000000.0  104.779752  \n5         PF  29.0    6-9   240.0                NaN  12000000.0  108.862080  \n6         PF  21.0    6-8   235.0                LSU   1170960.0  106.594120  \n7          C  25.0    7-0   238.0            Gonzaga   2165160.0  107.954896  \n8         PG  22.0    6-2   190.0         Louisville   1824360.0   86.182480  \n9         PG  22.0    6-4   220.0     Oklahoma State   3431040.0   99.790240  \n10         C  24.0    6-9   260.0         Ohio State   2569260.0  117.933920  \n11        PG  27.0    5-9   185.0         Washington   6912869.0   83.914520  \n12        SG  27.0    6-7   220.0         Ohio State   3425510.0   99.790240  \n13        SG  20.0    6-6   215.0           Kentucky   1749840.0   97.522280  \n14         C  26.0    7-0   253.0     North Carolina   2616975.0  114.758776  \n15        SG  27.0    6-8   216.0                NaN   3425510.0   97.975872  \n16        SG  24.0    6-3   190.0     Oklahoma State    845059.0   86.182480  \n17        SG  28.0    6-4   200.0     North Carolina   1500000.0   90.718400  \n18        SG  21.0    6-7   220.0            Arizona   1335480.0   99.790240  \n19        PG  32.0    6-3   200.0       Georgia Tech   6300000.0   90.718400  \n20        SG  22.0    6-7   208.0                NaN   1599840.0   94.347136  \n21        SG  26.0    6-4   219.0         Cincinnati    134215.0   99.336648  \n22        PG  23.0   5-11   175.0         Miami (FL)   1500000.0   79.378600  \n23         C  28.0    7-0   275.0           Stanford  19689000.0  124.737800  \n24        PF  21.0   6-11   200.0           Syracuse   1140240.0   90.718400  \n25        PF  26.0   6-10   220.0        Saint Louis    947276.0   99.790240  \n26        PF  25.0   6-10   237.0             Kansas    981348.0  107.501304  \n27         C  26.0   6-10   248.0         Georgetown    947276.0  112.490816  \n28        PG  28.0    6-3   205.0          Texas A&M    947276.0   92.986360  \n29        PF  27.0    6-8   221.0       Georgia Tech  11235955.0  100.243832  \n..       ...   ...    ...     ...                ...         ...         ...  \n428       SF  25.0    6-9   215.0        Wake Forest   8042895.0   97.522280  \n429       SG  23.0    6-5   206.0         Notre Dame    625093.0   93.439952  \n430       SG  24.0    6-6   210.0         California    947276.0   95.254320  \n431        C  27.0   6-10   240.0     North Carolina   6980802.0  108.862080  \n432       SF  23.0    6-9   215.0         St. John's   2894059.0   97.522280  \n433       SG  28.0    6-5   215.0               Duke   6000000.0   97.522280  \n434        C  34.0    7-0   265.0   Central Michigan   5016000.0  120.201880  \n435       PF  24.0    7-1   245.0           Illinois   3075880.0  111.130040  \n436       PG  25.0    6-3   195.0        Weber State   4236287.0   88.450440  \n437       SG  24.0    6-4   200.0             Lehigh   2525160.0   90.718400  \n438       SG  23.0    6-7   185.0     Westchester CC    525093.0   83.914520  \n439        C  26.0   6-11   235.0               Duke   1415520.0  106.594120  \n440       PG  30.0    6-1   173.0             Dayton   2854940.0   78.471416  \n441       PF  20.0    6-9   240.0            Indiana   2637720.0  108.862080  \n442       PF  28.0    6-8   228.0            Clemson   4775000.0  103.418976  \n443       PG  23.0    6-1   191.0           Michigan   2658240.0   86.636072  \n444       SG  24.0    6-6   214.0           Colorado   9463484.0   97.068688  \n445       PG  20.0    6-6   190.0                NaN   3777720.0   86.182480  \n446       PF  24.0   6-10   265.0       Georgia Tech  12000000.0  120.201880  \n447        C  23.0    7-1   245.0                NaN   1175880.0  111.130040  \n448       SF  26.0    6-8   226.0             Butler  15409570.0  102.511792  \n449       SG  23.0    6-8   206.0               Duke   1348440.0   93.439952  \n450       SF  28.0    6-8   226.0                NaN   2050000.0  102.511792  \n451       SF  26.0    6-6   206.0             Dayton    981348.0   93.439952  \n452       PF  20.0   6-10   234.0           Kentucky   2239800.0  106.140528  \n453       PG  26.0    6-3   203.0             Butler   2433333.0   92.079176  \n454       PG  24.0    6-1   179.0                NaN    900000.0   81.192968  \n455        C  26.0    7-3   256.0                NaN   2900000.0  116.119552  \n456        C  26.0    7-0   231.0             Kansas    947276.0  104.779752  \n457      NaN   NaN    NaN     NaN                NaN         NaN         NaN  \n\n[458 rows x 11 columns]>"
      ]
     },
     "execution_count": 25,
     "metadata": {},
     "output_type": "execute_result"
    }
   ],
   "source": [
    "nba['kg']=nba['Weight']*0.453592\n",
    "nba.head"
   ]
  },
  {
   "cell_type": "code",
   "execution_count": 27,
   "metadata": {},
   "outputs": [],
   "source": [
    "nba['millones']=nba['Salary']/ 1000000\n"
   ]
  },
  {
   "cell_type": "code",
   "execution_count": null,
   "metadata": {},
   "outputs": [],
   "source": []
  }
 ],
 "metadata": {
  "kernelspec": {
   "display_name": "Python 2",
   "language": "python",
   "name": "python2"
  },
  "language_info": {
   "codemirror_mode": {
    "name": "ipython",
    "version": 2
   },
   "file_extension": ".py",
   "mimetype": "text/x-python",
   "name": "python",
   "nbconvert_exporter": "python",
   "pygments_lexer": "ipython2",
   "version": "2.7.6"
  }
 },
 "nbformat": 4,
 "nbformat_minor": 0
}
