{
 "cells": [
  {
   "cell_type": "code",
   "execution_count": 6,
   "metadata": {
    "collapsed": true
   },
   "outputs": [
    {
     "name": "stdout",
     "output_type": "stream",
     "text": [
      "<class 'pandas.core.frame.DataFrame'>\nIndex: 26 entries, A View to a Kill to You Only Live Twice\nData columns (total 6 columns):\nYear                 26 non-null int64\nActor                26 non-null object\nDirector             26 non-null object\nBox Office           26 non-null float64\nBudget               26 non-null float64\nBond Actor Salary    18 non-null float64\ndtypes: float64(3), int64(1), object(2)\nmemory usage: 1.4+ KB\n"
     ]
    }
   ],
   "source": [
    "import pandas as pd\n",
    "import matplotlib.pyplot as plt\n",
    "import numpy as np\n",
    "%matplotlib inline\n",
    "bond=pd.read_csv(\"csvs/jamesbond.csv\", index_col='Film')\n",
    "bond.sort_index(inplace=True)\n",
    "bond.info()\n"
   ]
  },
  {
   "cell_type": "code",
   "execution_count": 3,
   "metadata": {},
   "outputs": [
    {
     "data": {
      "text/plain": [
       "<bound method NDFrame.head of                        Year         Actor        Director  Box Office  Budget  \\\nFilm                                                                            \nDiamonds Are Forever   1971  Sean Connery    Guy Hamilton       442.5    34.7   \nDr. No                 1962  Sean Connery   Terence Young       448.8     7.0   \nFrom Russia with Love  1963  Sean Connery   Terence Young       543.8    12.6   \nGoldfinger             1964  Sean Connery    Guy Hamilton       820.4    18.6   \nNever Say Never Again  1983  Sean Connery  Irvin Kershner       380.0    86.0   \nThunderball            1965  Sean Connery   Terence Young       848.1    41.9   \nYou Only Live Twice    1967  Sean Connery   Lewis Gilbert       514.2    59.9   \n\n                       Bond Actor Salary  \nFilm                                      \nDiamonds Are Forever                 5.8  \nDr. No                               0.6  \nFrom Russia with Love                1.6  \nGoldfinger                           3.2  \nNever Say Never Again                NaN  \nThunderball                          4.7  \nYou Only Live Twice                  4.4  >"
      ]
     },
     "execution_count": 3,
     "metadata": {},
     "output_type": "execute_result"
    }
   ],
   "source": [
    "mascara=bond['Actor']=='Sean Connery'\n",
    "bond[mascara].head"
   ]
  },
  {
   "cell_type": "code",
   "execution_count": 4,
   "metadata": {
    "collapsed": true
   },
   "outputs": [
    {
     "data": {
      "text/plain": [
       "<bound method NDFrame.head of                                    Year         Actor        Director  \\\nFilm                                                                    \nA View to a Kill                    NaN           NaN             NaN   \nCasino Royale                       NaN           NaN             NaN   \nCasino Royale                       NaN           NaN             NaN   \nDiamonds Are Forever             1971.0  Sean Connery    Guy Hamilton   \nDie Another Day                     NaN           NaN             NaN   \nDr. No                           1962.0  Sean Connery   Terence Young   \nFor Your Eyes Only                  NaN           NaN             NaN   \nFrom Russia with Love            1963.0  Sean Connery   Terence Young   \nGoldenEye                           NaN           NaN             NaN   \nGoldfinger                       1964.0  Sean Connery    Guy Hamilton   \nLicence to Kill                     NaN           NaN             NaN   \nLive and Let Die                    NaN           NaN             NaN   \nMoonraker                           NaN           NaN             NaN   \nNever Say Never Again            1983.0  Sean Connery  Irvin Kershner   \nOctopussy                           NaN           NaN             NaN   \nOn Her Majesty's Secret Service     NaN           NaN             NaN   \nQuantum of Solace                   NaN           NaN             NaN   \nSkyfall                             NaN           NaN             NaN   \nSpectre                             NaN           NaN             NaN   \nThe Living Daylights                NaN           NaN             NaN   \nThe Man with the Golden Gun         NaN           NaN             NaN   \nThe Spy Who Loved Me                NaN           NaN             NaN   \nThe World Is Not Enough             NaN           NaN             NaN   \nThunderball                      1965.0  Sean Connery   Terence Young   \nTomorrow Never Dies                 NaN           NaN             NaN   \nYou Only Live Twice              1967.0  Sean Connery   Lewis Gilbert   \n\n                                 Box Office  Budget  Bond Actor Salary  \nFilm                                                                    \nA View to a Kill                        NaN     NaN                NaN  \nCasino Royale                           NaN     NaN                NaN  \nCasino Royale                           NaN     NaN                NaN  \nDiamonds Are Forever                  442.5    34.7                5.8  \nDie Another Day                         NaN     NaN                NaN  \nDr. No                                448.8     7.0                0.6  \nFor Your Eyes Only                      NaN     NaN                NaN  \nFrom Russia with Love                 543.8    12.6                1.6  \nGoldenEye                               NaN     NaN                NaN  \nGoldfinger                            820.4    18.6                3.2  \nLicence to Kill                         NaN     NaN                NaN  \nLive and Let Die                        NaN     NaN                NaN  \nMoonraker                               NaN     NaN                NaN  \nNever Say Never Again                 380.0    86.0                NaN  \nOctopussy                               NaN     NaN                NaN  \nOn Her Majesty's Secret Service         NaN     NaN                NaN  \nQuantum of Solace                       NaN     NaN                NaN  \nSkyfall                                 NaN     NaN                NaN  \nSpectre                                 NaN     NaN                NaN  \nThe Living Daylights                    NaN     NaN                NaN  \nThe Man with the Golden Gun             NaN     NaN                NaN  \nThe Spy Who Loved Me                    NaN     NaN                NaN  \nThe World Is Not Enough                 NaN     NaN                NaN  \nThunderball                           848.1    41.9                4.7  \nTomorrow Never Dies                     NaN     NaN                NaN  \nYou Only Live Twice                   514.2    59.9                4.4  >"
      ]
     },
     "execution_count": 4,
     "metadata": {},
     "output_type": "execute_result"
    }
   ],
   "source": [
    "bond.where(mascara).head"
   ]
  },
  {
   "cell_type": "code",
   "execution_count": 7,
   "metadata": {
    "collapsed": true
   },
   "outputs": [
    {
     "data": {
      "text/plain": [
       "<bound method NDFrame.head of                                    Year           Actor            Director  \\\nFilm                                                                          \nA View to a Kill                    NaN             NaN                 NaN   \nCasino Royale                    2006.0    Daniel Craig     Martin Campbell   \nCasino Royale                       NaN             NaN                 NaN   \nDiamonds Are Forever                NaN             NaN                 NaN   \nDie Another Day                  2002.0  Pierce Brosnan        Lee Tamahori   \nDr. No                              NaN             NaN                 NaN   \nFor Your Eyes Only                  NaN             NaN                 NaN   \nFrom Russia with Love               NaN             NaN                 NaN   \nGoldenEye                        1995.0  Pierce Brosnan     Martin Campbell   \nGoldfinger                          NaN             NaN                 NaN   \nLicence to Kill                     NaN             NaN                 NaN   \nLive and Let Die                    NaN             NaN                 NaN   \nMoonraker                           NaN             NaN                 NaN   \nNever Say Never Again               NaN             NaN                 NaN   \nOctopussy                           NaN             NaN                 NaN   \nOn Her Majesty's Secret Service     NaN             NaN                 NaN   \nQuantum of Solace                2008.0    Daniel Craig        Marc Forster   \nSkyfall                          2012.0    Daniel Craig          Sam Mendes   \nSpectre                          2015.0    Daniel Craig          Sam Mendes   \nThe Living Daylights                NaN             NaN                 NaN   \nThe Man with the Golden Gun         NaN             NaN                 NaN   \nThe Spy Who Loved Me                NaN             NaN                 NaN   \nThe World Is Not Enough          1999.0  Pierce Brosnan       Michael Apted   \nThunderball                         NaN             NaN                 NaN   \nTomorrow Never Dies              1997.0  Pierce Brosnan  Roger Spottiswoode   \nYou Only Live Twice                 NaN             NaN                 NaN   \n\n                                 Box Office  Budget  Bond Actor Salary  \nFilm                                                                    \nA View to a Kill                        NaN     NaN                NaN  \nCasino Royale                         581.5   145.3                3.3  \nCasino Royale                           NaN     NaN                NaN  \nDiamonds Are Forever                    NaN     NaN                NaN  \nDie Another Day                       465.4   154.2               17.9  \nDr. No                                  NaN     NaN                NaN  \nFor Your Eyes Only                      NaN     NaN                NaN  \nFrom Russia with Love                   NaN     NaN                NaN  \nGoldenEye                             518.5    76.9                5.1  \nGoldfinger                              NaN     NaN                NaN  \nLicence to Kill                         NaN     NaN                NaN  \nLive and Let Die                        NaN     NaN                NaN  \nMoonraker                               NaN     NaN                NaN  \nNever Say Never Again                   NaN     NaN                NaN  \nOctopussy                               NaN     NaN                NaN  \nOn Her Majesty's Secret Service         NaN     NaN                NaN  \nQuantum of Solace                     514.2   181.4                8.1  \nSkyfall                               943.5   170.2               14.5  \nSpectre                               726.7   206.3                NaN  \nThe Living Daylights                    NaN     NaN                NaN  \nThe Man with the Golden Gun             NaN     NaN                NaN  \nThe Spy Who Loved Me                    NaN     NaN                NaN  \nThe World Is Not Enough               439.5   158.3               13.5  \nThunderball                             NaN     NaN                NaN  \nTomorrow Never Dies                   463.2   133.9               10.0  \nYou Only Live Twice                     NaN     NaN                NaN  >"
      ]
     },
     "execution_count": 7,
     "metadata": {},
     "output_type": "execute_result"
    }
   ],
   "source": [
    "bond.where(bond['Year']>=1990).head"
   ]
  },
  {
   "cell_type": "code",
   "execution_count": 9,
   "metadata": {},
   "outputs": [
    {
     "data": {
      "text/plain": [
       "<bound method NDFrame.head of                                    Year         Actor        Director  \\\nFilm                                                                    \nA View to a Kill                    NaN           NaN             NaN   \nCasino Royale                       NaN           NaN             NaN   \nCasino Royale                       NaN           NaN             NaN   \nDiamonds Are Forever             1971.0  Sean Connery    Guy Hamilton   \nDie Another Day                     NaN           NaN             NaN   \nDr. No                           1962.0  Sean Connery   Terence Young   \nFor Your Eyes Only                  NaN           NaN             NaN   \nFrom Russia with Love            1963.0  Sean Connery   Terence Young   \nGoldenEye                           NaN           NaN             NaN   \nGoldfinger                       1964.0  Sean Connery    Guy Hamilton   \nLicence to Kill                     NaN           NaN             NaN   \nLive and Let Die                    NaN           NaN             NaN   \nMoonraker                           NaN           NaN             NaN   \nNever Say Never Again            1983.0  Sean Connery  Irvin Kershner   \nOctopussy                           NaN           NaN             NaN   \nOn Her Majesty's Secret Service     NaN           NaN             NaN   \nQuantum of Solace                   NaN           NaN             NaN   \nSkyfall                             NaN           NaN             NaN   \nSpectre                             NaN           NaN             NaN   \nThe Living Daylights                NaN           NaN             NaN   \nThe Man with the Golden Gun         NaN           NaN             NaN   \nThe Spy Who Loved Me                NaN           NaN             NaN   \nThe World Is Not Enough             NaN           NaN             NaN   \nThunderball                      1965.0  Sean Connery   Terence Young   \nTomorrow Never Dies                 NaN           NaN             NaN   \nYou Only Live Twice              1967.0  Sean Connery   Lewis Gilbert   \n\n                                 Box Office  Budget  Bond Actor Salary  \nFilm                                                                    \nA View to a Kill                        NaN     NaN                NaN  \nCasino Royale                           NaN     NaN                NaN  \nCasino Royale                           NaN     NaN                NaN  \nDiamonds Are Forever                  442.5    34.7                5.8  \nDie Another Day                         NaN     NaN                NaN  \nDr. No                                448.8     7.0                0.6  \nFor Your Eyes Only                      NaN     NaN                NaN  \nFrom Russia with Love                 543.8    12.6                1.6  \nGoldenEye                               NaN     NaN                NaN  \nGoldfinger                            820.4    18.6                3.2  \nLicence to Kill                         NaN     NaN                NaN  \nLive and Let Die                        NaN     NaN                NaN  \nMoonraker                               NaN     NaN                NaN  \nNever Say Never Again                 380.0    86.0                NaN  \nOctopussy                               NaN     NaN                NaN  \nOn Her Majesty's Secret Service         NaN     NaN                NaN  \nQuantum of Solace                       NaN     NaN                NaN  \nSkyfall                                 NaN     NaN                NaN  \nSpectre                                 NaN     NaN                NaN  \nThe Living Daylights                    NaN     NaN                NaN  \nThe Man with the Golden Gun             NaN     NaN                NaN  \nThe Spy Who Loved Me                    NaN     NaN                NaN  \nThe World Is Not Enough                 NaN     NaN                NaN  \nThunderball                           848.1    41.9                4.7  \nTomorrow Never Dies                     NaN     NaN                NaN  \nYou Only Live Twice                   514.2    59.9                4.4  >"
      ]
     },
     "execution_count": 9,
     "metadata": {},
     "output_type": "execute_result"
    }
   ],
   "source": [
    "bond.where((bond['Year']>=1910)&mascara).head"
   ]
  },
  {
   "cell_type": "code",
   "execution_count": null,
   "metadata": {},
   "outputs": [],
   "source": []
  }
 ],
 "metadata": {
  "kernelspec": {
   "display_name": "Python 2",
   "language": "python",
   "name": "python2"
  },
  "language_info": {
   "codemirror_mode": {
    "name": "ipython",
    "version": 2
   },
   "file_extension": ".py",
   "mimetype": "text/x-python",
   "name": "python",
   "nbconvert_exporter": "python",
   "pygments_lexer": "ipython2",
   "version": "2.7.6"
  }
 },
 "nbformat": 4,
 "nbformat_minor": 0
}
