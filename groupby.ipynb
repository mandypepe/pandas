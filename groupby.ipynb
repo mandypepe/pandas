{
 "cells": [
  {
   "cell_type": "code",
   "execution_count": 2,
   "metadata": {
    "collapsed": false
   },
   "outputs": [
    {
     "name": "stdout",
     "output_type": "stream",
     "text": [
      "<class 'pandas.core.frame.DataFrame'>\nInt64Index: 1000 entries, 1 to 1000\nData columns (total 7 columns):\nCompany      1000 non-null object\nSector       1000 non-null object\nIndustry     1000 non-null object\nLocation     1000 non-null object\nRevenue      1000 non-null int64\nProfits      1000 non-null int64\nEmployees    1000 non-null int64\ndtypes: int64(3), object(4)\nmemory usage: 62.5+ KB\n"
     ]
    }
   ],
   "source": [
    "import pandas as pd\n",
    "import matplotlib.pyplot as plt\n",
    "import numpy as np\n",
    "%matplotlib inline\n",
    "fot=pd.read_csv(\"csvs/fortune1000.csv\", index_col='Rank')\n",
    "fot.info()"
   ]
  },
  {
   "cell_type": "code",
   "execution_count": 4,
   "metadata": {
    "collapsed": true
   },
   "outputs": [
    {
     "data": {
      "text/plain": [
       "Financials                      139\nEnergy                          122\nTechnology                      102\nRetailing                        80\nHealth Care                      75\nBusiness Services                51\nIndustrials                      46\nFood, Beverages & Tobacco        43\nMaterials                        43\nWholesalers                      40\nTransportation                   36\nChemicals                        30\nHousehold Products               28\nEngineering & Construction       26\nMedia                            25\nHotels, Resturants & Leisure     25\nMotor Vehicles & Parts           24\nAerospace & Defense              20\nTelecommunications               15\nApparel                          15\nFood and Drug Stores             15\nName: Sector, dtype: int64"
      ]
     },
     "execution_count": 4,
     "metadata": {},
     "output_type": "execute_result"
    }
   ],
   "source": [
    "fot['Sector'].value_counts()"
   ]
  },
  {
   "cell_type": "code",
   "execution_count": 6,
   "metadata": {
    "collapsed": true
   },
   "outputs": [
    {
     "data": {
      "text/plain": [
       "Rank\n1                          Retailing\n2                             Energy\n3                         Technology\n4                         Financials\n5                        Health Care\n6                        Health Care\n7               Food and Drug Stores\n8             Motor Vehicles & Parts\n9             Motor Vehicles & Parts\n10                Telecommunications\n11                       Industrials\n12                       Health Care\n13                Telecommunications\n14                            Energy\n15                         Retailing\n16                        Financials\n17              Food and Drug Stores\n18                        Technology\n19              Food and Drug Stores\n20                        Technology\n21                       Health Care\n22                       Health Care\n23                        Financials\n24               Aerospace & Defense\n25                        Technology\n26                        Financials\n27                        Financials\n28                         Retailing\n29                        Financials\n30                            Energy\n                    ...             \n971                       Technology\n972                   Transportation\n973                        Retailing\n974                   Transportation\n975                       Technology\n976                       Financials\n977                      Health Care\n978                      Health Care\n979           Motor Vehicles & Parts\n980                           Energy\n981                           Energy\n982                        Materials\n983                           Energy\n984                       Technology\n985       Engineering & Construction\n986                        Materials\n987              Aerospace & Defense\n988                       Financials\n989                            Media\n990                       Technology\n991                      Wholesalers\n992               Household Products\n993                Business Services\n994       Engineering & Construction\n995                           Energy\n996                       Financials\n997                           Energy\n997                           Energy\n999     Hotels, Resturants & Leisure\n1000                     Industrials\nName: Sector, Length: 1000, dtype: category\nCategories (21, object): [Aerospace & Defense, Apparel, Business Services, Chemicals, ..., Technology, Telecommunications, Transportation, Wholesalers]"
      ]
     },
     "execution_count": 6,
     "metadata": {},
     "output_type": "execute_result"
    }
   ],
   "source": [
    "fot['Sector'].astype('category')"
   ]
  },
  {
   "cell_type": "code",
   "execution_count": 10,
   "metadata": {},
   "outputs": [],
   "source": [
    "fot['Sector']=fot['Sector'].astype('category')"
   ]
  },
  {
   "cell_type": "code",
   "execution_count": 11,
   "metadata": {
    "collapsed": true
   },
   "outputs": [
    {
     "name": "stdout",
     "output_type": "stream",
     "text": [
      "<class 'pandas.core.frame.DataFrame'>\nInt64Index: 1000 entries, 1 to 1000\nData columns (total 7 columns):\nCompany      1000 non-null object\nSector       1000 non-null category\nIndustry     1000 non-null object\nLocation     1000 non-null object\nRevenue      1000 non-null int64\nProfits      1000 non-null int64\nEmployees    1000 non-null int64\ndtypes: category(1), int64(3), object(3)\nmemory usage: 56.5+ KB\n"
     ]
    }
   ],
   "source": [
    "fot.info()"
   ]
  },
  {
   "cell_type": "code",
   "execution_count": 3,
   "metadata": {},
   "outputs": [
    {
     "data": {
      "text/plain": [
       "<pandas.core.groupby.groupby.DataFrameGroupBy object at 0x000001F914607390>"
      ]
     },
     "execution_count": 3,
     "metadata": {},
     "output_type": "execute_result"
    }
   ],
   "source": [
    "sector=fot.groupby('Sector')\n",
    "sector"
   ]
  },
  {
   "cell_type": "code",
   "execution_count": 14,
   "metadata": {},
   "outputs": [
    {
     "data": {
      "text/plain": [
       "21"
      ]
     },
     "execution_count": 14,
     "metadata": {},
     "output_type": "execute_result"
    }
   ],
   "source": [
    "len(sector)"
   ]
  },
  {
   "cell_type": "code",
   "execution_count": 15,
   "metadata": {
    "collapsed": true
   },
   "outputs": [
    {
     "data": {
      "text/plain": [
       "Sector\nAerospace & Defense              20\nApparel                          15\nBusiness Services                51\nChemicals                        30\nEnergy                          122\nEngineering & Construction       26\nFinancials                      139\nFood and Drug Stores             15\nFood, Beverages & Tobacco        43\nHealth Care                      75\nHotels, Resturants & Leisure     25\nHousehold Products               28\nIndustrials                      46\nMaterials                        43\nMedia                            25\nMotor Vehicles & Parts           24\nRetailing                        80\nTechnology                      102\nTelecommunications               15\nTransportation                   36\nWholesalers                      40\ndtype: int64"
      ]
     },
     "execution_count": 15,
     "metadata": {},
     "output_type": "execute_result"
    }
   ],
   "source": [
    "sector.size()"
   ]
  },
  {
   "cell_type": "code",
   "execution_count": 17,
   "metadata": {
    "collapsed": true
   },
   "outputs": [
    {
     "data": {
      "text/plain": [
       "<bound method NDFrame.head of                                              Company  \\\nSector                                                 \nAerospace & Defense                           Boeing   \nApparel                                         Nike   \nBusiness Services                      ManpowerGroup   \nChemicals                               Dow Chemical   \nEnergy                                   Exxon Mobil   \nEngineering & Construction                     Fluor   \nFinancials                        Berkshire Hathaway   \nFood and Drug Stores                      CVS Health   \nFood, Beverages & Tobacco     Archer Daniels Midland   \nHealth Care                                 McKesson   \nHotels, Resturants & Leisure              McDonald’s   \nHousehold Products                  Procter & Gamble   \nIndustrials                         General Electric   \nMaterials                                      Alcoa   \nMedia                                         Disney   \nMotor Vehicles & Parts                General Motors   \nRetailing                                    Walmart   \nTechnology                                     Apple   \nTelecommunications                              AT&T   \nTransportation                                   UPS   \nWholesalers                                    Sysco   \n\n                                                              Industry  \\\nSector                                                                   \nAerospace & Defense                              Aerospace and Defense   \nApparel                                                        Apparel   \nBusiness Services                                       Temporary Help   \nChemicals                                                    Chemicals   \nEnergy                                              Petroleum Refining   \nEngineering & Construction                   Engineering, Construction   \nFinancials                    Insurance: Property and Casualty (Stock)   \nFood and Drug Stores                              Food and Drug Stores   \nFood, Beverages & Tobacco                              Food Production   \nHealth Care                                   Wholesalers: Health Care   \nHotels, Resturants & Leisure                             Food Services   \nHousehold Products                     Household and Personal Products   \nIndustrials                                       Industrial Machinery   \nMaterials                                                       Metals   \nMedia                                                    Entertainment   \nMotor Vehicles & Parts                        Motor Vehicles and Parts   \nRetailing                                        General Merchandisers   \nTechnology                                 Computers, Office Equipment   \nTelecommunications                                  Telecommunications   \nTransportation                     Mail, Package, and Freight Delivery   \nWholesalers                              Wholesalers: Food and Grocery   \n\n                                       Location  Revenue  Profits  Employees  \nSector                                                                        \nAerospace & Defense                 Chicago, IL    96114     5176     161400  \nApparel                           Beaverton, OR    30601     3273      62600  \nBusiness Services                 Milwaukee, WI    19330      419      27000  \nChemicals                           Midland, MI    48778     7685      49495  \nEnergy                               Irving, TX   246204    16150      75600  \nEngineering & Construction           Irving, TX    18114      413      38758  \nFinancials                            Omaha, NE   210821    24083     331000  \nFood and Drug Stores             Woonsocket, RI   153290     5237     199000  \nFood, Beverages & Tobacco           Chicago, IL    67702     1849      32300  \nHealth Care                   San Francisco, CA   181241     1476      70400  \nHotels, Resturants & Leisure      Oak Brook, IL    25413     4529     420000  \nHousehold Products               Cincinnati, OH    78756     7036     110000  \nIndustrials                       Fairfield, CT   140389    -6126     333000  \nMaterials                          New York, NY    22534     -322      60000  \nMedia                               Burbank, CA    52465     8382     185000  \nMotor Vehicles & Parts              Detroit, MI   152356     9687     215000  \nRetailing                       Bentonville, AR   482130    14694    2300000  \nTechnology                        Cupertino, CA   233715    53394     110000  \nTelecommunications                   Dallas, TX   146801    13345     281450  \nTransportation                      Atlanta, GA    58363     4844     341240  \nWholesalers                         Houston, TX    48681      687      51700  >"
      ]
     },
     "execution_count": 17,
     "metadata": {},
     "output_type": "execute_result"
    }
   ],
   "source": [
    "sector.first().head"
   ]
  },
  {
   "cell_type": "code",
   "execution_count": 20,
   "metadata": {
    "collapsed": true
   },
   "outputs": [
    {
     "data": {
      "text/plain": [
       "<bound method NDFrame.head of                                                         Company  \\\nSector                                                            \nAerospace & Defense                       Delta Tucker Holdings   \nApparel                                                   Guess   \nBusiness Services                         DeVry Education Group   \nChemicals                                           H.B. Fuller   \nEnergy                                Portland General Electric   \nEngineering & Construction                         MDC Holdings   \nFinancials                           New York Community Bancorp   \nFood and Drug Stores                                     Fred’s   \nFood, Beverages & Tobacco            Alliance One International   \nHealth Care                                  Providence Service   \nHotels, Resturants & Leisure                            Wendy’s   \nHousehold Products                                       Revlon   \nIndustrials                                   Briggs & Stratton   \nMaterials                            Schnitzer Steel Industries   \nMedia                                                    Cenveo   \nMotor Vehicles & Parts            Allison Transmission Holdings   \nRetailing                                  99 Cents Only Stores   \nTechnology                                          F5 Networks   \nTelecommunications                                      Equinix   \nTransportation                Roadrunner Transportation Systems   \nWholesalers                                   BlueLinx Holdings   \n\n                                                                Industry  \\\nSector                                                                     \nAerospace & Defense                                Aerospace and Defense   \nApparel                                                          Apparel   \nBusiness Services                                              Education   \nChemicals                                                      Chemicals   \nEnergy                                       Utilities: Gas and Electric   \nEngineering & Construction                                  Homebuilders   \nFinancials                                              Commercial Banks   \nFood and Drug Stores                                Food and Drug Stores   \nFood, Beverages & Tobacco                                        Tobacco   \nHealth Care                     Health Care: Pharmacy and Other Services   \nHotels, Resturants & Leisure                               Food Services   \nHousehold Products                       Household and Personal Products   \nIndustrials                                         Industrial Machinery   \nMaterials                                                         Metals   \nMedia                                               Publishing, Printing   \nMotor Vehicles & Parts                          Motor Vehicles and Parts   \nRetailing                                     Specialty Retailers: Other   \nTechnology                    Network and Other Communications Equipment   \nTelecommunications                                    Telecommunications   \nTransportation                              Transportation and Logistics   \nWholesalers                                     Wholesalers: Diversified   \n\n                                       Location  Revenue  Profits  Employees  \nSector                                                                        \nAerospace & Defense                  McLean, VA     1923     -133      12000  \nApparel                         Los Angeles, CA     2204       82      13500  \nBusiness Services             Downers Grove, IL     1910      140      11770  \nChemicals                          St. Paul, MN     2084       87       4425  \nEnergy                             Portland, OR     1898      172       2646  \nEngineering & Construction           Denver, CO     1909       66       1225  \nFinancials                         Westbury, NY     1902      -47       3448  \nFood and Drug Stores                Memphis, TN     2151       -7       7103  \nFood, Beverages & Tobacco       Morrisville, NC     2066      -15       6835  \nHealth Care                          Tucson, AZ     1987       84       9072  \nHotels, Resturants & Leisure         Dublin, OH     1896      161      21200  \nHousehold Products                 New York, NY     1914       56       5700  \nIndustrials                       Wauwatosa, WI     1895       46       5480  \nMaterials                          Portland, OR     1924     -197       2955  \nMedia                              Stamford, CT     1921      -31       7300  \nMotor Vehicles & Parts         Indianaoplis, IN     1986      182       2700  \nRetailing                          Commerce, CA     1999     -232      18200  \nTechnology                          Seattle, WA     1920      365       4178  \nTelecommunications             Redwood City, CA     2726      188       5042  \nTransportation                       Cudahy, WI     1995       48       4502  \nWholesalers                         Atlanta, GA     1917      -12       1600  >"
      ]
     },
     "execution_count": 20,
     "metadata": {},
     "output_type": "execute_result"
    }
   ],
   "source": [
    "ass=sector.last()\n",
    "ass.head"
   ]
  },
  {
   "cell_type": "code",
   "execution_count": 21,
   "metadata": {
    "collapsed": true
   },
   "outputs": [
    {
     "data": {
      "text/plain": [
       "{'Aerospace & Defense': Int64Index([ 24,  45,  60,  88, 118, 120, 209, 245, 282, 378, 389, 490, 560,\n             605, 785, 788, 836, 903, 958, 987],\n            dtype='int64', name='Rank'),\n 'Apparel': Int64Index([91, 231, 340, 354, 448, 547, 575, 597, 683, 695, 726, 794, 877,\n             882, 917],\n            dtype='int64', name='Rank'),\n 'Business Services': Int64Index([144, 186, 199, 204, 221, 248, 249, 294, 307, 312, 355, 392, 404,\n             440, 467, 468, 481, 485, 492, 503, 545, 626, 635, 652, 677, 694,\n             714, 729, 734, 735, 737, 744, 767, 776, 777, 783, 791, 792, 796,\n             801, 803, 816, 819, 820, 869, 870, 886, 939, 951, 952, 993],\n            dtype='int64', name='Rank'),\n 'Chemicals': Int64Index([ 56, 101, 182, 189, 206, 253, 262, 277, 288, 296, 316, 538, 549,\n             555, 566, 580, 613, 624, 654, 668, 717, 720, 724, 758, 761, 829,\n             865, 898, 934, 949],\n            dtype='int64', name='Rank'),\n 'Energy': Int64Index([  2,  14,  30,  32,  42,  65,  90,  95,  98, 104,\n             ...\n             953, 955, 962, 966, 980, 981, 983, 995, 997, 997],\n            dtype='int64', name='Rank', length=122),\n 'Engineering & Construction': Int64Index([155, 156, 235, 260, 301, 314, 352, 381, 433, 478, 498, 501, 516,\n             572, 576, 640, 719, 738, 822, 863, 874, 892, 929, 963, 985, 994],\n            dtype='int64', name='Rank'),\n 'Financials': Int64Index([  4,  16,  23,  26,  27,  29,  35,  40,  43,  49,\n             ...\n             920, 923, 925, 926, 936, 938, 959, 976, 988, 996],\n            dtype='int64', name='Rank', length=139),\n 'Food and Drug Stores': Int64Index([7, 17, 19, 87, 107, 160, 181, 595, 614, 631, 669, 756, 809, 849,\n             928],\n            dtype='int64', name='Rank'),\n 'Food, Beverages & Tobacco': Int64Index([ 41,  44,  62,  66,  84,  94, 106, 149, 153, 161, 176, 207, 215,\n             242, 266, 304, 336, 337, 362, 397, 413, 429, 452, 456, 460, 535,\n             542, 567, 574, 587, 608, 615, 636, 664, 686, 702, 770, 787, 795,\n             804, 889, 902, 954],\n            dtype='int64', name='Rank'),\n 'Health Care': Int64Index([  5,   6,  12,  21,  22,  33,  39,  46,  52,  55,  63,  72,  79,\n              86, 123, 124, 125, 130, 138, 140, 141, 168, 172, 200, 201, 202,\n             263, 268, 278, 286, 287, 290, 291, 305, 325, 358, 359, 372, 420,\n             430, 431, 447, 457, 465, 469, 515, 527, 537, 553, 559, 583, 618,\n             629, 661, 684, 693, 697, 708, 746, 749, 766, 775, 790, 799, 815,\n             818, 845, 868, 881, 883, 935, 960, 965, 977, 978],\n            dtype='int64', name='Rank'),\n 'Hotels, Resturants & Leisure': Int64Index([109, 146, 195, 218, 241, 254, 309, 371, 444, 466, 534, 546, 557,\n             562, 585, 731, 763, 764, 779, 797, 895, 915, 918, 941, 999],\n            dtype='int64', name='Rank'),\n 'Household Products': Int64Index([ 34, 151, 174, 256, 261, 328, 338, 345, 370, 434, 441, 450, 455,\n             533, 550, 554, 601, 665, 699, 716, 856, 890, 900, 907, 932, 950,\n             967, 992],\n            dtype='int64', name='Rank'),\n 'Industrials': Int64Index([  11,   59,   75,   93,   97,  128,  134,  148,  211,  224,  360,\n              377,  396,  412,  419,  539,  544,  596,  622,  623,  630,  645,\n              655,  658,  666,  674,  690,  757,  782,  789,  806,  813,  823,\n              831,  832,  835,  841,  847,  866,  867,  873,  887,  942,  947,\n              964, 1000],\n            dtype='int64', name='Rank'),\n 'Materials': Int64Index([126, 127, 170, 244, 251, 303, 321, 341, 356, 373, 375, 383, 417,\n             418, 426, 435, 446, 480, 489, 514, 518, 577, 586, 616, 617, 620,\n             625, 628, 637, 639, 641, 660, 667, 687, 691, 751, 774, 793, 857,\n             885, 911, 982, 986],\n            dtype='int64', name='Rank'),\n 'Media': Int64Index([ 53,  96,  99, 203, 213, 255, 327, 366, 406, 414, 525, 530, 681,\n             705, 707, 722, 741, 752, 759, 762, 821, 913, 968, 969, 989],\n            dtype='int64', name='Rank'),\n 'Motor Vehicles & Parts': Int64Index([  8,   9,  70, 147, 154, 169, 281, 310, 334, 339, 424, 428, 470,\n             588, 591, 604, 647, 670, 718, 739, 811, 957, 961, 979],\n            dtype='int64', name='Rank'),\n 'Retailing': Int64Index([  1,  15,  28,  38,  47,  71,  89, 103, 111, 132, 136, 139, 143,\n             145, 177, 180, 191, 196, 197, 228, 234, 237, 238, 240, 258, 267,\n             269, 280, 293, 297, 299, 302, 330, 342, 346, 361, 365, 374, 379,\n             380, 393, 415, 427, 439, 495, 500, 502, 511, 512, 517, 523, 582,\n             592, 602, 607, 610, 621, 643, 644, 648, 657, 675, 689, 721, 748,\n             771, 773, 807, 812, 824, 825, 827, 840, 876, 894, 899, 922, 937,\n             940, 973],\n            dtype='int64', name='Rank'),\n 'Technology': Int64Index([  3,  18,  20,  25,  31,  36,  51,  54,  77, 110,\n             ...\n             931, 943, 944, 946, 956, 970, 971, 975, 984, 990],\n            dtype='int64', name='Rank', length=102),\n 'Telecommunications': Int64Index([10, 13, 37, 116, 159, 187, 292, 333, 399, 443, 461, 496, 526, 619,\n             786],\n            dtype='int64', name='Rank'),\n 'Transportation': Int64Index([ 48,  58,  67,  68,  80, 129, 142, 208, 239, 270, 353, 390, 395,\n             405, 407, 416, 432, 459, 521, 528, 570, 578, 642, 672, 709, 713,\n             740, 800, 814, 858, 884, 930, 933, 945, 972, 974],\n            dtype='int64', name='Rank'),\n 'Wholesalers': Int64Index([ 57,  64,  92, 102, 108, 119, 122, 167, 183, 185, 212, 276, 285,\n             315, 317, 320, 323, 335, 351, 357, 369, 391, 423, 463, 474, 477,\n             484, 564, 581, 599, 627, 653, 685, 727, 747, 780, 808, 837, 875,\n             991],\n            dtype='int64', name='Rank')}"
      ]
     },
     "execution_count": 21,
     "metadata": {},
     "output_type": "execute_result"
    }
   ],
   "source": [
    "sector.groups"
   ]
  },
  {
   "cell_type": "code",
   "execution_count": 23,
   "metadata": {},
   "outputs": [
    {
     "data": {
      "text/plain": [
       "Company                     Boeing\nSector         Aerospace & Defense\nIndustry     Aerospace and Defense\nLocation               Chicago, IL\nRevenue                      96114\nProfits                       5176\nEmployees                   161400\nName: 24, dtype: object"
      ]
     },
     "execution_count": 23,
     "metadata": {},
     "output_type": "execute_result"
    }
   ],
   "source": [
    "fot.loc[24]"
   ]
  },
  {
   "cell_type": "code",
   "execution_count": 25,
   "metadata": {
    "collapsed": true
   },
   "outputs": [
    {
     "data": {
      "text/plain": [
       "<bound method NDFrame.head of                            Company  Employees  \\\nRank                                            \n2                      Exxon Mobil      75600   \n14                         Chevron      61500   \n30                     Phillips 66      14000   \n32                   Valero Energy      10103   \n42              Marathon Petroleum      45440   \n65          Energy Transfer Equity      30078   \n90                  ConocoPhillips      15900   \n95                          Exelon      29762   \n98                          Tesoro       6016   \n104   Enterprise Products Partners       6800   \n115                    Duke Energy      29188   \n117                    Halliburton      65000   \n121             Plains GP Holdings       5400   \n162                       Southern      26703   \n163                 NextEra Energy      14300   \n165        American Electric Power      17405   \n166                     PG&E Corp.      23323   \n175               Freeport-McMoRan      34500   \n178                   Baker Hughes      43000   \n188                    FirstEnergy      15781   \n190                            AES      21000   \n192         National Oilwell Varco      47262   \n193                     NRG Energy      10468   \n198                  Kinder Morgan      11290   \n214                  HollyFrontier       2704   \n216                   Devon Energy       5167   \n217                     PBF Energy       2270   \n223              Chesapeake Energy       4400   \n225           Occidental Petroleum      11100   \n229            Consolidated Edison      14806   \n...                            ...        ...   \n784           New Jersey Resources        991   \n798          Continental Resources       1143   \n802                   WGL Holdings       1529   \n810      Crestwood Equity Partners       1300   \n817   Hawaiian Electric Industries       3918   \n826                      Arch Coal       4655   \n843            Great Plains Energy       2899   \n850                United Refining       2997   \n851                  Southwest Gas       5876   \n853                  Westar Energy       2330   \n855                        Vectren       5600   \n859      Enable Midstream Partners       1640   \n860       Cliffs Natural Resources       2638   \n862           California Resources       1700   \n879                            EQT       1914   \n901              Alliance Holdings       4243   \n908                 Genesis Energy       1400   \n921                     OGE Energy       2586   \n924    Magellan Midstream Partners       1640   \n948                  NuStar Energy       1644   \n953           Par Pacific Holdings        744   \n955              Whiting Petroleum       1200   \n962            Ferrellgas Partners       4028   \n966                  QEP Resources        693   \n980                          Spire       3078   \n981                     WPX Energy       1040   \n983       Adams Resources & Energy        809   \n995                      EP Energy        665   \n997      Portland General Electric       2646   \n997      Portland General Electric       2646   \n\n                             Industry           Location  Profits  Revenue  \nRank                                                                        \n2                  Petroleum Refining         Irving, TX    16150   246204  \n14                 Petroleum Refining      San Ramon, CA     4587   131118  \n30                 Petroleum Refining        Houston, TX     4227    87169  \n32                 Petroleum Refining    San Antonio, TX     3990    81824  \n42                 Petroleum Refining        Findlay, OH     2852    64566  \n65                          Pipelines         Dallas, TX     1189    42126  \n90       Mining, Crude-Oil Production        Houston, TX    -4428    30935  \n95        Utilities: Gas and Electric        Chicago, IL     2269    29447  \n98                 Petroleum Refining    San Antonio, TX     1540    28150  \n104                         Pipelines        Houston, TX     2521    27028  \n115       Utilities: Gas and Electric      Charlotte, NC     2816    24002  \n117   Oil and Gas Equipment, Services        Houston, TX     -671    23633  \n121                         Pipelines        Houston, TX      118    23152  \n162       Utilities: Gas and Electric        Atlanta, GA     2367    17489  \n163       Utilities: Gas and Electric     Juno Beach, FL     2752    17486  \n165       Utilities: Gas and Electric       Columbus, OH     2047    16900  \n166       Utilities: Gas and Electric  San Francisco, CA      874    16833  \n175      Mining, Crude-Oil Production        Phoenix, AZ   -12236    15877  \n178   Oil and Gas Equipment, Services        Houston, TX    -1967    15742  \n188       Utilities: Gas and Electric          Akron, OH      578    15026  \n190       Utilities: Gas and Electric      Arlington, VA      306    14963  \n192   Oil and Gas Equipment, Services        Houston, TX     -769    14757  \n193                            Energy      Princeton, NJ    -6382    14674  \n198                         Pipelines        Houston, TX      253    14403  \n214                Petroleum Refining         Dallas, TX      740    13238  \n216      Mining, Crude-Oil Production  Oklahoma City, OK   -14454    13145  \n217                Petroleum Refining     Parsippany, NJ      146    13124  \n223      Mining, Crude-Oil Production  Oklahoma City, OK   -14685    12764  \n225      Mining, Crude-Oil Production        Houston, TX    -7829    12699  \n229       Utilities: Gas and Electric       New York, NY     1193    12554  \n...                               ...                ...      ...      ...  \n784                            Energy           Wall, NJ      181     2734  \n798      Mining, Crude-Oil Production  Oklahoma City, OK     -354     2680  \n802                            Energy     Washington, DC      131     2660  \n810                            Energy        Houston, TX    -1667     2633  \n817       Utilities: Gas and Electric       Honolulu, HI      160     2603  \n826      Mining, Crude-Oil Production      St. Louis, MO    -2913     2573  \n843       Utilities: Gas and Electric    Kansas City, MO      213     2502  \n850                Petroleum Refining         Warren, PA       82     2470  \n851       Utilities: Gas and Electric      Las Vegas, NV      138     2464  \n853       Utilities: Gas and Electric         Topeka, KS      292     2459  \n855       Utilities: Gas and Electric     Evansville, IN      197     2435  \n859                         Pipelines  Oklahoma City, OK     -752     2418  \n860      Mining, Crude-Oil Production      Cleveland, OH     -749     2418  \n862      Mining, Crude-Oil Production    Los Angeles, CA    -3554     2403  \n879                            Energy     Pittsburgh, PA       85     2340  \n901      Mining, Crude-Oil Production          Tulsa, OK      211     2273  \n908                         Pipelines        Houston, TX      423     2247  \n921       Utilities: Gas and Electric  Oklahoma City, OK      271     2197  \n924                         Pipelines          Tulsa, OK      819     2189  \n948                         Pipelines    San Antonio, TX      307     2084  \n953                Petroleum Refining        Houston, TX      -40     2066  \n955      Mining, Crude-Oil Production         Denver, CO    -2219     2051  \n962                            Energy  Overland Park, KS       30     2024  \n966      Mining, Crude-Oil Production         Denver, CO     -149     2019  \n980       Utilities: Gas and Electric      St. Louis, MO      137     1976  \n981      Mining, Crude-Oil Production          Tulsa, OK    -1727     1958  \n983                Petroleum Refining        Houston, TX       -1     1944  \n995      Mining, Crude-Oil Production        Houston, TX    -3748     1908  \n997       Utilities: Gas and Electric       Portland, OR      172     1898  \n997       Utilities: Gas and Electric       Portland, OR      172     1898  \n\n[122 rows x 6 columns]>"
      ]
     },
     "execution_count": 25,
     "metadata": {},
     "output_type": "execute_result"
    }
   ],
   "source": [
    "sector.get_group('Energy').head"
   ]
  },
  {
   "cell_type": "code",
   "execution_count": 26,
   "metadata": {
    "collapsed": true
   },
   "outputs": [
    {
     "data": {
      "text/plain": [
       "<bound method NDFrame.head of                    Company  Employees Industry             Location  Profits  \\\nRank                                                                           \n91                    Nike      62600  Apparel        Beaverton, OR     3273   \n231                     VF      64000  Apparel       Greensboro, NC     1232   \n340                    PVH      26200  Apparel         New York, NY      572   \n354           Ralph Lauren      20000  Apparel         New York, NY      702   \n448            Hanesbrands      65300  Apparel    Winston-Salem, NC      429   \n547           Levi Strauss      12500  Apparel    San Francisco, CA      209   \n575                  Coach      12950  Apparel         New York, NY      402   \n597           Under Armour       9600  Apparel        Baltimore, MD      233   \n683           Fossil Group      15100  Apparel       Richardson, TX      221   \n695        Skechers U.S.A.       6400  Apparel  Manhattan Beach, CA      232   \n726               Carter’s      16800  Apparel          Atlanta, GA      238   \n794   Wolverine World Wide       6550  Apparel         Rockford, MI      123   \n877    G-III Apparel Group       8919  Apparel         New York, NY      114   \n882    Columbia Sportswear       5978  Apparel         Portland, OR      174   \n917                  Guess      13500  Apparel      Los Angeles, CA       82   \n\n      Revenue  \nRank           \n91      30601  \n231     12377  \n340      8020  \n354      7620  \n448      5732  \n547      4495  \n575      4192  \n597      3963  \n683      3229  \n695      3159  \n726      3014  \n794      2692  \n877      2344  \n882      2326  \n917      2204  >"
      ]
     },
     "execution_count": 26,
     "metadata": {},
     "output_type": "execute_result"
    }
   ],
   "source": [
    "sector.get_group('Apparel').head"
   ]
  },
  {
   "cell_type": "code",
   "execution_count": 28,
   "metadata": {
    "collapsed": true
   },
   "outputs": [
    {
     "data": {
      "text/plain": [
       "<bound method NDFrame.head of                                              Company  \\\nSector                                                 \nAerospace & Defense                         Woodward   \nApparel                         Wolverine World Wide   \nBusiness Services                      Western Union   \nChemicals                          Westlake Chemical   \nEnergy                                   Xcel Energy   \nEngineering & Construction              Tutor Perini   \nFinancials                            Zions Bancorp.   \nFood and Drug Stores              Whole Foods Market   \nFood, Beverages & Tobacco            WhiteWave Foods   \nHealth Care                          inVentiv Health   \nHotels, Resturants & Leisure              Yum Brands   \nHousehold Products                     Vista Outdoor   \nIndustrials                       Zebra Technologies   \nMaterials                     Worthington Industries   \nMedia                                    iHeartMedia   \nMotor Vehicles & Parts               Wabash National   \nRetailing                                    hhgregg   \nTechnology                            salesforce.com   \nTelecommunications               Windstream Holdings   \nTransportation                         YRC Worldwide   \nWholesalers                      World Fuel Services   \n\n                                                                    Industry  \\\nSector                                                                         \nAerospace & Defense                                    Aerospace and Defense   \nApparel                                                              Apparel   \nBusiness Services                                           Waste Management   \nChemicals                                                          Chemicals   \nEnergy                                           Utilities: Gas and Electric   \nEngineering & Construction                                      Homebuilders   \nFinancials                                                        Securities   \nFood and Drug Stores                                    Food and Drug Stores   \nFood, Beverages & Tobacco                                            Tobacco   \nHealth Care                                         Wholesalers: Health Care   \nHotels, Resturants & Leisure                        Hotels, Casinos, Resorts   \nHousehold Products                                             Miscellaneous   \nIndustrials                                                    Miscellaneous   \nMaterials                                              Packaging, Containers   \nMedia                                                   Publishing, Printing   \nMotor Vehicles & Parts                              Motor Vehicles and Parts   \nRetailing                                         Specialty Retailers: Other   \nTechnology                    Semiconductors and Other Electronic Components   \nTelecommunications                                        Telecommunications   \nTransportation                                       Trucking, Truck Leasing   \nWholesalers                                    Wholesalers: Food and Grocery   \n\n                                            Location  Revenue  Profits  \\\nSector                                                                   \nAerospace & Defense                      Wichita, KS    96114     7608   \nApparel                            Winston-Salem, NC    30601     3273   \nBusiness Services                           Troy, MI    19330     6328   \nChemicals                             Wilmington, DE    48778     7685   \nEnergy                                Washington, DC   246204    16150   \nEngineering & Construction           Watsonville, CA    18114      803   \nFinancials                             Worcester, MA   210821    24442   \nFood and Drug Stores                  Woonsocket, RI   153290     5237   \nFood, Beverages & Tobacco          Winston-Salem, NC    67702     7351   \nHealth Care                                 York, PA   181241    18108   \nHotels, Resturants & Leisure          Wyomissing, PA    25413     5920   \nHousehold Products                       Zeeland, MI    78756     7036   \nIndustrials                           Wilmerding, PA   140389     4833   \nMaterials                             Wyomissing, PA    22534      991   \nMedia                                     Sussex, WI    52465     8382   \nMotor Vehicles & Parts        Van Buren Township, MI   152356     9687   \nRetailing                                   York, PA   482130    14694   \nTechnology                                Woburn, MA   233715    53394   \nTelecommunications                      Stamford, CT   146801    17879   \nTransportation                       Thomasville, NC    58363     7610   \nWholesalers                              Waltham, MA    48681     1472   \n\n                              Employees  \nSector                                   \nAerospace & Defense              197200  \nApparel                           65300  \nBusiness Services                216500  \nChemicals                         52000  \nEnergy                            75600  \nEngineering & Construction        92000  \nFinancials                       331000  \nFood and Drug Stores             431000  \nFood, Beverages & Tobacco        263000  \nHealth Care                      203500  \nHotels, Resturants & Leisure     505000  \nHousehold Products               110000  \nIndustrials                      333000  \nMaterials                         60000  \nMedia                            185000  \nMotor Vehicles & Parts           215000  \nRetailing                       2300000  \nTechnology                       411798  \nTelecommunications               281450  \nTransportation                   341240  \nWholesalers                       78500  >"
      ]
     },
     "execution_count": 28,
     "metadata": {},
     "output_type": "execute_result"
    }
   ],
   "source": [
    "sector.max().head"
   ]
  },
  {
   "cell_type": "code",
   "execution_count": 29,
   "metadata": {
    "collapsed": true
   },
   "outputs": [
    {
     "data": {
      "text/plain": [
       "<bound method NDFrame.head of                                                     Company  \\\nSector                                                        \nAerospace & Defense                           B/E Aerospace   \nApparel                                            Carter’s   \nBusiness Services                            ABM Industries   \nChemicals                                       A. Schulman   \nEnergy                                                  AES   \nEngineering & Construction                            AECOM   \nFinancials                                              AIG   \nFood and Drug Stores                             CVS Health   \nFood, Beverages & Tobacco        Alliance One International   \nHealth Care                                          AbbVie   \nHotels, Resturants & Leisure                Bloomin’ Brands   \nHousehold Products                            Avon Products   \nIndustrials                                              3M   \nMaterials                            A-Mark Precious Metals   \nMedia                                          AMC Networks   \nMotor Vehicles & Parts        Allison Transmission Holdings   \nRetailing                              99 Cents Only Stores   \nTechnology                              Activision Blizzard   \nTelecommunications                                     AT&T   \nTransportation                             Alaska Air Group   \nWholesalers                                          Airgas   \n\n                                                             Industry  \\\nSector                                                                  \nAerospace & Defense                             Aerospace and Defense   \nApparel                                                       Apparel   \nBusiness Services                              Advertising, marketing   \nChemicals                                                   Chemicals   \nEnergy                                                         Energy   \nEngineering & Construction                  Engineering, Construction   \nFinancials                                           Commercial Banks   \nFood and Drug Stores                             Food and Drug Stores   \nFood, Beverages & Tobacco                                   Beverages   \nHealth Care                   Health Care: Insurance and Managed Care   \nHotels, Resturants & Leisure                            Food Services   \nHousehold Products                        Home Equipment, Furnishings   \nIndustrials                           Construction and Farm Machinery   \nMaterials                                   Building Materials, Glass   \nMedia                                                   Entertainment   \nMotor Vehicles & Parts                       Motor Vehicles and Parts   \nRetailing                              Automotive Retailing, Services   \nTechnology                                       Computer Peripherals   \nTelecommunications                                 Telecommunications   \nTransportation                                               Airlines   \nWholesalers                                             Miscellaneous   \n\n                                            Location  Revenue  Profits  \\\nSector                                                                   \nAerospace & Defense                       Berwyn, PA     1923     -240   \nApparel                                  Atlanta, GA     2204       82   \nBusiness Services                      Arlington, VA     1910    -1481   \nChemicals                              Allentown, PA     2084     -816   \nEnergy                                     Akron, OH     1898   -23119   \nEngineering & Construction               Atlanta, GA     1909     -155   \nFinancials                               Atlanta, GA     1902    -1194   \nFood and Drug Stores                      Austin, TX     2151      -62   \nFood, Beverages & Tobacco            Arden Hills, MN     2066     -253   \nHealth Care                          Abbott Park, IL     1987     -458   \nHotels, Resturants & Leisure           Ann Arbor, MI     1896    -1394   \nHousehold Products                       Atlanta, GA     1914    -1149   \nIndustrials                   Annapolis Junction, MD     1895    -6126   \nMaterials                                Atlanta, GA     1924    -1642   \nMedia                              Beverly Hills, CA     1921     -881   \nMotor Vehicles & Parts                     Akron, OH     1986     -889   \nRetailing                                 Ankeny, IA     1999    -1243   \nTechnology                              Angleton, TX     1920    -4359   \nTelecommunications                      Bethpage, NY     2726     -271   \nTransportation                           Atlanta, GA     1995     -191   \nWholesalers                              Atlanta, GA     1917     -502   \n\n                              Employees  \nSector                                   \nAerospace & Defense                6955  \nApparel                            5978  \nBusiness Services                  2400  \nChemicals                          1979  \nEnergy                              480  \nEngineering & Construction         1036  \nFinancials                          187  \nFood and Drug Stores               1616  \nFood, Beverages & Tobacco          1857  \nHealth Care                        2924  \nHotels, Resturants & Leisure       8500  \nHousehold Products                 4406  \nIndustrials                        4104  \nMaterials                            52  \nMedia                              2341  \nMotor Vehicles & Parts             2700  \nRetailing                          2155  \nTechnology                         2285  \nTelecommunications                 2700  \nTransportation                     1223  \nWholesalers                         500  >"
      ]
     },
     "execution_count": 29,
     "metadata": {},
     "output_type": "execute_result"
    }
   ],
   "source": [
    "sector.min().head"
   ]
  },
  {
   "cell_type": "code",
   "execution_count": 30,
   "metadata": {
    "collapsed": true
   },
   "outputs": [
    {
     "data": {
      "text/plain": [
       "<bound method NDFrame.head of                               Revenue  Profits  Employees\nSector                                                   \nAerospace & Defense            357940    28742     968057\nApparel                         95968     8236     346397\nBusiness Services              272195    28227    1361050\nChemicals                      243897    22628     463651\nEnergy                        1517809   -73447    1188927\nEngineering & Construction     153983     5304     406708\nFinancials                    2217159   260209    3359948\nFood and Drug Stores           483769    16759    1395398\nFood, Beverages & Tobacco      555967    51417    1211632\nHealth Care                   1614707   106114    2678289\nHotels, Resturants & Leisure   169546    20697    2484245\nHousehold Products             234737    14428     646038\nIndustrials                    497581    20764    1545229\nMaterials                      259145     4428     638123\nMedia                          220764    24347     550314\nMotor Vehicles & Parts         482540    25898    1082560\nRetailing                     1465076    47830    6227629\nTechnology                    1377600   180473    3578949\nTelecommunications             461834    48637     832468\nTransportation                 408508    44169    1536793\nWholesalers                    444800     8233     525597>"
      ]
     },
     "execution_count": 30,
     "metadata": {},
     "output_type": "execute_result"
    }
   ],
   "source": [
    "sector.sum().head"
   ]
  },
  {
   "cell_type": "code",
   "execution_count": 32,
   "metadata": {
    "collapsed": true
   },
   "outputs": [
    {
     "data": {
      "text/plain": [
       "<bound method NDFrame.head of                                    Revenue      Profits     Employees\nSector                                                               \nAerospace & Defense           17897.000000  1437.100000  48402.850000\nApparel                        6397.866667   549.066667  23093.133333\nBusiness Services              5337.156863   553.470588  26687.254902\nChemicals                      8129.900000   754.266667  15455.033333\nEnergy                        12441.057377  -602.024590   9745.303279\nEngineering & Construction     5922.423077   204.000000  15642.615385\nFinancials                    15950.784173  1872.007194  24172.287770\nFood and Drug Stores          32251.266667  1117.266667  93026.533333\nFood, Beverages & Tobacco     12929.465116  1195.744186  28177.488372\nHealth Care                   21529.426667  1414.853333  35710.520000\nHotels, Resturants & Leisure   6781.840000   827.880000  99369.800000\nHousehold Products             8383.464286   515.285714  23072.785714\nIndustrials                   10816.978261   451.391304  33591.934783\nMaterials                      6026.627907   102.976744  14840.069767\nMedia                          8830.560000   973.880000  22012.560000\nMotor Vehicles & Parts        20105.833333  1079.083333  45106.666667\nRetailing                     18313.450000   597.875000  77845.362500\nTechnology                    13505.882353  1769.343137  35087.735294\nTelecommunications            30788.933333  3242.466667  55497.866667\nTransportation                11347.444444  1226.916667  42688.694444\nWholesalers                   11120.000000   205.825000  13139.925000>"
      ]
     },
     "execution_count": 32,
     "metadata": {},
     "output_type": "execute_result"
    }
   ],
   "source": [
    "sector.mean().head"
   ]
  },
  {
   "cell_type": "code",
   "execution_count": null,
   "metadata": {},
   "outputs": [],
   "source": [
    "sector[''].mean().head"
   ]
  },
  {
   "cell_type": "code",
   "execution_count": 33,
   "metadata": {
    "collapsed": true
   },
   "outputs": [
    {
     "data": {
      "text/plain": [
       "Sector\nAerospace & Defense             17897.000000\nApparel                          6397.866667\nBusiness Services                5337.156863\nChemicals                        8129.900000\nEnergy                          12441.057377\nEngineering & Construction       5922.423077\nFinancials                      15950.784173\nFood and Drug Stores            32251.266667\nFood, Beverages & Tobacco       12929.465116\nHealth Care                     21529.426667\nHotels, Resturants & Leisure     6781.840000\nHousehold Products               8383.464286\nIndustrials                     10816.978261\nMaterials                        6026.627907\nMedia                            8830.560000\nMotor Vehicles & Parts          20105.833333\nRetailing                       18313.450000\nTechnology                      13505.882353\nTelecommunications              30788.933333\nTransportation                  11347.444444\nWholesalers                     11120.000000\nName: Revenue, dtype: float64"
      ]
     },
     "execution_count": 33,
     "metadata": {},
     "output_type": "execute_result"
    }
   ],
   "source": [
    "sector['Revenue'].mean()"
   ]
  },
  {
   "cell_type": "code",
   "execution_count": 34,
   "metadata": {
    "collapsed": true
   },
   "outputs": [
    {
     "data": {
      "text/plain": [
       "Sector\nAerospace & Defense              968057\nApparel                          346397\nBusiness Services               1361050\nChemicals                        463651\nEnergy                          1188927\nEngineering & Construction       406708\nFinancials                      3359948\nFood and Drug Stores            1395398\nFood, Beverages & Tobacco       1211632\nHealth Care                     2678289\nHotels, Resturants & Leisure    2484245\nHousehold Products               646038\nIndustrials                     1545229\nMaterials                        638123\nMedia                            550314\nMotor Vehicles & Parts          1082560\nRetailing                       6227629\nTechnology                      3578949\nTelecommunications               832468\nTransportation                  1536793\nWholesalers                      525597\nName: Employees, dtype: int64"
      ]
     },
     "execution_count": 34,
     "metadata": {},
     "output_type": "execute_result"
    }
   ],
   "source": [
    "sector['Employees'].sum()"
   ]
  },
  {
   "cell_type": "code",
   "execution_count": 35,
   "metadata": {
    "collapsed": true
   },
   "outputs": [
    {
     "data": {
      "text/plain": [
       "Sector\nAerospace & Defense              7608\nApparel                          3273\nBusiness Services                6328\nChemicals                        7685\nEnergy                          16150\nEngineering & Construction        803\nFinancials                      24442\nFood and Drug Stores             5237\nFood, Beverages & Tobacco        7351\nHealth Care                     18108\nHotels, Resturants & Leisure     5920\nHousehold Products               7036\nIndustrials                      4833\nMaterials                         991\nMedia                            8382\nMotor Vehicles & Parts           9687\nRetailing                       14694\nTechnology                      53394\nTelecommunications              17879\nTransportation                   7610\nWholesalers                      1472\nName: Profits, dtype: int64"
      ]
     },
     "execution_count": 35,
     "metadata": {},
     "output_type": "execute_result"
    }
   ],
   "source": [
    "sector['Profits'].max()"
   ]
  },
  {
   "cell_type": "code",
   "execution_count": 36,
   "metadata": {
    "collapsed": true
   },
   "outputs": [
    {
     "data": {
      "text/plain": [
       "Sector\nAerospace & Defense              -240\nApparel                            82\nBusiness Services               -1481\nChemicals                        -816\nEnergy                         -23119\nEngineering & Construction       -155\nFinancials                      -1194\nFood and Drug Stores              -62\nFood, Beverages & Tobacco        -253\nHealth Care                      -458\nHotels, Resturants & Leisure    -1394\nHousehold Products              -1149\nIndustrials                     -6126\nMaterials                       -1642\nMedia                            -881\nMotor Vehicles & Parts           -889\nRetailing                       -1243\nTechnology                      -4359\nTelecommunications               -271\nTransportation                   -191\nWholesalers                      -502\nName: Profits, dtype: int64"
      ]
     },
     "execution_count": 36,
     "metadata": {},
     "output_type": "execute_result"
    }
   ],
   "source": [
    "sector['Profits'].min()"
   ]
  },
  {
   "cell_type": "code",
   "execution_count": 5,
   "metadata": {},
   "outputs": [
    {
     "data": {
      "text/plain": [
       "<bound method NDFrame.head of                               Revenue  Profits\nSector                                        \nAerospace & Defense            357940    28742\nApparel                         95968     8236\nBusiness Services              272195    28227\nChemicals                      243897    22628\nEnergy                        1517809   -73447\nEngineering & Construction     153983     5304\nFinancials                    2217159   260209\nFood and Drug Stores           483769    16759\nFood, Beverages & Tobacco      555967    51417\nHealth Care                   1614707   106114\nHotels, Resturants & Leisure   169546    20697\nHousehold Products             234737    14428\nIndustrials                    497581    20764\nMaterials                      259145     4428\nMedia                          220764    24347\nMotor Vehicles & Parts         482540    25898\nRetailing                     1465076    47830\nTechnology                    1377600   180473\nTelecommunications             461834    48637\nTransportation                 408508    44169\nWholesalers                    444800     8233>"
      ]
     },
     "execution_count": 5,
     "metadata": {},
     "output_type": "execute_result"
    }
   ],
   "source": [
    "sector[['Revenue','Profits']].sum().head"
   ]
  },
  {
   "cell_type": "code",
   "execution_count": null,
   "metadata": {},
   "outputs": [],
   "source": []
  }
 ],
 "metadata": {
  "kernelspec": {
   "display_name": "Python 2",
   "language": "python",
   "name": "python2"
  },
  "language_info": {
   "codemirror_mode": {
    "name": "ipython",
    "version": 2
   },
   "file_extension": ".py",
   "mimetype": "text/x-python",
   "name": "python",
   "nbconvert_exporter": "python",
   "pygments_lexer": "ipython2",
   "version": "2.7.6"
  }
 },
 "nbformat": 4,
 "nbformat_minor": 0
}
