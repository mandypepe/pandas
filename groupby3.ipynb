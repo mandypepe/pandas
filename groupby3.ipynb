{
 "cells": [
  {
   "cell_type": "code",
   "execution_count": 1,
   "metadata": {
    "collapsed": true
   },
   "outputs": [
    {
     "name": "stdout",
     "output_type": "stream",
     "text": [
      "<class 'pandas.core.frame.DataFrame'>\nInt64Index: 1000 entries, 1 to 1000\nData columns (total 7 columns):\nCompany      1000 non-null object\nSector       1000 non-null object\nIndustry     1000 non-null object\nLocation     1000 non-null object\nRevenue      1000 non-null int64\nProfits      1000 non-null int64\nEmployees    1000 non-null int64\ndtypes: int64(3), object(4)\nmemory usage: 62.5+ KB\n"
     ]
    }
   ],
   "source": [
    "import pandas as pd\n",
    "import matplotlib.pyplot as plt\n",
    "import numpy as np\n",
    "%matplotlib inline\n",
    "fot=pd.read_csv(\"csvs/fortune1000.csv\", index_col='Rank')\n",
    "fot.info()"
   ]
  },
  {
   "cell_type": "code",
   "execution_count": 2,
   "metadata": {},
   "outputs": [],
   "source": [
    "sectros=fot.groupby('Sector')"
   ]
  },
  {
   "cell_type": "code",
   "execution_count": 4,
   "metadata": {
    "collapsed": true
   },
   "outputs": [
    {
     "data": {
      "text/plain": [
       "<bound method NDFrame.head of                               Revenue      Profits      Employees\nSector                                                           \nAerospace & Defense            357940  1437.100000   55389.486777\nApparel                         95968   549.066667   21833.228179\nBusiness Services              272195   553.470588   37717.982486\nChemicals                      243897   754.266667   15644.314440\nEnergy                        1517809  -602.024590   12949.476412\nEngineering & Construction     153983   204.000000   20625.225235\nFinancials                    2217159  1872.007194   49070.504370\nFood and Drug Stores           483769  1117.266667  129049.965843\nFood, Beverages & Tobacco      555967  1195.744186   46494.442039\nHealth Care                   1614707  1414.853333   40300.162385\nHotels, Resturants & Leisure   169546   827.880000  125535.275256\nHousehold Products             234737   515.285714   22183.386913\nIndustrials                    497581   451.391304   55084.589340\nMaterials                      259145   102.976744   12884.845967\nMedia                          220764   973.880000   36512.729298\nMotor Vehicles & Parts         482540  1079.083333   61835.587198\nRetailing                     1465076   597.875000  261173.769204\nTechnology                    1377600  1769.343137   61938.492917\nTelecommunications             461834  3242.466667   82347.959648\nTransportation                 408508  1226.916667   76312.912270\nWholesalers                    444800   205.825000   15273.192529>"
      ]
     },
     "execution_count": 4,
     "metadata": {},
     "output_type": "execute_result"
    }
   ],
   "source": [
    "sectros.agg({'Revenue':'sum',\n",
    "             'Profits':'mean',\n",
    "             'Employees':'std'}).head"
   ]
  },
  {
   "cell_type": "code",
   "execution_count": 7,
   "metadata": {
    "collapsed": true
   },
   "outputs": [
    {
     "data": {
      "text/plain": [
       "<bound method NDFrame.head of                              Revenue                        Profits          \\\n                                size      sum          mean    size     sum   \nSector                                                                        \nAerospace & Defense               20   357940  17897.000000      20   28742   \nApparel                           15    95968   6397.866667      15    8236   \nBusiness Services                 51   272195   5337.156863      51   28227   \nChemicals                         30   243897   8129.900000      30   22628   \nEnergy                           122  1517809  12441.057377     122  -73447   \nEngineering & Construction        26   153983   5922.423077      26    5304   \nFinancials                       139  2217159  15950.784173     139  260209   \nFood and Drug Stores              15   483769  32251.266667      15   16759   \nFood, Beverages & Tobacco         43   555967  12929.465116      43   51417   \nHealth Care                       75  1614707  21529.426667      75  106114   \nHotels, Resturants & Leisure      25   169546   6781.840000      25   20697   \nHousehold Products                28   234737   8383.464286      28   14428   \nIndustrials                       46   497581  10816.978261      46   20764   \nMaterials                         43   259145   6026.627907      43    4428   \nMedia                             25   220764   8830.560000      25   24347   \nMotor Vehicles & Parts            24   482540  20105.833333      24   25898   \nRetailing                         80  1465076  18313.450000      80   47830   \nTechnology                       102  1377600  13505.882353     102  180473   \nTelecommunications                15   461834  30788.933333      15   48637   \nTransportation                    36   408508  11347.444444      36   44169   \nWholesalers                       40   444800  11120.000000      40    8233   \n\n                                          Employees                         \n                                     mean      size      sum          mean  \nSector                                                                      \nAerospace & Defense           1437.100000        20   968057  48402.850000  \nApparel                        549.066667        15   346397  23093.133333  \nBusiness Services              553.470588        51  1361050  26687.254902  \nChemicals                      754.266667        30   463651  15455.033333  \nEnergy                        -602.024590       122  1188927   9745.303279  \nEngineering & Construction     204.000000        26   406708  15642.615385  \nFinancials                    1872.007194       139  3359948  24172.287770  \nFood and Drug Stores          1117.266667        15  1395398  93026.533333  \nFood, Beverages & Tobacco     1195.744186        43  1211632  28177.488372  \nHealth Care                   1414.853333        75  2678289  35710.520000  \nHotels, Resturants & Leisure   827.880000        25  2484245  99369.800000  \nHousehold Products             515.285714        28   646038  23072.785714  \nIndustrials                    451.391304        46  1545229  33591.934783  \nMaterials                      102.976744        43   638123  14840.069767  \nMedia                          973.880000        25   550314  22012.560000  \nMotor Vehicles & Parts        1079.083333        24  1082560  45106.666667  \nRetailing                      597.875000        80  6227629  77845.362500  \nTechnology                    1769.343137       102  3578949  35087.735294  \nTelecommunications            3242.466667        15   832468  55497.866667  \nTransportation                1226.916667        36  1536793  42688.694444  \nWholesalers                    205.825000        40   525597  13139.925000  >"
      ]
     },
     "execution_count": 7,
     "metadata": {},
     "output_type": "execute_result"
    }
   ],
   "source": [
    "sectros.agg(['size','sum','mean']).head"
   ]
  },
  {
   "cell_type": "code",
   "execution_count": 8,
   "metadata": {
    "collapsed": true
   },
   "outputs": [
    {
     "data": {
      "text/plain": [
       "<bound method NDFrame.head of                               Revenue                    Profits               \\\n                                  sum          mean         mean          std   \nSector                                                                          \nAerospace & Defense            357940  17897.000000  1437.100000  2026.281788   \nApparel                         95968   6397.866667   549.066667   810.479441   \nBusiness Services              272195   5337.156863   553.470588  1058.517026   \nChemicals                      243897   8129.900000   754.266667  1481.756552   \nEnergy                        1517809  12441.057377  -602.024590  3872.846220   \nEngineering & Construction     153983   5922.423077   204.000000   229.344283   \nFinancials                    2217159  15950.784173  1872.007194  4108.831303   \nFood and Drug Stores           483769  32251.266667  1117.266667  1677.128944   \nFood, Beverages & Tobacco      555967  12929.465116  1195.744186  2032.684843   \nHealth Care                   1614707  21529.426667  1414.853333  3025.285364   \nHotels, Resturants & Leisure   169546   6781.840000   827.880000  1554.535657   \nHousehold Products             234737   8383.464286   515.285714  1368.085601   \nIndustrials                    497581  10816.978261   451.391304  1501.766522   \nMaterials                      259145   6026.627907   102.976744   408.060832   \nMedia                          220764   8830.560000   973.880000  2413.073547   \nMotor Vehicles & Parts         482540  20105.833333  1079.083333  2404.801825   \nRetailing                     1465076  18313.450000   597.875000  1896.931188   \nTechnology                    1377600  13505.882353  1769.343137  5955.766651   \nTelecommunications             461834  30788.933333  3242.466667  5517.519394   \nTransportation                 408508  11347.444444  1226.916667  2005.153081   \nWholesalers                    444800  11120.000000   205.825000   308.448299   \n\n                                  Employees           \n                                        std      sum  \nSector                                                \nAerospace & Defense            55389.486777   968057  \nApparel                        21833.228179   346397  \nBusiness Services              37717.982486  1361050  \nChemicals                      15644.314440   463651  \nEnergy                         12949.476412  1188927  \nEngineering & Construction     20625.225235   406708  \nFinancials                     49070.504370  3359948  \nFood and Drug Stores          129049.965843  1395398  \nFood, Beverages & Tobacco      46494.442039  1211632  \nHealth Care                    40300.162385  2678289  \nHotels, Resturants & Leisure  125535.275256  2484245  \nHousehold Products             22183.386913   646038  \nIndustrials                    55084.589340  1545229  \nMaterials                      12884.845967   638123  \nMedia                          36512.729298   550314  \nMotor Vehicles & Parts         61835.587198  1082560  \nRetailing                     261173.769204  6227629  \nTechnology                     61938.492917  3578949  \nTelecommunications             82347.959648   832468  \nTransportation                 76312.912270  1536793  \nWholesalers                    15273.192529   525597  >"
      ]
     },
     "execution_count": 8,
     "metadata": {},
     "output_type": "execute_result"
    }
   ],
   "source": [
    "sectros.agg({'Revenue':['sum','mean'],\n",
    "             'Profits':['mean','std'],\n",
    "             'Employees':['std','sum']}).head"
   ]
  },
  {
   "cell_type": "code",
   "execution_count": null,
   "metadata": {},
   "outputs": [],
   "source": []
  }
 ],
 "metadata": {
  "kernelspec": {
   "display_name": "Python 2",
   "language": "python",
   "name": "python2"
  },
  "language_info": {
   "codemirror_mode": {
    "name": "ipython",
    "version": 2
   },
   "file_extension": ".py",
   "mimetype": "text/x-python",
   "name": "python",
   "nbconvert_exporter": "python",
   "pygments_lexer": "ipython2",
   "version": "2.7.6"
  }
 },
 "nbformat": 4,
 "nbformat_minor": 0
}
