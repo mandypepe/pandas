{
 "cells": [
  {
   "cell_type": "code",
   "execution_count": 1,
   "metadata": {
    "collapsed": true
   },
   "outputs": [
    {
     "name": "stdout",
     "output_type": "stream",
     "text": [
      "<class 'pandas.core.frame.DataFrame'>\nMultiIndex: 652 entries, (2010-01-01 00:00:00, Argentina) to (2016-01-01 00:00:00, Vietnam)\nData columns (total 1 columns):\nPrice in US Dollars    652 non-null float64\ndtypes: float64(1)\nmemory usage: 7.0+ KB\n"
     ]
    }
   ],
   "source": [
    "import pandas as pd\n",
    "import matplotlib.pyplot as plt\n",
    "import numpy as np\n",
    "%matplotlib inline\n",
    "bm=pd.read_csv(\"csvs/bigmac.csv\",parse_dates=['Date'], index_col=['Date','Country'])\n",
    "bm.sort_index(inplace=True)\n",
    "bm.info()"
   ]
  },
  {
   "cell_type": "code",
   "execution_count": 3,
   "metadata": {
    "collapsed": true
   },
   "outputs": [
    {
     "data": {
      "text/plain": [
       "<bound method NDFrame.head of                            Price in US Dollars\nDate       Country                            \n2010-01-01 Argentina                      1.84\n           Australia                      3.98\n           Brazil                         4.76\n           Britain                        3.67\n           Canada                         3.97\n           Chile                          3.18\n           China                          1.83\n           Colombia                       3.91\n           Costa Rica                     3.52\n           Czech Republic                 3.71\n           Denmark                        5.99\n           Egypt                          2.38\n           Euro area                      4.84\n           Hong Kong                      1.91\n           Hungary                        3.86\n           Indonesia                      2.24\n           Israel                         3.99\n           Japan                          3.50\n           Latvia                         3.09\n           Lithuania                      2.87\n           Malaysia                       2.08\n           Mexico                         2.50\n           New Zealand                    3.61\n           Norway                         7.02\n           Pakistan                       2.42\n           Peru                           2.81\n           Philippines                    2.21\n           Poland                         2.86\n           Russia                         2.34\n           Saudi Arabia                   2.67\n...                                        ...\n2016-01-01 Italy                          4.30\n           Japan                          3.12\n           Malaysia                       1.82\n           Mexico                         2.81\n           Netherlands                    3.71\n           New Zealand                    3.91\n           Norway                         5.21\n           Pakistan                       2.86\n           Peru                           2.93\n           Philippines                    2.79\n           Poland                         2.37\n           Portugal                       3.23\n           Russia                         1.53\n           Saudi Arabia                   3.20\n           Singapore                      3.27\n           South Africa                   1.77\n           South Korea                    3.59\n           Spain                          3.76\n           Sri Lanka                      2.43\n           Sweden                         5.23\n           Switzerland                    6.44\n           Taiwan                         2.08\n           Thailand                       3.09\n           Turkey                         3.41\n           UAE                            3.54\n           Ukraine                        1.54\n           United States                  4.93\n           Uruguay                        3.74\n           Venezuela                      0.66\n           Vietnam                        2.67\n\n[652 rows x 1 columns]>"
      ]
     },
     "execution_count": 3,
     "metadata": {},
     "output_type": "execute_result"
    }
   ],
   "source": [
    "bm.sort_index(inplace=True,ascending=True)\n",
    "bm.head"
   ]
  },
  {
   "cell_type": "code",
   "execution_count": 4,
   "metadata": {
    "collapsed": true
   },
   "outputs": [
    {
     "data": {
      "text/plain": [
       "<bound method NDFrame.head of                            Price in US Dollars\nDate       Country                            \n2016-01-01 Vietnam                        2.67\n           Venezuela                      0.66\n           Uruguay                        3.74\n           United States                  4.93\n           Ukraine                        1.54\n           UAE                            3.54\n           Turkey                         3.41\n           Thailand                       3.09\n           Taiwan                         2.08\n           Switzerland                    6.44\n           Sweden                         5.23\n           Sri Lanka                      2.43\n           Spain                          3.76\n           South Korea                    3.59\n           South Africa                   1.77\n           Singapore                      3.27\n           Saudi Arabia                   3.20\n           Russia                         1.53\n           Portugal                       3.23\n           Poland                         2.37\n           Philippines                    2.79\n           Peru                           2.93\n           Pakistan                       2.86\n           Norway                         5.21\n           New Zealand                    3.91\n           Netherlands                    3.71\n           Mexico                         2.81\n           Malaysia                       1.82\n           Japan                          3.12\n           Italy                          4.30\n...                                        ...\n2010-01-01 Saudi Arabia                   2.67\n           Russia                         2.34\n           Poland                         2.86\n           Philippines                    2.21\n           Peru                           2.81\n           Pakistan                       2.42\n           Norway                         7.02\n           New Zealand                    3.61\n           Mexico                         2.50\n           Malaysia                       2.08\n           Lithuania                      2.87\n           Latvia                         3.09\n           Japan                          3.50\n           Israel                         3.99\n           Indonesia                      2.24\n           Hungary                        3.86\n           Hong Kong                      1.91\n           Euro area                      4.84\n           Egypt                          2.38\n           Denmark                        5.99\n           Czech Republic                 3.71\n           Costa Rica                     3.52\n           Colombia                       3.91\n           China                          1.83\n           Chile                          3.18\n           Canada                         3.97\n           Britain                        3.67\n           Brazil                         4.76\n           Australia                      3.98\n           Argentina                      1.84\n\n[652 rows x 1 columns]>"
      ]
     },
     "execution_count": 4,
     "metadata": {},
     "output_type": "execute_result"
    }
   ],
   "source": [
    "bm.sort_index(inplace=True,ascending=False)\n",
    "bm.head"
   ]
  },
  {
   "cell_type": "code",
   "execution_count": 5,
   "metadata": {
    "collapsed": true
   },
   "outputs": [
    {
     "data": {
      "text/plain": [
       "<bound method NDFrame.head of                            Price in US Dollars\nDate       Country                            \n2010-01-01 Uruguay                        3.32\n           United States                  3.58\n           Ukraine                        1.83\n           UAE                            2.99\n           Turkey                         3.83\n           Thailand                       2.11\n           Taiwan                         2.36\n           Switzerland                    6.30\n           Sweden                         5.51\n           Sri Lanka                      1.83\n           South Korea                    2.98\n           South Africa                   2.46\n           Singapore                      3.19\n           Saudi Arabia                   2.67\n           Russia                         2.34\n           Poland                         2.86\n           Philippines                    2.21\n           Peru                           2.81\n           Pakistan                       2.42\n           Norway                         7.02\n           New Zealand                    3.61\n           Mexico                         2.50\n           Malaysia                       2.08\n           Lithuania                      2.87\n           Latvia                         3.09\n           Japan                          3.50\n           Israel                         3.99\n           Indonesia                      2.24\n           Hungary                        3.86\n           Hong Kong                      1.91\n...                                        ...\n2016-01-01 Mexico                         2.81\n           Malaysia                       1.82\n           Japan                          3.12\n           Italy                          4.30\n           Israel                         4.29\n           Ireland                        4.25\n           Indonesia                      2.19\n           India                          1.90\n           Hungary                        3.08\n           Hong Kong                      2.48\n           Greece                         3.60\n           Germany                        3.86\n           France                         4.41\n           Finland                        4.41\n           Euro area                      4.00\n           Estonia                        3.23\n           Egypt                          2.16\n           Denmark                        4.32\n           Czech Republic                 2.98\n           Costa Rica                     4.02\n           Colombia                       2.43\n           China                          2.68\n           Chile                          2.94\n           Canada                         4.14\n           Britain                        4.22\n           Brazil                         3.35\n           Belgium                        4.25\n           Austria                        3.76\n           Australia                      3.74\n           Argentina                      2.39\n\n[652 rows x 1 columns]>"
      ]
     },
     "execution_count": 5,
     "metadata": {},
     "output_type": "execute_result"
    }
   ],
   "source": [
    "bm.sort_index(inplace=True,ascending=[True,False])\n",
    "bm.head"
   ]
  },
  {
   "cell_type": "code",
   "execution_count": 6,
   "metadata": {
    "collapsed": true
   },
   "outputs": [
    {
     "data": {
      "text/plain": [
       "Price in US Dollars    4.76\nName: (2010-01-01 00:00:00, Brazil), dtype: float64"
      ]
     },
     "execution_count": 6,
     "metadata": {},
     "output_type": "execute_result"
    }
   ],
   "source": [
    "bm.loc[('2010-01-01','Brazil')]"
   ]
  },
  {
   "cell_type": "code",
   "execution_count": 8,
   "metadata": {
    "collapsed": true
   },
   "outputs": [
    {
     "data": {
      "text/plain": [
       "Price in US Dollars    3.32\nName: (2010-01-01 00:00:00, Uruguay), dtype: float64"
      ]
     },
     "execution_count": 8,
     "metadata": {},
     "output_type": "execute_result"
    }
   ],
   "source": [
    "bm.loc[('2010-01-01','Uruguay')]"
   ]
  },
  {
   "cell_type": "code",
   "execution_count": 9,
   "metadata": {},
   "outputs": [
    {
     "data": {
      "text/plain": [
       "Date        Country\n2010-01-01  Uruguay    3.32\nName: Price in US Dollars, dtype: float64"
      ]
     },
     "execution_count": 9,
     "metadata": {},
     "output_type": "execute_result"
    }
   ],
   "source": [
    "bm.loc[('2010-01-01','Uruguay'),'Price in US Dollars']"
   ]
  },
  {
   "cell_type": "code",
   "execution_count": null,
   "metadata": {},
   "outputs": [],
   "source": []
  }
 ],
 "metadata": {
  "kernelspec": {
   "display_name": "Python 2",
   "language": "python",
   "name": "python2"
  },
  "language_info": {
   "codemirror_mode": {
    "name": "ipython",
    "version": 2
   },
   "file_extension": ".py",
   "mimetype": "text/x-python",
   "name": "python",
   "nbconvert_exporter": "python",
   "pygments_lexer": "ipython2",
   "version": "2.7.6"
  }
 },
 "nbformat": 4,
 "nbformat_minor": 0
}
