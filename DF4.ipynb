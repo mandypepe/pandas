{
 "cells": [
  {
   "cell_type": "code",
   "execution_count": 1,
   "metadata": {
    "collapsed": true
   },
   "outputs": [
    {
     "name": "stdout",
     "output_type": "stream",
     "text": [
      "<class 'pandas.core.frame.DataFrame'>\nRangeIndex: 458 entries, 0 to 457\nData columns (total 9 columns):\nName        457 non-null object\nTeam        457 non-null object\nNumber      457 non-null float64\nPosition    457 non-null object\nAge         457 non-null float64\nHeight      457 non-null object\nWeight      457 non-null float64\nCollege     373 non-null object\nSalary      446 non-null float64\ndtypes: float64(4), object(5)\nmemory usage: 32.3+ KB\n"
     ]
    }
   ],
   "source": [
    "import pandas as pd\n",
    "import matplotlib.pyplot as plt\n",
    "import numpy as np\n",
    "%matplotlib inline\n",
    "nba=pd.read_csv(\"csvs/nba.csv\")\n",
    "nba.info()"
   ]
  },
  {
   "cell_type": "code",
   "execution_count": 2,
   "metadata": {},
   "outputs": [
    {
     "name": "stdout",
     "output_type": "stream",
     "text": [
      "<class 'pandas.core.frame.DataFrame'>\nInt64Index: 364 entries, 0 to 456\nData columns (total 9 columns):\nName        364 non-null object\nTeam        364 non-null object\nNumber      364 non-null float64\nPosition    364 non-null object\nAge         364 non-null float64\nHeight      364 non-null object\nWeight      364 non-null float64\nCollege     364 non-null object\nSalary      364 non-null float64\ndtypes: float64(4), object(5)\nmemory usage: 28.4+ KB\n"
     ]
    }
   ],
   "source": [
    "nba.dropna().info() #drop NAN VALUES"
   ]
  },
  {
   "cell_type": "code",
   "execution_count": 3,
   "metadata": {},
   "outputs": [
    {
     "name": "stdout",
     "output_type": "stream",
     "text": [
      "<class 'pandas.core.frame.DataFrame'>\nInt64Index: 457 entries, 0 to 456\nData columns (total 9 columns):\nName        457 non-null object\nTeam        457 non-null object\nNumber      457 non-null float64\nPosition    457 non-null object\nAge         457 non-null float64\nHeight      457 non-null object\nWeight      457 non-null float64\nCollege     373 non-null object\nSalary      446 non-null float64\ndtypes: float64(4), object(5)\nmemory usage: 35.7+ KB\n"
     ]
    }
   ],
   "source": [
    "nba.dropna(how=\"all\").info() #drop if all row es NAN VALUES"
   ]
  },
  {
   "cell_type": "code",
   "execution_count": 6,
   "metadata": {},
   "outputs": [
    {
     "data": {
      "text/plain": [
       "<bound method NDFrame.head of Empty DataFrame\nColumns: []\nIndex: [0, 1, 2, 3, 4, 5, 6, 7, 8, 9, 10, 11, 12, 13, 14, 15, 16, 17, 18, 19, 20, 21, 22, 23, 24, 25, 26, 27, 28, 29, 30, 31, 32, 33, 34, 35, 36, 37, 38, 39, 40, 41, 42, 43, 44, 45, 46, 47, 48, 49, 50, 51, 52, 53, 54, 55, 56, 57, 58, 59, 60, 61, 62, 63, 64, 65, 66, 67, 68, 69, 70, 71, 72, 73, 74, 75, 76, 77, 78, 79, 80, 81, 82, 83, 84, 85, 86, 87, 88, 89, 90, 91, 92, 93, 94, 95, 96, 97, 98, 99, ...]\n\n[458 rows x 0 columns]>"
      ]
     },
     "execution_count": 6,
     "metadata": {},
     "output_type": "execute_result"
    }
   ],
   "source": [
    "nba.dropna(axis=1).head"
   ]
  },
  {
   "cell_type": "code",
   "execution_count": 9,
   "metadata": {
    "collapsed": true
   },
   "outputs": [
    {
     "data": {
      "text/plain": [
       "<bound method NDFrame.head of                         Name                    Team  Number Position   Age  \\\n0              Avery Bradley          Boston Celtics     0.0       PG  25.0   \n1                Jae Crowder          Boston Celtics    99.0       SF  25.0   \n3                R.J. Hunter          Boston Celtics    28.0       SG  22.0   \n6              Jordan Mickey          Boston Celtics    55.0       PF  21.0   \n7               Kelly Olynyk          Boston Celtics    41.0        C  25.0   \n8               Terry Rozier          Boston Celtics    12.0       PG  22.0   \n9               Marcus Smart          Boston Celtics    36.0       PG  22.0   \n10           Jared Sullinger          Boston Celtics     7.0        C  24.0   \n11             Isaiah Thomas          Boston Celtics     4.0       PG  27.0   \n12               Evan Turner          Boston Celtics    11.0       SG  27.0   \n13               James Young          Boston Celtics    13.0       SG  20.0   \n14              Tyler Zeller          Boston Celtics    44.0        C  26.0   \n16              Markel Brown           Brooklyn Nets    22.0       SG  24.0   \n17           Wayne Ellington           Brooklyn Nets    21.0       SG  28.0   \n18   Rondae Hollis-Jefferson           Brooklyn Nets    24.0       SG  21.0   \n19              Jarrett Jack           Brooklyn Nets     2.0       PG  32.0   \n21           Sean Kilpatrick           Brooklyn Nets     6.0       SG  26.0   \n22              Shane Larkin           Brooklyn Nets     0.0       PG  23.0   \n23               Brook Lopez           Brooklyn Nets    11.0        C  28.0   \n24          Chris McCullough           Brooklyn Nets     1.0       PF  21.0   \n25               Willie Reed           Brooklyn Nets    33.0       PF  26.0   \n26           Thomas Robinson           Brooklyn Nets    41.0       PF  25.0   \n27                Henry Sims           Brooklyn Nets    14.0        C  26.0   \n28              Donald Sloan           Brooklyn Nets    15.0       PG  28.0   \n29            Thaddeus Young           Brooklyn Nets    30.0       PF  27.0   \n30             Arron Afflalo         New York Knicks     4.0       SG  30.0   \n31              Lou Amundson         New York Knicks    17.0       PF  33.0   \n33           Carmelo Anthony         New York Knicks     7.0       SF  32.0   \n35          Cleanthony Early         New York Knicks    11.0       SF  25.0   \n36         Langston Galloway         New York Knicks     2.0       SG  24.0   \n..                       ...                     ...     ...      ...   ...   \n422            Cameron Payne   Oklahoma City Thunder    22.0       PG  21.0   \n423           Andre Roberson   Oklahoma City Thunder    21.0       SG  24.0   \n424             Kyle Singler   Oklahoma City Thunder     5.0       SF  28.0   \n425             Dion Waiters   Oklahoma City Thunder     3.0       SG  24.0   \n426        Russell Westbrook   Oklahoma City Thunder     0.0       PG  27.0   \n427          Cliff Alexander  Portland Trail Blazers    34.0       PF  20.0   \n428          Al-Farouq Aminu  Portland Trail Blazers     8.0       SF  25.0   \n429          Pat Connaughton  Portland Trail Blazers     5.0       SG  23.0   \n430             Allen Crabbe  Portland Trail Blazers    23.0       SG  24.0   \n431                 Ed Davis  Portland Trail Blazers    17.0        C  27.0   \n432         Maurice Harkless  Portland Trail Blazers     4.0       SF  23.0   \n433         Gerald Henderson  Portland Trail Blazers     9.0       SG  28.0   \n434              Chris Kaman  Portland Trail Blazers    35.0        C  34.0   \n435           Meyers Leonard  Portland Trail Blazers    11.0       PF  24.0   \n436           Damian Lillard  Portland Trail Blazers     0.0       PG  25.0   \n437            C.J. McCollum  Portland Trail Blazers     3.0       SG  24.0   \n438             Luis Montero  Portland Trail Blazers    44.0       SG  23.0   \n439            Mason Plumlee  Portland Trail Blazers    24.0        C  26.0   \n440            Brian Roberts  Portland Trail Blazers     2.0       PG  30.0   \n441              Noah Vonleh  Portland Trail Blazers    21.0       PF  20.0   \n442            Trevor Booker               Utah Jazz    33.0       PF  28.0   \n443               Trey Burke               Utah Jazz     3.0       PG  23.0   \n444               Alec Burks               Utah Jazz    10.0       SG  24.0   \n446           Derrick Favors               Utah Jazz    15.0       PF  24.0   \n448           Gordon Hayward               Utah Jazz    20.0       SF  26.0   \n449              Rodney Hood               Utah Jazz     5.0       SG  23.0   \n451            Chris Johnson               Utah Jazz    23.0       SF  26.0   \n452               Trey Lyles               Utah Jazz    41.0       PF  20.0   \n453             Shelvin Mack               Utah Jazz     8.0       PG  26.0   \n456              Jeff Withey               Utah Jazz    24.0        C  26.0   \n\n    Height  Weight           College      Salary  \n0      6-2   180.0             Texas   7730337.0  \n1      6-6   235.0         Marquette   6796117.0  \n3      6-5   185.0     Georgia State   1148640.0  \n6      6-8   235.0               LSU   1170960.0  \n7      7-0   238.0           Gonzaga   2165160.0  \n8      6-2   190.0        Louisville   1824360.0  \n9      6-4   220.0    Oklahoma State   3431040.0  \n10     6-9   260.0        Ohio State   2569260.0  \n11     5-9   185.0        Washington   6912869.0  \n12     6-7   220.0        Ohio State   3425510.0  \n13     6-6   215.0          Kentucky   1749840.0  \n14     7-0   253.0    North Carolina   2616975.0  \n16     6-3   190.0    Oklahoma State    845059.0  \n17     6-4   200.0    North Carolina   1500000.0  \n18     6-7   220.0           Arizona   1335480.0  \n19     6-3   200.0      Georgia Tech   6300000.0  \n21     6-4   219.0        Cincinnati    134215.0  \n22    5-11   175.0        Miami (FL)   1500000.0  \n23     7-0   275.0          Stanford  19689000.0  \n24    6-11   200.0          Syracuse   1140240.0  \n25    6-10   220.0       Saint Louis    947276.0  \n26    6-10   237.0            Kansas    981348.0  \n27    6-10   248.0        Georgetown    947276.0  \n28     6-3   205.0         Texas A&M    947276.0  \n29     6-8   221.0      Georgia Tech  11235955.0  \n30     6-5   210.0              UCLA   8000000.0  \n31     6-9   220.0              UNLV   1635476.0  \n33     6-8   240.0          Syracuse  22875000.0  \n35     6-8   210.0     Wichita State    845059.0  \n36     6-2   200.0    Saint Joseph's    845059.0  \n..     ...     ...               ...         ...  \n422    6-3   185.0      Murray State   2021520.0  \n423    6-7   210.0          Colorado   1210800.0  \n424    6-8   228.0              Duke   4500000.0  \n425    6-4   220.0          Syracuse   5138430.0  \n426    6-3   200.0              UCLA  16744218.0  \n427    6-8   240.0            Kansas    525093.0  \n428    6-9   215.0       Wake Forest   8042895.0  \n429    6-5   206.0        Notre Dame    625093.0  \n430    6-6   210.0        California    947276.0  \n431   6-10   240.0    North Carolina   6980802.0  \n432    6-9   215.0        St. John's   2894059.0  \n433    6-5   215.0              Duke   6000000.0  \n434    7-0   265.0  Central Michigan   5016000.0  \n435    7-1   245.0          Illinois   3075880.0  \n436    6-3   195.0       Weber State   4236287.0  \n437    6-4   200.0            Lehigh   2525160.0  \n438    6-7   185.0    Westchester CC    525093.0  \n439   6-11   235.0              Duke   1415520.0  \n440    6-1   173.0            Dayton   2854940.0  \n441    6-9   240.0           Indiana   2637720.0  \n442    6-8   228.0           Clemson   4775000.0  \n443    6-1   191.0          Michigan   2658240.0  \n444    6-6   214.0          Colorado   9463484.0  \n446   6-10   265.0      Georgia Tech  12000000.0  \n448    6-8   226.0            Butler  15409570.0  \n449    6-8   206.0              Duke   1348440.0  \n451    6-6   206.0            Dayton    981348.0  \n452   6-10   234.0          Kentucky   2239800.0  \n453    6-3   203.0            Butler   2433333.0  \n456    7-0   231.0            Kansas    947276.0  \n\n[364 rows x 9 columns]>"
      ]
     },
     "execution_count": 9,
     "metadata": {},
     "output_type": "execute_result"
    }
   ],
   "source": [
    "a=nba.dropna(subset=['Salary','College'])\n",
    "a.head"
   ]
  },
  {
   "cell_type": "code",
   "execution_count": null,
   "metadata": {},
   "outputs": [],
   "source": []
  }
 ],
 "metadata": {
  "kernelspec": {
   "display_name": "Python 2",
   "language": "python",
   "name": "python2"
  },
  "language_info": {
   "codemirror_mode": {
    "name": "ipython",
    "version": 2
   },
   "file_extension": ".py",
   "mimetype": "text/x-python",
   "name": "python",
   "nbconvert_exporter": "python",
   "pygments_lexer": "ipython2",
   "version": "2.7.6"
  }
 },
 "nbformat": 4,
 "nbformat_minor": 0
}
