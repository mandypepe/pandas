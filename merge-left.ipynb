{
 "cells": [
  {
   "cell_type": "code",
   "execution_count": 6,
   "metadata": {
    "collapsed": true
   },
   "outputs": [
    {
     "name": "stdout",
     "output_type": "stream",
     "text": [
      "<class 'pandas.core.frame.DataFrame'>\nRangeIndex: 10 entries, 0 to 9\nData columns (total 3 columns):\nFood ID      10 non-null int64\nFood Item    10 non-null object\nPrice        10 non-null float64\ndtypes: float64(1), int64(1), object(1)\nmemory usage: 320.0+ bytes\n"
     ]
    }
   ],
   "source": [
    "import pandas as pd\n",
    "import matplotlib.pyplot as plt\n",
    "import numpy as np\n",
    "%matplotlib inline\n",
    "w1=pd.read_csv(\"csvs/Restaurant - Week 1 Sales.csv\")\n",
    "w2=pd.read_csv(\"csvs/Restaurant - Week 2 Sales.csv\")\n",
    "ct=pd.read_csv(\"csvs/Restaurant - Customers.csv\")\n",
    "fot=pd.read_csv(\"csvs/Restaurant - Foods.csv\")\n",
    "fot.info()\n"
   ]
  },
  {
   "cell_type": "code",
   "execution_count": 9,
   "metadata": {},
   "outputs": [],
   "source": [
    "merge2=w1.merge(fot,how='left',on=['Food ID'], suffixes=['-w1','-w2'],indicator=True,sort=True)"
   ]
  },
  {
   "cell_type": "code",
   "execution_count": 10,
   "metadata": {},
   "outputs": [
    {
     "data": {
      "text/plain": [
       "<bound method NDFrame.head of      Customer ID  Food ID Food Item  Price _merge\n0            658        1     Sushi   3.99   both\n1            600        1     Sushi   3.99   both\n2            155        1     Sushi   3.99   both\n3            341        1     Sushi   3.99   both\n4             20        1     Sushi   3.99   both\n5             77        1     Sushi   3.99   both\n6            100        1     Sushi   3.99   both\n7            953        1     Sushi   3.99   both\n8            504        1     Sushi   3.99   both\n9            323        1     Sushi   3.99   both\n10           922        1     Sushi   3.99   both\n11           909        1     Sushi   3.99   both\n12           602        1     Sushi   3.99   both\n13            74        1     Sushi   3.99   both\n14           703        1     Sushi   3.99   both\n15           962        1     Sushi   3.99   both\n16           968        1     Sushi   3.99   both\n17           190        1     Sushi   3.99   both\n18           163        1     Sushi   3.99   both\n19           321        1     Sushi   3.99   both\n20           310        1     Sushi   3.99   both\n21           798        1     Sushi   3.99   both\n22            92        1     Sushi   3.99   both\n23           646        1     Sushi   3.99   both\n24           202        2   Burrito   9.99   both\n25           288        2   Burrito   9.99   both\n26           954        2   Burrito   9.99   both\n27           203        2   Burrito   9.99   both\n28           876        2   Burrito   9.99   both\n29            30        2   Burrito   9.99   both\n..           ...      ...       ...    ...    ...\n220           77        9     Donut   0.99   both\n221          506        9     Donut   0.99   both\n222          271        9     Donut   0.99   both\n223          380        9     Donut   0.99   both\n224          621        9     Donut   0.99   both\n225          413        9     Donut   0.99   both\n226          586       10     Drink   1.75   both\n227          519       10     Drink   1.75   both\n228          226       10     Drink   1.75   both\n229          682       10     Drink   1.75   both\n230          450       10     Drink   1.75   both\n231          358       10     Drink   1.75   both\n232          677       10     Drink   1.75   both\n233          250       10     Drink   1.75   both\n234          351       10     Drink   1.75   both\n235          937       10     Drink   1.75   both\n236           64       10     Drink   1.75   both\n237          912       10     Drink   1.75   both\n238          772       10     Drink   1.75   both\n239          919       10     Drink   1.75   both\n240          574       10     Drink   1.75   both\n241          338       10     Drink   1.75   both\n242          225       10     Drink   1.75   both\n243          475       10     Drink   1.75   both\n244           51       10     Drink   1.75   both\n245          809       10     Drink   1.75   both\n246          584       10     Drink   1.75   both\n247          274       10     Drink   1.75   both\n248          151       10     Drink   1.75   both\n249          535       10     Drink   1.75   both\n\n[250 rows x 5 columns]>"
      ]
     },
     "execution_count": 10,
     "metadata": {},
     "output_type": "execute_result"
    }
   ],
   "source": [
    "merge2.head"
   ]
  },
  {
   "cell_type": "code",
   "execution_count": null,
   "metadata": {},
   "outputs": [],
   "source": []
  }
 ],
 "metadata": {
  "kernelspec": {
   "display_name": "Python 2",
   "language": "python",
   "name": "python2"
  },
  "language_info": {
   "codemirror_mode": {
    "name": "ipython",
    "version": 2
   },
   "file_extension": ".py",
   "mimetype": "text/x-python",
   "name": "python",
   "nbconvert_exporter": "python",
   "pygments_lexer": "ipython2",
   "version": "2.7.6"
  }
 },
 "nbformat": 4,
 "nbformat_minor": 0
}
