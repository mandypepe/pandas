{
 "cells": [
  {
   "cell_type": "code",
   "execution_count": 1,
   "metadata": {
    "collapsed": true
   },
   "outputs": [],
   "source": [
    "import pandas as pd\n",
    "import matplotlib.pyplot as plt\n",
    "import numpy as np\n",
    "%matplotlib inline\n",
    "w1=pd.read_csv(\"csvs/Restaurant - Week 1 Sales.csv\")\n",
    "w2=pd.read_csv(\"csvs/Restaurant - Week 2 Sales.csv\")\n",
    "ct=pd.read_csv(\"csvs/Restaurant - Customers.csv\")\n",
    "fot=pd.read_csv(\"csvs/Restaurant - Foods.csv\")\n"
   ]
  },
  {
   "cell_type": "code",
   "execution_count": 2,
   "metadata": {
    "collapsed": true
   },
   "outputs": [
    {
     "data": {
      "text/plain": [
       "<bound method NDFrame.head of      Customer ID  Food ID\n0            688       10\n1            813        7\n2            495       10\n3            189        5\n4            267        3\n5            310        5\n6            761        2\n7            443        5\n8            729        9\n9            741        8\n10           847        6\n11           156       10\n12           550        7\n13           620       10\n14           272        4\n15           511        2\n16             8        6\n17           534        7\n18           909        6\n19           732        9\n20           372        4\n21           713        1\n22           496        3\n23           381        9\n24            13        2\n25           101        4\n26           325        7\n27           674        2\n28           564        8\n29           578        5\n..           ...      ...\n220          147        8\n221          745        4\n222          184        3\n223          828        8\n224          578        5\n225          491        4\n226           62        4\n227           77        9\n228          506        9\n229          271        9\n230          584       10\n231          148        5\n232          595        3\n233          274       10\n234          646        1\n235          520        8\n236          644        8\n237          725        8\n238          934        4\n239          151       10\n240          945        5\n241          343        3\n242          380        9\n243          911        4\n244          621        9\n245          413        9\n246          926        6\n247          134        3\n248          396        6\n249          535       10\n\n[500 rows x 2 columns]>"
      ]
     },
     "execution_count": 2,
     "metadata": {},
     "output_type": "execute_result"
    }
   ],
   "source": [
    "w2.append(w1).head"
   ]
  },
  {
   "cell_type": "code",
   "execution_count": 4,
   "metadata": {
    "collapsed": true
   },
   "outputs": [
    {
     "data": {
      "text/plain": [
       "<bound method NDFrame.head of      Customer ID  Food ID\n0            688       10\n1            813        7\n2            495       10\n3            189        5\n4            267        3\n5            310        5\n6            761        2\n7            443        5\n8            729        9\n9            741        8\n10           847        6\n11           156       10\n12           550        7\n13           620       10\n14           272        4\n15           511        2\n16             8        6\n17           534        7\n18           909        6\n19           732        9\n20           372        4\n21           713        1\n22           496        3\n23           381        9\n24            13        2\n25           101        4\n26           325        7\n27           674        2\n28           564        8\n29           578        5\n..           ...      ...\n470          147        8\n471          745        4\n472          184        3\n473          828        8\n474          578        5\n475          491        4\n476           62        4\n477           77        9\n478          506        9\n479          271        9\n480          584       10\n481          148        5\n482          595        3\n483          274       10\n484          646        1\n485          520        8\n486          644        8\n487          725        8\n488          934        4\n489          151       10\n490          945        5\n491          343        3\n492          380        9\n493          911        4\n494          621        9\n495          413        9\n496          926        6\n497          134        3\n498          396        6\n499          535       10\n\n[500 rows x 2 columns]>"
      ]
     },
     "execution_count": 4,
     "metadata": {},
     "output_type": "execute_result"
    }
   ],
   "source": [
    "w2.append(w1,ignore_index=True).head"
   ]
  },
  {
   "cell_type": "code",
   "execution_count": null,
   "metadata": {},
   "outputs": [],
   "source": []
  }
 ],
 "metadata": {
  "kernelspec": {
   "display_name": "Python 2",
   "language": "python",
   "name": "python2"
  },
  "language_info": {
   "codemirror_mode": {
    "name": "ipython",
    "version": 2
   },
   "file_extension": ".py",
   "mimetype": "text/x-python",
   "name": "python",
   "nbconvert_exporter": "python",
   "pygments_lexer": "ipython2",
   "version": "2.7.6"
  }
 },
 "nbformat": 4,
 "nbformat_minor": 0
}
