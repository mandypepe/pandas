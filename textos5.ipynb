{
 "cells": [
  {
   "cell_type": "code",
   "execution_count": 3,
   "metadata": {
    "collapsed": false
   },
   "outputs": [
    {
     "name": "stdout",
     "output_type": "stream",
     "text": [
      "<class 'pandas.core.frame.DataFrame'>\nInt64Index: 32062 entries, 0 to 32061\nData columns (total 4 columns):\nName                      32062 non-null object\nPosition Title            32062 non-null object\nDepartment                32062 non-null category\nEmployee Annual Salary    32062 non-null object\ndtypes: category(1), object(3)\nmemory usage: 1.0+ MB\n"
     ]
    }
   ],
   "source": [
    "import pandas as pd\n",
    "import matplotlib.pyplot as plt\n",
    "import numpy as np\n",
    "%matplotlib inline\n",
    "ch=pd.read_csv(\"csvs/chicago.csv\").dropna(how='all')\n",
    "ch['Department']=ch['Department'].astype('category')\n",
    "ch.info()"
   ]
  },
  {
   "cell_type": "code",
   "execution_count": 7,
   "metadata": {
    "collapsed": true
   },
   "outputs": [
    {
     "data": {
      "text/plain": [
       "WILLIAMS            293\nJOHNSON             244\nSMITH               241\nBROWN               185\nJONES               183\nRODRIGUEZ           171\nJACKSON             136\nGARCIA              130\nDAVIS               127\nHERNANDEZ           110\nMARTINEZ            108\nLOPEZ               106\nGONZALEZ            104\nPEREZ               100\nWILSON               94\nRIVERA               90\nTHOMAS               89\nANDERSON             82\nTORRES               81\nMURPHY               80\nROBINSON             79\nMOORE                78\nSANCHEZ              76\nHARRIS               76\nMILLER               75\nLEWIS                74\nTAYLOR               73\nMARTIN               72\nCLARK                66\nWHITE                66\n                   ... \nWORTHAM               1\nKATTAN                1\nWOODWARD              1\nGREAR                 1\nABRAMAVICIUS          1\nHAZZIEZ               1\nCHVAL                 1\nDOW                   1\nPRSKALO               1\nBOWES                 1\nPELLEGRINO            1\nAUGUSTE               1\nSPINO                 1\nGODZIELA              1\nKILDUFF KIENZLER      1\nZWIT                  1\nWARNER  JR            1\nHIGGS                 1\nMIDONA JR             1\nSCARBERRY             1\nFAHEY JR              1\nHODGES-PACIONE        1\nWALDMAN               1\nARSLAN                1\nLOVE III              1\nSENDERAK              1\nSTANUKINOS            1\nWATERS IV             1\nAUSMANN               1\nPENSON                1\nName: Name, Length: 13830, dtype: int64"
      ]
     },
     "execution_count": 7,
     "metadata": {},
     "output_type": "execute_result"
    }
   ],
   "source": [
    "ch['Name'].str.split(',').str.get(0).value_counts()"
   ]
  },
  {
   "cell_type": "code",
   "execution_count": 11,
   "metadata": {
    "collapsed": true
   },
   "outputs": [
    {
     "data": {
      "text/plain": [
       "MICHAEL        1153\nJOHN            899\nJAMES           676\nROBERT          622\nJOSEPH          537\nDAVID           506\nTHOMAS          490\nDANIEL          472\nWILLIAM         397\nANTHONY         385\nKEVIN           331\nBRIAN           320\nRICHARD         314\nMARK            310\nPATRICK         300\nMATTHEW         247\nTIMOTHY         243\nJOSE            224\nSTEVEN          220\nCHRISTOPHER     217\nPAUL            205\nEDWARD          205\nKENNETH         201\nERIC            170\nCHARLES         163\nJEFFREY         152\nGREGORY         150\nGEORGE          149\nMARY            147\nRONALD          147\n               ... \nCOTY              1\nMACIEJ            1\nRAFAREL           1\nKOURTNAE          1\nTREVA             1\nTRUNG             1\nKEESHA            1\nABASI             1\nELIEL             1\nTSHEYKIA          1\nLESHUN            1\nALYSSA            1\nEDITHA            1\nSAFWAN            1\nMIRZA             1\nLAKEESHA          1\nADRIEN            1\nYAMIL             1\nLIBBY             1\nROSANNA           1\nCHASSATTY         1\nTIBALDO           1\nLIZABEL           1\nSALMA             1\nMARTINEZ          1\nCARISSA           1\nCIRILO            1\nBHARAT            1\nHONG              1\nTARITA            1\nName: Name, Length: 5091, dtype: int64"
      ]
     },
     "execution_count": 11,
     "metadata": {},
     "output_type": "execute_result"
    }
   ],
   "source": [
    "ch['Name'].str.split(',').str.get(1).str.strip().str.split(' ').str.get(0).value_counts()"
   ]
  },
  {
   "cell_type": "code",
   "execution_count": 12,
   "metadata": {},
   "outputs": [],
   "source": [
    "ch[['Nombre','Snombre']]=ch['Name'].str.split(',',expand=True)"
   ]
  },
  {
   "cell_type": "code",
   "execution_count": 16,
   "metadata": {
    "collapsed": true
   },
   "outputs": [
    {
     "data": {
      "text/plain": [
       "<bound method NDFrame.head of                            0                     1            2  \\\n0                      WATER                  RATE        TAKER   \n1                     POLICE               OFFICER         None   \n2                     POLICE               OFFICER         None   \n3                      CHIEF              CONTRACT    EXPEDITER   \n4                      CIVIL              ENGINEER           IV   \n5                       ASST                    TO          THE   \n6                    GENERAL               LABORER            -   \n7                    TRAFFIC               CONTROL  AIDE-HOURLY   \n8                      STAFF                  ASST           TO   \n9                 ELECTRICAL              MECHANIC         None   \n10                      FIRE          ENGINEER-EMT         None   \n11                    POLICE               OFFICER         None   \n12                    FOSTER           GRANDPARENT         None   \n13                     CLERK                   III         None   \n14              INVESTIGATOR                     -         IPRA   \n15                    POLICE               OFFICER         None   \n16                    POLICE               OFFICER         None   \n17               FIREFIGHTER                  (PER  ARBITRATORS   \n18                    POLICE               OFFICER         None   \n19     FIREFIGHTER/PARAMEDIC                  None         None   \n20               ENGINEERING            TECHNICIAN           VI   \n21           FIREFIGHTER-EMT                  None         None   \n22                LIEUTENANT                  None         None   \n23                  CROSSING                 GUARD         None   \n24                ELECTRICAL  MECHANIC-AUTO-POLICE          MTR   \n25                     CIVIL              ENGINEER           II   \n26                   GENERAL               LABORER            -   \n27                    FOSTER           GRANDPARENT         None   \n28                    POLICE               OFFICER         None   \n29                 PARAMEDIC                  None         None   \n...                      ...                   ...          ...   \n32032                 GARAGE             ATTENDANT         None   \n32033                 POLICE               OFFICER         None   \n32034                 POLICE               OFFICER         None   \n32035                 POLICE               OFFICER         None   \n32036                GENERAL               LABORER            -   \n32037        FIREFIGHTER-EMT                  None         None   \n32038                LABORER                     -   APPRENTICE   \n32039         LIEUTENANT-EMT                  None         None   \n32040                 POLICE               OFFICER         None   \n32041               CROSSING                 GUARD         None   \n32042                    FRM                    OF   MACHINISTS   \n32043             SANITATION               LABORER         None   \n32044                 POLICE               OFFICER         None   \n32045             ELECTRICAL              MECHANIC         None   \n32046                 SENIOR                PUBLIC  INFORMATION   \n32047                 POLICE               OFFICER         None   \n32048                  LEGAL             SECRETARY         None   \n32049               CROSSING                 GUARD         None   \n32050                   POOL                 MOTOR        TRUCK   \n32051                AIRPORT            OPERATIONS       SUPVSR   \n32052                 POLICE               OFFICER         None   \n32053        FIREFIGHTER-EMT                  None         None   \n32054                 POLICE               OFFICER         None   \n32055                 POLICE               OFFICER         None   \n32056              MACHINIST          (AUTOMOTIVE)         None   \n32057                    FRM                    OF   MACHINISTS   \n32058                 POLICE               OFFICER         None   \n32059                 POLICE               OFFICER         None   \n32060                 POLICE               OFFICER         None   \n32061                  CHIEF                  DATA         BASE   \n\n                      3           4     5     6     7     8  \n0                  None        None  None  None  None  None  \n1                  None        None  None  None  None  None  \n2                  None        None  None  None  None  None  \n3                  None        None  None  None  None  None  \n4                  None        None  None  None  None  None  \n5              ALDERMAN        None  None  None  None  None  \n6                   DSS        None  None  None  None  None  \n7                  None        None  None  None  None  None  \n8                   THE    ALDERMAN  None  None  None  None  \n9                  None        None  None  None  None  None  \n10                 None        None  None  None  None  None  \n11                 None        None  None  None  None  None  \n12                 None        None  None  None  None  None  \n13                 None        None  None  None  None  None  \n14                   II        None  None  None  None  None  \n15                 None        None  None  None  None  None  \n16                 None        None  None  None  None  None  \n17     AWARD)-PARAMEDIC        None  None  None  None  None  \n18                 None        None  None  None  None  None  \n19                 None        None  None  None  None  None  \n20                 None        None  None  None  None  None  \n21                 None        None  None  None  None  None  \n22                 None        None  None  None  None  None  \n23                 None        None  None  None  None  None  \n24                  MNT        None  None  None  None  None  \n25                 None        None  None  None  None  None  \n26                  DSS        None  None  None  None  None  \n27                 None        None  None  None  None  None  \n28                 None        None  None  None  None  None  \n29                 None        None  None  None  None  None  \n...                 ...         ...   ...   ...   ...   ...  \n32032              None        None  None  None  None  None  \n32033              None        None  None  None  None  None  \n32034              None        None  None  None  None  None  \n32035              None        None  None  None  None  None  \n32036               DSS        None  None  None  None  None  \n32037              None        None  None  None  None  None  \n32038              None        None  None  None  None  None  \n32039              None        None  None  None  None  None  \n32040              None        None  None  None  None  None  \n32041              None        None  None  None  None  None  \n32042                 -  AUTOMOTIVE  None  None  None  None  \n32043              None        None  None  None  None  None  \n32044              None        None  None  None  None  None  \n32045              None        None  None  None  None  None  \n32046           OFFICER        None  None  None  None  None  \n32047              None        None  None  None  None  None  \n32048              None        None  None  None  None  None  \n32049              None        None  None  None  None  None  \n32050            DRIVER        None  None  None  None  None  \n32051                 I        None  None  None  None  None  \n32052              None        None  None  None  None  None  \n32053              None        None  None  None  None  None  \n32054              None        None  None  None  None  None  \n32055              None        None  None  None  None  None  \n32056              None        None  None  None  None  None  \n32057                 -  AUTOMOTIVE  None  None  None  None  \n32058              None        None  None  None  None  None  \n32059              None        None  None  None  None  None  \n32060              None        None  None  None  None  None  \n32061           ANALYST        None  None  None  None  None  \n\n[32062 rows x 9 columns]>"
      ]
     },
     "execution_count": 16,
     "metadata": {},
     "output_type": "execute_result"
    }
   ],
   "source": [
    "ch['Position Title'].str.split(\" \",expand=True).head"
   ]
  },
  {
   "cell_type": "code",
   "execution_count": 20,
   "metadata": {},
   "outputs": [
    {
     "data": {
      "text/plain": [
       "<bound method NDFrame.head of                            0                     1  \\\n0                      WATER                  RATE   \n1                     POLICE               OFFICER   \n2                     POLICE               OFFICER   \n3                      CHIEF              CONTRACT   \n4                      CIVIL              ENGINEER   \n5                       ASST                    TO   \n6                    GENERAL               LABORER   \n7                    TRAFFIC               CONTROL   \n8                      STAFF                  ASST   \n9                 ELECTRICAL              MECHANIC   \n10                      FIRE          ENGINEER-EMT   \n11                    POLICE               OFFICER   \n12                    FOSTER           GRANDPARENT   \n13                     CLERK                   III   \n14              INVESTIGATOR                     -   \n15                    POLICE               OFFICER   \n16                    POLICE               OFFICER   \n17               FIREFIGHTER                  (PER   \n18                    POLICE               OFFICER   \n19     FIREFIGHTER/PARAMEDIC                  None   \n20               ENGINEERING            TECHNICIAN   \n21           FIREFIGHTER-EMT                  None   \n22                LIEUTENANT                  None   \n23                  CROSSING                 GUARD   \n24                ELECTRICAL  MECHANIC-AUTO-POLICE   \n25                     CIVIL              ENGINEER   \n26                   GENERAL               LABORER   \n27                    FOSTER           GRANDPARENT   \n28                    POLICE               OFFICER   \n29                 PARAMEDIC                  None   \n...                      ...                   ...   \n32032                 GARAGE             ATTENDANT   \n32033                 POLICE               OFFICER   \n32034                 POLICE               OFFICER   \n32035                 POLICE               OFFICER   \n32036                GENERAL               LABORER   \n32037        FIREFIGHTER-EMT                  None   \n32038                LABORER                     -   \n32039         LIEUTENANT-EMT                  None   \n32040                 POLICE               OFFICER   \n32041               CROSSING                 GUARD   \n32042                    FRM                    OF   \n32043             SANITATION               LABORER   \n32044                 POLICE               OFFICER   \n32045             ELECTRICAL              MECHANIC   \n32046                 SENIOR                PUBLIC   \n32047                 POLICE               OFFICER   \n32048                  LEGAL             SECRETARY   \n32049               CROSSING                 GUARD   \n32050                   POOL                 MOTOR   \n32051                AIRPORT            OPERATIONS   \n32052                 POLICE               OFFICER   \n32053        FIREFIGHTER-EMT                  None   \n32054                 POLICE               OFFICER   \n32055                 POLICE               OFFICER   \n32056              MACHINIST          (AUTOMOTIVE)   \n32057                    FRM                    OF   \n32058                 POLICE               OFFICER   \n32059                 POLICE               OFFICER   \n32060                 POLICE               OFFICER   \n32061                  CHIEF                  DATA   \n\n                                  2  \n0                             TAKER  \n1                              None  \n2                              None  \n3                         EXPEDITER  \n4                                IV  \n5                      THE ALDERMAN  \n6                             - DSS  \n7                       AIDE-HOURLY  \n8                   TO THE ALDERMAN  \n9                              None  \n10                             None  \n11                             None  \n12                             None  \n13                             None  \n14                          IPRA II  \n15                             None  \n16                             None  \n17     ARBITRATORS AWARD)-PARAMEDIC  \n18                             None  \n19                             None  \n20                               VI  \n21                             None  \n22                             None  \n23                             None  \n24                          MTR MNT  \n25                               II  \n26                            - DSS  \n27                             None  \n28                             None  \n29                             None  \n...                             ...  \n32032                          None  \n32033                          None  \n32034                          None  \n32035                          None  \n32036                         - DSS  \n32037                          None  \n32038                    APPRENTICE  \n32039                          None  \n32040                          None  \n32041                          None  \n32042       MACHINISTS - AUTOMOTIVE  \n32043                          None  \n32044                          None  \n32045                          None  \n32046           INFORMATION OFFICER  \n32047                          None  \n32048                          None  \n32049                          None  \n32050                  TRUCK DRIVER  \n32051                      SUPVSR I  \n32052                          None  \n32053                          None  \n32054                          None  \n32055                          None  \n32056                          None  \n32057       MACHINISTS - AUTOMOTIVE  \n32058                          None  \n32059                          None  \n32060                          None  \n32061                  BASE ANALYST  \n\n[32062 rows x 3 columns]>"
      ]
     },
     "execution_count": 20,
     "metadata": {},
     "output_type": "execute_result"
    }
   ],
   "source": [
    "ch['Position Title'].str.split(\" \",expand=True,n=2).head"
   ]
  },
  {
   "cell_type": "code",
   "execution_count": null,
   "metadata": {},
   "outputs": [],
   "source": []
  }
 ],
 "metadata": {
  "kernelspec": {
   "display_name": "Python 2",
   "language": "python",
   "name": "python2"
  },
  "language_info": {
   "codemirror_mode": {
    "name": "ipython",
    "version": 2
   },
   "file_extension": ".py",
   "mimetype": "text/x-python",
   "name": "python",
   "nbconvert_exporter": "python",
   "pygments_lexer": "ipython2",
   "version": "2.7.6"
  }
 },
 "nbformat": 4,
 "nbformat_minor": 0
}
