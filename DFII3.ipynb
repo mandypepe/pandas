{
 "cells": [
  {
   "cell_type": "code",
   "execution_count": 1,
   "metadata": {
    "collapsed": true
   },
   "outputs": [
    {
     "name": "stdout",
     "output_type": "stream",
     "text": [
      "<class 'pandas.core.frame.DataFrame'>\nRangeIndex: 1000 entries, 0 to 999\nData columns (total 8 columns):\nFirst Name           933 non-null object\nGender               855 non-null category\nStart Date           1000 non-null datetime64[ns]\nLast Login Time      1000 non-null datetime64[ns]\nSalary               1000 non-null int64\nBonus %              1000 non-null float64\nSenior Management    1000 non-null bool\nTeam                 957 non-null object\ndtypes: bool(1), category(1), datetime64[ns](2), float64(1), int64(1), object(2)\nmemory usage: 49.0+ KB\n"
     ]
    }
   ],
   "source": [
    "import pandas as pd\n",
    "import matplotlib.pyplot as plt\n",
    "import numpy as np\n",
    "%matplotlib inline\n",
    "df=pd.read_csv(\"csvs/employees.csv\",parse_dates=['Last Login Time','Start Date'])\n",
    "df['Senior Management']=df['Senior Management'].astype(\"bool\")\n",
    "df['Gender']=df['Gender'].astype('category')\n",
    "df.info()\n"
   ]
  },
  {
   "cell_type": "code",
   "execution_count": 5,
   "metadata": {
    "collapsed": true
   },
   "outputs": [
    {
     "data": {
      "text/plain": [
       "<bound method NDFrame.head of     First Name  Gender Start Date     Last Login Time  Salary  Bonus %  \\\n0      Douglas    Male 1993-08-06 2019-01-05 12:42:00   97308    6.945   \n1       Thomas    Male 1996-03-31 2019-01-05 06:53:00   61933    4.170   \n3        Jerry    Male 2005-03-04 2019-01-05 13:00:00  138705    9.340   \n4        Larry    Male 1998-01-24 2019-01-05 16:47:00  101004    1.389   \n5       Dennis    Male 1987-04-18 2019-01-05 01:35:00  115163   10.125   \n6         Ruby  Female 1987-08-17 2019-01-05 16:20:00   65476   10.012   \n7          NaN  Female 2015-07-20 2019-01-05 10:43:00   45906   11.598   \n8       Angela  Female 2005-11-22 2019-01-05 06:29:00   95570   18.523   \n9      Frances  Female 2002-08-08 2019-01-05 06:51:00  139852    7.524   \n10      Louise  Female 1980-08-12 2019-01-05 09:01:00   63241   15.132   \n11       Julie  Female 1997-10-26 2019-01-05 15:19:00  102508   12.637   \n12     Brandon    Male 1980-12-01 2019-01-05 01:08:00  112807   17.492   \n14    Kimberly  Female 1999-01-14 2019-01-05 07:13:00   41426   14.543   \n17       Shawn    Male 1986-12-07 2019-01-05 19:45:00  111737    6.414   \n18       Diana  Female 1981-10-23 2019-01-05 10:27:00  132940   19.082   \n20        Lois     NaN 1995-04-22 2019-01-05 19:18:00   64714    4.934   \n22      Joshua     NaN 2012-03-08 2019-01-05 01:58:00   90816   18.816   \n23         NaN    Male 2012-06-14 2019-01-05 16:19:00  125792    5.042   \n25         NaN    Male 2012-10-08 2019-01-05 01:12:00   37076   18.576   \n26       Craig    Male 2000-02-27 2019-01-05 07:45:00   37598    7.757   \n28       Terry    Male 1981-11-27 2019-01-05 18:30:00  124008   13.464   \n29    Benjamin    Male 2005-01-26 2019-01-05 22:06:00   79529    7.008   \n30   Christina  Female 2002-08-06 2019-01-05 13:19:00  118780    9.096   \n32         NaN    Male 1998-08-21 2019-01-05 14:27:00  122340    6.417   \n37       Linda  Female 1981-10-19 2019-01-05 20:49:00   57427    9.557   \n38   Stephanie  Female 1986-09-13 2019-01-05 01:52:00   36844    5.574   \n39         NaN    Male 2016-01-29 2019-01-05 02:33:00  122173    7.797   \n40     Michael    Male 2008-10-10 2019-01-05 11:25:00   99283    2.665   \n41   Christine     NaN 2015-06-28 2019-01-05 01:08:00   66582   11.308   \n43     Marilyn  Female 1980-12-07 2019-01-05 03:16:00   73524    5.207   \n..         ...     ...        ...                 ...     ...      ...   \n957    Jeffrey    Male 1984-02-03 2019-01-05 13:26:00   70990   15.901   \n958     Gloria  Female 1987-10-24 2019-01-05 04:43:00   39833    9.631   \n959     Albert    Male 1992-09-19 2019-01-05 02:35:00   45094    5.850   \n960    Stephen    Male 1989-10-29 2019-01-05 23:34:00   93997   18.093   \n961    Antonio     NaN 1989-06-18 2019-01-05 21:37:00  103050    3.050   \n963        Ann  Female 1994-09-23 2019-01-05 11:15:00   89443   17.940   \n964      Bruce    Male 1980-05-07 2019-01-05 20:00:00   35802   12.391   \n965  Catherine  Female 1989-09-25 2019-01-05 01:31:00   68164   18.393   \n966      Louis    Male 2011-08-16 2019-01-05 17:19:00   93022    9.146   \n969      Linda  Female 2010-02-04 2019-01-05 20:49:00   44486   17.308   \n970      Alice  Female 1988-09-03 2019-01-05 20:54:00   63571   15.397   \n971    Patrick    Male 2002-12-30 2019-01-05 02:01:00   75423    5.368   \n972     Victor     NaN 2006-07-28 2019-01-05 14:49:00   76381   11.159   \n974      Harry    Male 2011-08-30 2019-01-05 18:31:00   67656   16.455   \n976     Denise  Female 1992-10-19 2019-01-05 05:42:00  137954    4.195   \n978       Sean    Male 1983-01-17 2019-01-05 14:23:00   66146   11.178   \n979     Ernest    Male 2013-07-20 2019-01-05 06:41:00  142935   13.198   \n980   Kimberly  Female 2013-01-26 2019-01-05 00:57:00   46233    8.862   \n982       Rose  Female 1982-04-06 2019-01-05 10:43:00   91411    8.639   \n983       John    Male 1982-12-23 2019-01-05 22:35:00  146907   11.738   \n985    Stephen     NaN 1983-07-10 2019-01-05 20:10:00   85668    1.909   \n986      Donna  Female 1982-11-26 2019-01-05 07:04:00   82871   17.999   \n987     Gloria  Female 2014-12-08 2019-01-05 05:08:00  136709   10.331   \n990      Robin  Female 1987-07-24 2019-01-05 13:35:00  100765   10.982   \n991       Rose  Female 2002-08-25 2019-01-05 05:12:00  134505   11.051   \n992    Anthony    Male 2011-10-16 2019-01-05 08:35:00  112769   11.625   \n993       Tina  Female 1997-05-15 2019-01-05 15:53:00   56450   19.040   \n994     George    Male 2013-06-21 2019-01-05 17:47:00   98874    4.479   \n996    Phillip    Male 1984-01-31 2019-01-05 06:30:00   42392   19.675   \n999     Albert    Male 2012-05-15 2019-01-05 18:24:00  129949   10.169   \n\n     Senior Management                  Team  \n0                 True             Marketing  \n1                 True                   NaN  \n3                 True               Finance  \n4                 True       Client Services  \n5                False                 Legal  \n6                 True               Product  \n7                 True               Finance  \n8                 True           Engineering  \n9                 True  Business Development  \n10                True                   NaN  \n11                True                 Legal  \n12                True       Human Resources  \n14                True               Finance  \n17               False               Product  \n18               False       Client Services  \n20                True                 Legal  \n22                True       Client Services  \n23                True                   NaN  \n25                True       Client Services  \n26                True             Marketing  \n28                True       Client Services  \n29                True                 Legal  \n30                True           Engineering  \n32                True                   NaN  \n37                True       Client Services  \n38                True  Business Development  \n39                True       Client Services  \n40                True          Distribution  \n41                True  Business Development  \n43                True             Marketing  \n..                 ...                   ...  \n957               True                 Sales  \n958              False           Engineering  \n959               True  Business Development  \n960               True  Business Development  \n961              False                 Legal  \n963               True                 Sales  \n964               True                 Sales  \n965              False       Client Services  \n966               True       Human Resources  \n969               True           Engineering  \n970               True               Product  \n971               True  Business Development  \n972               True                 Sales  \n974               True       Client Services  \n976               True                 Legal  \n978              False       Human Resources  \n979               True               Product  \n980               True           Engineering  \n982               True       Human Resources  \n983              False           Engineering  \n985              False                 Legal  \n986              False             Marketing  \n987               True               Finance  \n990               True       Client Services  \n991               True             Marketing  \n992               True               Finance  \n993               True           Engineering  \n994               True             Marketing  \n996              False               Finance  \n999               True                 Sales  \n\n[653 rows x 8 columns]>"
      ]
     },
     "execution_count": 5,
     "metadata": {},
     "output_type": "execute_result"
    }
   ],
   "source": [
    "df[(df['Senior Management'])|(df['Start Date']< '1990-01-01')].head\n"
   ]
  },
  {
   "cell_type": "code",
   "execution_count": 9,
   "metadata": {},
   "outputs": [
    {
     "data": {
      "text/plain": [
       "<bound method NDFrame.head of     First Name  Gender Start Date     Last Login Time  Salary  Bonus %  \\\n15     Lillian  Female 2016-06-05 2019-01-05 06:09:00   59414    1.256   \n98        Tina  Female 2016-06-16 2019-01-05 19:47:00  100705   16.961   \n387     Robert    Male 1994-10-29 2019-01-05 04:26:00  123294   19.894   \n451      Terry     NaN 2016-07-15 2019-01-05 00:29:00  140002   19.490   \n\n     Senior Management             Team  \n15               False          Product  \n98                True        Marketing  \n387              False  Client Services  \n451               True        Marketing  >"
      ]
     },
     "execution_count": 9,
     "metadata": {},
     "output_type": "execute_result"
    }
   ],
   "source": [
    "df[((df['First Name']=='Robert')& (df['Team']==\"Client Services\"))|(df['Start Date']> '2016-06-01')].head"
   ]
  },
  {
   "cell_type": "code",
   "execution_count": null,
   "metadata": {},
   "outputs": [],
   "source": []
  }
 ],
 "metadata": {
  "kernelspec": {
   "display_name": "Python 2",
   "language": "python",
   "name": "python2"
  },
  "language_info": {
   "codemirror_mode": {
    "name": "ipython",
    "version": 2
   },
   "file_extension": ".py",
   "mimetype": "text/x-python",
   "name": "python",
   "nbconvert_exporter": "python",
   "pygments_lexer": "ipython2",
   "version": "2.7.6"
  }
 },
 "nbformat": 4,
 "nbformat_minor": 0
}
