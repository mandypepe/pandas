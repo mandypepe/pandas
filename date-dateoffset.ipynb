{
 "cells": [
  {
   "cell_type": "code",
   "execution_count": 16,
   "metadata": {
    "collapsed": true
   },
   "outputs": [
    {
     "name": "stdout",
     "output_type": "stream",
     "text": [
      "<class 'pandas.core.frame.DataFrame'>\nDatetimeIndex: 1251 entries, 2014-01-13 to 2018-12-31\nData columns (total 5 columns):\nopen      1251 non-null float64\nhigh      1251 non-null float64\nlow       1251 non-null float64\nclose     1251 non-null float64\nvolume    1251 non-null int64\ndtypes: float64(4), int64(1)\nmemory usage: 58.6 KB\n"
     ]
    }
   ],
   "source": [
    "import pandas as pd\n",
    "import pandas.tseries.offsets as offst\n",
    "import datetime as dt\n",
    "import pandas_datareader as pdr\n",
    "company= \"BAC\"\n",
    "start=\"2014-01-01\"\n",
    "end=\"2018-12-31\"\n",
    "df=pdr.DataReader(name=company,data_source='iex',start=start,end=end)\n",
    "df.index=pd.to_datetime(df.index)\n",
    "df.info()\n",
    "df.sort_index(inplace=True)"
   ]
  },
  {
   "cell_type": "code",
   "execution_count": 6,
   "metadata": {
    "collapsed": true
   },
   "outputs": [
    {
     "data": {
      "text/plain": [
       "DatetimeIndex(['2014-01-18', '2014-01-19', '2014-01-20', '2014-01-21',\n               '2014-01-22', '2014-01-26', '2014-01-27', '2014-01-28',\n               '2014-01-29', '2014-02-01',\n               ...\n               '2018-12-22', '2018-12-23', '2018-12-24', '2018-12-25',\n               '2018-12-26', '2018-12-29', '2018-12-31', '2019-01-01',\n               '2019-01-02', '2019-01-05'],\n              dtype='datetime64[ns]', name='date', length=1251, freq=None)"
      ]
     },
     "execution_count": 6,
     "metadata": {},
     "output_type": "execute_result"
    }
   ],
   "source": [
    "df.index+pd.DateOffset(days=5)"
   ]
  },
  {
   "cell_type": "code",
   "execution_count": 3,
   "metadata": {},
   "outputs": [],
   "source": [
    "#df.index=df.index+pd.DateOffset(days=5)"
   ]
  },
  {
   "cell_type": "code",
   "execution_count": 7,
   "metadata": {
    "collapsed": true
   },
   "outputs": [
    {
     "data": {
      "text/plain": [
       "DatetimeIndex(['2014-01-27', '2014-01-28', '2014-01-29', '2014-01-30',\n               '2014-01-31', '2014-02-04', '2014-02-05', '2014-02-06',\n               '2014-02-07', '2014-02-10',\n               ...\n               '2018-12-31', '2019-01-01', '2019-01-02', '2019-01-03',\n               '2019-01-04', '2019-01-07', '2019-01-09', '2019-01-10',\n               '2019-01-11', '2019-01-14'],\n              dtype='datetime64[ns]', name='date', length=1251, freq=None)"
      ]
     },
     "execution_count": 7,
     "metadata": {},
     "output_type": "execute_result"
    }
   ],
   "source": [
    "df.index+pd.DateOffset(weeks=2)"
   ]
  },
  {
   "cell_type": "code",
   "execution_count": 8,
   "metadata": {
    "collapsed": true
   },
   "outputs": [
    {
     "data": {
      "text/plain": [
       "DatetimeIndex(['2013-12-30', '2013-12-31', '2014-01-01', '2014-01-02',\n               '2014-01-03', '2014-01-07', '2014-01-08', '2014-01-09',\n               '2014-01-10', '2014-01-13',\n               ...\n               '2018-12-03', '2018-12-04', '2018-12-05', '2018-12-06',\n               '2018-12-07', '2018-12-10', '2018-12-12', '2018-12-13',\n               '2018-12-14', '2018-12-17'],\n              dtype='datetime64[ns]', name='date', length=1251, freq=None)"
      ]
     },
     "execution_count": 8,
     "metadata": {},
     "output_type": "execute_result"
    }
   ],
   "source": [
    "df.index-pd.DateOffset(weeks=2)"
   ]
  },
  {
   "cell_type": "code",
   "execution_count": 10,
   "metadata": {
    "collapsed": true
   },
   "outputs": [
    {
     "data": {
      "text/plain": [
       "DatetimeIndex(['2014-03-13', '2014-03-14', '2014-03-15', '2014-03-16',\n               '2014-03-17', '2014-03-21', '2014-03-22', '2014-03-23',\n               '2014-03-24', '2014-03-27',\n               ...\n               '2018-03-17', '2018-03-18', '2018-03-19', '2018-03-20',\n               '2018-03-21', '2018-03-24', '2018-03-26', '2018-03-27',\n               '2018-03-28', '2018-03-31'],\n              dtype='datetime64[ns]', name='date', length=1251, freq=None)"
      ]
     },
     "execution_count": 10,
     "metadata": {},
     "output_type": "execute_result"
    }
   ],
   "source": [
    "df.index + pd.DateOffset(month=3)"
   ]
  },
  {
   "cell_type": "code",
   "execution_count": 12,
   "metadata": {
    "collapsed": true
   },
   "outputs": [
    {
     "data": {
      "text/plain": [
       "DatetimeIndex(['2017-01-13', '2017-01-14', '2017-01-15', '2017-01-16',\n               '2017-01-17', '2017-01-21', '2017-01-22', '2017-01-23',\n               '2017-01-24', '2017-01-27',\n               ...\n               '2021-12-17', '2021-12-18', '2021-12-19', '2021-12-20',\n               '2021-12-21', '2021-12-24', '2021-12-26', '2021-12-27',\n               '2021-12-28', '2021-12-31'],\n              dtype='datetime64[ns]', name='date', length=1251, freq=None)"
      ]
     },
     "execution_count": 12,
     "metadata": {},
     "output_type": "execute_result"
    }
   ],
   "source": [
    "df.index + pd.DateOffset(years=3)"
   ]
  },
  {
   "cell_type": "code",
   "execution_count": 13,
   "metadata": {
    "collapsed": true
   },
   "outputs": [
    {
     "data": {
      "text/plain": [
       "DatetimeIndex(['2014-01-13 03:00:00', '2014-01-14 03:00:00',\n               '2014-01-15 03:00:00', '2014-01-16 03:00:00',\n               '2014-01-17 03:00:00', '2014-01-21 03:00:00',\n               '2014-01-22 03:00:00', '2014-01-23 03:00:00',\n               '2014-01-24 03:00:00', '2014-01-27 03:00:00',\n               ...\n               '2018-12-17 03:00:00', '2018-12-18 03:00:00',\n               '2018-12-19 03:00:00', '2018-12-20 03:00:00',\n               '2018-12-21 03:00:00', '2018-12-24 03:00:00',\n               '2018-12-26 03:00:00', '2018-12-27 03:00:00',\n               '2018-12-28 03:00:00', '2018-12-31 03:00:00'],\n              dtype='datetime64[ns]', name='date', length=1251, freq=None)"
      ]
     },
     "execution_count": 13,
     "metadata": {},
     "output_type": "execute_result"
    }
   ],
   "source": [
    "df.index + pd.DateOffset(hours=3)"
   ]
  },
  {
   "cell_type": "code",
   "execution_count": 14,
   "metadata": {
    "collapsed": true
   },
   "outputs": [
    {
     "data": {
      "text/plain": [
       "DatetimeIndex(['2017-02-23 02:00:00', '2017-02-24 02:00:00',\n               '2017-02-25 02:00:00', '2017-02-26 02:00:00',\n               '2017-02-27 02:00:00', '2017-03-03 02:00:00',\n               '2017-03-04 02:00:00', '2017-03-05 02:00:00',\n               '2017-03-06 02:00:00', '2017-03-09 02:00:00',\n               ...\n               '2022-01-27 02:00:00', '2022-01-28 02:00:00',\n               '2022-01-29 02:00:00', '2022-01-30 02:00:00',\n               '2022-01-31 02:00:00', '2022-02-03 02:00:00',\n               '2022-02-05 02:00:00', '2022-02-06 02:00:00',\n               '2022-02-07 02:00:00', '2022-02-10 02:00:00'],\n              dtype='datetime64[ns]', name='date', length=1251, freq=None)"
      ]
     },
     "execution_count": 14,
     "metadata": {},
     "output_type": "execute_result"
    }
   ],
   "source": [
    "df.index + pd.DateOffset(years=3,months=1,days=10,hours=2)"
   ]
  },
  {
   "cell_type": "code",
   "execution_count": 15,
   "metadata": {
    "collapsed": true
   },
   "outputs": [
    {
     "data": {
      "text/plain": [
       "DatetimeIndex(['2010-12-02 21:35:00', '2010-12-03 21:35:00',\n               '2010-12-04 21:35:00', '2010-12-05 21:35:00',\n               '2010-12-06 21:35:00', '2010-12-10 21:35:00',\n               '2010-12-11 21:35:00', '2010-12-12 21:35:00',\n               '2010-12-13 21:35:00', '2010-12-16 21:35:00',\n               ...\n               '2015-11-06 21:35:00', '2015-11-07 21:35:00',\n               '2015-11-08 21:35:00', '2015-11-09 21:35:00',\n               '2015-11-10 21:35:00', '2015-11-13 21:35:00',\n               '2015-11-15 21:35:00', '2015-11-16 21:35:00',\n               '2015-11-17 21:35:00', '2015-11-19 21:35:00'],\n              dtype='datetime64[ns]', name='date', length=1251, freq=None)"
      ]
     },
     "execution_count": 15,
     "metadata": {},
     "output_type": "execute_result"
    }
   ],
   "source": [
    "df.index - pd.DateOffset(years=3,months=1,days=10,hours=2,minutes=25)"
   ]
  },
  {
   "cell_type": "code",
   "execution_count": 17,
   "metadata": {},
   "outputs": [
    {
     "data": {
      "text/plain": [
       "DatetimeIndex(['2014-01-31', '2014-01-31', '2014-01-31', '2014-01-31',\n               '2014-01-31', '2014-01-31', '2014-01-31', '2014-01-31',\n               '2014-01-31', '2014-01-31',\n               ...\n               '2018-12-31', '2018-12-31', '2018-12-31', '2018-12-31',\n               '2018-12-31', '2018-12-31', '2018-12-31', '2018-12-31',\n               '2018-12-31', '2019-01-31'],\n              dtype='datetime64[ns]', name='date', length=1251, freq=None)"
      ]
     },
     "execution_count": 17,
     "metadata": {},
     "output_type": "execute_result"
    }
   ],
   "source": [
    "df.index + offst.MonthEnd()"
   ]
  },
  {
   "cell_type": "code",
   "execution_count": 18,
   "metadata": {},
   "outputs": [
    {
     "data": {
      "text/plain": [
       "DatetimeIndex(['2014-02-01', '2014-02-01', '2014-02-01', '2014-02-01',\n               '2014-02-01', '2014-02-01', '2014-02-01', '2014-02-01',\n               '2014-02-01', '2014-02-01',\n               ...\n               '2019-01-01', '2019-01-01', '2019-01-01', '2019-01-01',\n               '2019-01-01', '2019-01-01', '2019-01-01', '2019-01-01',\n               '2019-01-01', '2019-01-01'],\n              dtype='datetime64[ns]', name='date', length=1251, freq=None)"
      ]
     },
     "execution_count": 18,
     "metadata": {},
     "output_type": "execute_result"
    }
   ],
   "source": [
    "df.index + offst.MonthBegin()"
   ]
  },
  {
   "cell_type": "code",
   "execution_count": 19,
   "metadata": {},
   "outputs": [
    {
     "data": {
      "text/plain": [
       "DatetimeIndex(['2014-01-01', '2014-01-01', '2014-01-01', '2014-01-01',\n               '2014-01-01', '2014-01-01', '2014-01-01', '2014-01-01',\n               '2014-01-01', '2014-01-01',\n               ...\n               '2018-12-01', '2018-12-01', '2018-12-01', '2018-12-01',\n               '2018-12-01', '2018-12-01', '2018-12-01', '2018-12-01',\n               '2018-12-01', '2018-12-01'],\n              dtype='datetime64[ns]', name='date', length=1251, freq=None)"
      ]
     },
     "execution_count": 19,
     "metadata": {},
     "output_type": "execute_result"
    }
   ],
   "source": [
    "df.index - offst.MonthBegin()"
   ]
  },
  {
   "cell_type": "code",
   "execution_count": 20,
   "metadata": {
    "collapsed": true
   },
   "outputs": [
    {
     "data": {
      "text/plain": [
       "DatetimeIndex(['2013-12-01', '2013-12-01', '2013-12-01', '2013-12-01',\n               '2013-12-01', '2013-12-01', '2013-12-01', '2013-12-01',\n               '2013-12-01', '2013-12-01',\n               ...\n               '2018-12-01', '2018-12-01', '2018-12-01', '2018-12-01',\n               '2018-12-01', '2018-12-01', '2018-12-01', '2018-12-01',\n               '2018-12-01', '2018-12-01'],\n              dtype='datetime64[ns]', name='date', length=1251, freq=None)"
      ]
     },
     "execution_count": 20,
     "metadata": {},
     "output_type": "execute_result"
    }
   ],
   "source": [
    "df.index - offst.QuarterBegin()"
   ]
  },
  {
   "cell_type": "code",
   "execution_count": 21,
   "metadata": {
    "collapsed": true
   },
   "outputs": [
    {
     "data": {
      "text/plain": [
       "DatetimeIndex(['2013-12-31', '2013-12-31', '2013-12-31', '2013-12-31',\n               '2013-12-31', '2013-12-31', '2013-12-31', '2013-12-31',\n               '2013-12-31', '2013-12-31',\n               ...\n               '2018-09-30', '2018-09-30', '2018-09-30', '2018-09-30',\n               '2018-09-30', '2018-09-30', '2018-09-30', '2018-09-30',\n               '2018-09-30', '2018-09-30'],\n              dtype='datetime64[ns]', name='date', length=1251, freq=None)"
      ]
     },
     "execution_count": 21,
     "metadata": {},
     "output_type": "execute_result"
    }
   ],
   "source": [
    "df.index - offst.QuarterEnd()"
   ]
  },
  {
   "cell_type": "code",
   "execution_count": 23,
   "metadata": {},
   "outputs": [
    {
     "data": {
      "text/plain": [
       "DatetimeIndex(['2014-12-31', '2014-12-31', '2014-12-31', '2014-12-31',\n               '2014-12-31', '2014-12-31', '2014-12-31', '2014-12-31',\n               '2014-12-31', '2014-12-31',\n               ...\n               '2018-12-31', '2018-12-31', '2018-12-31', '2018-12-31',\n               '2018-12-31', '2018-12-31', '2018-12-31', '2018-12-31',\n               '2018-12-31', '2019-12-31'],\n              dtype='datetime64[ns]', name='date', length=1251, freq=None)"
      ]
     },
     "execution_count": 23,
     "metadata": {},
     "output_type": "execute_result"
    }
   ],
   "source": [
    "df.index + offst.YearEnd()"
   ]
  },
  {
   "cell_type": "code",
   "execution_count": null,
   "metadata": {},
   "outputs": [],
   "source": []
  }
 ],
 "metadata": {
  "kernelspec": {
   "display_name": "Python 2",
   "language": "python",
   "name": "python2"
  },
  "language_info": {
   "codemirror_mode": {
    "name": "ipython",
    "version": 2
   },
   "file_extension": ".py",
   "mimetype": "text/x-python",
   "name": "python",
   "nbconvert_exporter": "python",
   "pygments_lexer": "ipython2",
   "version": "2.7.6"
  }
 },
 "nbformat": 4,
 "nbformat_minor": 0
}
