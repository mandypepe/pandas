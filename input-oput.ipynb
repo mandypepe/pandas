{
 "cells": [
  {
   "cell_type": "code",
   "execution_count": 5,
   "metadata": {
    "collapsed": true
   },
   "outputs": [
    {
     "name": "stdout",
     "output_type": "stream",
     "text": [
      "<class 'pandas.core.frame.DataFrame'>\nRangeIndex: 333076 entries, 0 to 333075\nData columns (total 10 columns):\nAnio             333076 non-null int64\nNroMes           333076 non-null int64\nubigeo           333076 non-null int64\nDepartamento     333076 non-null object\nProvincia        333076 non-null object\nDistrito         333076 non-null object\nGrupoEdadCred    333076 non-null object\nSexo             333076 non-null object\nNumControles     333076 non-null object\nCasos            333076 non-null int64\ndtypes: int64(4), object(6)\nmemory usage: 25.4+ MB\n"
     ]
    }
   ],
   "source": [
    "import pandas as pd\n",
    "df=pd.read_csv('http://www.datosabiertos.gob.pe/sites/default/files/recursos/2017/09/DAT%20CRED.csv',encoding = \"ISO-8859-1\")\n",
    "df.info()"
   ]
  },
  {
   "cell_type": "code",
   "execution_count": 6,
   "metadata": {
    "collapsed": true
   },
   "outputs": [
    {
     "data": {
      "text/plain": [
       "['HUARAZ',\n 'HUARAZ',\n 'HUARAZ',\n 'HUARAZ',\n 'HUARAZ',\n 'HUARAZ',\n 'HUARAZ',\n 'HUARAZ',\n 'HUARAZ',\n 'HUARAZ',\n 'HUARAZ',\n 'INDEPENDENCIA',\n 'INDEPENDENCIA',\n 'INDEPENDENCIA',\n 'INDEPENDENCIA',\n 'INDEPENDENCIA',\n 'INDEPENDENCIA',\n 'OLLEROS',\n 'OLLEROS',\n 'ACZO',\n 'CAJACAY',\n 'CARHUAZ',\n 'CARHUAZ',\n 'CARHUAZ',\n 'CARHUAZ',\n 'CARHUAZ',\n 'CARHUAZ',\n 'CARHUAZ',\n 'CARHUAZ',\n 'CARHUAZ',\n 'CARHUAZ',\n 'ACOPAMPA',\n 'ACOPAMPA',\n 'ACOPAMPA',\n 'ACOPAMPA',\n 'ACOPAMPA',\n 'ACOPAMPA',\n 'ACOPAMPA',\n 'ACOPAMPA',\n 'ACOPAMPA',\n 'ANTA',\n 'ANTA',\n 'ANTA',\n 'ANTA',\n 'ANTA',\n 'ANTA',\n 'ATAQUERO',\n 'ATAQUERO',\n 'ATAQUERO',\n 'ATAQUERO',\n 'ATAQUERO',\n 'MARCARA',\n 'MARCARA',\n 'MARCARA',\n 'MARCARA',\n 'MARCARA',\n 'MARCARA',\n 'TINCO',\n 'TINCO',\n 'TINCO',\n 'TINCO',\n 'TINCO',\n 'TINCO',\n 'TINCO',\n 'TINCO',\n 'TINCO',\n 'YUNGAR',\n 'YUNGAR',\n 'YUNGAR',\n 'YUNGAR',\n 'YUNGAR',\n 'YUNGAR',\n 'YUNGAR',\n 'YUNGAR',\n 'YUNGAR',\n 'YUNGAR',\n 'YUNGAR',\n 'CASMA',\n 'HUARAZ',\n 'HUARAZ',\n 'HUARAZ',\n 'HUARAZ',\n 'HUARAZ',\n 'HUARAZ',\n 'HUARAZ',\n 'HUARAZ',\n 'HUARAZ',\n 'HUARAZ',\n 'INDEPENDENCIA',\n 'INDEPENDENCIA',\n 'INDEPENDENCIA',\n 'INDEPENDENCIA',\n 'INDEPENDENCIA',\n 'INDEPENDENCIA',\n 'INDEPENDENCIA',\n 'OLLEROS',\n 'CAJACAY',\n 'CARHUAZ',\n 'CARHUAZ',\n 'CARHUAZ',\n 'CARHUAZ',\n 'CARHUAZ',\n 'CARHUAZ',\n 'CARHUAZ',\n 'CARHUAZ',\n 'CARHUAZ',\n 'CARHUAZ',\n 'CARHUAZ',\n 'ACOPAMPA',\n 'ACOPAMPA',\n 'ACOPAMPA',\n 'ACOPAMPA',\n 'ACOPAMPA',\n 'ACOPAMPA',\n 'ACOPAMPA',\n 'ACOPAMPA',\n 'ANTA',\n 'ANTA',\n 'ANTA',\n 'ANTA',\n 'ANTA',\n 'ANTA',\n 'ANTA',\n 'ANTA',\n 'ANTA',\n 'ANTA',\n 'ATAQUERO',\n 'ATAQUERO',\n 'ATAQUERO',\n 'ATAQUERO',\n 'ATAQUERO',\n 'ATAQUERO',\n 'ATAQUERO',\n 'MARCARA',\n 'MARCARA',\n 'MARCARA',\n 'MARCARA',\n 'MARCARA',\n 'MARCARA',\n 'MARCARA',\n 'MARCARA',\n 'MARCARA',\n 'MARCARA',\n 'MARCARA',\n 'MARCARA',\n 'TINCO',\n 'TINCO',\n 'TINCO',\n 'TINCO',\n 'TINCO',\n 'TINCO',\n 'TINCO',\n 'TINCO',\n 'YUNGAR',\n 'YUNGAR',\n 'YUNGAR',\n 'HUARAZ',\n 'HUARAZ',\n 'HUARAZ',\n 'HUARAZ',\n 'HUARAZ',\n 'HUARAZ',\n 'HUARAZ',\n 'HUARAZ',\n 'HUARAZ',\n 'HUARAZ',\n 'HUARAZ',\n 'HUARAZ',\n 'HUARAZ',\n 'HUARAZ',\n 'INDEPENDENCIA',\n 'INDEPENDENCIA',\n 'INDEPENDENCIA',\n 'INDEPENDENCIA',\n 'INDEPENDENCIA',\n 'INDEPENDENCIA',\n 'INDEPENDENCIA',\n 'INDEPENDENCIA',\n 'SUCCHA',\n 'ACZO',\n 'CAJACAY',\n 'CAJACAY',\n 'CAJACAY',\n 'CAJACAY',\n 'CARHUAZ',\n 'CARHUAZ',\n 'CARHUAZ',\n 'CARHUAZ',\n 'CARHUAZ',\n 'CARHUAZ',\n 'CARHUAZ',\n 'CARHUAZ',\n 'CARHUAZ',\n 'CARHUAZ',\n 'ACOPAMPA',\n 'ACOPAMPA',\n 'ACOPAMPA',\n 'ACOPAMPA',\n 'ACOPAMPA',\n 'ACOPAMPA',\n 'ACOPAMPA',\n 'ANTA',\n 'ANTA',\n 'ANTA',\n 'ANTA',\n 'ANTA',\n 'ANTA',\n 'ANTA',\n 'MARCARA',\n 'MARCARA',\n 'MARCARA',\n 'MARCARA',\n 'MARCARA',\n 'MARCARA',\n 'MARCARA',\n 'MARCARA',\n 'TINCO',\n 'TINCO',\n 'TINCO',\n 'YUNGAR',\n 'YUNGAR',\n 'YUNGAR',\n 'YUNGAR',\n 'YUNGAR',\n 'YUNGAR',\n 'YUNGAR',\n 'YUNGAR',\n 'YUNGAR',\n 'YUNGAR',\n 'SAN LUIS',\n 'SAN LUIS',\n 'SAN LUIS',\n 'CASMA',\n 'CASMA',\n 'CASMA',\n 'CASMA',\n 'CASMA',\n 'CASMA',\n 'CASMA',\n 'CASMA',\n 'CASMA',\n 'CASMA',\n 'CASMA',\n 'CORONGO',\n 'CORONGO',\n 'CORONGO',\n 'CHAVIN DE HUANTAR',\n 'CHAVIN DE HUANTAR',\n 'PAUCAS',\n 'PAUCAS',\n 'PAUCAS',\n 'RAHUAPAMPA',\n 'RAHUAPAMPA',\n 'RAHUAPAMPA',\n 'HUARMEY',\n 'HUARMEY',\n 'HUARMEY',\n 'HUARMEY',\n 'HUARMEY',\n 'HUARMEY',\n 'HUARMEY',\n 'COCHAPETI',\n 'COCHAPETI',\n 'COCHAPETI',\n 'COCHAPETI',\n 'COCHAPETI',\n 'COCHAPETI',\n 'MATO',\n 'MATO',\n 'PAMPAROMAS',\n 'PAMPAROMAS',\n 'PAMPAROMAS',\n 'PAMPAROMAS',\n 'PAMPAROMAS',\n 'PAMPAROMAS',\n 'PAMPAROMAS',\n 'PUEBLO LIBRE',\n 'YURACMARCA',\n 'YURACMARCA',\n 'LLAPO',\n 'LLAPO',\n 'LLAPO',\n 'LLAPO',\n 'LLAPO',\n 'LLAPO',\n 'PAMPAS',\n 'TAUCA',\n 'TAUCA',\n 'HUAYLLAN',\n 'HUAYLLAN',\n 'HUAYLLAN',\n 'HUAYLLAN',\n 'HUAYLLAN',\n 'HUAYLLAN',\n 'HUAYLLAN',\n 'RECUAY',\n 'RECUAY',\n 'RECUAY',\n 'RECUAY',\n 'RECUAY',\n 'RECUAY',\n 'CATAC',\n 'CATAC',\n 'CATAC',\n 'CATAC',\n 'CATAC',\n 'COTAPARACO',\n 'COTAPARACO',\n 'COTAPARACO',\n 'COTAPARACO',\n 'LLACLLIN',\n 'HUARAZ',\n 'HUARAZ',\n 'HUARAZ',\n 'HUARAZ',\n 'HUARAZ',\n 'HUARAZ',\n 'HUARAZ',\n 'HUARAZ',\n 'HUARAZ',\n 'HUARAZ',\n 'INDEPENDENCIA',\n 'INDEPENDENCIA',\n 'INDEPENDENCIA',\n 'INDEPENDENCIA',\n 'INDEPENDENCIA',\n 'INDEPENDENCIA',\n 'INDEPENDENCIA',\n 'INDEPENDENCIA',\n 'INDEPENDENCIA',\n 'INDEPENDENCIA',\n 'INDEPENDENCIA',\n 'INDEPENDENCIA',\n 'INDEPENDENCIA',\n 'SUCCHA',\n 'CAJACAY',\n 'CAJACAY',\n 'CARHUAZ',\n 'CARHUAZ',\n 'CARHUAZ',\n 'CARHUAZ',\n 'CARHUAZ',\n 'CARHUAZ',\n 'CARHUAZ',\n 'CARHUAZ',\n 'ACOPAMPA',\n 'ACOPAMPA',\n 'ACOPAMPA',\n 'ACOPAMPA',\n 'ACOPAMPA',\n 'ACOPAMPA',\n 'ACOPAMPA',\n 'ANTA',\n 'ANTA',\n 'ANTA',\n 'ANTA',\n 'ANTA',\n 'ANTA',\n 'ANTA',\n 'ANTA',\n 'ATAQUERO',\n 'ATAQUERO',\n 'ATAQUERO',\n 'ATAQUERO',\n 'MARCARA',\n 'MARCARA',\n 'MARCARA',\n 'MARCARA',\n 'MARCARA',\n 'MARCARA',\n 'MARCARA',\n 'MARCARA',\n 'TINCO',\n 'TINCO',\n 'TINCO',\n 'TINCO',\n 'TINCO',\n 'YUNGAR',\n 'YUNGAR',\n 'YUNGAR',\n 'YUNGAR',\n 'YUNGAR',\n 'YUNGAR',\n 'YUNGAR',\n 'YUNGAR',\n 'SAN LUIS',\n 'SAN LUIS',\n 'SAN LUIS',\n 'HUARAZ',\n 'HUARAZ',\n 'HUARAZ',\n 'HUARAZ',\n 'HUARAZ',\n 'INDEPENDENCIA',\n 'INDEPENDENCIA',\n 'INDEPENDENCIA',\n 'INDEPENDENCIA',\n 'INDEPENDENCIA',\n 'INDEPENDENCIA',\n 'INDEPENDENCIA',\n 'INDEPENDENCIA',\n 'INDEPENDENCIA',\n 'INDEPENDENCIA',\n 'INDEPENDENCIA',\n 'OLLEROS',\n 'OLLEROS',\n 'OLLEROS',\n 'CAJACAY',\n 'CAJACAY',\n 'CAJACAY',\n 'CARHUAZ',\n 'CARHUAZ',\n 'CARHUAZ',\n 'CARHUAZ',\n 'CARHUAZ',\n 'CARHUAZ',\n 'CARHUAZ',\n 'CARHUAZ',\n 'CARHUAZ',\n 'CARHUAZ',\n 'ACOPAMPA',\n 'ACOPAMPA',\n 'ACOPAMPA',\n 'ACOPAMPA',\n 'ACOPAMPA',\n 'ACOPAMPA',\n 'ACOPAMPA',\n 'ACOPAMPA',\n 'ACOPAMPA',\n 'ACOPAMPA',\n 'ACOPAMPA',\n 'ANTA',\n 'ANTA',\n 'ANTA',\n 'ANTA',\n 'ANTA',\n 'ANTA',\n 'ANTA',\n 'ANTA',\n 'ATAQUERO',\n 'ATAQUERO',\n 'ATAQUERO',\n 'ATAQUERO',\n 'ATAQUERO',\n 'ATAQUERO',\n 'ATAQUERO',\n 'ATAQUERO',\n 'MARCARA',\n 'MARCARA',\n 'MARCARA',\n 'MARCARA',\n 'MARCARA',\n 'MARCARA',\n 'TINCO',\n 'TINCO',\n 'TINCO',\n 'TINCO',\n 'TINCO',\n 'TINCO',\n 'TINCO',\n 'TINCO',\n 'TINCO',\n 'YUNGAR',\n 'YUNGAR',\n 'YUNGAR',\n 'HUARAZ',\n 'HUARAZ',\n 'HUARAZ',\n 'HUARAZ',\n 'HUARAZ',\n 'HUARAZ',\n 'HUARAZ',\n 'HUARAZ',\n 'INDEPENDENCIA',\n 'INDEPENDENCIA',\n 'INDEPENDENCIA',\n 'INDEPENDENCIA',\n 'INDEPENDENCIA',\n 'INDEPENDENCIA',\n 'INDEPENDENCIA',\n 'INDEPENDENCIA',\n 'INDEPENDENCIA',\n 'INDEPENDENCIA',\n 'INDEPENDENCIA',\n 'INDEPENDENCIA',\n 'INDEPENDENCIA',\n 'OLLEROS',\n 'OLLEROS',\n 'SUCCHA',\n 'CHIQUIAN',\n 'CARHUAZ',\n 'CARHUAZ',\n 'CARHUAZ',\n 'CARHUAZ',\n 'CARHUAZ',\n 'CARHUAZ',\n 'CARHUAZ',\n 'CARHUAZ',\n 'CARHUAZ',\n 'CARHUAZ',\n 'ACOPAMPA',\n 'ACOPAMPA',\n 'ACOPAMPA',\n 'ACOPAMPA',\n 'ACOPAMPA',\n 'ACOPAMPA',\n 'ACOPAMPA',\n 'ANTA',\n 'ANTA',\n 'ANTA',\n 'ANTA',\n 'ANTA',\n 'ANTA',\n 'ANTA',\n 'ATAQUERO',\n 'ATAQUERO',\n 'ATAQUERO',\n 'ATAQUERO',\n 'ATAQUERO',\n 'ATAQUERO',\n 'MARCARA',\n 'MARCARA',\n 'MARCARA',\n 'MARCARA',\n 'MARCARA',\n 'TINCO',\n 'TINCO',\n 'TINCO',\n 'TINCO',\n 'TINCO',\n 'TINCO',\n 'TINCO',\n 'TINCO',\n 'TINCO',\n 'TINCO',\n 'TINCO',\n 'YUNGAR',\n 'YUNGAR',\n 'YUNGAR',\n 'YUNGAR',\n 'YUNGAR',\n 'SAN LUIS',\n 'YUNGAR',\n 'YUNGAR',\n 'YUNGAR',\n 'YUNGAR',\n 'SAN LUIS',\n 'CASMA',\n 'CASMA',\n 'CASMA',\n 'CASMA',\n 'CASMA',\n 'CASMA',\n 'CASMA',\n 'CORONGO',\n 'CORONGO',\n 'CORONGO',\n 'CORONGO',\n 'CORONGO',\n 'PAUCAS',\n 'PAUCAS',\n 'PAUCAS',\n 'RAHUAPAMPA',\n 'RAHUAPAMPA',\n 'HUARMEY',\n 'HUARMEY',\n 'HUARMEY',\n 'HUARMEY',\n 'HUARMEY',\n 'HUARMEY',\n 'HUARMEY',\n 'HUARMEY',\n 'HUARMEY',\n 'HUARMEY',\n 'HUARMEY',\n 'COCHAPETI',\n 'MATO',\n 'MATO',\n 'MATO',\n 'MATO',\n 'MATO',\n 'MATO',\n 'MATO',\n 'MATO',\n 'MATO',\n 'PAMPAROMAS',\n 'PAMPAROMAS',\n 'PAMPAROMAS',\n 'PAMPAROMAS',\n 'PAMPAROMAS',\n 'BOLOGNESI',\n 'BOLOGNESI',\n 'BOLOGNESI',\n 'LLAPO',\n 'LLAPO',\n 'TAUCA',\n 'TAUCA',\n 'HUAYLLAN',\n 'HUAYLLAN',\n 'HUAYLLAN',\n 'HUAYLLAN',\n 'RECUAY',\n 'RECUAY',\n 'RECUAY',\n 'RECUAY',\n 'RECUAY',\n 'RECUAY',\n 'CATAC',\n 'CATAC',\n 'CATAC',\n 'CATAC',\n 'CATAC',\n 'CATAC',\n 'CATAC',\n 'CATAC',\n 'CATAC',\n 'CATAC',\n 'COTAPARACO',\n 'TAPACOCHA',\n 'TICAPAMPA',\n 'HUARAZ',\n 'HUARAZ',\n 'HUARAZ',\n 'HUARAZ',\n 'HUARAZ',\n 'HUARAZ',\n 'INDEPENDENCIA',\n 'INDEPENDENCIA',\n 'INDEPENDENCIA',\n 'INDEPENDENCIA',\n 'INDEPENDENCIA',\n 'INDEPENDENCIA',\n 'INDEPENDENCIA',\n 'INDEPENDENCIA',\n 'OLLEROS',\n 'OLLEROS',\n 'SUCCHA',\n 'CAJACAY',\n 'CARHUAZ',\n 'CARHUAZ',\n 'CARHUAZ',\n 'CARHUAZ',\n 'CARHUAZ',\n 'CARHUAZ',\n 'CARHUAZ',\n 'CARHUAZ',\n 'CARHUAZ',\n 'CARHUAZ',\n 'CARHUAZ',\n 'CARHUAZ',\n 'ACOPAMPA',\n 'ACOPAMPA',\n 'ACOPAMPA',\n 'ACOPAMPA',\n 'ACOPAMPA',\n 'ACOPAMPA',\n 'ACOPAMPA',\n 'ANTA',\n 'ANTA',\n 'ANTA',\n 'ANTA',\n 'ATAQUERO',\n 'ATAQUERO',\n 'ATAQUERO',\n 'ATAQUERO',\n 'ATAQUERO',\n 'ATAQUERO',\n 'MARCARA',\n 'MARCARA',\n 'MARCARA',\n 'MARCARA',\n 'TINCO',\n 'TINCO',\n 'TINCO',\n 'TINCO',\n 'TINCO',\n 'YUNGAR',\n 'YUNGAR',\n 'YUNGAR',\n 'YUNGAR',\n 'SAN LUIS',\n 'SAN LUIS',\n 'SAN LUIS',\n 'CASMA',\n 'CASMA',\n 'CASMA',\n 'CASMA',\n 'CASMA',\n 'CASMA',\n 'CASMA',\n 'CASMA',\n 'CASMA',\n 'CORONGO',\n 'CORONGO',\n 'PAUCAS',\n 'PAUCAS',\n 'PAUCAS',\n 'PAUCAS',\n 'PAUCAS',\n 'PAUCAS',\n 'PAUCAS',\n 'PAUCAS',\n 'PAUCAS',\n 'PAUCAS',\n 'RAHUAPAMPA',\n 'RAHUAPAMPA',\n 'RAHUAPAMPA',\n 'HUARMEY',\n 'HUARMEY',\n 'HUARMEY',\n 'HUARMEY',\n 'HUARMEY',\n 'HUARMEY',\n 'HUARMEY',\n 'HUARMEY',\n 'HUARMEY',\n 'HUARMEY',\n 'HUARMEY',\n 'HUARMEY',\n 'COCHAPETI',\n 'COCHAPETI',\n 'COCHAPETI',\n 'COCHAPETI',\n 'MATO',\n 'MATO',\n 'MATO',\n 'MATO',\n 'MATO',\n 'PAMPAROMAS',\n 'PAMPAROMAS',\n 'PAMPAROMAS',\n 'PAMPAROMAS',\n 'PAMPAROMAS',\n 'YURACMARCA',\n 'YURACMARCA',\n 'BOLOGNESI',\n 'BOLOGNESI',\n 'LLAPO',\n 'LLAPO',\n 'LLAPO',\n 'PAMPAS',\n 'PAMPAS',\n 'TAUCA',\n 'HUAYLLAN',\n 'HUAYLLAN',\n 'RECUAY',\n 'RECUAY',\n 'RECUAY',\n 'RECUAY',\n 'RECUAY',\n 'RECUAY',\n 'RECUAY',\n 'RECUAY',\n 'RECUAY',\n 'RECUAY',\n 'RECUAY',\n 'RECUAY',\n 'CATAC',\n 'CATAC',\n 'CATAC',\n 'CATAC',\n 'CATAC',\n 'CATAC',\n 'CATAC',\n 'CATAC',\n 'COTAPARACO',\n 'COTAPARACO',\n 'COTAPARACO',\n 'LLACLLIN',\n 'LLACLLIN',\n 'LLACLLIN',\n 'TAPACOCHA',\n 'TICAPAMPA',\n 'TICAPAMPA',\n 'TICAPAMPA',\n 'CASMA',\n 'CASMA',\n 'CASMA',\n 'CASMA',\n 'CASMA',\n 'CORONGO',\n 'CORONGO',\n 'CORONGO',\n 'PAUCAS',\n 'PAUCAS',\n 'PAUCAS',\n 'PAUCAS',\n 'RAHUAPAMPA',\n 'RAHUAPAMPA',\n 'RAHUAPAMPA',\n 'RAHUAPAMPA',\n 'RAHUAPAMPA',\n 'RAHUAPAMPA',\n 'HUARMEY',\n 'HUARMEY',\n 'HUARMEY',\n 'HUARMEY',\n 'HUARMEY',\n 'COCHAPETI',\n 'MATO',\n 'MATO',\n 'MATO',\n 'MATO',\n 'MATO',\n 'MATO',\n 'MATO',\n 'MATO',\n 'PAMPAROMAS',\n 'PAMPAROMAS',\n 'PAMPAROMAS',\n 'PAMPAROMAS',\n 'PAMPAROMAS',\n 'PAMPAROMAS',\n 'PAMPAROMAS',\n 'PAMPAROMAS',\n 'PAMPAROMAS',\n 'PAMPAROMAS',\n 'PAMPAROMAS',\n 'PAMPAROMAS',\n 'LLAPO',\n 'PAMPAS',\n 'TAUCA',\n 'TAUCA',\n 'TAUCA',\n 'TAUCA',\n 'HUAYLLAN',\n 'HUAYLLAN',\n 'HUAYLLAN',\n 'HUAYLLAN',\n 'HUAYLLAN',\n 'HUAYLLAN',\n 'HUAYLLAN',\n 'HUAYLLAN',\n 'RECUAY',\n 'RECUAY',\n 'RECUAY',\n 'RECUAY',\n 'RECUAY',\n 'RECUAY',\n 'RECUAY',\n 'RECUAY',\n 'RECUAY',\n 'CATAC',\n 'CATAC',\n 'CATAC',\n 'CATAC',\n 'CATAC',\n 'CATAC',\n 'CATAC',\n 'CATAC',\n 'COTAPARACO',\n 'LLACLLIN',\n 'TAPACOCHA',\n 'YUNGAR',\n 'YUNGAR',\n 'YUNGAR',\n 'SAN LUIS',\n 'SAN LUIS',\n 'SAN LUIS',\n 'CASMA',\n 'CASMA',\n 'CASMA',\n 'CASMA',\n 'CASMA',\n 'CASMA',\n 'CORONGO',\n 'CORONGO',\n 'CHAVIN DE HUANTAR',\n 'CHAVIN DE HUANTAR',\n 'PAUCAS',\n 'PAUCAS',\n 'PAUCAS',\n 'PAUCAS',\n 'RAHUAPAMPA',\n 'RAHUAPAMPA',\n 'RAHUAPAMPA',\n 'RAHUAPAMPA',\n 'RAHUAPAMPA',\n 'RAHUAPAMPA',\n 'HUARMEY',\n 'HUARMEY',\n 'HUARMEY',\n 'HUARMEY',\n 'HUARMEY',\n 'HUARMEY',\n 'HUARMEY',\n 'HUARMEY',\n 'COCHAPETI',\n 'MATO',\n 'MATO',\n 'MATO',\n 'MATO',\n 'MATO',\n 'PAMPAROMAS',\n 'PAMPAROMAS',\n 'PAMPAROMAS',\n 'PAMPAROMAS',\n 'PAMPAROMAS',\n 'PAMPAROMAS',\n 'PAMPAROMAS',\n 'PUEBLO LIBRE',\n 'SANTA CRUZ',\n 'YURACMARCA',\n 'LLAPO',\n 'TAUCA',\n 'HUAYLLAN',\n 'HUAYLLAN',\n 'RECUAY',\n 'RECUAY',\n 'RECUAY',\n 'RECUAY',\n 'RECUAY',\n 'RECUAY',\n 'RECUAY',\n 'RECUAY',\n 'CATAC',\n 'CATAC',\n 'CATAC',\n 'CATAC',\n 'CATAC',\n 'CATAC',\n 'CATAC',\n 'CATAC',\n 'CATAC',\n 'CATAC',\n 'COTAPARACO',\n 'COTAPARACO',\n 'LLACLLIN',\n 'LLACLLIN',\n 'TAPACOCHA',\n 'TAPACOCHA',\n 'TAPACOCHA',\n 'TAPACOCHA',\n 'TICAPAMPA',\n 'TICAPAMPA',\n 'TICAPAMPA',\n 'TICAPAMPA',\n 'TICAPAMPA',\n 'TICAPAMPA',\n 'TICAPAMPA',\n 'TICAPAMPA',\n 'TICAPAMPA',\n 'CHIMBOTE',\n 'CHIMBOTE',\n 'CHIMBOTE',\n 'CHIMBOTE',\n 'CHIMBOTE',\n 'CHIMBOTE',\n 'CHIMBOTE',\n 'CHIMBOTE',\n 'SANTA',\n 'SANTA',\n 'SANTA',\n 'SANTA',\n 'NUEVO CHIMBOTE',\n 'NUEVO CHIMBOTE',\n 'NUEVO CHIMBOTE',\n 'NUEVO CHIMBOTE',\n 'NUEVO CHIMBOTE',\n 'NUEVO CHIMBOTE',\n 'NUEVO CHIMBOTE',\n 'NUEVO CHIMBOTE',\n 'QUICHES',\n 'QUICHES',\n 'QUICHES',\n 'QUICHES',\n 'SAN JUAN',\n 'SAN JUAN',\n 'SAN JUAN',\n 'SAN JUAN',\n 'SAN JUAN',\n 'CASCAPARA',\n 'CASCAPARA',\n 'CASCAPARA',\n 'CASCAPARA',\n 'CASCAPARA',\n 'CASCAPARA',\n 'MANCOS',\n 'MANCOS',\n 'MANCOS',\n 'MANCOS',\n 'MANCOS',\n 'MANCOS',\n 'MANCOS',\n 'MANCOS',\n 'YANAMA',\n 'YANAMA',\n 'ABANCAY',\n 'ABANCAY',\n 'ABANCAY',\n 'ABANCAY',\n 'ABANCAY',\n 'ABANCAY',\n 'ABANCAY',\n 'ABANCAY',\n 'CHACOCHE',\n 'CHACOCHE',\n 'CHACOCHE',\n 'CHACOCHE',\n 'CHACOCHE',\n ...]"
      ]
     },
     "execution_count": 6,
     "metadata": {},
     "output_type": "execute_result"
    }
   ],
   "source": [
    "df['Distrito'].tolist()"
   ]
  },
  {
   "cell_type": "code",
   "execution_count": 8,
   "metadata": {
    "collapsed": true
   },
   "outputs": [
    {
     "data": {
      "text/plain": [
       "<bound method Series.to_frame of 0                      HUARAZ\n1                      HUARAZ\n2                      HUARAZ\n3                      HUARAZ\n4                      HUARAZ\n5                      HUARAZ\n6                      HUARAZ\n7                      HUARAZ\n8                      HUARAZ\n9                      HUARAZ\n10                     HUARAZ\n11              INDEPENDENCIA\n12              INDEPENDENCIA\n13              INDEPENDENCIA\n14              INDEPENDENCIA\n15              INDEPENDENCIA\n16              INDEPENDENCIA\n17                    OLLEROS\n18                    OLLEROS\n19                       ACZO\n20                    CAJACAY\n21                    CARHUAZ\n22                    CARHUAZ\n23                    CARHUAZ\n24                    CARHUAZ\n25                    CARHUAZ\n26                    CARHUAZ\n27                    CARHUAZ\n28                    CARHUAZ\n29                    CARHUAZ\n                 ...         \n333046               LA UNION\n333047               LA UNION\n333048    VEINTISEIS DE OCTUB\n333049    VEINTISEIS DE OCTUB\n333050    VEINTISEIS DE OCTUB\n333051    VEINTISEIS DE OCTUB\n333052               HUARMACA\n333053               HUARMACA\n333054               VICHAYAL\n333055           QUERECOTILLO\n333056           QUERECOTILLO\n333057           QUERECOTILLO\n333058                JULIACA\n333059                JULIACA\n333060                JULIACA\n333061                JULIACA\n333062                JULIACA\n333063                JULIACA\n333064                JULIACA\n333065             BELLAVISTA\n333066             CAYNARACHI\n333067                PACHIZA\n333068                PACHIZA\n333069     ALTO DE LA ALIANZA\n333070     ALTO DE LA ALIANZA\n333071     ALTO DE LA ALIANZA\n333072     ALTO DE LA ALIANZA\n333073     ALTO DE LA ALIANZA\n333074     ALTO DE LA ALIANZA\n333075     ALTO DE LA ALIANZA\nName: Distrito, Length: 333076, dtype: object>"
      ]
     },
     "execution_count": 8,
     "metadata": {},
     "output_type": "execute_result"
    }
   ],
   "source": [
    "df['Distrito'].to_frame"
   ]
  },
  {
   "cell_type": "code",
   "execution_count": 16,
   "metadata": {},
   "outputs": [],
   "source": [
    "\", \".join(str(name)for name in df['Distrito'])\n"
   ]
  },
  {
   "cell_type": "code",
   "execution_count": 17,
   "metadata": {},
   "outputs": [],
   "source": [
    "df.to_csv('csvs/creado.csv')"
   ]
  },
  {
   "cell_type": "code",
   "execution_count": 18,
   "metadata": {},
   "outputs": [],
   "source": [
    "df.to_csv('csvs/creado.csv',index=False) # sobreescribir"
   ]
  },
  {
   "cell_type": "code",
   "execution_count": 19,
   "metadata": {},
   "outputs": [
    {
     "name": "stdout",
     "output_type": "stream",
     "text": [
      "<class 'pandas.core.frame.DataFrame'>\nRangeIndex: 333076 entries, 0 to 333075\nData columns (total 10 columns):\nAnio             333076 non-null int64\nNroMes           333076 non-null int64\nubigeo           333076 non-null int64\nDepartamento     333076 non-null object\nProvincia        333076 non-null object\nDistrito         333076 non-null object\nGrupoEdadCred    333076 non-null object\nSexo             333076 non-null object\nNumControles     333076 non-null object\nCasos            333076 non-null int64\ndtypes: int64(4), object(6)\nmemory usage: 25.4+ MB\n"
     ]
    }
   ],
   "source": [
    "df.info()"
   ]
  },
  {
   "cell_type": "code",
   "execution_count": 20,
   "metadata": {},
   "outputs": [],
   "source": [
    "df.to_csv('csvs/creado.csv',index=False,columns=['Distrito','Sexo','Casos']) # sobreescribir"
   ]
  },
  {
   "cell_type": "code",
   "execution_count": 21,
   "metadata": {},
   "outputs": [],
   "source": [
    "df.to_csv('csvs/creado.csv',index=False,columns=['Distrito','Sexo','Casos'],encoding='utf-8') # sobreescribir"
   ]
  },
  {
   "cell_type": "code",
   "execution_count": null,
   "metadata": {},
   "outputs": [],
   "source": []
  }
 ],
 "metadata": {
  "kernelspec": {
   "display_name": "Python 2",
   "language": "python",
   "name": "python2"
  },
  "language_info": {
   "codemirror_mode": {
    "name": "ipython",
    "version": 2
   },
   "file_extension": ".py",
   "mimetype": "text/x-python",
   "name": "python",
   "nbconvert_exporter": "python",
   "pygments_lexer": "ipython2",
   "version": "2.7.6"
  }
 },
 "nbformat": 4,
 "nbformat_minor": 0
}
