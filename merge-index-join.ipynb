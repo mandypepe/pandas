{
 "cells": [
  {
   "cell_type": "code",
   "execution_count": 1,
   "metadata": {
    "collapsed": true
   },
   "outputs": [
    {
     "name": "stdout",
     "output_type": "stream",
     "text": [
      "<class 'pandas.core.frame.DataFrame'>\nRangeIndex: 10 entries, 0 to 9\nData columns (total 3 columns):\nFood ID      10 non-null int64\nFood Item    10 non-null object\nPrice        10 non-null float64\ndtypes: float64(1), int64(1), object(1)\nmemory usage: 320.0+ bytes\n"
     ]
    }
   ],
   "source": [
    "import pandas as pd\n",
    "import matplotlib.pyplot as plt\n",
    "import numpy as np\n",
    "%matplotlib inline\n",
    "w1=pd.read_csv(\"csvs/Restaurant - Week 1 Sales.csv\")\n",
    "w2=pd.read_csv(\"csvs/Restaurant - Week 2 Sales.csv\")\n",
    "ct=pd.read_csv(\"csvs/Restaurant - Customers.csv\",index_col='ID')\n",
    "fot=pd.read_csv(\"csvs/Restaurant - Foods.csv\",index_col='Food ID')\n",
    "fot.info()"
   ]
  },
  {
   "cell_type": "code",
   "execution_count": 3,
   "metadata": {
    "collapsed": true
   },
   "outputs": [
    {
     "data": {
      "text/plain": [
       "<bound method NDFrame.head of    Food ID   Food Item  Price\n0        1       Sushi   3.99\n1        2     Burrito   9.99\n2        3        Taco   2.99\n3        4  Quesadilla   4.25\n4        5       Pizza   2.49\n5        6       Pasta  13.99\n6        7       Steak  24.99\n7        8       Salad  11.25\n8        9       Donut   0.99\n9       10       Drink   1.75>"
      ]
     },
     "execution_count": 3,
     "metadata": {},
     "output_type": "execute_result"
    }
   ],
   "source": [
    "fot.head"
   ]
  },
  {
   "cell_type": "code",
   "execution_count": 5,
   "metadata": {
    "collapsed": true
   },
   "outputs": [
    {
     "data": {
      "text/plain": [
       "<bound method NDFrame.head of      First Name Last Name  Gender        Company  \\\nID                                                 \n1        Joseph   Perkins    Male        Dynazzy   \n2      Jennifer   Alvarez  Female           DabZ   \n3         Roger     Black    Male        Tagfeed   \n4        Steven     Evans    Male           Fatz   \n5          Judy  Morrison  Female        Demivee   \n6        Amanda    Howell  Female  Thoughtbridge   \n7        Johnny      Reid    Male    Babblestorm   \n8       Frances     Adams  Female       Dabshots   \n9       Gregory   Chapman    Male           Eayo   \n10       Steven      Ryan    Male        Twinder   \n11      Michael  Reynolds    Male         Meevee   \n12         Lois   Watkins  Female           Mydo   \n13         Ruth   Alvarez  Female    Twitterlist   \n14         Adam      Ryan    Male       Photojam   \n15        Jesse  Richards    Male        Demimbu   \n16        Scott    Arnold    Male          Meemm   \n17         Ruby    Palmer  Female          Roomm   \n18        Jason      King    Male        Flipbug   \n19       Pamela     Kelly  Female          Jaloo   \n20         Lisa      Rice  Female           Oloo   \n21       Albert     Burns    Male      Rhynoodle   \n22       Martin  Reynolds    Male        Meembee   \n23       Janice  Campbell  Female           DabZ   \n24        Donna    Thomas  Female        Jaxbean   \n25      Patrick     Baker    Male       Fivespan   \n26     Michelle     Kelly  Female    Twitterbeat   \n27      Jessica   Bennett  Female  Twitternation   \n28      Phillip   Carroll    Male          Ainyx   \n29         Gary     Riley    Male       Devpoint   \n30       Pamela     Hicks  Female          Ntags   \n...         ...       ...     ...            ...   \n971     Melissa    Wagner  Female       Riffwire   \n972      Rachel    Snyder  Female     Topicstorm   \n973      Sandra    Graham  Female       Centidel   \n974       Chris     Gomez    Male       Realcube   \n975       Laura  Stephens  Female        Dabtype   \n976       Emily      Cole  Female          Avamm   \n977     Cynthia     Dixon  Female        Skalith   \n978      Gerald   Sanders    Male         Meedoo   \n979        Ruth      Ward  Female       Jaxworks   \n980      Jeremy  Anderson    Male         Camido   \n981     Raymond  Morrison    Male          Lazzy   \n982   Christine    Holmes  Female       Feedfire   \n983      Angela    Fisher  Female           DabZ   \n984       Randy     Green    Male        Gabspot   \n985       Julia     Ortiz  Female         Kwideo   \n986      Harold    Parker    Male        Gabtype   \n987      Joshua    Howell    Male       Digitube   \n988        Todd     Perry    Male           Eayo   \n989       Jimmy     James    Male        Youopia   \n990       Jesse    Wagner    Male         Oyondu   \n991     Melissa     Wells  Female          Lazzy   \n992      Andrea    Howard  Female       Fanoodle   \n993      Edward     Mills    Male       Feedfish   \n994    Clarence    Morgan    Male       Edgewire   \n995       Sarah    Nguyen  Female         Trilia   \n996       Debra    Garcia  Female   Dazzlesphere   \n997     Douglas    Bishop    Male       Livepath   \n998       Frank  Franklin    Male     Brainverse   \n999     Jessica     Burns  Female     Babbleblab   \n1000      Brian   Daniels    Male          Tazzy   \n\n                          Occupation  \nID                                    \n1      Community Outreach Specialist  \n2            Senior Quality Engineer  \n3                  Account Executive  \n4                   Registered Nurse  \n5                    Legal Assistant  \n6                   Dental Hygienist  \n7                  Account Executive  \n8                      Developer III  \n9                   Junior Executive  \n10     Community Outreach Specialist  \n11                  Dental Hygienist  \n12               Staff Accountant IV  \n13       Mechanical Systems Engineer  \n14                    Research Nurse  \n15             Chief Design Engineer  \n16       Human Resources Assistant I  \n17            Administrative Officer  \n18                 Financial Advisor  \n19                 Director of Sales  \n20                     Programmer IV  \n21                  Junior Executive  \n22       Information Systems Manager  \n23             Chief Design Engineer  \n24             Chief Design Engineer  \n25                   General Manager  \n26              Programmer Analyst I  \n27                 Account Executive  \n28                            Editor  \n29                Nurse Practicioner  \n30                   Cost Accountant  \n...                              ...  \n971                   Civil Engineer  \n972   Payment Adjustment Coordinator  \n973              Software Consultant  \n974     Structural Analysis Engineer  \n975                 Graphic Designer  \n976            Chief Design Engineer  \n977         Automation Specialist II  \n978               VP Quality Control  \n979                Account Executive  \n980                        Recruiter  \n981                Account Executive  \n982                 Media Manager IV  \n983             Help Desk Technician  \n984           Nuclear Power Engineer  \n985     Structural Analysis Engineer  \n986              Account Coordinator  \n987              Office Assistant IV  \n988                  Data Coordiator  \n989       Database Administrator III  \n990          Human Resources Manager  \n991           Senior Sales Associate  \n992                  Data Coordiator  \n993                 Health Coach III  \n994                     Geologist II  \n995                    Programmer IV  \n996              Structural Engineer  \n997                      Developer I  \n998               Nurse Practicioner  \n999                Financial Advisor  \n1000      Physical Therapy Assistant  \n\n[1000 rows x 5 columns]>"
      ]
     },
     "execution_count": 5,
     "metadata": {},
     "output_type": "execute_result"
    }
   ],
   "source": [
    "ct.head"
   ]
  },
  {
   "cell_type": "code",
   "execution_count": 6,
   "metadata": {
    "collapsed": true
   },
   "outputs": [
    {
     "data": {
      "text/plain": [
       "<bound method NDFrame.head of      Customer ID  Food ID\n0            537        9\n1             97        4\n2            658        1\n3            202        2\n4            155        9\n5            213        8\n6            600        1\n7            503        5\n8             71        3\n9            174        3\n10           961        9\n11           966        5\n12           641        4\n13           288        2\n14           149        4\n15           954        2\n16           147        9\n17           155        1\n18           550        6\n19           101        7\n20           549        6\n21            75        6\n22            78        7\n23           514        5\n24           833        7\n25           329        8\n26           586       10\n27           341        1\n28           519       10\n29           680        9\n..           ...      ...\n220          147        8\n221          745        4\n222          184        3\n223          828        8\n224          578        5\n225          491        4\n226           62        4\n227           77        9\n228          506        9\n229          271        9\n230          584       10\n231          148        5\n232          595        3\n233          274       10\n234          646        1\n235          520        8\n236          644        8\n237          725        8\n238          934        4\n239          151       10\n240          945        5\n241          343        3\n242          380        9\n243          911        4\n244          621        9\n245          413        9\n246          926        6\n247          134        3\n248          396        6\n249          535       10\n\n[250 rows x 2 columns]>"
      ]
     },
     "execution_count": 6,
     "metadata": {},
     "output_type": "execute_result"
    }
   ],
   "source": [
    "w1.head"
   ]
  },
  {
   "cell_type": "code",
   "execution_count": 15,
   "metadata": {
    "collapsed": true
   },
   "outputs": [],
   "source": [
    "ventas=w1.merge(ct,how='left',left_on='Customer ID',right_index=True)"
   ]
  },
  {
   "cell_type": "code",
   "execution_count": 17,
   "metadata": {
    "collapsed": true
   },
   "outputs": [
    {
     "data": {
      "text/plain": [
       "<bound method NDFrame.head of      Customer ID  Food ID_x First Name  Last Name  Gender       Company  \\\n0            537          9     Cheryl    Carroll  Female      Zoombeat   \n1             97          4     Amanda    Watkins  Female           Ozu   \n2            658          1    Patrick       Webb    Male     Browsebug   \n3            202          2      Louis   Campbell    Male     Rhynoodle   \n4            155          9    Carolyn       Diaz  Female      Gigazoom   \n5            213          8      Keith     Foster    Male     Gigashots   \n6            600          1     Sandra     Bailey  Female     Jaxnation   \n7            503          5     Justin    Daniels    Male          Oloo   \n8             71          3    Carolyn      Reyes  Female        Twimbo   \n9            174          3       Anna     Miller  Female       Innojam   \n10           961          9      Ralph   Richards    Male  Thoughtstorm   \n11           966          5     Robert       Ford    Male    Jabbertype   \n12           641          4      Donna  Gutierrez  Female       Dabtype   \n13           288          2    Kenneth    Jackson    Male         Voomm   \n14           149          4   Jennifer     Oliver  Female   Topiclounge   \n15           954          2     Thomas    Perkins    Male        Roodel   \n16           147          9    Theresa    Morales  Female         Abata   \n17           155          1    Carolyn       Diaz  Female      Gigazoom   \n18           550          6     Walter     Miller    Male          Yata   \n19           101          7     Jeremy     Nelson    Male   Brainlounge   \n20           549          6     Harold     Rivera    Male      Topdrive   \n21            75          6  Catherine  Carpenter  Female        Zoozzy   \n22            78          7     Robert    Kennedy    Male      Edgewire   \n23           514          5       Jack       Hill    Male      Blogtags   \n24           833          7    Carolyn       Dunn  Female         Yadel   \n25           329          8     Amanda     Nguyen  Female        Meezzy   \n26           586         10      Doris   Mcdonald  Female       Youfeed   \n27           341          1     Rachel   Robinson  Female       Twinder   \n28           519         10    Lillian     Rogers  Female         Eazzy   \n29           680          9      Irene     Gordon  Female       Voolith   \n..           ...        ...        ...        ...     ...           ...   \n220          147          8    Theresa    Morales  Female         Abata   \n221          745          4     Nicole      Garza  Female     Topiczoom   \n222          184          3      Jesse    Edwards    Male      Zoombeat   \n223          828          8       Mary      Payne  Female       Oyonder   \n224          578          5     Donald   Matthews    Male      Fiveclub   \n225          491          4       Anna    Perkins  Female         Zazio   \n226           62          4     Andrew     Tucker    Male        Leenti   \n227           77          9       Lori    Edwards  Female       Dabvine   \n228          506          9    Mildred    Mendoza  Female          Vitz   \n229          271          9    Beverly       Ward  Female      Brainbox   \n230          584         10    Jeffrey    Simmons    Male     Flipstorm   \n231          148          5   Patricia       Reid  Female  Shuffledrive   \n232          595          3      Bruce    Kennedy    Male          Mydo   \n233          274         10       Gary       Reid    Male      Fivespan   \n234          646          1      Wanda       Lane  Female         Twiyo   \n235          520          8    Melissa    Wallace  Female         Skyvu   \n236          644          8      Louis     Brooks    Male       Nlounge   \n237          725          8      Carol    Russell  Female        BlogXS   \n238          934          4     Joseph     Burton    Male         Leexo   \n239          151         10    Brandon     Oliver    Male         Voomm   \n240          945          5       Anne       Reed  Female  Twitterworks   \n241          343          3        Joe      Price    Male      Fanoodle   \n242          380          9     Martha      Payne  Female         Quinu   \n243          911          4    Patrick       Reed    Male   Jabberstorm   \n244          621          9        Amy       Long  Female        Skidoo   \n245          413          9      Diane     Bailey  Female       Wikibox   \n246          926          6       Anne     Wagner  Female         Skyba   \n247          134          3      Diana       Hall  Female         Quinu   \n248          396          6       Juan     Romero    Male       Zoonder   \n249          535         10      Nancy        Cox  Female        Trudeo   \n\n                         Occupation  Food ID_y   Food Item  Price  \n0                  Registered Nurse       10.0       Drink   1.75  \n1               Account Coordinator        5.0       Pizza   2.49  \n2     Community Outreach Specialist        2.0     Burrito   9.99  \n3        Account Representative III        3.0        Taco   2.99  \n4        Database Administrator III       10.0       Drink   1.75  \n5                VP Quality Control        9.0       Donut   0.99  \n6                   Sales Associate        2.0     Burrito   9.99  \n7                Environmental Tech        6.0       Pasta  13.99  \n8              Safety Technician IV        4.0  Quesadilla   4.25  \n9                       Developer I        4.0  Quesadilla   4.25  \n10                     Accountant I       10.0       Drink   1.75  \n11        Account Representative IV        6.0       Pasta  13.99  \n12              Assistant Professor        5.0       Pizza   2.49  \n13              Associate Professor        3.0        Taco   2.99  \n14       Database Administrator III        5.0       Pizza   2.49  \n15                Account Executive        3.0        Taco   2.99  \n16           Occupational Therapist       10.0       Drink   1.75  \n17       Database Administrator III        2.0     Burrito   9.99  \n18   Payment Adjustment Coordinator        7.0       Steak  24.99  \n19                 Web Developer IV        8.0       Salad  11.25  \n20                  Cost Accountant        7.0       Steak  24.99  \n21                Marketing Manager        7.0       Steak  24.99  \n22                Chemical Engineer        8.0       Salad  11.25  \n23              Assistant Professor        6.0       Pasta  13.99  \n24                        Recruiter        8.0       Salad  11.25  \n25              Associate Professor        9.0       Donut   0.99  \n26              Marketing Assistant        NaN         NaN    NaN  \n27             Safety Technician IV        2.0     Burrito   9.99  \n28                        Paralegal        NaN         NaN    NaN  \n29        Database Administrator II       10.0       Drink   1.75  \n..                              ...        ...         ...    ...  \n220          Occupational Therapist        9.0       Donut   0.99  \n221                 General Manager        5.0       Pizza   2.49  \n222          Administrative Officer        4.0  Quesadilla   4.25  \n223         Assistant Media Planner        9.0       Donut   0.99  \n224      Physical Therapy Assistant        6.0       Pasta  13.99  \n225                Quality Engineer        5.0       Pizza   2.49  \n226    Structural Analysis Engineer        5.0       Pizza   2.49  \n227            Sales Representative       10.0       Drink   1.75  \n228              Environmental Tech       10.0       Drink   1.75  \n229        Automation Specialist II       10.0       Drink   1.75  \n230               Chemical Engineer        NaN         NaN    NaN  \n231   Analog Circuit Design manager        6.0       Pasta  13.99  \n232                       Recruiter        4.0  Quesadilla   4.25  \n233             Executive Secretary        NaN         NaN    NaN  \n234            Help Desk Technician        2.0     Burrito   9.99  \n235          Administrative Officer        9.0       Donut   0.99  \n236              VP Quality Control        9.0       Donut   0.99  \n237                      Pharmacist        9.0       Donut   0.99  \n238            Compensation Analyst        5.0       Pizza   2.49  \n239                Internal Auditor        NaN         NaN    NaN  \n240               Director of Sales        6.0       Pasta  13.99  \n241               Marketing Manager        4.0  Quesadilla   4.25  \n242         Assistant Media Planner       10.0       Drink   1.75  \n243         Senior Quality Engineer        5.0       Pizza   2.49  \n244              Research Associate       10.0       Drink   1.75  \n245                Technical Writer       10.0       Drink   1.75  \n246                 Legal Assistant        7.0       Steak  24.99  \n247               Financial Advisor        4.0  Quesadilla   4.25  \n248              Analyst Programmer        7.0       Steak  24.99  \n249              Research Associate        NaN         NaN    NaN  \n\n[250 rows x 10 columns]>"
      ]
     },
     "execution_count": 17,
     "metadata": {},
     "output_type": "execute_result"
    }
   ],
   "source": [
    "ventas.merge(fot,how='left',left_on='Food ID',right_index=True).head"
   ]
  },
  {
   "cell_type": "code",
   "execution_count": 19,
   "metadata": {
    "collapsed": true
   },
   "outputs": [
    {
     "data": {
      "text/plain": [
       "<bound method NDFrame.head of      Customer ID_x  Food ID_x  Customer ID_y  Food ID_y\n0              537          9            688         10\n1               97          4            813          7\n2              658          1            495         10\n3              202          2            189          5\n4              155          9            267          3\n5              213          8            310          5\n6              600          1            761          2\n7              503          5            443          5\n8               71          3            729          9\n9              174          3            741          8\n10             961          9            847          6\n11             966          5            156         10\n12             641          4            550          7\n13             288          2            620         10\n14             149          4            272          4\n15             954          2            511          2\n16             147          9              8          6\n17             155          1            534          7\n18             550          6            909          6\n19             101          7            732          9\n20             549          6            372          4\n21              75          6            713          1\n22              78          7            496          3\n23             514          5            381          9\n24             833          7             13          2\n25             329          8            101          4\n26             586         10            325          7\n27             341          1            674          2\n28             519         10            564          8\n29             680          9            578          5\n..             ...        ...            ...        ...\n220            147          8            495          2\n221            745          4            794          6\n222            184          3            734         10\n223            828          8            540          3\n224            578          5            735          2\n225            491          4            940          8\n226             62          4            571          7\n227             77          9            888          2\n228            506          9            664          6\n229            271          9            343          7\n230            584         10            143          4\n231            148          5            505          3\n232            595          3             54          8\n233            274         10            959          2\n234            646          1            367          8\n235            520          8            883          8\n236            644          8            251          9\n237            725          8            855          4\n238            934          4            233          3\n239            151         10            559         10\n240            945          5            734          1\n241            343          3            677          3\n242            380          9            276          4\n243            911          4             45          8\n244            621          9            945          4\n245            413          9            783         10\n246            926          6            556         10\n247            134          3            547          9\n248            396          6            252          9\n249            535         10            249          6\n\n[250 rows x 4 columns]>"
      ]
     },
     "execution_count": 19,
     "metadata": {},
     "output_type": "execute_result"
    }
   ],
   "source": [
    "w1.merge(w2,how='left',left_index=True,right_index=True).head"
   ]
  },
  {
   "cell_type": "code",
   "execution_count": null,
   "metadata": {},
   "outputs": [],
   "source": []
  }
 ],
 "metadata": {
  "kernelspec": {
   "display_name": "Python 2",
   "language": "python",
   "name": "python2"
  },
  "language_info": {
   "codemirror_mode": {
    "name": "ipython",
    "version": 2
   },
   "file_extension": ".py",
   "mimetype": "text/x-python",
   "name": "python",
   "nbconvert_exporter": "python",
   "pygments_lexer": "ipython2",
   "version": "2.7.6"
  }
 },
 "nbformat": 4,
 "nbformat_minor": 0
}
