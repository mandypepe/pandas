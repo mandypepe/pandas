{
 "cells": [
  {
   "cell_type": "code",
   "execution_count": 9,
   "metadata": {
    "collapsed": true
   },
   "outputs": [
    {
     "data": {
      "text/plain": [
       "Pokemon\nAbomasnow      Grass\nAbra         Psychic\nAbsol           Dark\nName: Type, dtype: object"
      ]
     },
     "execution_count": 9,
     "metadata": {},
     "output_type": "execute_result"
    }
   ],
   "source": [
    "import pandas as pd\n",
    "import matplotlib.pyplot as plt\n",
    "import numpy as np\n",
    "%matplotlib inline\n",
    "\n",
    "# squeeze=TRUE  import as series not as DF\n",
    "\n",
    "google=pd.read_csv('csvs/google_stock_price.csv',squeeze=True)\n",
    "pokemon=pd.read_csv('csvs/pokemon.csv',index_col=\"Pokemon\",squeeze=True)\n",
    "#en grandes cantidades de datos sort index is help\n",
    "pokemon.sort_index(inplace=True)\n",
    "pokemon.head(3)"
   ]
  },
  {
   "cell_type": "code",
   "execution_count": 2,
   "metadata": {},
   "outputs": [
    {
     "data": {
      "text/plain": [
       "'Psychic'"
      ]
     },
     "execution_count": 2,
     "metadata": {},
     "output_type": "execute_result"
    }
   ],
   "source": [
    "pokemon.get(\"Abra\")"
   ]
  },
  {
   "cell_type": "code",
   "execution_count": 7,
   "metadata": {},
   "outputs": [
    {
     "data": {
      "text/plain": [
       "Pokemon\nAbra        Psychic\nMoltres        Fire\nDigimont        NaN\nName: Type, dtype: object"
      ]
     },
     "execution_count": 7,
     "metadata": {},
     "output_type": "execute_result"
    }
   ],
   "source": [
    "pokemon.get(key=[\"Abra\",\"Moltres\",\"Digimont\"], default=\"NO ES\")"
   ]
  },
  {
   "cell_type": "code",
   "execution_count": 6,
   "metadata": {},
   "outputs": [
    {
     "data": {
      "text/plain": [
       "'esto no es un pokemon'"
      ]
     },
     "execution_count": 6,
     "metadata": {},
     "output_type": "execute_result"
    }
   ],
   "source": [
    "pokemon.get(key=\"Digimont\",default=\"esto no es un pokemon\")\n",
    "# default no funciona cuando es una lista lo ke le pasamos al key"
   ]
  },
  {
   "cell_type": "code",
   "execution_count": 10,
   "metadata": {},
   "outputs": [
    {
     "data": {
      "text/plain": [
       "3012"
      ]
     },
     "execution_count": 10,
     "metadata": {},
     "output_type": "execute_result"
    }
   ],
   "source": [
    "google.count()\n",
    "# caount exclude NAN or NULL\n",
    "#len si cuenta los valores nulos "
   ]
  },
  {
   "cell_type": "code",
   "execution_count": 11,
   "metadata": {},
   "outputs": [
    {
     "data": {
      "text/plain": [
       "1006942.0"
      ]
     },
     "execution_count": 11,
     "metadata": {},
     "output_type": "execute_result"
    }
   ],
   "source": [
    "google.sum()"
   ]
  },
  {
   "cell_type": "code",
   "execution_count": 12,
   "metadata": {},
   "outputs": [
    {
     "data": {
      "text/plain": [
       "334.31009296148744"
      ]
     },
     "execution_count": 12,
     "metadata": {},
     "output_type": "execute_result"
    }
   ],
   "source": [
    "google.mean()"
   ]
  },
  {
   "cell_type": "code",
   "execution_count": 13,
   "metadata": {},
   "outputs": [
    {
     "data": {
      "text/plain": [
       "173.18720477113106"
      ]
     },
     "execution_count": 13,
     "metadata": {},
     "output_type": "execute_result"
    }
   ],
   "source": [
    "google.std()"
   ]
  },
  {
   "cell_type": "code",
   "execution_count": 14,
   "metadata": {},
   "outputs": [
    {
     "data": {
      "text/plain": [
       "49.95"
      ]
     },
     "execution_count": 14,
     "metadata": {},
     "output_type": "execute_result"
    }
   ],
   "source": [
    "google.min()"
   ]
  },
  {
   "cell_type": "code",
   "execution_count": 16,
   "metadata": {},
   "outputs": [
    {
     "data": {
      "text/plain": [
       "782.22"
      ]
     },
     "execution_count": 16,
     "metadata": {},
     "output_type": "execute_result"
    }
   ],
   "source": [
    "google.max()"
   ]
  },
  {
   "cell_type": "code",
   "execution_count": 17,
   "metadata": {},
   "outputs": [
    {
     "data": {
      "text/plain": [
       "283.315"
      ]
     },
     "execution_count": 17,
     "metadata": {},
     "output_type": "execute_result"
    }
   ],
   "source": [
    "google.median()"
   ]
  },
  {
   "cell_type": "code",
   "execution_count": 18,
   "metadata": {},
   "outputs": [
    {
     "data": {
      "text/plain": [
       "0    291.21\ndtype: float64"
      ]
     },
     "execution_count": 18,
     "metadata": {},
     "output_type": "execute_result"
    }
   ],
   "source": [
    "google.mode() # most frencuntly value"
   ]
  },
  {
   "cell_type": "code",
   "execution_count": 19,
   "metadata": {},
   "outputs": [
    {
     "data": {
      "text/plain": [
       "count    3012.000000\nmean      334.310093\nstd       173.187205\nmin        49.950000\n25%       218.045000\n50%       283.315000\n75%       443.000000\nmax       782.220000\nName: Stock Price, dtype: float64"
      ]
     },
     "execution_count": 19,
     "metadata": {},
     "output_type": "execute_result"
    }
   ],
   "source": [
    "google.describe()"
   ]
  },
  {
   "cell_type": "code",
   "execution_count": 20,
   "metadata": {},
   "outputs": [
    {
     "data": {
      "text/plain": [
       "3011"
      ]
     },
     "execution_count": 20,
     "metadata": {},
     "output_type": "execute_result"
    }
   ],
   "source": [
    "google.idxmax() #indice del mayor valor"
   ]
  },
  {
   "cell_type": "code",
   "execution_count": 21,
   "metadata": {},
   "outputs": [
    {
     "data": {
      "text/plain": [
       "11"
      ]
     },
     "execution_count": 21,
     "metadata": {},
     "output_type": "execute_result"
    }
   ],
   "source": [
    "google.idxmin() # indice del menor valor"
   ]
  },
  {
   "cell_type": "code",
   "execution_count": 23,
   "metadata": {},
   "outputs": [
    {
     "data": {
      "text/plain": [
       "Water       105\nNormal       93\nGrass        66\nBug          63\nPsychic      47\nFire         47\nRock         41\nElectric     36\nGround       30\nDark         28\nPoison       28\nFighting     25\nDragon       24\nGhost        23\nIce          23\nSteel        22\nFairy        17\nFlying        3\nName: Type, dtype: int64"
      ]
     },
     "execution_count": 23,
     "metadata": {},
     "output_type": "execute_result"
    }
   ],
   "source": [
    "pokemon.value_counts() #count unique acurrentcy values"
   ]
  },
  {
   "cell_type": "code",
   "execution_count": 26,
   "metadata": {},
   "outputs": [
    {
     "data": {
      "text/plain": [
       "3012"
      ]
     },
     "execution_count": 26,
     "metadata": {},
     "output_type": "execute_result"
    }
   ],
   "source": [
    "google.value_counts()#.sum()"
   ]
  },
  {
   "cell_type": "code",
   "execution_count": 27,
   "metadata": {},
   "outputs": [
    {
     "data": {
      "text/plain": [
       "Flying        3\nFairy        17\nSteel        22\nIce          23\nGhost        23\nDragon       24\nFighting     25\nPoison       28\nDark         28\nGround       30\nElectric     36\nRock         41\nFire         47\nPsychic      47\nBug          63\nGrass        66\nNormal       93\nWater       105\nName: Type, dtype: int64"
      ]
     },
     "execution_count": 27,
     "metadata": {},
     "output_type": "execute_result"
    }
   ],
   "source": [
    "pokemon.value_counts(ascending=True)"
   ]
  },
  {
   "cell_type": "code",
   "execution_count": 30,
   "metadata": {},
   "outputs": [
    {
     "data": {
      "text/plain": [
       "0           ok\n1           ok\n2           ok\n3           ok\n4           ok\n5           ok\n6           ok\n7           ok\n8           ok\n9           ok\n10          ok\n11          ok\n12          ok\n13          ok\n14          ok\n15          ok\n16          ok\n17          ok\n18          ok\n19          ok\n20          ok\n21          ok\n22          ok\n23          ok\n24          ok\n25          ok\n26          ok\n27          ok\n28          ok\n29          ok\n         ...  \n2982    Genial\n2983    Genial\n2984    Genial\n2985    Genial\n2986    Genial\n2987    Genial\n2988    Genial\n2989    Genial\n2990    Genial\n2991    Genial\n2992    Genial\n2993    Genial\n2994    Genial\n2995    Genial\n2996    Genial\n2997    Genial\n2998    Genial\n2999    Genial\n3000    Genial\n3001    Genial\n3002    Genial\n3003    Genial\n3004    Genial\n3005    Genial\n3006    Genial\n3007    Genial\n3008    Genial\n3009    Genial\n3010    Genial\n3011    Genial\nName: Stock Price, Length: 3012, dtype: object"
      ]
     },
     "execution_count": 30,
     "metadata": {},
     "output_type": "execute_result"
    }
   ],
   "source": [
    "def classify_preformance(n):\n",
    "    if n<300:\n",
    "        return \"ok\"\n",
    "    elif n>= 300 and n <650:\n",
    "        return \"mas menos\"\n",
    "    else:\n",
    "        return \"Genial\"\n",
    "google.apply(classify_preformance)"
   ]
  },
  {
   "cell_type": "code",
   "execution_count": 32,
   "metadata": {},
   "outputs": [
    {
     "data": {
      "text/plain": [
       "0            ok\n1            ok\n2            ok\n3            ok\n4            ok\n5            ok\n6            ok\n7            ok\n8            ok\n9            ok\n10           ok\n11           ok\n12           ok\n13           ok\n14           ok\n15           ok\n16           ok\n17           ok\n18           ok\n19           ok\n20           ok\n21           ok\n22           ok\n23           ok\n24           ok\n25           ok\n26           ok\n27           ok\n28           ok\n29           ok\n         ...   \n2982    genial \n2983    genial \n2984    genial \n2985    genial \n2986    genial \n2987    genial \n2988    genial \n2989    genial \n2990    genial \n2991    genial \n2992    genial \n2993    genial \n2994    genial \n2995    genial \n2996    genial \n2997    genial \n2998    genial \n2999    genial \n3000    genial \n3001    genial \n3002    genial \n3003    genial \n3004    genial \n3005    genial \n3006    genial \n3007    genial \n3008    genial \n3009    genial \n3010    genial \n3011    genial \nName: Stock Price, Length: 3012, dtype: object"
      ]
     },
     "execution_count": 32,
     "metadata": {},
     "output_type": "execute_result"
    }
   ],
   "source": [
    "google.apply(lambda n: \"ok\" if n<300 else(\"mas menos\" if n>=300 and n<650 else 'genial '))"
   ]
  },
  {
   "cell_type": "code",
   "execution_count": 33,
   "metadata": {},
   "outputs": [
    {
     "data": {
      "text/plain": [
       "0        1002.4\n1        1082.0\n2        1093.0\n3        1047.6\n4        1059.0\n5        1078.0\n6        1060.4\n7        1019.0\n8        1022.6\n9        1001.4\n10       1014.0\n11        999.0\n12       1014.8\n13       1022.0\n14       1022.0\n15       1052.2\n16       1074.0\n17       1113.8\n18       1118.8\n19       1138.6\n20       1173.8\n21       1192.4\n22       1177.2\n23       1182.6\n24       1207.0\n25       1197.2\n26       1181.4\n27       1267.4\n28       1309.4\n29       1294.8\n         ...   \n2982    13504.4\n2983    13365.2\n2984    13600.8\n2985    13682.2\n2986    13842.0\n2987    13984.2\n2988    13889.8\n2989    13955.4\n2990    13907.2\n2991    14112.6\n2992    14301.8\n2993    14412.8\n2994    14339.6\n2995    14419.0\n2996    14397.0\n2997    14675.6\n2998    14739.2\n2999    14823.8\n3000    14772.6\n3001    14854.8\n3002    14795.4\n3003    14768.4\n3004    14835.4\n3005    14918.2\n3006    15375.8\n3007    15457.6\n3008    15421.4\n3009    15463.6\n3010    15432.2\n3011    15644.4\nName: Stock Price, Length: 3012, dtype: float64"
      ]
     },
     "execution_count": 33,
     "metadata": {},
     "output_type": "execute_result"
    }
   ],
   "source": [
    "google.apply(lambda  x : x*20)"
   ]
  },
  {
   "cell_type": "code",
   "execution_count": 35,
   "metadata": {},
   "outputs": [
    {
     "data": {
      "text/plain": [
       "0    Bulbasaur\n1      Ivysaur\n2     Venusaur\nName: Pokemon, dtype: object"
      ]
     },
     "execution_count": 35,
     "metadata": {},
     "output_type": "execute_result"
    }
   ],
   "source": [
    "pokemon_names=pd.read_csv('csvs/pokemon.csv',usecols=[\"Pokemon\"],squeeze=True)\n",
    "pokemon_names.head(3)"
   ]
  },
  {
   "cell_type": "code",
   "execution_count": 36,
   "metadata": {},
   "outputs": [
    {
     "data": {
      "text/plain": [
       "Pokemon\nBulbasaur    Grass\nIvysaur      Grass\nVenusaur     Grass\nName: Type, dtype: object"
      ]
     },
     "execution_count": 36,
     "metadata": {},
     "output_type": "execute_result"
    }
   ],
   "source": [
    "pokemon_types=pd.read_csv('csvs/pokemon.csv',index_col=\"Pokemon\",squeeze=True)\n",
    "pokemon_types.head(3)"
   ]
  },
  {
   "cell_type": "code",
   "execution_count": 37,
   "metadata": {},
   "outputs": [
    {
     "data": {
      "text/plain": [
       "0         Grass\n1         Grass\n2         Grass\n3          Fire\n4          Fire\n5          Fire\n6         Water\n7         Water\n8         Water\n9           Bug\n10          Bug\n11          Bug\n12          Bug\n13          Bug\n14          Bug\n15       Normal\n16       Normal\n17       Normal\n18       Normal\n19       Normal\n20       Normal\n21       Normal\n22       Poison\n23       Poison\n24     Electric\n25     Electric\n26       Ground\n27       Ground\n28       Poison\n29       Poison\n         ...   \n691       Water\n692       Water\n693    Electric\n694    Electric\n695        Rock\n696        Rock\n697        Rock\n698        Rock\n699       Fairy\n700    Fighting\n701    Electric\n702        Rock\n703      Dragon\n704      Dragon\n705      Dragon\n706       Steel\n707       Ghost\n708       Ghost\n709       Ghost\n710       Ghost\n711         Ice\n712         Ice\n713      Flying\n714      Flying\n715       Fairy\n716        Dark\n717      Dragon\n718        Rock\n719     Psychic\n720        Fire\nName: Pokemon, Length: 721, dtype: object"
      ]
     },
     "execution_count": 37,
     "metadata": {},
     "output_type": "execute_result"
    }
   ],
   "source": [
    "pokemon_names.map(pokemon_types)  # hace un match de los valores de pke name en los indices de poke types"
   ]
  },
  {
   "cell_type": "code",
   "execution_count": null,
   "metadata": {},
   "outputs": [],
   "source": []
  }
 ],
 "metadata": {
  "kernelspec": {
   "display_name": "Python 2",
   "language": "python",
   "name": "python2"
  },
  "language_info": {
   "codemirror_mode": {
    "name": "ipython",
    "version": 2
   },
   "file_extension": ".py",
   "mimetype": "text/x-python",
   "name": "python",
   "nbconvert_exporter": "python",
   "pygments_lexer": "ipython2",
   "version": "2.7.6"
  }
 },
 "nbformat": 4,
 "nbformat_minor": 0
}
