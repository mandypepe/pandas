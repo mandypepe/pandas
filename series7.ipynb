{
 "cells": [
  {
   "cell_type": "code",
   "execution_count": 7,
   "metadata": {
    "collapsed": true
   },
   "outputs": [
    {
     "data": {
      "text/plain": [
       "<bound method NDFrame.head of         Pokemon      Type\n0     Bulbasaur     Grass\n1       Ivysaur     Grass\n2      Venusaur     Grass\n3    Charmander      Fire\n4    Charmeleon      Fire\n5     Charizard      Fire\n6      Squirtle     Water\n7     Wartortle     Water\n8     Blastoise     Water\n9      Caterpie       Bug\n10      Metapod       Bug\n11   Butterfree       Bug\n12       Weedle       Bug\n13       Kakuna       Bug\n14     Beedrill       Bug\n15       Pidgey    Normal\n16    Pidgeotto    Normal\n17      Pidgeot    Normal\n18      Rattata    Normal\n19     Raticate    Normal\n20      Spearow    Normal\n21       Fearow    Normal\n22        Ekans    Poison\n23        Arbok    Poison\n24      Pikachu  Electric\n25       Raichu  Electric\n26    Sandshrew    Ground\n27    Sandslash    Ground\n28      Nidoran    Poison\n29     Nidorina    Poison\n..          ...       ...\n691   Clauncher     Water\n692   Clawitzer     Water\n693  Helioptile  Electric\n694   Heliolisk  Electric\n695      Tyrunt      Rock\n696   Tyrantrum      Rock\n697      Amaura      Rock\n698     Aurorus      Rock\n699     Sylveon     Fairy\n700    Hawlucha  Fighting\n701     Dedenne  Electric\n702     Carbink      Rock\n703       Goomy    Dragon\n704     Sliggoo    Dragon\n705      Goodra    Dragon\n706      Klefki     Steel\n707    Phantump     Ghost\n708   Trevenant     Ghost\n709   Pumpkaboo     Ghost\n710   Gourgeist     Ghost\n711    Bergmite       Ice\n712     Avalugg       Ice\n713      Noibat    Flying\n714     Noivern    Flying\n715     Xerneas     Fairy\n716     Yveltal      Dark\n717     Zygarde    Dragon\n718     Diancie      Rock\n719       Hoopa   Psychic\n720   Volcanion      Fire\n\n[721 rows x 2 columns]>"
      ]
     },
     "execution_count": 7,
     "metadata": {},
     "output_type": "execute_result"
    }
   ],
   "source": [
    "import pandas as pd\n",
    "import matplotlib.pyplot as plt\n",
    "import numpy as np\n",
    "%matplotlib inline\n",
    "\n",
    "# squeeze=TRUE  import as series not as DF\n",
    "#google=pd.read_csv('csvs/google_stock_price.csv',squeeze=True)\n",
    "pokemon=pd.read_csv('csvs/pokemon.csv')\n",
    "pokemon.head"
   ]
  },
  {
   "cell_type": "code",
   "execution_count": 8,
   "metadata": {},
   "outputs": [
    {
     "data": {
      "text/plain": [
       "Pokemon\nBulbasaur     Grass\nIvysaur       Grass\nVenusaur      Grass\nCharmander     Fire\nCharmeleon     Fire\nName: Type, dtype: object"
      ]
     },
     "execution_count": 8,
     "metadata": {},
     "output_type": "execute_result"
    }
   ],
   "source": [
    "pokemon=pd.read_csv('csvs/pokemon.csv',index_col=\"Pokemon\",squeeze=True)\n",
    "pokemon.head()"
   ]
  },
  {
   "cell_type": "code",
   "execution_count": 9,
   "metadata": {},
   "outputs": [
    {
     "data": {
      "text/plain": [
       "'Grass'"
      ]
     },
     "execution_count": 9,
     "metadata": {},
     "output_type": "execute_result"
    }
   ],
   "source": [
    "pokemon[0]"
   ]
  },
  {
   "cell_type": "code",
   "execution_count": 10,
   "metadata": {},
   "outputs": [
    {
     "data": {
      "text/plain": [
       "'Grass'"
      ]
     },
     "execution_count": 10,
     "metadata": {},
     "output_type": "execute_result"
    }
   ],
   "source": [
    "pokemon['Bulbasaur']"
   ]
  },
  {
   "cell_type": "code",
   "execution_count": 14,
   "metadata": {},
   "outputs": [
    {
     "data": {
      "text/plain": [
       "Pokemon\nCharmeleon    Fire\nCharmander    Fire\nName: Type, dtype: object"
      ]
     },
     "execution_count": 14,
     "metadata": {},
     "output_type": "execute_result"
    }
   ],
   "source": [
    "pokemon[['Charmeleon','Charmander']]"
   ]
  },
  {
   "cell_type": "code",
   "execution_count": 16,
   "metadata": {},
   "outputs": [
    {
     "name": "stderr",
     "output_type": "stream",
     "text": [
      "C:\\Users\\Casa\\Anaconda3\\envs\\tensor\\lib\\site-packages\\pandas\\core\\series.py:851: FutureWarning: \nPassing list-likes to .loc or [] with any missing label will raise\nKeyError in the future, you can use .reindex() as an alternative.\n\nSee the documentation here:\nhttps://pandas.pydata.org/pandas-docs/stable/indexing.html#deprecate-loc-reindex-listlike\n  return self.loc[key]\n"
     ]
    },
    {
     "data": {
      "text/plain": [
       "Pokemon\nPikachu    Electric\nDigimon         NaN\nName: Type, dtype: object"
      ]
     },
     "execution_count": 16,
     "metadata": {},
     "output_type": "execute_result"
    }
   ],
   "source": [
    "pokemon[['Pikachu','Digimon']]"
   ]
  },
  {
   "cell_type": "code",
   "execution_count": 17,
   "metadata": {},
   "outputs": [
    {
     "data": {
      "text/plain": [
       "Pokemon\nBulbasaur        Grass\nIvysaur          Grass\nVenusaur         Grass\nCharmander        Fire\nCharmeleon        Fire\nCharizard         Fire\nSquirtle         Water\nWartortle        Water\nBlastoise        Water\nCaterpie           Bug\nMetapod            Bug\nButterfree         Bug\nWeedle             Bug\nKakuna             Bug\nBeedrill           Bug\nPidgey          Normal\nPidgeotto       Normal\nPidgeot         Normal\nRattata         Normal\nRaticate        Normal\nSpearow         Normal\nFearow          Normal\nEkans           Poison\nArbok           Poison\nPikachu       Electric\nName: Type, dtype: object"
      ]
     },
     "execution_count": 17,
     "metadata": {},
     "output_type": "execute_result"
    }
   ],
   "source": [
    "pokemon[\"Bulbasaur\":\"Pikachu\"] #note que picachu esta incluid# o\n",
    "# cuando se hace con index el fin es excluido"
   ]
  },
  {
   "cell_type": "code",
   "execution_count": null,
   "metadata": {},
   "outputs": [],
   "source": []
  }
 ],
 "metadata": {
  "kernelspec": {
   "display_name": "Python 2",
   "language": "python",
   "name": "python2"
  },
  "language_info": {
   "codemirror_mode": {
    "name": "ipython",
    "version": 2
   },
   "file_extension": ".py",
   "mimetype": "text/x-python",
   "name": "python",
   "nbconvert_exporter": "python",
   "pygments_lexer": "ipython2",
   "version": "2.7.6"
  }
 },
 "nbformat": 4,
 "nbformat_minor": 0
}
