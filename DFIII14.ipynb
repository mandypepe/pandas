{
 "cells": [
  {
   "cell_type": "code",
   "execution_count": 1,
   "metadata": {
    "collapsed": true
   },
   "outputs": [
    {
     "name": "stdout",
     "output_type": "stream",
     "text": [
      "<class 'pandas.core.frame.DataFrame'>\nIndex: 26 entries, A View to a Kill to You Only Live Twice\nData columns (total 6 columns):\nYear                 26 non-null int64\nActor                26 non-null object\nDirector             26 non-null object\nBox Office           26 non-null float64\nBudget               26 non-null float64\nBond Actor Salary    18 non-null float64\ndtypes: float64(3), int64(1), object(2)\nmemory usage: 1.4+ KB\n"
     ]
    }
   ],
   "source": [
    "import pandas as pd\n",
    "import matplotlib.pyplot as plt\n",
    "import numpy as np\n",
    "%matplotlib inline\n",
    "bond=pd.read_csv(\"csvs/jamesbond.csv\", index_col='Film')\n",
    "bond.sort_index(inplace=True)\n",
    "bond.info()\n",
    "\n"
   ]
  },
  {
   "cell_type": "code",
   "execution_count": 4,
   "metadata": {
    "collapsed": false
   },
   "outputs": [
    {
     "data": {
      "text/plain": [
       "Film\nA View to a Kill                   manejable\nCasino Royale                         mierda\nCasino Royale                         mierda\nDiamonds Are Forever                  mierda\nDie Another Day                         best\nDr. No                                mierda\nFor Your Eyes Only                 manejable\nFrom Russia with Love                 mierda\nGoldenEye                               best\nGoldfinger                            mierda\nLicence to Kill                       mierda\nLive and Let Die                      mierda\nMoonraker                          manejable\nNever Say Never Again                 mierda\nOctopussy                          manejable\nOn Her Majesty's Secret Service       mierda\nQuantum of Solace                     mierda\nSkyfall                               mierda\nSpectre                               mierda\nThe Living Daylights                  mierda\nThe Man with the Golden Gun           mierda\nThe Spy Who Loved Me               manejable\nThe World Is Not Enough                 best\nThunderball                           mierda\nTomorrow Never Dies                     best\nYou Only Live Twice                   mierda\ndtype: object"
      ]
     },
     "execution_count": 4,
     "metadata": {},
     "output_type": "execute_result"
    }
   ],
   "source": [
    "bond.apply(lambda x: \"best\" if x[1]==\"Pierce Brosnan\" else(\"manejable\" if(x[1]=='Roger Moore' and x[4]>40)else \"mierda\"),axis=1)"
   ]
  },
  {
   "cell_type": "code",
   "execution_count": null,
   "metadata": {},
   "outputs": [],
   "source": []
  }
 ],
 "metadata": {
  "kernelspec": {
   "display_name": "Python 2",
   "language": "python",
   "name": "python2"
  },
  "language_info": {
   "codemirror_mode": {
    "name": "ipython",
    "version": 2
   },
   "file_extension": ".py",
   "mimetype": "text/x-python",
   "name": "python",
   "nbconvert_exporter": "python",
   "pygments_lexer": "ipython2",
   "version": "2.7.6"
  }
 },
 "nbformat": 4,
 "nbformat_minor": 0
}
