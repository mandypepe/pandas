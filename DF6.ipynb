{
 "cells": [
  {
   "cell_type": "code",
   "execution_count": 1,
   "metadata": {
    "collapsed": true
   },
   "outputs": [
    {
     "name": "stdout",
     "output_type": "stream",
     "text": [
      "<class 'pandas.core.frame.DataFrame'>\nRangeIndex: 458 entries, 0 to 457\nData columns (total 9 columns):\nName        457 non-null object\nTeam        457 non-null object\nNumber      457 non-null float64\nPosition    457 non-null object\nAge         457 non-null float64\nHeight      457 non-null object\nWeight      457 non-null float64\nCollege     373 non-null object\nSalary      446 non-null float64\ndtypes: float64(4), object(5)\nmemory usage: 32.3+ KB\n"
     ]
    }
   ],
   "source": [
    "import pandas as pd\n",
    "import matplotlib.pyplot as plt\n",
    "import numpy as np\n",
    "%matplotlib inline\n",
    "nba=pd.read_csv(\"csvs/nba.csv\")\n",
    "nba.info()\n"
   ]
  },
  {
   "cell_type": "code",
   "execution_count": 3,
   "metadata": {
    "collapsed": true
   },
   "outputs": [
    {
     "data": {
      "text/plain": [
       "<bound method NDFrame.tail of                         Name                    Team  Number Position   Age  \\\n0              Avery Bradley          Boston Celtics     0.0       PG  25.0   \n1                Jae Crowder          Boston Celtics    99.0       SF  25.0   \n2               John Holland          Boston Celtics    30.0       SG  27.0   \n3                R.J. Hunter          Boston Celtics    28.0       SG  22.0   \n4              Jonas Jerebko          Boston Celtics     8.0       PF  29.0   \n5               Amir Johnson          Boston Celtics    90.0       PF  29.0   \n6              Jordan Mickey          Boston Celtics    55.0       PF  21.0   \n7               Kelly Olynyk          Boston Celtics    41.0        C  25.0   \n8               Terry Rozier          Boston Celtics    12.0       PG  22.0   \n9               Marcus Smart          Boston Celtics    36.0       PG  22.0   \n10           Jared Sullinger          Boston Celtics     7.0        C  24.0   \n11             Isaiah Thomas          Boston Celtics     4.0       PG  27.0   \n12               Evan Turner          Boston Celtics    11.0       SG  27.0   \n13               James Young          Boston Celtics    13.0       SG  20.0   \n14              Tyler Zeller          Boston Celtics    44.0        C  26.0   \n15          Bojan Bogdanovic           Brooklyn Nets    44.0       SG  27.0   \n16              Markel Brown           Brooklyn Nets    22.0       SG  24.0   \n17           Wayne Ellington           Brooklyn Nets    21.0       SG  28.0   \n18   Rondae Hollis-Jefferson           Brooklyn Nets    24.0       SG  21.0   \n19              Jarrett Jack           Brooklyn Nets     2.0       PG  32.0   \n20            Sergey Karasev           Brooklyn Nets    10.0       SG  22.0   \n21           Sean Kilpatrick           Brooklyn Nets     6.0       SG  26.0   \n22              Shane Larkin           Brooklyn Nets     0.0       PG  23.0   \n23               Brook Lopez           Brooklyn Nets    11.0        C  28.0   \n24          Chris McCullough           Brooklyn Nets     1.0       PF  21.0   \n25               Willie Reed           Brooklyn Nets    33.0       PF  26.0   \n26           Thomas Robinson           Brooklyn Nets    41.0       PF  25.0   \n27                Henry Sims           Brooklyn Nets    14.0        C  26.0   \n28              Donald Sloan           Brooklyn Nets    15.0       PG  28.0   \n29            Thaddeus Young           Brooklyn Nets    30.0       PF  27.0   \n..                       ...                     ...     ...      ...   ...   \n428          Al-Farouq Aminu  Portland Trail Blazers     8.0       SF  25.0   \n429          Pat Connaughton  Portland Trail Blazers     5.0       SG  23.0   \n430             Allen Crabbe  Portland Trail Blazers    23.0       SG  24.0   \n431                 Ed Davis  Portland Trail Blazers    17.0        C  27.0   \n432         Maurice Harkless  Portland Trail Blazers     4.0       SF  23.0   \n433         Gerald Henderson  Portland Trail Blazers     9.0       SG  28.0   \n434              Chris Kaman  Portland Trail Blazers    35.0        C  34.0   \n435           Meyers Leonard  Portland Trail Blazers    11.0       PF  24.0   \n436           Damian Lillard  Portland Trail Blazers     0.0       PG  25.0   \n437            C.J. McCollum  Portland Trail Blazers     3.0       SG  24.0   \n438             Luis Montero  Portland Trail Blazers    44.0       SG  23.0   \n439            Mason Plumlee  Portland Trail Blazers    24.0        C  26.0   \n440            Brian Roberts  Portland Trail Blazers     2.0       PG  30.0   \n441              Noah Vonleh  Portland Trail Blazers    21.0       PF  20.0   \n442            Trevor Booker               Utah Jazz    33.0       PF  28.0   \n443               Trey Burke               Utah Jazz     3.0       PG  23.0   \n444               Alec Burks               Utah Jazz    10.0       SG  24.0   \n445               Dante Exum               Utah Jazz    11.0       PG  20.0   \n446           Derrick Favors               Utah Jazz    15.0       PF  24.0   \n447              Rudy Gobert               Utah Jazz    27.0        C  23.0   \n448           Gordon Hayward               Utah Jazz    20.0       SF  26.0   \n449              Rodney Hood               Utah Jazz     5.0       SG  23.0   \n450               Joe Ingles               Utah Jazz     2.0       SF  28.0   \n451            Chris Johnson               Utah Jazz    23.0       SF  26.0   \n452               Trey Lyles               Utah Jazz    41.0       PF  20.0   \n453             Shelvin Mack               Utah Jazz     8.0       PG  26.0   \n454                Raul Neto               Utah Jazz    25.0       PG  24.0   \n455             Tibor Pleiss               Utah Jazz    21.0        C  26.0   \n456              Jeff Withey               Utah Jazz    24.0        C  26.0   \n457                      NaN                     NaN     NaN      NaN   NaN   \n\n    Height  Weight            College      Salary  \n0      6-2   180.0              Texas   7730337.0  \n1      6-6   235.0          Marquette   6796117.0  \n2      6-5   205.0  Boston University         NaN  \n3      6-5   185.0      Georgia State   1148640.0  \n4     6-10   231.0                NaN   5000000.0  \n5      6-9   240.0                NaN  12000000.0  \n6      6-8   235.0                LSU   1170960.0  \n7      7-0   238.0            Gonzaga   2165160.0  \n8      6-2   190.0         Louisville   1824360.0  \n9      6-4   220.0     Oklahoma State   3431040.0  \n10     6-9   260.0         Ohio State   2569260.0  \n11     5-9   185.0         Washington   6912869.0  \n12     6-7   220.0         Ohio State   3425510.0  \n13     6-6   215.0           Kentucky   1749840.0  \n14     7-0   253.0     North Carolina   2616975.0  \n15     6-8   216.0                NaN   3425510.0  \n16     6-3   190.0     Oklahoma State    845059.0  \n17     6-4   200.0     North Carolina   1500000.0  \n18     6-7   220.0            Arizona   1335480.0  \n19     6-3   200.0       Georgia Tech   6300000.0  \n20     6-7   208.0                NaN   1599840.0  \n21     6-4   219.0         Cincinnati    134215.0  \n22    5-11   175.0         Miami (FL)   1500000.0  \n23     7-0   275.0           Stanford  19689000.0  \n24    6-11   200.0           Syracuse   1140240.0  \n25    6-10   220.0        Saint Louis    947276.0  \n26    6-10   237.0             Kansas    981348.0  \n27    6-10   248.0         Georgetown    947276.0  \n28     6-3   205.0          Texas A&M    947276.0  \n29     6-8   221.0       Georgia Tech  11235955.0  \n..     ...     ...                ...         ...  \n428    6-9   215.0        Wake Forest   8042895.0  \n429    6-5   206.0         Notre Dame    625093.0  \n430    6-6   210.0         California    947276.0  \n431   6-10   240.0     North Carolina   6980802.0  \n432    6-9   215.0         St. John's   2894059.0  \n433    6-5   215.0               Duke   6000000.0  \n434    7-0   265.0   Central Michigan   5016000.0  \n435    7-1   245.0           Illinois   3075880.0  \n436    6-3   195.0        Weber State   4236287.0  \n437    6-4   200.0             Lehigh   2525160.0  \n438    6-7   185.0     Westchester CC    525093.0  \n439   6-11   235.0               Duke   1415520.0  \n440    6-1   173.0             Dayton   2854940.0  \n441    6-9   240.0            Indiana   2637720.0  \n442    6-8   228.0            Clemson   4775000.0  \n443    6-1   191.0           Michigan   2658240.0  \n444    6-6   214.0           Colorado   9463484.0  \n445    6-6   190.0                NaN   3777720.0  \n446   6-10   265.0       Georgia Tech  12000000.0  \n447    7-1   245.0                NaN   1175880.0  \n448    6-8   226.0             Butler  15409570.0  \n449    6-8   206.0               Duke   1348440.0  \n450    6-8   226.0                NaN   2050000.0  \n451    6-6   206.0             Dayton    981348.0  \n452   6-10   234.0           Kentucky   2239800.0  \n453    6-3   203.0             Butler   2433333.0  \n454    6-1   179.0                NaN    900000.0  \n455    7-3   256.0                NaN   2900000.0  \n456    7-0   231.0             Kansas    947276.0  \n457    NaN     NaN                NaN         NaN  \n\n[458 rows x 9 columns]>"
      ]
     },
     "execution_count": 3,
     "metadata": {},
     "output_type": "execute_result"
    }
   ],
   "source": [
    "nba.tail"
   ]
  },
  {
   "cell_type": "code",
   "execution_count": 5,
   "metadata": {
    "collapsed": true
   },
   "outputs": [
    {
     "data": {
      "text/plain": [
       "<bound method NDFrame.tail of                         Name                    Team  Number Position   Age  \\\n0              Avery Bradley          Boston Celtics     0.0       PG  25.0   \n1                Jae Crowder          Boston Celtics    99.0       SF  25.0   \n2               John Holland          Boston Celtics    30.0       SG  27.0   \n3                R.J. Hunter          Boston Celtics    28.0       SG  22.0   \n4              Jonas Jerebko          Boston Celtics     8.0       PF  29.0   \n5               Amir Johnson          Boston Celtics    90.0       PF  29.0   \n6              Jordan Mickey          Boston Celtics    55.0       PF  21.0   \n7               Kelly Olynyk          Boston Celtics    41.0        C  25.0   \n8               Terry Rozier          Boston Celtics    12.0       PG  22.0   \n9               Marcus Smart          Boston Celtics    36.0       PG  22.0   \n10           Jared Sullinger          Boston Celtics     7.0        C  24.0   \n11             Isaiah Thomas          Boston Celtics     4.0       PG  27.0   \n12               Evan Turner          Boston Celtics    11.0       SG  27.0   \n13               James Young          Boston Celtics    13.0       SG  20.0   \n14              Tyler Zeller          Boston Celtics    44.0        C  26.0   \n15          Bojan Bogdanovic           Brooklyn Nets    44.0       SG  27.0   \n16              Markel Brown           Brooklyn Nets    22.0       SG  24.0   \n17           Wayne Ellington           Brooklyn Nets    21.0       SG  28.0   \n18   Rondae Hollis-Jefferson           Brooklyn Nets    24.0       SG  21.0   \n19              Jarrett Jack           Brooklyn Nets     2.0       PG  32.0   \n20            Sergey Karasev           Brooklyn Nets    10.0       SG  22.0   \n21           Sean Kilpatrick           Brooklyn Nets     6.0       SG  26.0   \n22              Shane Larkin           Brooklyn Nets     0.0       PG  23.0   \n23               Brook Lopez           Brooklyn Nets    11.0        C  28.0   \n24          Chris McCullough           Brooklyn Nets     1.0       PF  21.0   \n25               Willie Reed           Brooklyn Nets    33.0       PF  26.0   \n26           Thomas Robinson           Brooklyn Nets    41.0       PF  25.0   \n27                Henry Sims           Brooklyn Nets    14.0        C  26.0   \n28              Donald Sloan           Brooklyn Nets    15.0       PG  28.0   \n29            Thaddeus Young           Brooklyn Nets    30.0       PF  27.0   \n..                       ...                     ...     ...      ...   ...   \n427          Cliff Alexander  Portland Trail Blazers    34.0       PF  20.0   \n428          Al-Farouq Aminu  Portland Trail Blazers     8.0       SF  25.0   \n429          Pat Connaughton  Portland Trail Blazers     5.0       SG  23.0   \n430             Allen Crabbe  Portland Trail Blazers    23.0       SG  24.0   \n431                 Ed Davis  Portland Trail Blazers    17.0        C  27.0   \n432         Maurice Harkless  Portland Trail Blazers     4.0       SF  23.0   \n433         Gerald Henderson  Portland Trail Blazers     9.0       SG  28.0   \n434              Chris Kaman  Portland Trail Blazers    35.0        C  34.0   \n435           Meyers Leonard  Portland Trail Blazers    11.0       PF  24.0   \n436           Damian Lillard  Portland Trail Blazers     0.0       PG  25.0   \n437            C.J. McCollum  Portland Trail Blazers     3.0       SG  24.0   \n438             Luis Montero  Portland Trail Blazers    44.0       SG  23.0   \n439            Mason Plumlee  Portland Trail Blazers    24.0        C  26.0   \n440            Brian Roberts  Portland Trail Blazers     2.0       PG  30.0   \n441              Noah Vonleh  Portland Trail Blazers    21.0       PF  20.0   \n442            Trevor Booker               Utah Jazz    33.0       PF  28.0   \n443               Trey Burke               Utah Jazz     3.0       PG  23.0   \n444               Alec Burks               Utah Jazz    10.0       SG  24.0   \n445               Dante Exum               Utah Jazz    11.0       PG  20.0   \n446           Derrick Favors               Utah Jazz    15.0       PF  24.0   \n447              Rudy Gobert               Utah Jazz    27.0        C  23.0   \n448           Gordon Hayward               Utah Jazz    20.0       SF  26.0   \n449              Rodney Hood               Utah Jazz     5.0       SG  23.0   \n450               Joe Ingles               Utah Jazz     2.0       SF  28.0   \n451            Chris Johnson               Utah Jazz    23.0       SF  26.0   \n452               Trey Lyles               Utah Jazz    41.0       PF  20.0   \n453             Shelvin Mack               Utah Jazz     8.0       PG  26.0   \n454                Raul Neto               Utah Jazz    25.0       PG  24.0   \n455             Tibor Pleiss               Utah Jazz    21.0        C  26.0   \n456              Jeff Withey               Utah Jazz    24.0        C  26.0   \n\n    Height  Weight            College      Salary  \n0      6-2   180.0              Texas   7730337.0  \n1      6-6   235.0          Marquette   6796117.0  \n2      6-5   205.0  Boston University         NaN  \n3      6-5   185.0      Georgia State   1148640.0  \n4     6-10   231.0                NaN   5000000.0  \n5      6-9   240.0                NaN  12000000.0  \n6      6-8   235.0                LSU   1170960.0  \n7      7-0   238.0            Gonzaga   2165160.0  \n8      6-2   190.0         Louisville   1824360.0  \n9      6-4   220.0     Oklahoma State   3431040.0  \n10     6-9   260.0         Ohio State   2569260.0  \n11     5-9   185.0         Washington   6912869.0  \n12     6-7   220.0         Ohio State   3425510.0  \n13     6-6   215.0           Kentucky   1749840.0  \n14     7-0   253.0     North Carolina   2616975.0  \n15     6-8   216.0                NaN   3425510.0  \n16     6-3   190.0     Oklahoma State    845059.0  \n17     6-4   200.0     North Carolina   1500000.0  \n18     6-7   220.0            Arizona   1335480.0  \n19     6-3   200.0       Georgia Tech   6300000.0  \n20     6-7   208.0                NaN   1599840.0  \n21     6-4   219.0         Cincinnati    134215.0  \n22    5-11   175.0         Miami (FL)   1500000.0  \n23     7-0   275.0           Stanford  19689000.0  \n24    6-11   200.0           Syracuse   1140240.0  \n25    6-10   220.0        Saint Louis    947276.0  \n26    6-10   237.0             Kansas    981348.0  \n27    6-10   248.0         Georgetown    947276.0  \n28     6-3   205.0          Texas A&M    947276.0  \n29     6-8   221.0       Georgia Tech  11235955.0  \n..     ...     ...                ...         ...  \n427    6-8   240.0             Kansas    525093.0  \n428    6-9   215.0        Wake Forest   8042895.0  \n429    6-5   206.0         Notre Dame    625093.0  \n430    6-6   210.0         California    947276.0  \n431   6-10   240.0     North Carolina   6980802.0  \n432    6-9   215.0         St. John's   2894059.0  \n433    6-5   215.0               Duke   6000000.0  \n434    7-0   265.0   Central Michigan   5016000.0  \n435    7-1   245.0           Illinois   3075880.0  \n436    6-3   195.0        Weber State   4236287.0  \n437    6-4   200.0             Lehigh   2525160.0  \n438    6-7   185.0     Westchester CC    525093.0  \n439   6-11   235.0               Duke   1415520.0  \n440    6-1   173.0             Dayton   2854940.0  \n441    6-9   240.0            Indiana   2637720.0  \n442    6-8   228.0            Clemson   4775000.0  \n443    6-1   191.0           Michigan   2658240.0  \n444    6-6   214.0           Colorado   9463484.0  \n445    6-6   190.0                NaN   3777720.0  \n446   6-10   265.0       Georgia Tech  12000000.0  \n447    7-1   245.0                NaN   1175880.0  \n448    6-8   226.0             Butler  15409570.0  \n449    6-8   206.0               Duke   1348440.0  \n450    6-8   226.0                NaN   2050000.0  \n451    6-6   206.0             Dayton    981348.0  \n452   6-10   234.0           Kentucky   2239800.0  \n453    6-3   203.0             Butler   2433333.0  \n454    6-1   179.0                NaN    900000.0  \n455    7-3   256.0                NaN   2900000.0  \n456    7-0   231.0             Kansas    947276.0  \n\n[457 rows x 9 columns]>"
      ]
     },
     "execution_count": 5,
     "metadata": {},
     "output_type": "execute_result"
    }
   ],
   "source": [
    "nba=nba.dropna(how='all')\n",
    "nba.tail"
   ]
  },
  {
   "cell_type": "code",
   "execution_count": 9,
   "metadata": {
    "collapsed": true
   },
   "outputs": [
    {
     "data": {
      "text/plain": [
       "<bound method NDFrame.head of                         Name                    Team  Number Position   Age  \\\n0              Avery Bradley          Boston Celtics     0.0       PG  25.0   \n1                Jae Crowder          Boston Celtics    99.0       SF  25.0   \n2               John Holland          Boston Celtics    30.0       SG  27.0   \n3                R.J. Hunter          Boston Celtics    28.0       SG  22.0   \n4              Jonas Jerebko          Boston Celtics     8.0       PF  29.0   \n5               Amir Johnson          Boston Celtics    90.0       PF  29.0   \n6              Jordan Mickey          Boston Celtics    55.0       PF  21.0   \n7               Kelly Olynyk          Boston Celtics    41.0        C  25.0   \n8               Terry Rozier          Boston Celtics    12.0       PG  22.0   \n9               Marcus Smart          Boston Celtics    36.0       PG  22.0   \n10           Jared Sullinger          Boston Celtics     7.0        C  24.0   \n11             Isaiah Thomas          Boston Celtics     4.0       PG  27.0   \n12               Evan Turner          Boston Celtics    11.0       SG  27.0   \n13               James Young          Boston Celtics    13.0       SG  20.0   \n14              Tyler Zeller          Boston Celtics    44.0        C  26.0   \n15          Bojan Bogdanovic           Brooklyn Nets    44.0       SG  27.0   \n16              Markel Brown           Brooklyn Nets    22.0       SG  24.0   \n17           Wayne Ellington           Brooklyn Nets    21.0       SG  28.0   \n18   Rondae Hollis-Jefferson           Brooklyn Nets    24.0       SG  21.0   \n19              Jarrett Jack           Brooklyn Nets     2.0       PG  32.0   \n20            Sergey Karasev           Brooklyn Nets    10.0       SG  22.0   \n21           Sean Kilpatrick           Brooklyn Nets     6.0       SG  26.0   \n22              Shane Larkin           Brooklyn Nets     0.0       PG  23.0   \n23               Brook Lopez           Brooklyn Nets    11.0        C  28.0   \n24          Chris McCullough           Brooklyn Nets     1.0       PF  21.0   \n25               Willie Reed           Brooklyn Nets    33.0       PF  26.0   \n26           Thomas Robinson           Brooklyn Nets    41.0       PF  25.0   \n27                Henry Sims           Brooklyn Nets    14.0        C  26.0   \n28              Donald Sloan           Brooklyn Nets    15.0       PG  28.0   \n29            Thaddeus Young           Brooklyn Nets    30.0       PF  27.0   \n..                       ...                     ...     ...      ...   ...   \n427          Cliff Alexander  Portland Trail Blazers    34.0       PF  20.0   \n428          Al-Farouq Aminu  Portland Trail Blazers     8.0       SF  25.0   \n429          Pat Connaughton  Portland Trail Blazers     5.0       SG  23.0   \n430             Allen Crabbe  Portland Trail Blazers    23.0       SG  24.0   \n431                 Ed Davis  Portland Trail Blazers    17.0        C  27.0   \n432         Maurice Harkless  Portland Trail Blazers     4.0       SF  23.0   \n433         Gerald Henderson  Portland Trail Blazers     9.0       SG  28.0   \n434              Chris Kaman  Portland Trail Blazers    35.0        C  34.0   \n435           Meyers Leonard  Portland Trail Blazers    11.0       PF  24.0   \n436           Damian Lillard  Portland Trail Blazers     0.0       PG  25.0   \n437            C.J. McCollum  Portland Trail Blazers     3.0       SG  24.0   \n438             Luis Montero  Portland Trail Blazers    44.0       SG  23.0   \n439            Mason Plumlee  Portland Trail Blazers    24.0        C  26.0   \n440            Brian Roberts  Portland Trail Blazers     2.0       PG  30.0   \n441              Noah Vonleh  Portland Trail Blazers    21.0       PF  20.0   \n442            Trevor Booker               Utah Jazz    33.0       PF  28.0   \n443               Trey Burke               Utah Jazz     3.0       PG  23.0   \n444               Alec Burks               Utah Jazz    10.0       SG  24.0   \n445               Dante Exum               Utah Jazz    11.0       PG  20.0   \n446           Derrick Favors               Utah Jazz    15.0       PF  24.0   \n447              Rudy Gobert               Utah Jazz    27.0        C  23.0   \n448           Gordon Hayward               Utah Jazz    20.0       SF  26.0   \n449              Rodney Hood               Utah Jazz     5.0       SG  23.0   \n450               Joe Ingles               Utah Jazz     2.0       SF  28.0   \n451            Chris Johnson               Utah Jazz    23.0       SF  26.0   \n452               Trey Lyles               Utah Jazz    41.0       PF  20.0   \n453             Shelvin Mack               Utah Jazz     8.0       PG  26.0   \n454                Raul Neto               Utah Jazz    25.0       PG  24.0   \n455             Tibor Pleiss               Utah Jazz    21.0        C  26.0   \n456              Jeff Withey               Utah Jazz    24.0        C  26.0   \n\n    Height  Weight            College      Salary  \n0      6-2   180.0              Texas   7730337.0  \n1      6-6   235.0          Marquette   6796117.0  \n2      6-5   205.0  Boston University         0.0  \n3      6-5   185.0      Georgia State   1148640.0  \n4     6-10   231.0                NaN   5000000.0  \n5      6-9   240.0                NaN  12000000.0  \n6      6-8   235.0                LSU   1170960.0  \n7      7-0   238.0            Gonzaga   2165160.0  \n8      6-2   190.0         Louisville   1824360.0  \n9      6-4   220.0     Oklahoma State   3431040.0  \n10     6-9   260.0         Ohio State   2569260.0  \n11     5-9   185.0         Washington   6912869.0  \n12     6-7   220.0         Ohio State   3425510.0  \n13     6-6   215.0           Kentucky   1749840.0  \n14     7-0   253.0     North Carolina   2616975.0  \n15     6-8   216.0                NaN   3425510.0  \n16     6-3   190.0     Oklahoma State    845059.0  \n17     6-4   200.0     North Carolina   1500000.0  \n18     6-7   220.0            Arizona   1335480.0  \n19     6-3   200.0       Georgia Tech   6300000.0  \n20     6-7   208.0                NaN   1599840.0  \n21     6-4   219.0         Cincinnati    134215.0  \n22    5-11   175.0         Miami (FL)   1500000.0  \n23     7-0   275.0           Stanford  19689000.0  \n24    6-11   200.0           Syracuse   1140240.0  \n25    6-10   220.0        Saint Louis    947276.0  \n26    6-10   237.0             Kansas    981348.0  \n27    6-10   248.0         Georgetown    947276.0  \n28     6-3   205.0          Texas A&M    947276.0  \n29     6-8   221.0       Georgia Tech  11235955.0  \n..     ...     ...                ...         ...  \n427    6-8   240.0             Kansas    525093.0  \n428    6-9   215.0        Wake Forest   8042895.0  \n429    6-5   206.0         Notre Dame    625093.0  \n430    6-6   210.0         California    947276.0  \n431   6-10   240.0     North Carolina   6980802.0  \n432    6-9   215.0         St. John's   2894059.0  \n433    6-5   215.0               Duke   6000000.0  \n434    7-0   265.0   Central Michigan   5016000.0  \n435    7-1   245.0           Illinois   3075880.0  \n436    6-3   195.0        Weber State   4236287.0  \n437    6-4   200.0             Lehigh   2525160.0  \n438    6-7   185.0     Westchester CC    525093.0  \n439   6-11   235.0               Duke   1415520.0  \n440    6-1   173.0             Dayton   2854940.0  \n441    6-9   240.0            Indiana   2637720.0  \n442    6-8   228.0            Clemson   4775000.0  \n443    6-1   191.0           Michigan   2658240.0  \n444    6-6   214.0           Colorado   9463484.0  \n445    6-6   190.0                NaN   3777720.0  \n446   6-10   265.0       Georgia Tech  12000000.0  \n447    7-1   245.0                NaN   1175880.0  \n448    6-8   226.0             Butler  15409570.0  \n449    6-8   206.0               Duke   1348440.0  \n450    6-8   226.0                NaN   2050000.0  \n451    6-6   206.0             Dayton    981348.0  \n452   6-10   234.0           Kentucky   2239800.0  \n453    6-3   203.0             Butler   2433333.0  \n454    6-1   179.0                NaN    900000.0  \n455    7-3   256.0                NaN   2900000.0  \n456    7-0   231.0             Kansas    947276.0  \n\n[457 rows x 9 columns]>"
      ]
     },
     "execution_count": 9,
     "metadata": {},
     "output_type": "execute_result"
    }
   ],
   "source": [
    "nba['Salary'].fillna(0,inplace=True)\n",
    "nba.head\n"
   ]
  },
  {
   "cell_type": "code",
   "execution_count": 12,
   "metadata": {},
   "outputs": [
    {
     "data": {
      "text/plain": [
       "Name         object\nTeam         object\nNumber      float64\nPosition     object\nAge         float64\nHeight       object\nWeight      float64\nCollege      object\nSalary      float64\ndtype: object"
      ]
     },
     "execution_count": 12,
     "metadata": {},
     "output_type": "execute_result"
    }
   ],
   "source": [
    "nba['College'].fillna(\"None\",inplace=True)\n",
    "nba.dtypes"
   ]
  },
  {
   "cell_type": "code",
   "execution_count": 15,
   "metadata": {},
   "outputs": [
    {
     "name": "stdout",
     "output_type": "stream",
     "text": [
      "<class 'pandas.core.frame.DataFrame'>\nInt64Index: 457 entries, 0 to 456\nData columns (total 9 columns):\nName        457 non-null object\nTeam        457 non-null object\nNumber      457 non-null float64\nPosition    457 non-null object\nAge         457 non-null float64\nHeight      457 non-null object\nWeight      457 non-null float64\nCollege     457 non-null object\nSalary      457 non-null float64\ndtypes: float64(4), object(5)\nmemory usage: 35.7+ KB\n"
     ]
    }
   ],
   "source": [
    "nba.info()"
   ]
  },
  {
   "cell_type": "code",
   "execution_count": 17,
   "metadata": {
    "collapsed": true
   },
   "outputs": [
    {
     "name": "stderr",
     "output_type": "stream",
     "text": [
      "C:\\Users\\Casa\\Anaconda3\\envs\\tensor\\lib\\site-packages\\ipykernel_launcher.py:1: SettingWithCopyWarning: \nA value is trying to be set on a copy of a slice from a DataFrame.\nTry using .loc[row_indexer,col_indexer] = value instead\n\nSee the caveats in the documentation: http://pandas.pydata.org/pandas-docs/stable/indexing.html#indexing-view-versus-copy\n  \"\"\"Entry point for launching an IPython kernel.\n"
     ]
    },
    {
     "data": {
      "text/plain": [
       "dtype('int32')"
      ]
     },
     "execution_count": 17,
     "metadata": {},
     "output_type": "execute_result"
    }
   ],
   "source": [
    "nba['Salary']=nba['Salary'].astype('int')\n",
    "nba['Salary'].dtypes"
   ]
  },
  {
   "cell_type": "code",
   "execution_count": 19,
   "metadata": {
    "collapsed": true
   },
   "outputs": [
    {
     "name": "stderr",
     "output_type": "stream",
     "text": [
      "C:\\Users\\Casa\\Anaconda3\\envs\\tensor\\lib\\site-packages\\ipykernel_launcher.py:1: SettingWithCopyWarning: \nA value is trying to be set on a copy of a slice from a DataFrame.\nTry using .loc[row_indexer,col_indexer] = value instead\n\nSee the caveats in the documentation: http://pandas.pydata.org/pandas-docs/stable/indexing.html#indexing-view-versus-copy\n  \"\"\"Entry point for launching an IPython kernel.\n"
     ]
    },
    {
     "data": {
      "text/plain": [
       "0      25\n1      25\n2      27\n3      22\n4      29\n5      29\n6      21\n7      25\n8      22\n9      22\n10     24\n11     27\n12     27\n13     20\n14     26\n15     27\n16     24\n17     28\n18     21\n19     32\n20     22\n21     26\n22     23\n23     28\n24     21\n25     26\n26     25\n27     26\n28     28\n29     27\n       ..\n427    20\n428    25\n429    23\n430    24\n431    27\n432    23\n433    28\n434    34\n435    24\n436    25\n437    24\n438    23\n439    26\n440    30\n441    20\n442    28\n443    23\n444    24\n445    20\n446    24\n447    23\n448    26\n449    23\n450    28\n451    26\n452    20\n453    26\n454    24\n455    26\n456    26\nName: Age, Length: 457, dtype: int32"
      ]
     },
     "execution_count": 19,
     "metadata": {},
     "output_type": "execute_result"
    }
   ],
   "source": [
    "nba['Age']=nba['Age'].astype('int')\n",
    "nba['Age']"
   ]
  },
  {
   "cell_type": "code",
   "execution_count": 21,
   "metadata": {},
   "outputs": [
    {
     "name": "stderr",
     "output_type": "stream",
     "text": [
      "C:\\Users\\Casa\\Anaconda3\\envs\\tensor\\lib\\site-packages\\ipykernel_launcher.py:1: SettingWithCopyWarning: \nA value is trying to be set on a copy of a slice from a DataFrame.\nTry using .loc[row_indexer,col_indexer] = value instead\n\nSee the caveats in the documentation: http://pandas.pydata.org/pandas-docs/stable/indexing.html#indexing-view-versus-copy\n  \"\"\"Entry point for launching an IPython kernel.\n"
     ]
    },
    {
     "data": {
      "text/plain": [
       "CategoricalDtype(categories=['C', 'PF', 'PG', 'SF', 'SG'], ordered=False)"
      ]
     },
     "execution_count": 21,
     "metadata": {},
     "output_type": "execute_result"
    }
   ],
   "source": [
    "nba['Position']=nba['Position'].astype('category') # para elementos que se repiten n veces igual  y tienen una cantidad finita\n",
    "nba['Position'].dtypes\n"
   ]
  },
  {
   "cell_type": "code",
   "execution_count": 22,
   "metadata": {},
   "outputs": [
    {
     "name": "stdout",
     "output_type": "stream",
     "text": [
      "<class 'pandas.core.frame.DataFrame'>\nInt64Index: 457 entries, 0 to 456\nData columns (total 9 columns):\nName        457 non-null object\nTeam        457 non-null object\nNumber      457 non-null float64\nPosition    457 non-null category\nAge         457 non-null int32\nHeight      457 non-null object\nWeight      457 non-null float64\nCollege     457 non-null object\nSalary      457 non-null int32\ndtypes: category(1), float64(2), int32(2), object(4)\nmemory usage: 29.2+ KB\n"
     ]
    }
   ],
   "source": [
    "nba.info()"
   ]
  },
  {
   "cell_type": "code",
   "execution_count": 23,
   "metadata": {},
   "outputs": [
    {
     "name": "stderr",
     "output_type": "stream",
     "text": [
      "C:\\Users\\Casa\\Anaconda3\\envs\\tensor\\lib\\site-packages\\ipykernel_launcher.py:1: SettingWithCopyWarning: \nA value is trying to be set on a copy of a slice from a DataFrame.\nTry using .loc[row_indexer,col_indexer] = value instead\n\nSee the caveats in the documentation: http://pandas.pydata.org/pandas-docs/stable/indexing.html#indexing-view-versus-copy\n  \"\"\"Entry point for launching an IPython kernel.\n"
     ]
    }
   ],
   "source": [
    "nba['Team']=nba['Team'].astype('category') # numero finito de elementos  que se repite  nveces \n",
    "# el mejor uso es para reducir tamanno de memoria en uso\n",
    "\n"
   ]
  },
  {
   "cell_type": "code",
   "execution_count": 24,
   "metadata": {},
   "outputs": [
    {
     "name": "stdout",
     "output_type": "stream",
     "text": [
      "<class 'pandas.core.frame.DataFrame'>\nInt64Index: 457 entries, 0 to 456\nData columns (total 9 columns):\nName        457 non-null object\nTeam        457 non-null category\nNumber      457 non-null float64\nPosition    457 non-null category\nAge         457 non-null int32\nHeight      457 non-null object\nWeight      457 non-null float64\nCollege     457 non-null object\nSalary      457 non-null int32\ndtypes: category(2), float64(2), int32(2), object(3)\nmemory usage: 27.6+ KB\n"
     ]
    }
   ],
   "source": [
    "nba.info()"
   ]
  },
  {
   "cell_type": "code",
   "execution_count": null,
   "metadata": {},
   "outputs": [],
   "source": []
  }
 ],
 "metadata": {
  "kernelspec": {
   "display_name": "Python 2",
   "language": "python",
   "name": "python2"
  },
  "language_info": {
   "codemirror_mode": {
    "name": "ipython",
    "version": 2
   },
   "file_extension": ".py",
   "mimetype": "text/x-python",
   "name": "python",
   "nbconvert_exporter": "python",
   "pygments_lexer": "ipython2",
   "version": "2.7.6"
  }
 },
 "nbformat": 4,
 "nbformat_minor": 0
}
