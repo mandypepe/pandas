{
 "cells": [
  {
   "cell_type": "code",
   "execution_count": 3,
   "metadata": {
    "collapsed": true
   },
   "outputs": [
    {
     "name": "stdout",
     "output_type": "stream",
     "text": [
      "<class 'pandas.core.frame.DataFrame'>\nRangeIndex: 5 entries, 0 to 4\nData columns (total 4 columns):\nFirst Name    5 non-null object\nLast Name     5 non-null object\nCity          5 non-null object\nGender        5 non-null object\ndtypes: object(4)\nmemory usage: 240.0+ bytes\n"
     ]
    }
   ],
   "source": [
    "import  pandas as pd\n",
    "df=pd.read_excel('csvs/Data - Single Worksheet.xlsx')\n",
    "df.info()"
   ]
  },
  {
   "cell_type": "code",
   "execution_count": 4,
   "metadata": {
    "collapsed": true
   },
   "outputs": [
    {
     "name": "stdout",
     "output_type": "stream",
     "text": [
      "<class 'pandas.core.frame.DataFrame'>\nRangeIndex: 5 entries, 0 to 4\nData columns (total 4 columns):\nFirst Name    5 non-null object\nLast Name     5 non-null object\nCity          5 non-null object\nGender        5 non-null object\ndtypes: object(4)\nmemory usage: 240.0+ bytes\n"
     ]
    }
   ],
   "source": [
    "dfm=pd.read_excel('csvs/Data - Multiple Worksheets.xlsx')\n",
    "dfm.info()"
   ]
  },
  {
   "cell_type": "code",
   "execution_count": 5,
   "metadata": {
    "collapsed": true
   },
   "outputs": [
    {
     "name": "stdout",
     "output_type": "stream",
     "text": [
      "<class 'pandas.core.frame.DataFrame'>\nRangeIndex: 5 entries, 0 to 4\nData columns (total 4 columns):\nFirst Name    5 non-null object\nLast Name     5 non-null object\nCity          5 non-null object\nGender        5 non-null object\ndtypes: object(4)\nmemory usage: 240.0+ bytes\n"
     ]
    }
   ],
   "source": [
    "dfm=pd.read_excel('csvs/Data - Multiple Worksheets.xlsx',sheet_name=0)\n",
    "dfm.info()"
   ]
  },
  {
   "cell_type": "code",
   "execution_count": 6,
   "metadata": {
    "collapsed": true
   },
   "outputs": [
    {
     "name": "stdout",
     "output_type": "stream",
     "text": [
      "<class 'pandas.core.frame.DataFrame'>\nRangeIndex: 5 entries, 0 to 4\nData columns (total 4 columns):\nFirst Name    5 non-null object\nLast Name     5 non-null object\nCity          5 non-null object\nGender        5 non-null object\ndtypes: object(4)\nmemory usage: 240.0+ bytes\n"
     ]
    }
   ],
   "source": [
    "dfm=pd.read_excel('csvs/Data - Multiple Worksheets.xlsx',sheet_name=1)\n",
    "dfm.info()"
   ]
  },
  {
   "cell_type": "code",
   "execution_count": 7,
   "metadata": {
    "collapsed": true
   },
   "outputs": [
    {
     "name": "stdout",
     "output_type": "stream",
     "text": [
      "<class 'pandas.core.frame.DataFrame'>\nRangeIndex: 5 entries, 0 to 4\nData columns (total 4 columns):\nFirst Name    5 non-null object\nLast Name     5 non-null object\nCity          5 non-null object\nGender        5 non-null object\ndtypes: object(4)\nmemory usage: 240.0+ bytes\n"
     ]
    }
   ],
   "source": [
    "dfm=pd.read_excel('csvs/Data - Multiple Worksheets.xlsx',sheet_name='Data 1')\n",
    "dfm.info()"
   ]
  },
  {
   "cell_type": "code",
   "execution_count": 9,
   "metadata": {
    "collapsed": true
   },
   "outputs": [
    {
     "data": {
      "text/plain": [
       "OrderedDict([(0,   First Name Last Name           City Gender\n              0    Brandon     James          Miami      M\n              1       Sean   Hawkins         Denver      M\n              2       Judy       Day    Los Angeles      F\n              3     Ashley      Ruiz  San Francisco      F\n              4  Stephanie     Gomez       Portland      F),\n             (1,   First Name Last Name           City Gender\n              0     Parker     Power        Raleigh      F\n              1    Preston  Prescott   Philadelphia      F\n              2    Ronaldo   Donaldo         Bangor      M\n              3      Megan   Stiller  San Francisco      M\n              4     Bustin    Jieber         Austin      F)])"
      ]
     },
     "execution_count": 9,
     "metadata": {},
     "output_type": "execute_result"
    }
   ],
   "source": [
    "dfm=pd.read_excel('csvs/Data - Multiple Worksheets.xlsx',sheet_name=[0,1])\n",
    "dfm"
   ]
  },
  {
   "cell_type": "code",
   "execution_count": 11,
   "metadata": {
    "collapsed": true
   },
   "outputs": [
    {
     "data": {
      "text/plain": [
       "<bound method NDFrame.head of   First Name Last Name           City Gender\n0    Brandon     James          Miami      M\n1       Sean   Hawkins         Denver      M\n2       Judy       Day    Los Angeles      F\n3     Ashley      Ruiz  San Francisco      F\n4  Stephanie     Gomez       Portland      F>"
      ]
     },
     "execution_count": 11,
     "metadata": {},
     "output_type": "execute_result"
    }
   ],
   "source": [
    "dfm[0].head"
   ]
  },
  {
   "cell_type": "code",
   "execution_count": 12,
   "metadata": {
    "collapsed": true
   },
   "outputs": [
    {
     "data": {
      "text/plain": [
       "<bound method NDFrame.head of   First Name Last Name           City Gender\n0     Parker     Power        Raleigh      F\n1    Preston  Prescott   Philadelphia      F\n2    Ronaldo   Donaldo         Bangor      M\n3      Megan   Stiller  San Francisco      M\n4     Bustin    Jieber         Austin      F>"
      ]
     },
     "execution_count": 12,
     "metadata": {},
     "output_type": "execute_result"
    }
   ],
   "source": [
    "dfm[1].head"
   ]
  },
  {
   "cell_type": "code",
   "execution_count": 20,
   "metadata": {
    "collapsed": true
   },
   "outputs": [
    {
     "name": "stdout",
     "output_type": "stream",
     "text": [
      "<class 'pandas.core.frame.DataFrame'>\nRangeIndex: 333076 entries, 0 to 333075\nData columns (total 10 columns):\nAnio             333076 non-null int64\nNroMes           333076 non-null int64\nubigeo           333076 non-null int64\nDepartamento     333076 non-null object\nProvincia        333076 non-null object\nDistrito         333076 non-null object\nGrupoEdadCred    333076 non-null object\nSexo             333076 non-null object\nNumControles     333076 non-null object\nCasos            333076 non-null int64\ndtypes: int64(4), object(6)\nmemory usage: 25.4+ MB\n"
     ]
    }
   ],
   "source": [
    "import pandas as pd\n",
    "df=pd.read_csv('http://www.datosabiertos.gob.pe/sites/default/files/recursos/2017/09/DAT%20CRED.csv',encoding = \"ISO-8859-1\")\n",
    "df.info()"
   ]
  },
  {
   "cell_type": "code",
   "execution_count": 16,
   "metadata": {},
   "outputs": [],
   "source": [
    "gvas=df['Sexo']=='F'\n",
    "chamas=df['Sexo']=='M'"
   ]
  },
  {
   "cell_type": "code",
   "execution_count": 17,
   "metadata": {},
   "outputs": [],
   "source": [
    "ecxelfile=pd.ExcelWriter('babitos q.xlsx')"
   ]
  },
  {
   "cell_type": "code",
   "execution_count": 21,
   "metadata": {},
   "outputs": [],
   "source": [
    "gvas.to_excel(ecxelfile,sheet_name='ninas',index=False)\n",
    "chamas.to_excel(ecxelfile,sheet_name='chamas',index=False,columns=[\"Sexo\",\"Anio\",\"Casos\"])"
   ]
  },
  {
   "cell_type": "code",
   "execution_count": 22,
   "metadata": {},
   "outputs": [],
   "source": [
    "ecxelfile.save()"
   ]
  },
  {
   "cell_type": "code",
   "execution_count": null,
   "metadata": {},
   "outputs": [],
   "source": []
  }
 ],
 "metadata": {
  "kernelspec": {
   "display_name": "Python 2",
   "language": "python",
   "name": "python2"
  },
  "language_info": {
   "codemirror_mode": {
    "name": "ipython",
    "version": 2
   },
   "file_extension": ".py",
   "mimetype": "text/x-python",
   "name": "python",
   "nbconvert_exporter": "python",
   "pygments_lexer": "ipython2",
   "version": "2.7.6"
  }
 },
 "nbformat": 4,
 "nbformat_minor": 0
}
