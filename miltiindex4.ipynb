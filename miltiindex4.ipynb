{
 "cells": [
  {
   "cell_type": "code",
   "execution_count": 1,
   "metadata": {
    "collapsed": true
   },
   "outputs": [
    {
     "name": "stdout",
     "output_type": "stream",
     "text": [
      "<class 'pandas.core.frame.DataFrame'>\nMultiIndex: 652 entries, (2010-01-01 00:00:00, Argentina) to (2016-01-01 00:00:00, Vietnam)\nData columns (total 1 columns):\nPrice in US Dollars    652 non-null float64\ndtypes: float64(1)\nmemory usage: 7.0+ KB\n"
     ]
    }
   ],
   "source": [
    "import pandas as pd\n",
    "import matplotlib.pyplot as plt\n",
    "import numpy as np\n",
    "%matplotlib inline\n",
    "bm=pd.read_csv(\"csvs/bigmac.csv\",parse_dates=['Date'], index_col=['Date','Country'])\n",
    "bm.sort_index(inplace=True)\n",
    "bm.info()"
   ]
  },
  {
   "cell_type": "code",
   "execution_count": 2,
   "metadata": {},
   "outputs": [
    {
     "name": "stdout",
     "output_type": "stream",
     "text": [
      "<class 'pandas.core.frame.DataFrame'>\nIndex: 1 entries, Price in US Dollars to Price in US Dollars\nColumns: 652 entries, (2010-01-01 00:00:00, Argentina) to (2016-01-01 00:00:00, Vietnam)\ndtypes: float64(652)\nmemory usage: 5.2+ KB\n"
     ]
    }
   ],
   "source": [
    "ass=bm.transpose() #traspuesta\n",
    "ass.info()"
   ]
  },
  {
   "cell_type": "code",
   "execution_count": 3,
   "metadata": {
    "collapsed": false
   },
   "outputs": [
    {
     "data": {
      "text/plain": [
       "<bound method NDFrame.head of Date                2010-01-01                                              \\\nCountry              Argentina Australia Brazil Britain Canada Chile China   \nPrice in US Dollars       1.84      3.98   4.76    3.67   3.97  3.18  1.83   \n\nDate                                                     ...    2016-01-01  \\\nCountry             Colombia Costa Rica Czech Republic   ...   Switzerland   \nPrice in US Dollars     3.91       3.52           3.71   ...          6.44   \n\nDate                                                                    \\\nCountry             Taiwan Thailand Turkey   UAE Ukraine United States   \nPrice in US Dollars   2.08     3.09   3.41  3.54    1.54          4.93   \n\nDate                                           \nCountry             Uruguay Venezuela Vietnam  \nPrice in US Dollars    3.74      0.66    2.67  \n\n[1 rows x 652 columns]>"
      ]
     },
     "execution_count": 3,
     "metadata": {},
     "output_type": "execute_result"
    }
   ],
   "source": [
    "ass.head"
   ]
  },
  {
   "cell_type": "code",
   "execution_count": 5,
   "metadata": {},
   "outputs": [
    {
     "data": {
      "text/plain": [
       "Date        Country       \n2010-01-01  Argentina         1.84\n            Australia         3.98\n            Brazil            4.76\n            Britain           3.67\n            Canada            3.97\n            Chile             3.18\n            China             1.83\n            Colombia          3.91\n            Costa Rica        3.52\n            Czech Republic    3.71\n            Denmark           5.99\n            Egypt             2.38\n            Euro area         4.84\n            Hong Kong         1.91\n            Hungary           3.86\n            Indonesia         2.24\n            Israel            3.99\n            Japan             3.50\n            Latvia            3.09\n            Lithuania         2.87\n            Malaysia          2.08\n            Mexico            2.50\n            New Zealand       3.61\n            Norway            7.02\n            Pakistan          2.42\n            Peru              2.81\n            Philippines       2.21\n            Poland            2.86\n            Russia            2.34\n            Saudi Arabia      2.67\n                              ... \n2016-01-01  Italy             4.30\n            Japan             3.12\n            Malaysia          1.82\n            Mexico            2.81\n            Netherlands       3.71\n            New Zealand       3.91\n            Norway            5.21\n            Pakistan          2.86\n            Peru              2.93\n            Philippines       2.79\n            Poland            2.37\n            Portugal          3.23\n            Russia            1.53\n            Saudi Arabia      3.20\n            Singapore         3.27\n            South Africa      1.77\n            South Korea       3.59\n            Spain             3.76\n            Sri Lanka         2.43\n            Sweden            5.23\n            Switzerland       6.44\n            Taiwan            2.08\n            Thailand          3.09\n            Turkey            3.41\n            UAE               3.54\n            Ukraine           1.54\n            United States     4.93\n            Uruguay           3.74\n            Venezuela         0.66\n            Vietnam           2.67\nName: Price in US Dollars, Length: 652, dtype: float64"
      ]
     },
     "execution_count": 5,
     "metadata": {},
     "output_type": "execute_result"
    }
   ],
   "source": [
    "ass.loc['Price in US Dollars']"
   ]
  },
  {
   "cell_type": "code",
   "execution_count": 6,
   "metadata": {
    "collapsed": true
   },
   "outputs": [
    {
     "data": {
      "text/plain": [
       "Date        Country       \n2016-01-01  Argentina         2.39\n            Australia         3.74\n            Austria           3.76\n            Belgium           4.25\n            Brazil            3.35\n            Britain           4.22\n            Canada            4.14\n            Chile             2.94\n            China             2.68\n            Colombia          2.43\n            Costa Rica        4.02\n            Czech Republic    2.98\n            Denmark           4.32\n            Egypt             2.16\n            Estonia           3.23\n            Euro area         4.00\n            Finland           4.41\n            France            4.41\n            Germany           3.86\n            Greece            3.60\n            Hong Kong         2.48\n            Hungary           3.08\n            India             1.90\n            Indonesia         2.19\n            Ireland           4.25\n            Israel            4.29\n            Italy             4.30\n            Japan             3.12\n            Malaysia          1.82\n            Mexico            2.81\n            Netherlands       3.71\n            New Zealand       3.91\n            Norway            5.21\n            Pakistan          2.86\n            Peru              2.93\n            Philippines       2.79\n            Poland            2.37\n            Portugal          3.23\n            Russia            1.53\n            Saudi Arabia      3.20\n            Singapore         3.27\n            South Africa      1.77\n            South Korea       3.59\n            Spain             3.76\n            Sri Lanka         2.43\n            Sweden            5.23\n            Switzerland       6.44\n            Taiwan            2.08\n            Thailand          3.09\n            Turkey            3.41\n            UAE               3.54\n            Ukraine           1.54\n            United States     4.93\n            Uruguay           3.74\n            Venezuela         0.66\n            Vietnam           2.67\nName: Price in US Dollars, dtype: float64"
      ]
     },
     "execution_count": 6,
     "metadata": {},
     "output_type": "execute_result"
    }
   ],
   "source": [
    "ass.loc['Price in US Dollars',('2016-01-01')]"
   ]
  },
  {
   "cell_type": "code",
   "execution_count": 7,
   "metadata": {},
   "outputs": [
    {
     "data": {
      "text/plain": [
       "Date        Country\n2016-01-01  Canada     4.14\nName: Price in US Dollars, dtype: float64"
      ]
     },
     "execution_count": 7,
     "metadata": {},
     "output_type": "execute_result"
    }
   ],
   "source": [
    "ass.loc['Price in US Dollars',('2016-01-01','Canada')]"
   ]
  },
  {
   "cell_type": "code",
   "execution_count": null,
   "metadata": {},
   "outputs": [],
   "source": []
  }
 ],
 "metadata": {
  "kernelspec": {
   "display_name": "Python 2",
   "language": "python",
   "name": "python2"
  },
  "language_info": {
   "codemirror_mode": {
    "name": "ipython",
    "version": 2
   },
   "file_extension": ".py",
   "mimetype": "text/x-python",
   "name": "python",
   "nbconvert_exporter": "python",
   "pygments_lexer": "ipython2",
   "version": "2.7.6"
  }
 },
 "nbformat": 4,
 "nbformat_minor": 0
}
