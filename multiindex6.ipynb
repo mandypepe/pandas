{
 "cells": [
  {
   "cell_type": "code",
   "execution_count": 2,
   "metadata": {
    "collapsed": true
   },
   "outputs": [
    {
     "name": "stdout",
     "output_type": "stream",
     "text": [
      "<class 'pandas.core.frame.DataFrame'>\nMultiIndex: 11211 entries, (Arab World, 2015) to (Zimbabwe, 1960)\nData columns (total 2 columns):\nPopulation    11211 non-null float64\nGDP           11211 non-null float64\ndtypes: float64(2)\nmemory usage: 210.5+ KB\n"
     ]
    }
   ],
   "source": [
    "import pandas as pd\n",
    "import matplotlib.pyplot as plt\n",
    "import numpy as np\n",
    "%matplotlib inline\n",
    "wr=pd.read_csv(\"csvs/worldstats.csv\", index_col=['country','year'])\n",
    "wr.info()"
   ]
  },
  {
   "cell_type": "code",
   "execution_count": 4,
   "metadata": {
    "collapsed": true
   },
   "outputs": [
    {
     "data": {
      "text/plain": [
       "<bound method NDFrame.head of                   Population           GDP\ncountry    year                           \nArab World 2015  392022276.0  2.530102e+12\n           2014  384222592.0  2.873600e+12\n           2013  376504253.0  2.846994e+12\n           2012  368802611.0  2.773270e+12\n           2011  361031820.0  2.497945e+12\n           2010  353112237.0  2.103825e+12\n           2009  345054176.0  1.798878e+12\n           2008  336886468.0  2.081343e+12\n           2007  328766559.0  1.641666e+12\n           2006  320906736.0  1.404190e+12\n           2005  313430911.0  1.184735e+12\n           2004  306387415.0  9.639180e+11\n           2003  299731956.0  8.218702e+11\n           2002  293402563.0  7.279939e+11\n           2001  287291826.0  7.221506e+11\n           2000  281326250.0  7.339481e+11\n           1999  275503565.0  6.431349e+11\n           1998  269795252.0  5.905141e+11\n           1997  264153948.0  6.123037e+11\n           1996  258423164.0  5.773078e+11\n           1995  252591048.0  5.228684e+11\n           1994  244893420.0  4.866723e+11\n           1993  238628852.0  4.756916e+11\n           1992  232417246.0  4.703749e+11\n           1991  228171034.0  4.388799e+11\n           1990  222117305.0  4.460181e+11\n           1989  214250542.0  3.221911e+11\n           1988  208546282.0  3.074560e+11\n           1987  202851923.0  3.129250e+11\n           1986  197202142.0  2.890606e+11\n...                      ...           ...\nZimbabwe   1989   10184966.0  8.286323e+09\n           1988    9866776.0  7.814784e+09\n           1987    9535657.0  6.741215e+09\n           1986    9198874.0  6.217524e+09\n           1985    8862601.0  5.637259e+09\n           1984    8528328.0  6.352126e+09\n           1983    8197564.0  7.764067e+09\n           1982    7876414.0  8.539701e+09\n           1981    7571965.0  8.011374e+09\n           1980    7289083.0  6.678868e+09\n           1979    7031159.0  5.177459e+09\n           1978    6796946.0  4.351600e+09\n           1977    6580739.0  4.364382e+09\n           1976    6373956.0  4.318372e+09\n           1975    6170284.0  4.371301e+09\n           1974    5967861.0  3.982161e+09\n           1973    5768382.0  3.309354e+09\n           1972    5573312.0  2.677729e+09\n           1971    5385342.0  2.178716e+09\n           1970    5206311.0  1.884206e+09\n           1969    5036321.0  1.747999e+09\n           1968    4874113.0  1.479600e+09\n           1967    4718612.0  1.397002e+09\n           1966    4568320.0  1.281750e+09\n           1965    4422132.0  1.311436e+09\n           1964    4279561.0  1.217138e+09\n           1963    4140804.0  1.159512e+09\n           1962    4006262.0  1.117602e+09\n           1961    3876638.0  1.096647e+09\n           1960    3752390.0  1.052990e+09\n\n[11211 rows x 2 columns]>"
      ]
     },
     "execution_count": 4,
     "metadata": {},
     "output_type": "execute_result"
    }
   ],
   "source": [
    "wr.head"
   ]
  },
  {
   "cell_type": "code",
   "execution_count": 5,
   "metadata": {
    "collapsed": true
   },
   "outputs": [
    {
     "data": {
      "text/plain": [
       "country     year            \nArab World  2015  Population    3.920223e+08\n                  GDP           2.530102e+12\n            2014  Population    3.842226e+08\n                  GDP           2.873600e+12\n            2013  Population    3.765043e+08\n                  GDP           2.846994e+12\n            2012  Population    3.688026e+08\n                  GDP           2.773270e+12\n            2011  Population    3.610318e+08\n                  GDP           2.497945e+12\n            2010  Population    3.531122e+08\n                  GDP           2.103825e+12\n            2009  Population    3.450542e+08\n                  GDP           1.798878e+12\n            2008  Population    3.368865e+08\n                  GDP           2.081343e+12\n            2007  Population    3.287666e+08\n                  GDP           1.641666e+12\n            2006  Population    3.209067e+08\n                  GDP           1.404190e+12\n            2005  Population    3.134309e+08\n                  GDP           1.184735e+12\n            2004  Population    3.063874e+08\n                  GDP           9.639180e+11\n            2003  Population    2.997320e+08\n                  GDP           8.218702e+11\n            2002  Population    2.934026e+08\n                  GDP           7.279939e+11\n            2001  Population    2.872918e+08\n                  GDP           7.221506e+11\n                                    ...     \nZimbabwe    1974  Population    5.967861e+06\n                  GDP           3.982161e+09\n            1973  Population    5.768382e+06\n                  GDP           3.309354e+09\n            1972  Population    5.573312e+06\n                  GDP           2.677729e+09\n            1971  Population    5.385342e+06\n                  GDP           2.178716e+09\n            1970  Population    5.206311e+06\n                  GDP           1.884206e+09\n            1969  Population    5.036321e+06\n                  GDP           1.747999e+09\n            1968  Population    4.874113e+06\n                  GDP           1.479600e+09\n            1967  Population    4.718612e+06\n                  GDP           1.397002e+09\n            1966  Population    4.568320e+06\n                  GDP           1.281750e+09\n            1965  Population    4.422132e+06\n                  GDP           1.311436e+09\n            1964  Population    4.279561e+06\n                  GDP           1.217138e+09\n            1963  Population    4.140804e+06\n                  GDP           1.159512e+09\n            1962  Population    4.006262e+06\n                  GDP           1.117602e+09\n            1961  Population    3.876638e+06\n                  GDP           1.096647e+09\n            1960  Population    3.752390e+06\n                  GDP           1.052990e+09\nLength: 22422, dtype: float64"
      ]
     },
     "execution_count": 5,
     "metadata": {},
     "output_type": "execute_result"
    }
   ],
   "source": [
    "s=wr.stack()"
   ]
  },
  {
   "cell_type": "code",
   "execution_count": 7,
   "metadata": {
    "collapsed": true
   },
   "outputs": [
    {
     "data": {
      "text/plain": [
       "<bound method NDFrame.head of                                        0\ncountry    year                         \nArab World 2015 Population  3.920223e+08\n                GDP         2.530102e+12\n           2014 Population  3.842226e+08\n                GDP         2.873600e+12\n           2013 Population  3.765043e+08\n                GDP         2.846994e+12\n           2012 Population  3.688026e+08\n                GDP         2.773270e+12\n           2011 Population  3.610318e+08\n                GDP         2.497945e+12\n           2010 Population  3.531122e+08\n                GDP         2.103825e+12\n           2009 Population  3.450542e+08\n                GDP         1.798878e+12\n           2008 Population  3.368865e+08\n                GDP         2.081343e+12\n           2007 Population  3.287666e+08\n                GDP         1.641666e+12\n           2006 Population  3.209067e+08\n                GDP         1.404190e+12\n           2005 Population  3.134309e+08\n                GDP         1.184735e+12\n           2004 Population  3.063874e+08\n                GDP         9.639180e+11\n           2003 Population  2.997320e+08\n                GDP         8.218702e+11\n           2002 Population  2.934026e+08\n                GDP         7.279939e+11\n           2001 Population  2.872918e+08\n                GDP         7.221506e+11\n...                                  ...\nZimbabwe   1974 Population  5.967861e+06\n                GDP         3.982161e+09\n           1973 Population  5.768382e+06\n                GDP         3.309354e+09\n           1972 Population  5.573312e+06\n                GDP         2.677729e+09\n           1971 Population  5.385342e+06\n                GDP         2.178716e+09\n           1970 Population  5.206311e+06\n                GDP         1.884206e+09\n           1969 Population  5.036321e+06\n                GDP         1.747999e+09\n           1968 Population  4.874113e+06\n                GDP         1.479600e+09\n           1967 Population  4.718612e+06\n                GDP         1.397002e+09\n           1966 Population  4.568320e+06\n                GDP         1.281750e+09\n           1965 Population  4.422132e+06\n                GDP         1.311436e+09\n           1964 Population  4.279561e+06\n                GDP         1.217138e+09\n           1963 Population  4.140804e+06\n                GDP         1.159512e+09\n           1962 Population  4.006262e+06\n                GDP         1.117602e+09\n           1961 Population  3.876638e+06\n                GDP         1.096647e+09\n           1960 Population  3.752390e+06\n                GDP         1.052990e+09\n\n[22422 rows x 1 columns]>"
      ]
     },
     "execution_count": 7,
     "metadata": {},
     "output_type": "execute_result"
    }
   ],
   "source": [
    "wr.stack().to_frame().head"
   ]
  },
  {
   "cell_type": "code",
   "execution_count": 8,
   "metadata": {},
   "outputs": [
    {
     "ename": "NameError",
     "evalue": "name 's' is not defined",
     "traceback": [
      "\u001b[1;31m---------------------------------------------------------------------------\u001b[0m",
      "\u001b[1;31mNameError\u001b[0m                                 Traceback (most recent call last)",
      "\u001b[1;32m<ipython-input-8-68ccd2c1810a>\u001b[0m in \u001b[0;36m<module>\u001b[1;34m\u001b[0m\n\u001b[1;32m----> 1\u001b[1;33m \u001b[0mss\u001b[0m\u001b[1;33m=\u001b[0m\u001b[0ms\u001b[0m\u001b[1;33m.\u001b[0m\u001b[0munstack\u001b[0m\u001b[1;33m(\u001b[0m\u001b[1;33m)\u001b[0m\u001b[1;33m\u001b[0m\u001b[1;33m\u001b[0m\u001b[0m\n\u001b[0m\u001b[0;32m      2\u001b[0m \u001b[0mss\u001b[0m\u001b[1;33m.\u001b[0m\u001b[0mhead\u001b[0m\u001b[1;33m\u001b[0m\u001b[1;33m\u001b[0m\u001b[0m\n",
      "\u001b[1;31mNameError\u001b[0m: name 's' is not defined"
     ],
     "output_type": "error"
    }
   ],
   "source": [
    "ss=s.unstack()\n",
    "ss.head"
   ]
  },
  {
   "cell_type": "code",
   "execution_count": null,
   "metadata": {},
   "outputs": [],
   "source": []
  }
 ],
 "metadata": {
  "kernelspec": {
   "display_name": "Python 2",
   "language": "python",
   "name": "python2"
  },
  "language_info": {
   "codemirror_mode": {
    "name": "ipython",
    "version": 2
   },
   "file_extension": ".py",
   "mimetype": "text/x-python",
   "name": "python",
   "nbconvert_exporter": "python",
   "pygments_lexer": "ipython2",
   "version": "2.7.6"
  }
 },
 "nbformat": 4,
 "nbformat_minor": 0
}
