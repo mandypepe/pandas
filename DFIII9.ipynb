{
 "cells": [
  {
   "cell_type": "code",
   "execution_count": 1,
   "metadata": {
    "collapsed": true
   },
   "outputs": [
    {
     "name": "stdout",
     "output_type": "stream",
     "text": [
      "<class 'pandas.core.frame.DataFrame'>\nIndex: 26 entries, A View to a Kill to You Only Live Twice\nData columns (total 6 columns):\nYear                 26 non-null int64\nActor                26 non-null object\nDirector             26 non-null object\nBox Office           26 non-null float64\nBudget               26 non-null float64\nBond Actor Salary    18 non-null float64\ndtypes: float64(3), int64(1), object(2)\nmemory usage: 1.4+ KB\n"
     ]
    }
   ],
   "source": [
    "import pandas as pd\n",
    "import matplotlib.pyplot as plt\n",
    "import numpy as np\n",
    "%matplotlib inline\n",
    "bond=pd.read_csv(\"csvs/jamesbond.csv\", index_col='Film')\n",
    "bond.sort_index(inplace=True)\n",
    "bond.info()"
   ]
  },
  {
   "cell_type": "code",
   "execution_count": 3,
   "metadata": {},
   "outputs": [
    {
     "data": {
      "text/plain": [
       "<bound method NDFrame.head of         Year         Actor       Director  Box Office  Budget  \\\nFilm                                                            \nDr. No  1962  Sean Connery  Terence Young       448.8     7.0   \n\n        Bond Actor Salary  \nFilm                       \nDr. No                0.6  >"
      ]
     },
     "execution_count": 3,
     "metadata": {},
     "output_type": "execute_result"
    }
   ],
   "source": [
    "bond.sample().head"
   ]
  },
  {
   "cell_type": "code",
   "execution_count": 4,
   "metadata": {
    "collapsed": true
   },
   "outputs": [
    {
     "data": {
      "text/plain": [
       "<bound method NDFrame.head of                        Year         Actor         Director  Box Office  \\\nFilm                                                                     \nSkyfall                2012  Daniel Craig       Sam Mendes       943.5   \nDr. No                 1962  Sean Connery    Terence Young       448.8   \nCasino Royale          2006  Daniel Craig  Martin Campbell       581.5   \nOctopussy              1983   Roger Moore        John Glen       373.8   \nFrom Russia with Love  1963  Sean Connery    Terence Young       543.8   \n\n                       Budget  Bond Actor Salary  \nFilm                                              \nSkyfall                 170.2               14.5  \nDr. No                    7.0                0.6  \nCasino Royale           145.3                3.3  \nOctopussy                53.9                7.8  \nFrom Russia with Love    12.6                1.6  >"
      ]
     },
     "execution_count": 4,
     "metadata": {},
     "output_type": "execute_result"
    }
   ],
   "source": [
    "bond.sample(n=5).head"
   ]
  },
  {
   "cell_type": "code",
   "execution_count": 5,
   "metadata": {
    "collapsed": true
   },
   "outputs": [
    {
     "data": {
      "text/plain": [
       "<bound method NDFrame.head of                       Year           Actor         Director  Box Office  \\\nFilm                                                                      \nSpectre               2015    Daniel Craig       Sam Mendes       726.7   \nThe Living Daylights  1987  Timothy Dalton        John Glen       313.5   \nGoldenEye             1995  Pierce Brosnan  Martin Campbell       518.5   \nThe Spy Who Loved Me  1977     Roger Moore    Lewis Gilbert       533.0   \nLicence to Kill       1989  Timothy Dalton        John Glen       250.9   \nCasino Royale         1967     David Niven       Ken Hughes       315.0   \nMoonraker             1979     Roger Moore    Lewis Gilbert       535.0   \nA View to a Kill      1985     Roger Moore        John Glen       275.2   \n\n                      Budget  Bond Actor Salary  \nFilm                                             \nSpectre                206.3                NaN  \nThe Living Daylights    68.8                5.2  \nGoldenEye               76.9                5.1  \nThe Spy Who Loved Me    45.1                NaN  \nLicence to Kill         56.7                7.9  \nCasino Royale           85.0                NaN  \nMoonraker               91.5                NaN  \nA View to a Kill        54.5                9.1  >"
      ]
     },
     "execution_count": 5,
     "metadata": {},
     "output_type": "execute_result"
    }
   ],
   "source": [
    "bond.sample(frac=.30).head # 30%"
   ]
  },
  {
   "cell_type": "code",
   "execution_count": 7,
   "metadata": {},
   "outputs": [
    {
     "data": {
      "text/plain": [
       "<bound method NDFrame.head of                                           Actor            Director\nFilm                                                               \nA View to a Kill                    Roger Moore           John Glen\nCasino Royale                      Daniel Craig     Martin Campbell\nCasino Royale                       David Niven          Ken Hughes\nDiamonds Are Forever               Sean Connery        Guy Hamilton\nDie Another Day                  Pierce Brosnan        Lee Tamahori\nDr. No                             Sean Connery       Terence Young\nFor Your Eyes Only                  Roger Moore           John Glen\nFrom Russia with Love              Sean Connery       Terence Young\nGoldenEye                        Pierce Brosnan     Martin Campbell\nGoldfinger                         Sean Connery        Guy Hamilton\nLicence to Kill                  Timothy Dalton           John Glen\nLive and Let Die                    Roger Moore        Guy Hamilton\nMoonraker                           Roger Moore       Lewis Gilbert\nNever Say Never Again              Sean Connery      Irvin Kershner\nOctopussy                           Roger Moore           John Glen\nOn Her Majesty's Secret Service  George Lazenby       Peter R. Hunt\nQuantum of Solace                  Daniel Craig        Marc Forster\nSkyfall                            Daniel Craig          Sam Mendes\nSpectre                            Daniel Craig          Sam Mendes\nThe Living Daylights             Timothy Dalton           John Glen\nThe Man with the Golden Gun         Roger Moore        Guy Hamilton\nThe Spy Who Loved Me                Roger Moore       Lewis Gilbert\nThe World Is Not Enough          Pierce Brosnan       Michael Apted\nThunderball                        Sean Connery       Terence Young\nTomorrow Never Dies              Pierce Brosnan  Roger Spottiswoode\nYou Only Live Twice                Sean Connery       Lewis Gilbert>"
      ]
     },
     "execution_count": 7,
     "metadata": {},
     "output_type": "execute_result"
    }
   ],
   "source": [
    "bond.sample(n=2,axis=1).head"
   ]
  },
  {
   "cell_type": "code",
   "execution_count": null,
   "metadata": {},
   "outputs": [],
   "source": []
  }
 ],
 "metadata": {
  "kernelspec": {
   "display_name": "Python 2",
   "language": "python",
   "name": "python2"
  },
  "language_info": {
   "codemirror_mode": {
    "name": "ipython",
    "version": 2
   },
   "file_extension": ".py",
   "mimetype": "text/x-python",
   "name": "python",
   "nbconvert_exporter": "python",
   "pygments_lexer": "ipython2",
   "version": "2.7.6"
  }
 },
 "nbformat": 4,
 "nbformat_minor": 0
}
