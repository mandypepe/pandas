{
 "cells": [
  {
   "cell_type": "code",
   "execution_count": 2,
   "metadata": {
    "collapsed": true
   },
   "outputs": [
    {
     "name": "stdout",
     "output_type": "stream",
     "text": [
      "<class 'pandas.core.frame.DataFrame'>\nRangeIndex: 1000 entries, 0 to 999\nData columns (total 8 columns):\nFirst Name           933 non-null object\nGender               855 non-null object\nStart Date           1000 non-null object\nLast Login Time      1000 non-null object\nSalary               1000 non-null int64\nBonus %              1000 non-null float64\nSenior Management    933 non-null object\nTeam                 957 non-null object\ndtypes: float64(1), int64(1), object(6)\nmemory usage: 62.6+ KB\n"
     ]
    }
   ],
   "source": [
    "import pandas as pd\n",
    "import matplotlib.pyplot as plt\n",
    "import numpy as np\n",
    "%matplotlib inline\n",
    "emplo=pd.read_csv(\"csvs/employees.csv\")\n",
    "emplo.info()"
   ]
  },
  {
   "cell_type": "code",
   "execution_count": 5,
   "metadata": {
    "collapsed": true
   },
   "outputs": [
    {
     "data": {
      "text/plain": [
       "0     1993-08-06\n1     1996-03-31\n2     1993-04-23\n3     2005-03-04\n4     1998-01-24\n5     1987-04-18\n6     1987-08-17\n7     2015-07-20\n8     2005-11-22\n9     2002-08-08\n10    1980-08-12\n11    1997-10-26\n12    1980-12-01\n13    2008-01-27\n14    1999-01-14\n15    2016-06-05\n16    2010-09-21\n17    1986-12-07\n18    1981-10-23\n19    2010-07-22\n20    1995-04-22\n21    1995-09-05\n22    2012-03-08\n23    2012-06-14\n24    1992-07-01\n25    2012-10-08\n26    2000-02-27\n27    1991-07-11\n28    1981-11-27\n29    2005-01-26\n         ...    \n970   1988-09-03\n971   2002-12-30\n972   2006-07-28\n973   2013-05-10\n974   2011-08-30\n975   1995-04-07\n976   1992-10-19\n977   1995-12-04\n978   1983-01-17\n979   2013-07-20\n980   2013-01-26\n981   1993-01-15\n982   1982-04-06\n983   1982-12-23\n984   2011-10-15\n985   1983-07-10\n986   1982-11-26\n987   2014-12-08\n988   2004-10-05\n989   1991-02-10\n990   1987-07-24\n991   2002-08-25\n992   2011-10-16\n993   1997-05-15\n994   2013-06-21\n995   2014-11-23\n996   1984-01-31\n997   2013-05-20\n998   2013-04-20\n999   2012-05-15\nName: Start Date, Length: 1000, dtype: datetime64[ns]"
      ]
     },
     "execution_count": 5,
     "metadata": {},
     "output_type": "execute_result"
    }
   ],
   "source": [
    "emplo['Start Date']=pd.to_datetime(emplo['Start Date'])\n",
    "emplo['Start Date']"
   ]
  },
  {
   "cell_type": "code",
   "execution_count": 6,
   "metadata": {
    "collapsed": true
   },
   "outputs": [
    {
     "data": {
      "text/plain": [
       "0     2019-01-05 12:42:00\n1     2019-01-05 06:53:00\n2     2019-01-05 11:17:00\n3     2019-01-05 13:00:00\n4     2019-01-05 16:47:00\n5     2019-01-05 01:35:00\n6     2019-01-05 16:20:00\n7     2019-01-05 10:43:00\n8     2019-01-05 06:29:00\n9     2019-01-05 06:51:00\n10    2019-01-05 09:01:00\n11    2019-01-05 15:19:00\n12    2019-01-05 01:08:00\n13    2019-01-05 23:40:00\n14    2019-01-05 07:13:00\n15    2019-01-05 06:09:00\n16    2019-01-05 05:56:00\n17    2019-01-05 19:45:00\n18    2019-01-05 10:27:00\n19    2019-01-05 03:48:00\n20    2019-01-05 19:18:00\n21    2019-01-05 02:12:00\n22    2019-01-05 01:58:00\n23    2019-01-05 16:19:00\n24    2019-01-05 22:08:00\n25    2019-01-05 01:12:00\n26    2019-01-05 07:45:00\n27    2019-01-05 18:58:00\n28    2019-01-05 18:30:00\n29    2019-01-05 22:06:00\n              ...        \n970   2019-01-05 20:54:00\n971   2019-01-05 02:01:00\n972   2019-01-05 14:49:00\n973   2019-01-05 23:08:00\n974   2019-01-05 18:31:00\n975   2019-01-05 22:05:00\n976   2019-01-05 05:42:00\n977   2019-01-05 09:16:00\n978   2019-01-05 14:23:00\n979   2019-01-05 06:41:00\n980   2019-01-05 00:57:00\n981   2019-01-05 17:19:00\n982   2019-01-05 10:43:00\n983   2019-01-05 22:35:00\n984   2019-01-05 16:53:00\n985   2019-01-05 20:10:00\n986   2019-01-05 07:04:00\n987   2019-01-05 05:08:00\n988   2019-01-05 09:34:00\n989   2019-01-05 16:58:00\n990   2019-01-05 13:35:00\n991   2019-01-05 05:12:00\n992   2019-01-05 08:35:00\n993   2019-01-05 15:53:00\n994   2019-01-05 17:47:00\n995   2019-01-05 06:09:00\n996   2019-01-05 06:30:00\n997   2019-01-05 12:39:00\n998   2019-01-05 16:45:00\n999   2019-01-05 18:24:00\nName: Last Login Time, Length: 1000, dtype: datetime64[ns]"
      ]
     },
     "execution_count": 6,
     "metadata": {},
     "output_type": "execute_result"
    }
   ],
   "source": [
    "emplo['Last Login Time']=pd.to_datetime(emplo['Last Login Time'])\n",
    "emplo['Last Login Time']"
   ]
  },
  {
   "cell_type": "code",
   "execution_count": 7,
   "metadata": {
    "collapsed": true
   },
   "outputs": [
    {
     "data": {
      "text/plain": [
       "0       True\n1       True\n2      False\n3       True\n4       True\n5      False\n6       True\n7       True\n8       True\n9       True\n10      True\n11      True\n12      True\n13     False\n14      True\n15     False\n16     False\n17     False\n18     False\n19     False\n20      True\n21     False\n22      True\n23      True\n24     False\n25      True\n26      True\n27     False\n28      True\n29      True\n       ...  \n970     True\n971     True\n972     True\n973    False\n974     True\n975    False\n976     True\n977    False\n978    False\n979     True\n980     True\n981    False\n982     True\n983    False\n984    False\n985    False\n986    False\n987     True\n988    False\n989    False\n990     True\n991     True\n992     True\n993     True\n994     True\n995    False\n996    False\n997    False\n998    False\n999     True\nName: Senior Management, Length: 1000, dtype: bool"
      ]
     },
     "execution_count": 7,
     "metadata": {},
     "output_type": "execute_result"
    }
   ],
   "source": [
    "emplo['Senior Management']=emplo['Senior Management'].astype('bool')\n",
    "emplo['Senior Management']"
   ]
  },
  {
   "cell_type": "code",
   "execution_count": 8,
   "metadata": {},
   "outputs": [],
   "source": [
    "emplo['Gender']=emplo['Gender'].astype('category')"
   ]
  },
  {
   "cell_type": "code",
   "execution_count": 9,
   "metadata": {},
   "outputs": [
    {
     "name": "stdout",
     "output_type": "stream",
     "text": [
      "<class 'pandas.core.frame.DataFrame'>\nRangeIndex: 1000 entries, 0 to 999\nData columns (total 8 columns):\nFirst Name           933 non-null object\nGender               855 non-null object\nStart Date           1000 non-null datetime64[ns]\nLast Login Time      1000 non-null datetime64[ns]\nSalary               1000 non-null int64\nBonus %              1000 non-null float64\nSenior Management    1000 non-null bool\nTeam                 957 non-null object\ndtypes: bool(1), datetime64[ns](2), float64(1), int64(1), object(3)\nmemory usage: 55.7+ KB\n"
     ]
    }
   ],
   "source": [
    "emplo.info()"
   ]
  },
  {
   "cell_type": "code",
   "execution_count": 11,
   "metadata": {},
   "outputs": [
    {
     "name": "stdout",
     "output_type": "stream",
     "text": [
      "<class 'pandas.core.frame.DataFrame'>\nRangeIndex: 1000 entries, 0 to 999\nData columns (total 8 columns):\nFirst Name           933 non-null object\nGender               855 non-null object\nStart Date           1000 non-null datetime64[ns]\nLast Login Time      1000 non-null datetime64[ns]\nSalary               1000 non-null int64\nBonus %              1000 non-null float64\nSenior Management    933 non-null object\nTeam                 957 non-null object\ndtypes: datetime64[ns](2), float64(1), int64(1), object(4)\nmemory usage: 62.6+ KB\n"
     ]
    }
   ],
   "source": [
    "emplo=pd.read_csv(\"csvs/employees.csv\",parse_dates=['Last Login Time','Start Date']) #parsea a datetime a la hora de cargar el csv\n",
    "emplo.info()"
   ]
  },
  {
   "cell_type": "code",
   "execution_count": 12,
   "metadata": {},
   "outputs": [],
   "source": [
    "emplo['Team']=emplo['Team'].astype('category')"
   ]
  },
  {
   "cell_type": "code",
   "execution_count": 14,
   "metadata": {
    "collapsed": true
   },
   "outputs": [
    {
     "data": {
      "text/plain": [
       "0       True\n1       True\n2      False\n3       True\n4       True\n5      False\n6       True\n7       True\n8       True\n9       True\n10      True\n11      True\n12      True\n13     False\n14      True\n15     False\n16     False\n17     False\n18     False\n19     False\n20      True\n21     False\n22      True\n23      True\n24     False\n25      True\n26      True\n27     False\n28      True\n29      True\n       ...  \n970     True\n971     True\n972     True\n973    False\n974     True\n975    False\n976     True\n977    False\n978    False\n979     True\n980     True\n981    False\n982     True\n983    False\n984    False\n985    False\n986    False\n987     True\n988    False\n989    False\n990     True\n991     True\n992     True\n993     True\n994     True\n995    False\n996    False\n997    False\n998    False\n999     True\nName: Senior Management, Length: 1000, dtype: bool"
      ]
     },
     "execution_count": 14,
     "metadata": {},
     "output_type": "execute_result"
    }
   ],
   "source": [
    "emplo['Senior Management']=emplo['Senior Management'].astype('bool')\n",
    "emplo['Senior Management']"
   ]
  },
  {
   "cell_type": "code",
   "execution_count": 15,
   "metadata": {},
   "outputs": [],
   "source": [
    "emplo['Gender']=emplo['Gender'].astype('category')"
   ]
  },
  {
   "cell_type": "code",
   "execution_count": 16,
   "metadata": {},
   "outputs": [
    {
     "name": "stdout",
     "output_type": "stream",
     "text": [
      "<class 'pandas.core.frame.DataFrame'>\nRangeIndex: 1000 entries, 0 to 999\nData columns (total 8 columns):\nFirst Name           933 non-null object\nGender               855 non-null category\nStart Date           1000 non-null datetime64[ns]\nLast Login Time      1000 non-null datetime64[ns]\nSalary               1000 non-null int64\nBonus %              1000 non-null float64\nSenior Management    1000 non-null bool\nTeam                 957 non-null category\ndtypes: bool(1), category(2), datetime64[ns](2), float64(1), int64(1), object(1)\nmemory usage: 42.6+ KB\n"
     ]
    }
   ],
   "source": [
    "emplo.info()"
   ]
  },
  {
   "cell_type": "code",
   "execution_count": null,
   "metadata": {},
   "outputs": [],
   "source": []
  }
 ],
 "metadata": {
  "kernelspec": {
   "display_name": "Python 2",
   "language": "python",
   "name": "python2"
  },
  "language_info": {
   "codemirror_mode": {
    "name": "ipython",
    "version": 2
   },
   "file_extension": ".py",
   "mimetype": "text/x-python",
   "name": "python",
   "nbconvert_exporter": "python",
   "pygments_lexer": "ipython2",
   "version": "2.7.6"
  }
 },
 "nbformat": 4,
 "nbformat_minor": 0
}
