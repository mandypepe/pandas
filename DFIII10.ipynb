{
 "cells": [
  {
   "cell_type": "code",
   "execution_count": 1,
   "metadata": {
    "collapsed": true
   },
   "outputs": [
    {
     "name": "stdout",
     "output_type": "stream",
     "text": [
      "<class 'pandas.core.frame.DataFrame'>\nIndex: 26 entries, A View to a Kill to You Only Live Twice\nData columns (total 6 columns):\nYear                 26 non-null int64\nActor                26 non-null object\nDirector             26 non-null object\nBox Office           26 non-null float64\nBudget               26 non-null float64\nBond Actor Salary    18 non-null float64\ndtypes: float64(3), int64(1), object(2)\nmemory usage: 1.4+ KB\n"
     ]
    }
   ],
   "source": [
    "import pandas as pd\n",
    "import matplotlib.pyplot as plt\n",
    "import numpy as np\n",
    "%matplotlib inline\n",
    "bond=pd.read_csv(\"csvs/jamesbond.csv\", index_col='Film')\n",
    "bond.sort_index(inplace=True)\n",
    "bond.info()\n"
   ]
  },
  {
   "cell_type": "code",
   "execution_count": 5,
   "metadata": {
    "collapsed": true
   },
   "outputs": [
    {
     "data": {
      "text/plain": [
       "<bound method NDFrame.head of                                  Year           Actor       Director  \\\nFilm                                                                   \nLicence to Kill                  1989  Timothy Dalton      John Glen   \nA View to a Kill                 1985     Roger Moore      John Glen   \nOn Her Majesty's Secret Service  1969  George Lazenby  Peter R. Hunt   \n\n                                 Box Office  Budget  Bond Actor Salary  \nFilm                                                                    \nLicence to Kill                       250.9    56.7                7.9  \nA View to a Kill                      275.2    54.5                9.1  \nOn Her Majesty's Secret Service       291.5    37.3                0.6  >"
      ]
     },
     "execution_count": 5,
     "metadata": {},
     "output_type": "execute_result"
    }
   ],
   "source": [
    "bond.nsmallest(n=3,columns='Box Office').head #los mas pequennos"
   ]
  },
  {
   "cell_type": "code",
   "execution_count": 6,
   "metadata": {
    "collapsed": true
   },
   "outputs": [
    {
     "data": {
      "text/plain": [
       "<bound method NDFrame.head of              Year         Actor       Director  Box Office  Budget  \\\nFilm                                                                 \nSkyfall      2012  Daniel Craig     Sam Mendes       943.5   170.2   \nThunderball  1965  Sean Connery  Terence Young       848.1    41.9   \nGoldfinger   1964  Sean Connery   Guy Hamilton       820.4    18.6   \n\n             Bond Actor Salary  \nFilm                            \nSkyfall                   14.5  \nThunderball                4.7  \nGoldfinger                 3.2  >"
      ]
     },
     "execution_count": 6,
     "metadata": {},
     "output_type": "execute_result"
    }
   ],
   "source": [
    "bond.nlargest(n=3,columns='Box Office').head # los mas grandes"
   ]
  },
  {
   "cell_type": "code",
   "execution_count": 7,
   "metadata": {},
   "outputs": [
    {
     "data": {
      "text/plain": [
       "Film\nDie Another Day            17.9\nSkyfall                    14.5\nThe World Is Not Enough    13.5\nName: Bond Actor Salary, dtype: float64"
      ]
     },
     "execution_count": 7,
     "metadata": {},
     "output_type": "execute_result"
    }
   ],
   "source": [
    "bond['Bond Actor Salary'].nlargest(3)"
   ]
  },
  {
   "cell_type": "code",
   "execution_count": 8,
   "metadata": {},
   "outputs": [
    {
     "data": {
      "text/plain": [
       "Film\nDr. No                   1962\nFrom Russia with Love    1963\nGoldfinger               1964\nName: Year, dtype: int64"
      ]
     },
     "execution_count": 8,
     "metadata": {},
     "output_type": "execute_result"
    }
   ],
   "source": [
    "bond['Year'].nsmallest(3)"
   ]
  },
  {
   "cell_type": "code",
   "execution_count": null,
   "metadata": {},
   "outputs": [],
   "source": []
  }
 ],
 "metadata": {
  "kernelspec": {
   "display_name": "Python 2",
   "language": "python",
   "name": "python2"
  },
  "language_info": {
   "codemirror_mode": {
    "name": "ipython",
    "version": 2
   },
   "file_extension": ".py",
   "mimetype": "text/x-python",
   "name": "python",
   "nbconvert_exporter": "python",
   "pygments_lexer": "ipython2",
   "version": "2.7.6"
  }
 },
 "nbformat": 4,
 "nbformat_minor": 0
}
