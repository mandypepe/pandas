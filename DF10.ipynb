{
 "cells": [
  {
   "cell_type": "code",
   "execution_count": 1,
   "metadata": {
    "collapsed": true
   },
   "outputs": [
    {
     "name": "stdout",
     "output_type": "stream",
     "text": [
      "<class 'pandas.core.frame.DataFrame'>\nRangeIndex: 458 entries, 0 to 457\nData columns (total 9 columns):\nName        457 non-null object\nTeam        457 non-null object\nNumber      457 non-null float64\nPosition    457 non-null object\nAge         457 non-null float64\nHeight      457 non-null object\nWeight      457 non-null float64\nCollege     373 non-null object\nSalary      446 non-null float64\ndtypes: float64(4), object(5)\nmemory usage: 32.3+ KB\n"
     ]
    }
   ],
   "source": [
    "import pandas as pd\n",
    "import matplotlib.pyplot as plt\n",
    "import numpy as np\n",
    "%matplotlib inline\n",
    "nba=pd.read_csv(\"csvs/nba.csv\")\n",
    "nba.info()\n",
    "\n"
   ]
  },
  {
   "cell_type": "code",
   "execution_count": 2,
   "metadata": {
    "collapsed": true
   },
   "outputs": [
    {
     "data": {
      "text/plain": [
       "<bound method NDFrame.head of                         Name                    Team  Number Position   Age  \\\n0              Avery Bradley          Boston Celtics     0.0       PG  25.0   \n1                Jae Crowder          Boston Celtics    99.0       SF  25.0   \n2               John Holland          Boston Celtics    30.0       SG  27.0   \n3                R.J. Hunter          Boston Celtics    28.0       SG  22.0   \n4              Jonas Jerebko          Boston Celtics     8.0       PF  29.0   \n5               Amir Johnson          Boston Celtics    90.0       PF  29.0   \n6              Jordan Mickey          Boston Celtics    55.0       PF  21.0   \n7               Kelly Olynyk          Boston Celtics    41.0        C  25.0   \n8               Terry Rozier          Boston Celtics    12.0       PG  22.0   \n9               Marcus Smart          Boston Celtics    36.0       PG  22.0   \n10           Jared Sullinger          Boston Celtics     7.0        C  24.0   \n11             Isaiah Thomas          Boston Celtics     4.0       PG  27.0   \n12               Evan Turner          Boston Celtics    11.0       SG  27.0   \n13               James Young          Boston Celtics    13.0       SG  20.0   \n14              Tyler Zeller          Boston Celtics    44.0        C  26.0   \n15          Bojan Bogdanovic           Brooklyn Nets    44.0       SG  27.0   \n16              Markel Brown           Brooklyn Nets    22.0       SG  24.0   \n17           Wayne Ellington           Brooklyn Nets    21.0       SG  28.0   \n18   Rondae Hollis-Jefferson           Brooklyn Nets    24.0       SG  21.0   \n19              Jarrett Jack           Brooklyn Nets     2.0       PG  32.0   \n20            Sergey Karasev           Brooklyn Nets    10.0       SG  22.0   \n21           Sean Kilpatrick           Brooklyn Nets     6.0       SG  26.0   \n22              Shane Larkin           Brooklyn Nets     0.0       PG  23.0   \n23               Brook Lopez           Brooklyn Nets    11.0        C  28.0   \n24          Chris McCullough           Brooklyn Nets     1.0       PF  21.0   \n25               Willie Reed           Brooklyn Nets    33.0       PF  26.0   \n26           Thomas Robinson           Brooklyn Nets    41.0       PF  25.0   \n27                Henry Sims           Brooklyn Nets    14.0        C  26.0   \n28              Donald Sloan           Brooklyn Nets    15.0       PG  28.0   \n29            Thaddeus Young           Brooklyn Nets    30.0       PF  27.0   \n..                       ...                     ...     ...      ...   ...   \n428          Al-Farouq Aminu  Portland Trail Blazers     8.0       SF  25.0   \n429          Pat Connaughton  Portland Trail Blazers     5.0       SG  23.0   \n430             Allen Crabbe  Portland Trail Blazers    23.0       SG  24.0   \n431                 Ed Davis  Portland Trail Blazers    17.0        C  27.0   \n432         Maurice Harkless  Portland Trail Blazers     4.0       SF  23.0   \n433         Gerald Henderson  Portland Trail Blazers     9.0       SG  28.0   \n434              Chris Kaman  Portland Trail Blazers    35.0        C  34.0   \n435           Meyers Leonard  Portland Trail Blazers    11.0       PF  24.0   \n436           Damian Lillard  Portland Trail Blazers     0.0       PG  25.0   \n437            C.J. McCollum  Portland Trail Blazers     3.0       SG  24.0   \n438             Luis Montero  Portland Trail Blazers    44.0       SG  23.0   \n439            Mason Plumlee  Portland Trail Blazers    24.0        C  26.0   \n440            Brian Roberts  Portland Trail Blazers     2.0       PG  30.0   \n441              Noah Vonleh  Portland Trail Blazers    21.0       PF  20.0   \n442            Trevor Booker               Utah Jazz    33.0       PF  28.0   \n443               Trey Burke               Utah Jazz     3.0       PG  23.0   \n444               Alec Burks               Utah Jazz    10.0       SG  24.0   \n445               Dante Exum               Utah Jazz    11.0       PG  20.0   \n446           Derrick Favors               Utah Jazz    15.0       PF  24.0   \n447              Rudy Gobert               Utah Jazz    27.0        C  23.0   \n448           Gordon Hayward               Utah Jazz    20.0       SF  26.0   \n449              Rodney Hood               Utah Jazz     5.0       SG  23.0   \n450               Joe Ingles               Utah Jazz     2.0       SF  28.0   \n451            Chris Johnson               Utah Jazz    23.0       SF  26.0   \n452               Trey Lyles               Utah Jazz    41.0       PF  20.0   \n453             Shelvin Mack               Utah Jazz     8.0       PG  26.0   \n454                Raul Neto               Utah Jazz    25.0       PG  24.0   \n455             Tibor Pleiss               Utah Jazz    21.0        C  26.0   \n456              Jeff Withey               Utah Jazz    24.0        C  26.0   \n457                      NaN                     NaN     NaN      NaN   NaN   \n\n    Height  Weight            College    Salary  \n0      6-2   180.0              Texas   7730337  \n1      6-6   235.0          Marquette   6796117  \n2      6-5   205.0  Boston University         0  \n3      6-5   185.0      Georgia State   1148640  \n4     6-10   231.0                NaN   5000000  \n5      6-9   240.0                NaN  12000000  \n6      6-8   235.0                LSU   1170960  \n7      7-0   238.0            Gonzaga   2165160  \n8      6-2   190.0         Louisville   1824360  \n9      6-4   220.0     Oklahoma State   3431040  \n10     6-9   260.0         Ohio State   2569260  \n11     5-9   185.0         Washington   6912869  \n12     6-7   220.0         Ohio State   3425510  \n13     6-6   215.0           Kentucky   1749840  \n14     7-0   253.0     North Carolina   2616975  \n15     6-8   216.0                NaN   3425510  \n16     6-3   190.0     Oklahoma State    845059  \n17     6-4   200.0     North Carolina   1500000  \n18     6-7   220.0            Arizona   1335480  \n19     6-3   200.0       Georgia Tech   6300000  \n20     6-7   208.0                NaN   1599840  \n21     6-4   219.0         Cincinnati    134215  \n22    5-11   175.0         Miami (FL)   1500000  \n23     7-0   275.0           Stanford  19689000  \n24    6-11   200.0           Syracuse   1140240  \n25    6-10   220.0        Saint Louis    947276  \n26    6-10   237.0             Kansas    981348  \n27    6-10   248.0         Georgetown    947276  \n28     6-3   205.0          Texas A&M    947276  \n29     6-8   221.0       Georgia Tech  11235955  \n..     ...     ...                ...       ...  \n428    6-9   215.0        Wake Forest   8042895  \n429    6-5   206.0         Notre Dame    625093  \n430    6-6   210.0         California    947276  \n431   6-10   240.0     North Carolina   6980802  \n432    6-9   215.0         St. John's   2894059  \n433    6-5   215.0               Duke   6000000  \n434    7-0   265.0   Central Michigan   5016000  \n435    7-1   245.0           Illinois   3075880  \n436    6-3   195.0        Weber State   4236287  \n437    6-4   200.0             Lehigh   2525160  \n438    6-7   185.0     Westchester CC    525093  \n439   6-11   235.0               Duke   1415520  \n440    6-1   173.0             Dayton   2854940  \n441    6-9   240.0            Indiana   2637720  \n442    6-8   228.0            Clemson   4775000  \n443    6-1   191.0           Michigan   2658240  \n444    6-6   214.0           Colorado   9463484  \n445    6-6   190.0                NaN   3777720  \n446   6-10   265.0       Georgia Tech  12000000  \n447    7-1   245.0                NaN   1175880  \n448    6-8   226.0             Butler  15409570  \n449    6-8   206.0               Duke   1348440  \n450    6-8   226.0                NaN   2050000  \n451    6-6   206.0             Dayton    981348  \n452   6-10   234.0           Kentucky   2239800  \n453    6-3   203.0             Butler   2433333  \n454    6-1   179.0                NaN    900000  \n455    7-3   256.0                NaN   2900000  \n456    7-0   231.0             Kansas    947276  \n457    NaN     NaN                NaN         0  \n\n[458 rows x 9 columns]>"
      ]
     },
     "execution_count": 2,
     "metadata": {},
     "output_type": "execute_result"
    }
   ],
   "source": [
    "nba['Salary']=nba['Salary'].fillna(0).astype('int')\n",
    "nba.head"
   ]
  },
  {
   "cell_type": "code",
   "execution_count": 8,
   "metadata": {},
   "outputs": [
    {
     "data": {
      "text/plain": [
       "0       97\n1      110\n2      452\n3      322\n4      147\n5       57\n6      316\n7      253\n8      272\n9      190\n10     233\n11     109\n12     191\n13     274\n14     231\n15     191\n16     393\n17     288\n18     300\n19     116\n20     282\n21     439\n22     288\n23      11\n24     325\n25     367\n26     347\n27     367\n28     367\n29      63\n      ... \n428     90\n429    406\n430    367\n431    108\n432    216\n433    121\n434    143\n435    206\n436    164\n437    234\n438    415\n439    295\n440    220\n441    230\n442    151\n443    229\n444     78\n445    181\n446     57\n447    315\n448     32\n449    299\n450    262\n451    347\n452    250\n453    241\n454    383\n455    214\n456    367\n457    452\nName: Salary Rank, Length: 458, dtype: int32"
      ]
     },
     "execution_count": 8,
     "metadata": {},
     "output_type": "execute_result"
    }
   ],
   "source": [
    "nba['Salary Rank']=nba['Salary'].rank(ascending=False).astype('int')\n",
    "nba['Salary Rank']"
   ]
  },
  {
   "cell_type": "code",
   "execution_count": 11,
   "metadata": {},
   "outputs": [
    {
     "data": {
      "text/plain": [
       "<bound method NDFrame.head of                        Name                    Team  Number Position   Age  \\\n109             Kobe Bryant      Los Angeles Lakers    24.0       SF  37.0   \n169            LeBron James     Cleveland Cavaliers    23.0       SF  31.0   \n33          Carmelo Anthony         New York Knicks     7.0       SF  32.0   \n251           Dwight Howard         Houston Rockets    12.0        C  30.0   \n339              Chris Bosh              Miami Heat     1.0       PF  32.0   \n100              Chris Paul    Los Angeles Clippers     3.0       PG  31.0   \n414            Kevin Durant   Oklahoma City Thunder    35.0       SF  27.0   \n164            Derrick Rose           Chicago Bulls     1.0       PG  27.0   \n349             Dwyane Wade              Miami Heat     3.0       SG  34.0   \n23              Brook Lopez           Brooklyn Nets    11.0        C  28.0   \n98           DeAndre Jordan    Los Angeles Clippers     6.0        C  27.0   \n174              Kevin Love     Cleveland Cavaliers     0.0       PF  27.0   \n294       LaMarcus Aldridge       San Antonio Spurs    12.0       PF  30.0   \n265              Marc Gasol       Memphis Grizzlies    33.0        C  31.0   \n96            Blake Griffin    Los Angeles Clippers    32.0       PF  27.0   \n315            Paul Millsap           Atlanta Hawks     4.0       PF  31.0   \n199             Paul George          Indiana Pacers    13.0       SF  26.0   \n426       Russell Westbrook   Oklahoma City Thunder     0.0       PG  27.0   \n168            Kyrie Irving     Cleveland Cavaliers     2.0       PG  24.0   \n418             Enes Kanter   Oklahoma City Thunder    11.0        C  24.0   \n220             Greg Monroe         Milwaukee Bucks    15.0        C  26.0   \n301           Kawhi Leonard       San Antonio Spurs     2.0       SF  24.0   \n153            Jimmy Butler           Chicago Bulls    21.0       SG  26.0   \n233         Wesley Matthews        Dallas Mavericks    23.0       SG  29.0   \n189           Tobias Harris         Detroit Pistons    34.0       SF  23.0   \n143        DeMarcus Cousins        Sacramento Kings    15.0        C  25.0   \n382               John Wall      Washington Wizards     2.0       PG  25.0   \n249            James Harden         Houston Rockets    13.0       SG  26.0   \n111             Roy Hibbert      Los Angeles Lakers    17.0        C  29.0   \n288             Eric Gordon    New Orleans Pelicans    10.0       SG  27.0   \n..                      ...                     ...     ...      ...   ...   \n73           Jason Thompson         Toronto Raptors     1.0       PF  29.0   \n420           Nazr Mohammed   Oklahoma City Thunder    13.0        C  38.0   \n203               Ty Lawson          Indiana Pacers    10.0       PG  28.0   \n123          Chase Budinger            Phoenix Suns    10.0       SF  28.0   \n303            Kevin Martin       San Antonio Spurs    23.0       SG  33.0   \n248        Andrew Goudelock         Houston Rockets     0.0       PG  27.0   \n381         Marcus Thornton      Washington Wizards    15.0       SF  29.0   \n326         Jorge Gutierrez       Charlotte Hornets    12.0       PG  27.0   \n282      Bryce Dejean-Jones    New Orleans Pelicans    31.0       SG  23.0   \n45              Tony Wroten         New York Knicks     5.0       SG  23.0   \n21          Sean Kilpatrick           Brooklyn Nets     6.0       SG  26.0   \n184           Lorenzo Brown         Detroit Pistons    17.0       PG  25.0   \n92               Jeff Ayres    Los Angeles Clippers    19.0       PF  29.0   \n175            Jordan McRae     Cleveland Cavaliers    12.0       SG  25.0   \n135           Alan Williams            Phoenix Suns    15.0        C  23.0   \n130            Phil Pressey            Phoenix Suns    25.0       PG  25.0   \n291         Orlando Johnson    New Orleans Pelicans     0.0       SG  27.0   \n32   Thanasis Antetokounmpo         New York Knicks    43.0       SF  23.0   \n350           Briante Weber              Miami Heat    12.0       PG  23.0   \n171           Dahntay Jones     Cleveland Cavaliers    30.0       SG  35.0   \n353           Dorell Wright              Miami Heat    11.0       SF  30.0   \n46              Elton Brand      Philadelphia 76ers    42.0       PF  37.0   \n397            Axel Toupane          Denver Nuggets     6.0       SG  23.0   \n273          Alex Stepheson       Memphis Grizzlies    35.0       PF  28.0   \n270          Xavier Munford       Memphis Grizzlies    14.0       PG  24.0   \n269            Ray McCallum       Memphis Grizzlies     5.0       PG  24.0   \n409              Greg Smith  Minnesota Timberwolves     4.0       PF  25.0   \n2              John Holland          Boston Celtics    30.0       SG  27.0   \n264           Jordan Farmar       Memphis Grizzlies     4.0       PG  29.0   \n457                     NaN                     NaN     NaN      NaN   NaN   \n\n    Height  Weight                College    Salary  Salary Rank  \n109    6-6   212.0                    NaN  25000000            1  \n169    6-8   250.0                    NaN  22970500            2  \n33     6-8   240.0               Syracuse  22875000            3  \n251   6-11   265.0                    NaN  22359364            4  \n339   6-11   235.0           Georgia Tech  22192730            5  \n100    6-0   175.0            Wake Forest  21468695            6  \n414    6-9   240.0                  Texas  20158622            7  \n164    6-3   190.0                Memphis  20093064            8  \n349    6-4   220.0              Marquette  20000000            9  \n23     7-0   275.0               Stanford  19689000           11  \n98    6-11   265.0              Texas A&M  19689000           11  \n174   6-10   251.0                   UCLA  19689000           11  \n294   6-11   240.0                  Texas  19689000           11  \n265    7-1   255.0                    NaN  19688000           14  \n96    6-10   251.0               Oklahoma  18907726           15  \n315    6-8   246.0         Louisiana Tech  18671659           16  \n199    6-9   220.0           Fresno State  17120106           17  \n426    6-3   200.0                   UCLA  16744218           18  \n168    6-3   193.0                   Duke  16407501           19  \n418   6-11   245.0               Kentucky  16407500           22  \n220   6-11   265.0             Georgetown  16407500           22  \n301    6-7   230.0        San Diego State  16407500           22  \n153    6-7   220.0              Marquette  16407500           22  \n233    6-5   220.0              Marquette  16407500           22  \n189    6-9   235.0              Tennessee  16000000           25  \n143   6-11   270.0               Kentucky  15851950           26  \n382    6-4   195.0               Kentucky  15851950           26  \n249    6-5   220.0          Arizona State  15756438           28  \n111    7-2   270.0             Georgetown  15592217           29  \n288    6-4   215.0                Indiana  15514031           30  \n..     ...     ...                    ...       ...          ...  \n73    6-11   250.0                  Rider    245177          429  \n420   6-10   250.0               Kentucky    222888          430  \n203   5-11   195.0         North Carolina    211744          431  \n123    6-7   209.0                Arizona    206192          432  \n303    6-7   199.0       Western Carolina    200600          434  \n248    6-3   200.0             Charleston    200600          434  \n381    6-4   205.0                    LSU    200600          434  \n326    6-3   189.0             California    189455          436  \n282    6-6   203.0             Iowa State    169883          437  \n45     6-6   205.0             Washington    167406          438  \n21     6-4   219.0             Cincinnati    134215          439  \n184    6-5   189.0   North Carolina State    111444          440  \n92     6-9   250.0          Arizona State    111444          440  \n175    6-5   179.0              Tennessee    111196          442  \n135    6-8   260.0       UC Santa Barbara     83397          443  \n130   5-11   175.0               Missouri     55722          444  \n291    6-5   220.0       UC Santa Barbara     55722          444  \n32     6-7   205.0                    NaN     30888          446  \n350    6-2   165.0  Virginia Commonwealth         0          452  \n171    6-6   225.0                   Duke         0          452  \n353    6-9   205.0                    NaN         0          452  \n46     6-9   254.0                   Duke         0          452  \n397    6-7   210.0                    NaN         0          452  \n273   6-10   270.0                    USC         0          452  \n270    6-3   180.0           Rhode Island         0          452  \n269    6-3   190.0                Detroit         0          452  \n409   6-10   250.0           Fresno State         0          452  \n2      6-5   205.0      Boston University         0          452  \n264    6-2   180.0                   UCLA         0          452  \n457    NaN     NaN                    NaN         0          452  \n\n[458 rows x 10 columns]>"
      ]
     },
     "execution_count": 11,
     "metadata": {},
     "output_type": "execute_result"
    }
   ],
   "source": [
    "nba.sort_values(by='Salary',ascending=False).head"
   ]
  },
  {
   "cell_type": "code",
   "execution_count": null,
   "metadata": {},
   "outputs": [],
   "source": []
  }
 ],
 "metadata": {
  "kernelspec": {
   "display_name": "Python 2",
   "language": "python",
   "name": "python2"
  },
  "language_info": {
   "codemirror_mode": {
    "name": "ipython",
    "version": 2
   },
   "file_extension": ".py",
   "mimetype": "text/x-python",
   "name": "python",
   "nbconvert_exporter": "python",
   "pygments_lexer": "ipython2",
   "version": "2.7.6"
  }
 },
 "nbformat": 4,
 "nbformat_minor": 0
}
