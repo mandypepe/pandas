{
 "cells": [
  {
   "cell_type": "code",
   "execution_count": 1,
   "metadata": {
    "collapsed": true
   },
   "outputs": [
    {
     "name": "stdout",
     "output_type": "stream",
     "text": [
      "<class 'pandas.core.frame.DataFrame'>\nRangeIndex: 1000 entries, 0 to 999\nData columns (total 8 columns):\nFirst Name           933 non-null object\nGender               855 non-null category\nStart Date           1000 non-null datetime64[ns]\nLast Login Time      1000 non-null datetime64[ns]\nSalary               1000 non-null int64\nBonus %              1000 non-null float64\nSenior Management    1000 non-null bool\nTeam                 957 non-null object\ndtypes: bool(1), category(1), datetime64[ns](2), float64(1), int64(1), object(2)\nmemory usage: 49.0+ KB\n"
     ]
    }
   ],
   "source": [
    "import pandas as pd\n",
    "import matplotlib.pyplot as plt\n",
    "import numpy as np\n",
    "%matplotlib inline\n",
    "df=pd.read_csv(\"csvs/employees.csv\",parse_dates=['Last Login Time','Start Date'])\n",
    "df['Senior Management']=df['Senior Management'].astype(\"bool\")\n",
    "df['Gender']=df['Gender'].astype('category')\n",
    "df.info()"
   ]
  },
  {
   "cell_type": "code",
   "execution_count": 5,
   "metadata": {
    "collapsed": false
   },
   "outputs": [
    {
     "data": {
      "text/plain": [
       "<bound method NDFrame.head of      First Name  Gender Start Date     Last Login Time  Salary  Bonus %  \\\n1        Thomas    Male 1996-03-31 2019-01-05 06:53:00   61933    4.170   \n6          Ruby  Female 1987-08-17 2019-01-05 16:20:00   65476   10.012   \n10       Louise  Female 1980-08-12 2019-01-05 09:01:00   63241   15.132   \n20         Lois     NaN 1995-04-22 2019-01-05 19:18:00   64714    4.934   \n41    Christine     NaN 2015-06-28 2019-01-05 01:08:00   66582   11.308   \n47        Kathy  Female 2005-06-22 2019-01-05 04:51:00   66820    9.000   \n57        Henry    Male 1996-06-26 2019-01-05 01:44:00   64715   15.107   \n59        Irene  Female 1997-05-07 2019-01-05 09:32:00   66851   11.279   \n65        Steve    Male 2009-11-11 2019-01-05 23:44:00   61310   12.428   \n74       Thomas    Male 1995-06-04 2019-01-05 14:24:00   62096   17.029   \n88        Donna  Female 1991-11-27 2019-01-05 13:59:00   64088    6.155   \n101       Aaron    Male 2012-02-17 2019-01-05 10:20:00   61602   11.849   \n107      Steven    Male 2013-04-23 2019-01-05 22:12:00   68680   16.565   \n112      Willie    Male 2003-11-27 2019-01-05 06:21:00   64363    4.023   \n127     William    Male 2002-09-29 2019-01-05 16:09:00   66521    5.830   \n129     Antonio    Male 1988-10-25 2019-01-05 13:50:00   60866   13.101   \n159       James     NaN 1983-11-22 2019-01-05 22:52:00   68501   14.316   \n179     Jessica  Female 1995-10-23 2019-01-05 05:53:00   68759   19.343   \n196      Steven    Male 1985-11-10 2019-01-05 10:53:00   62719   19.127   \n197     Carolyn  Female 2012-11-06 2019-01-05 03:51:00   69268    3.031   \n225       Harry    Male 2015-10-01 2019-01-05 19:47:00   64579   15.266   \n231       Diane  Female 1993-04-18 2019-01-05 03:22:00   64084   17.018   \n239     Lillian     NaN 2016-05-12 2019-01-05 15:43:00   64164   17.612   \n262        Anne  Female 1986-07-16 2019-01-05 14:08:00   69134    3.723   \n285        Judy  Female 1997-09-16 2019-01-05 00:10:00   65931    2.304   \n286        Todd    Male 1984-02-02 2019-01-05 10:13:00   69989   10.985   \n288      Walter     NaN 1999-12-21 2019-01-05 22:33:00   66757   18.099   \n310      Harold    Male 1990-02-20 2019-01-05 23:00:00   66775    2.158   \n320         NaN  Female 2008-07-08 2019-01-05 23:40:00   62960   14.356   \n325     Russell    Male 2005-01-02 2019-01-05 01:48:00   60388   17.885   \n..          ...     ...        ...                 ...     ...      ...   \n580       Harry    Male 1985-01-27 2019-01-05 20:18:00   65482   18.089   \n597      Teresa  Female 1987-06-24 2019-01-05 19:37:00   69740    8.294   \n612       Julie     NaN 2000-10-21 2019-01-05 01:15:00   60361    7.099   \n613      Teresa     NaN 1992-01-03 2019-01-05 15:47:00   63103   11.378   \n614        Eric    Male 2004-11-12 2019-01-05 21:16:00   65168   11.513   \n618       Peter    Male 1992-11-24 2019-01-05 17:43:00   69297    1.268   \n654        Carl    Male 1984-12-14 2019-01-05 20:49:00   63395   11.411   \n668       James    Male 2001-12-05 2019-01-05 07:06:00   67789   17.105   \n677  Jacqueline  Female 1994-09-20 2019-01-05 18:07:00   62371   15.770   \n679        Lori  Female 2002-09-11 2019-01-05 07:36:00   66029    3.345   \n704      Thomas    Male 1991-09-07 2019-01-05 09:51:00   65251   11.211   \n709         NaN    Male 1995-04-07 2019-01-05 04:32:00   60411   12.048   \n719        John    Male 1999-01-29 2019-01-05 03:07:00   67165   13.001   \n730      Nicole  Female 2009-04-26 2019-01-05 00:40:00   66047   18.674   \n742      Martin    Male 2016-02-25 2019-01-05 18:29:00   61117    2.844   \n745       James    Male 2008-02-16 2019-01-05 02:49:00   69111   14.625   \n747      Ernest    Male 2001-06-30 2019-01-05 13:46:00   61181   16.559   \n825      Robert     NaN 2000-12-04 2019-01-05 01:20:00   69267    5.890   \n831     Kenneth    Male 2015-01-15 2019-01-05 14:41:00   69112    7.588   \n854       Harry    Male 1985-02-10 2019-01-05 19:46:00   63046   10.411   \n892     Brandon    Male 1995-10-23 2019-01-05 12:04:00   60263    2.709   \n909      Donald    Male 1991-08-01 2019-01-05 02:25:00   61999    6.466   \n924     Deborah  Female 2003-11-11 2019-01-05 16:53:00   60003    9.624   \n937       Aaron     NaN 1986-01-22 2019-01-05 19:39:00   63126   18.424   \n943       Wayne    Male 2006-09-08 2019-01-05 11:09:00   67471    2.728   \n965   Catherine  Female 1989-09-25 2019-01-05 01:31:00   68164   18.393   \n970       Alice  Female 1988-09-03 2019-01-05 20:54:00   63571   15.397   \n974       Harry    Male 2011-08-30 2019-01-05 18:31:00   67656   16.455   \n978        Sean    Male 1983-01-17 2019-01-05 14:23:00   66146   11.178   \n998       Larry    Male 2013-04-20 2019-01-05 16:45:00   60500   11.985   \n\n     Senior Management                  Team  \n1                 True                   NaN  \n6                 True               Product  \n10                True                   NaN  \n20                True                 Legal  \n41                True  Business Development  \n47                True       Client Services  \n57                True       Human Resources  \n59               False           Engineering  \n65                True          Distribution  \n74               False             Marketing  \n88                True                 Legal  \n101               True             Marketing  \n107              False                 Legal  \n112              False             Marketing  \n127              False       Human Resources  \n129               True  Business Development  \n159              False             Marketing  \n179               True               Finance  \n196              False       Client Services  \n197              False       Client Services  \n225               True                 Sales  \n231              False               Product  \n239              False       Human Resources  \n262               True           Engineering  \n285              False       Human Resources  \n286               True               Finance  \n288              False          Distribution  \n310               True                 Legal  \n320               True                 Sales  \n325              False       Client Services  \n..                 ...                   ...  \n580              False                   NaN  \n597              False          Distribution  \n612               True          Distribution  \n613              False               Finance  \n614              False          Distribution  \n618              False               Finance  \n654              False                 Legal  \n668               True                 Legal  \n677               True       Client Services  \n679               True       Client Services  \n704              False          Distribution  \n709               True       Human Resources  \n719              False           Engineering  \n730               True             Marketing  \n742              False       Client Services  \n745               True  Business Development  \n747              False  Business Development  \n825               True                 Sales  \n831               True               Finance  \n854              False               Finance  \n892              False                 Sales  \n909              False               Product  \n924              False       Client Services  \n937              False       Client Services  \n943              False           Engineering  \n965              False       Client Services  \n970               True               Product  \n974               True       Client Services  \n978              False       Human Resources  \n998              False  Business Development  \n\n[86 rows x 8 columns]>"
      ]
     },
     "execution_count": 5,
     "metadata": {},
     "output_type": "execute_result"
    }
   ],
   "source": [
    "df[df['Salary'].between(60000,70000,inclusive=False)].head"
   ]
  },
  {
   "cell_type": "code",
   "execution_count": 6,
   "metadata": {
    "collapsed": true
   },
   "outputs": [
    {
     "data": {
      "text/plain": [
       "<bound method NDFrame.head of     First Name  Gender Start Date     Last Login Time  Salary  Bonus %  \\\n1       Thomas    Male 1996-03-31 2019-01-05 06:53:00   61933    4.170   \n20        Lois     NaN 1995-04-22 2019-01-05 19:18:00   64714    4.934   \n40     Michael    Male 2008-10-10 2019-01-05 11:25:00   99283    2.665   \n49       Chris     NaN 1980-01-24 2019-01-05 12:13:00  113590    3.055   \n60       Paula     NaN 2005-11-23 2019-01-05 14:01:00   48866    4.271   \n61      Denise  Female 2001-11-06 2019-01-05 12:03:00  106862    3.699   \n66       Nancy  Female 2012-12-15 2019-01-05 23:57:00  125250    2.672   \n69       Irene     NaN 2015-07-14 2019-01-05 16:31:00  100863    4.382   \n72       Bobby    Male 2007-05-07 2019-01-05 10:01:00   54043    3.833   \n73     Frances  Female 1999-04-04 2019-01-05 16:19:00   90582    4.709   \n79      Bonnie  Female 1988-11-13 2019-01-05 15:30:00  115814    4.990   \n85      Jeremy    Male 2008-02-01 2019-01-05 08:50:00  100238    3.887   \n106       Paul    Male 1993-08-04 2019-01-05 19:25:00   42146    3.046   \n112     Willie    Male 2003-11-27 2019-01-05 06:21:00   64363    4.023   \n113       Tina  Female 2009-06-12 2019-01-05 07:16:00  114767    3.711   \n115     Pamela  Female 1982-07-01 2019-01-05 06:51:00   54585    4.166   \n124    Marilyn  Female 1983-11-16 2019-01-05 08:29:00   76078    2.401   \n133       Lois  Female 1987-12-25 2019-01-05 16:16:00  106317    2.235   \n134    Carolyn  Female 2011-04-09 2019-01-05 05:38:00  109260    2.650   \n146   Patricia  Female 1992-11-25 2019-01-05 02:24:00   95322    4.150   \n147     Philip    Male 2008-07-17 2019-01-05 13:30:00   89227    3.996   \n173    Lillian  Female 2008-12-21 2019-01-05 18:51:00   85446    3.959   \n183       Ruth     NaN 1999-05-18 2019-01-05 05:56:00   98233    2.518   \n193    Rebecca  Female 1995-02-18 2019-01-05 06:50:00  109259    4.443   \n197    Carolyn  Female 2012-11-06 2019-01-05 03:51:00   69268    3.031   \n203      Diana  Female 2013-01-04 2019-01-05 07:53:00  103521    2.784   \n204     Willie    Male 2006-06-06 2019-01-05 09:45:00   55281    4.935   \n208   Jonathan    Male 1987-10-12 2019-01-05 02:59:00  141069    4.903   \n214      Julie  Female 1989-07-23 2019-01-05 13:52:00  109588    3.550   \n215       Mary  Female 2009-05-30 2019-01-05 23:41:00   92544    3.800   \n..         ...     ...        ...                 ...     ...      ...   \n824      Julia  Female 2014-08-18 2019-01-05 03:12:00   97566    2.147   \n829     Johnny    Male 2007-01-14 2019-01-05 14:54:00   71383    2.097   \n834       Carl     NaN 1982-02-11 2019-01-05 07:54:00   49325    2.071   \n835    Douglas    Male 2007-08-04 2019-01-05 05:23:00  132175    2.280   \n840    Lillian  Female 2002-08-26 2019-01-05 08:53:00  103854    4.924   \n847     Nicole     NaN 1981-05-02 2019-01-05 12:03:00   41449    4.707   \n848      Bobby    Male 1984-06-05 2019-01-05 07:40:00   93368    2.880   \n855    Phillip     NaN 2003-10-20 2019-01-05 11:09:00   89700    2.277   \n871     Gerald    Male 2003-03-29 2019-01-05 10:37:00   96329    2.469   \n873      Jason    Male 1998-05-01 2019-01-05 18:05:00   75607    4.299   \n874    Melissa  Female 1994-09-08 2019-01-05 04:11:00   98858    3.525   \n892    Brandon    Male 1995-10-23 2019-01-05 12:04:00   60263    2.709   \n896     Victor    Male 2010-03-10 2019-01-05 17:01:00   45267    3.942   \n905      Alice  Female 2013-02-09 2019-01-05 00:49:00  121250    4.363   \n908     Janice  Female 2009-12-17 2019-01-05 06:42:00  102697    3.283   \n922     Arthur    Male 2013-12-05 2019-01-05 08:44:00   86615    3.412   \n923      Irene     NaN 1991-02-28 2019-01-05 22:23:00  135369    4.380   \n928    Jeffrey    Male 1986-09-20 2019-01-05 06:06:00  111376    2.673   \n930      Nancy  Female 2001-09-10 2019-01-05 23:57:00   85213    2.386   \n931     Harold    Male 2012-06-23 2019-01-05 12:40:00  140444    3.771   \n932     Bonnie  Female 2008-12-23 2019-01-05 09:26:00   90427    2.010   \n933      Doris  Female 1993-07-05 2019-01-05 17:54:00  141439    3.799   \n934     Samuel    Male 1997-08-07 2019-01-05 12:40:00   43694    3.787   \n938       Mark     NaN 2006-09-09 2019-01-05 12:27:00   44836    2.657   \n939      Ralph     NaN 1995-07-28 2019-01-05 18:53:00   70635    2.147   \n943      Wayne    Male 2006-09-08 2019-01-05 11:09:00   67471    2.728   \n961    Antonio     NaN 1989-06-18 2019-01-05 21:37:00  103050    3.050   \n976     Denise  Female 1992-10-19 2019-01-05 05:42:00  137954    4.195   \n989     Justin     NaN 1991-02-10 2019-01-05 16:58:00   38344    3.794   \n994     George    Male 2013-06-21 2019-01-05 17:47:00   98874    4.479   \n\n     Senior Management                  Team  \n1                 True                   NaN  \n20                True                 Legal  \n40                True          Distribution  \n49               False                 Sales  \n60               False          Distribution  \n61               False  Business Development  \n66                True  Business Development  \n69                True               Finance  \n72               False               Product  \n73                True                 Sales  \n79               False               Product  \n85                True       Client Services  \n106              False                 Legal  \n112              False             Marketing  \n113               True           Engineering  \n115              False               Product  \n124               True               Product  \n133               True       Client Services  \n134               True  Business Development  \n146              False               Product  \n147              False                 Legal  \n173               True           Engineering  \n183               True          Distribution  \n193               True                 Legal  \n197              False       Client Services  \n203               True  Business Development  \n204               True             Marketing  \n208              False       Human Resources  \n214              False           Engineering  \n215              False       Client Services  \n..                 ...                   ...  \n824              False             Marketing  \n829               True       Human Resources  \n834               True  Business Development  \n835              False           Engineering  \n840               True          Distribution  \n847              False               Finance  \n848               True               Product  \n855               True                   NaN  \n871               True           Engineering  \n873               True                 Sales  \n874               True       Human Resources  \n892              False                 Sales  \n896               True                 Sales  \n905               True               Finance  \n908              False           Engineering  \n922               True  Business Development  \n923              False  Business Development  \n928               True  Business Development  \n930               True             Marketing  \n931              False          Distribution  \n932               True       Client Services  \n933              False  Business Development  \n934               True           Engineering  \n938              False       Client Services  \n939              False       Client Services  \n943              False           Engineering  \n961              False                 Legal  \n976               True                 Legal  \n989              False                 Legal  \n994               True             Marketing  \n\n[169 rows x 8 columns]>"
      ]
     },
     "execution_count": 6,
     "metadata": {},
     "output_type": "execute_result"
    }
   ],
   "source": [
    "df[df['Bonus %'].between(2.0,5.0)].head"
   ]
  },
  {
   "cell_type": "code",
   "execution_count": 7,
   "metadata": {
    "collapsed": true
   },
   "outputs": [
    {
     "data": {
      "text/plain": [
       "0      False\n1      False\n2      False\n3      False\n4      False\n5      False\n6      False\n7      False\n8      False\n9      False\n10     False\n11     False\n12     False\n13     False\n14     False\n15     False\n16     False\n17     False\n18     False\n19     False\n20     False\n21     False\n22     False\n23     False\n24     False\n25     False\n26     False\n27     False\n28     False\n29     False\n       ...  \n970    False\n971    False\n972    False\n973    False\n974    False\n975    False\n976    False\n977    False\n978    False\n979    False\n980    False\n981    False\n982    False\n983    False\n984    False\n985    False\n986    False\n987    False\n988    False\n989    False\n990    False\n991    False\n992    False\n993    False\n994    False\n995    False\n996    False\n997    False\n998    False\n999    False\nName: Last Login Time, Length: 1000, dtype: bool"
      ]
     },
     "execution_count": 7,
     "metadata": {},
     "output_type": "execute_result"
    }
   ],
   "source": [
    "df['Last Login Time'].between('1991-01-01','1992-01-01')"
   ]
  },
  {
   "cell_type": "code",
   "execution_count": null,
   "metadata": {},
   "outputs": [],
   "source": []
  }
 ],
 "metadata": {
  "kernelspec": {
   "display_name": "Python 2",
   "language": "python",
   "name": "python2"
  },
  "language_info": {
   "codemirror_mode": {
    "name": "ipython",
    "version": 2
   },
   "file_extension": ".py",
   "mimetype": "text/x-python",
   "name": "python",
   "nbconvert_exporter": "python",
   "pygments_lexer": "ipython2",
   "version": "2.7.6"
  }
 },
 "nbformat": 4,
 "nbformat_minor": 0
}
