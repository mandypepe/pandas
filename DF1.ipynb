{
 "cells": [
  {
   "cell_type": "code",
   "execution_count": 1,
   "metadata": {
    "collapsed": true
   },
   "outputs": [
    {
     "name": "stdout",
     "output_type": "stream",
     "text": [
      "<class 'pandas.core.frame.DataFrame'>\nRangeIndex: 10 entries, 0 to 9\nData columns (total 4 columns):\nDate           10 non-null object\nNew York       10 non-null int64\nLos Angeles    10 non-null int64\nMiami          10 non-null int64\ndtypes: int64(3), object(1)\nmemory usage: 400.0+ bytes\n"
     ]
    }
   ],
   "source": [
    "import pandas as pd\n",
    "import matplotlib.pyplot as plt\n",
    "import numpy as np\n",
    "%matplotlib inline\n",
    "rev=pd.read_csv(\"csvs/revenue.csv\")\n",
    "rev.info()"
   ]
  },
  {
   "cell_type": "code",
   "execution_count": 2,
   "metadata": {},
   "outputs": [
    {
     "data": {
      "text/plain": [
       "<bound method NDFrame.head of       Date  New York  Los Angeles  Miami\n0   1/1/16       985          122    499\n1   1/2/16       738          788    534\n2   1/3/16        14           20    933\n3   1/4/16       730          904    885\n4   1/5/16       114           71    253\n5   1/6/16       936          502    497\n6   1/7/16       123          996    115\n7   1/8/16       935          492    886\n8   1/9/16       846          954    823\n9  1/10/16        54          285    216>"
      ]
     },
     "execution_count": 2,
     "metadata": {},
     "output_type": "execute_result"
    }
   ],
   "source": [
    "rev.head"
   ]
  },
  {
   "cell_type": "code",
   "execution_count": 5,
   "metadata": {},
   "outputs": [
    {
     "data": {
      "text/plain": [
       "<bound method NDFrame.head of          New York  Los Angeles  Miami\nDate                                 \n1/1/16        985          122    499\n1/2/16        738          788    534\n1/3/16         14           20    933\n1/4/16        730          904    885\n1/5/16        114           71    253\n1/6/16        936          502    497\n1/7/16        123          996    115\n1/8/16        935          492    886\n1/9/16        846          954    823\n1/10/16        54          285    216>"
      ]
     },
     "execution_count": 5,
     "metadata": {},
     "output_type": "execute_result"
    }
   ],
   "source": [
    "revi=pd.read_csv(\"csvs/revenue.csv\",index_col=\"Date\")\n",
    "revi.head"
   ]
  },
  {
   "cell_type": "code",
   "execution_count": 9,
   "metadata": {},
   "outputs": [
    {
     "data": {
      "text/plain": [
       "6"
      ]
     },
     "execution_count": 9,
     "metadata": {},
     "output_type": "execute_result"
    }
   ],
   "source": [
    "s=pd.Series([1,2,3])\n",
    "s.sum()"
   ]
  },
  {
   "cell_type": "code",
   "execution_count": 12,
   "metadata": {},
   "outputs": [
    {
     "data": {
      "text/plain": [
       "New York       5475\nLos Angeles    5134\nMiami          5641\ndtype: int64"
      ]
     },
     "execution_count": 12,
     "metadata": {},
     "output_type": "execute_result"
    }
   ],
   "source": [
    "revi.sum(axis=0)"
   ]
  },
  {
   "cell_type": "code",
   "execution_count": 13,
   "metadata": {},
   "outputs": [
    {
     "data": {
      "text/plain": [
       "Date\n1/1/16     1606\n1/2/16     2060\n1/3/16      967\n1/4/16     2519\n1/5/16      438\n1/6/16     1935\n1/7/16     1234\n1/8/16     2313\n1/9/16     2623\n1/10/16     555\ndtype: int64"
      ]
     },
     "execution_count": 13,
     "metadata": {},
     "output_type": "execute_result"
    }
   ],
   "source": [
    "revi.sum(axis=1) # same  colums"
   ]
  },
  {
   "cell_type": "code",
   "execution_count": null,
   "metadata": {},
   "outputs": [],
   "source": []
  }
 ],
 "metadata": {
  "kernelspec": {
   "display_name": "Python 2",
   "language": "python",
   "name": "python2"
  },
  "language_info": {
   "codemirror_mode": {
    "name": "ipython",
    "version": 2
   },
   "file_extension": ".py",
   "mimetype": "text/x-python",
   "name": "python",
   "nbconvert_exporter": "python",
   "pygments_lexer": "ipython2",
   "version": "2.7.6"
  }
 },
 "nbformat": 4,
 "nbformat_minor": 0
}
