{
 "cells": [
  {
   "cell_type": "code",
   "execution_count": 31,
   "metadata": {
    "collapsed": true
   },
   "outputs": [
    {
     "name": "stdout",
     "output_type": "stream",
     "text": [
      "<class 'pandas.core.frame.DataFrame'>\nDatetimeIndex: 1251 entries, 2014-01-13 to 2018-12-31\nData columns (total 5 columns):\nopen      1251 non-null float64\nhigh      1251 non-null float64\nlow       1251 non-null float64\nclose     1251 non-null float64\nvolume    1251 non-null int64\ndtypes: float64(4), int64(1)\nmemory usage: 58.6 KB\n"
     ]
    }
   ],
   "source": [
    "import pandas as pd\n",
    "import pandas.tseries.offsets as offst\n",
    "import datetime as dt\n",
    "import pandas_datareader as pdr\n",
    "company= \"BAC\"\n",
    "start=\"2014-01-01\"\n",
    "end=\"2018-12-31\"\n",
    "df=pdr.DataReader(name=company,data_source='iex',start=start,end=end)\n",
    "df.index=pd.to_datetime(df.index)\n",
    "df.info()\n",
    "df.sort_index(inplace=True)\n",
    "ec=pd.read_csv(\"csvs/ecommerce.csv\",index_col='ID',parse_dates=['order_date','delivery_date'])"
   ]
  },
  {
   "cell_type": "code",
   "execution_count": 9,
   "metadata": {},
   "outputs": [
    {
     "data": {
      "text/plain": [
       "Timestamp('2011-01-25 05:04:08')"
      ]
     },
     "execution_count": 9,
     "metadata": {},
     "output_type": "execute_result"
    }
   ],
   "source": [
    "tiempoq=pd.Timestamp('2011-1-25 05:04:08')\n",
    "tiempoq"
   ]
  },
  {
   "cell_type": "code",
   "execution_count": 10,
   "metadata": {},
   "outputs": [
    {
     "data": {
      "text/plain": [
       "Timestamp('2014-04-05 02:05:06')"
      ]
     },
     "execution_count": 10,
     "metadata": {},
     "output_type": "execute_result"
    }
   ],
   "source": [
    "tiempoy=pd.Timestamp('2014-04-05 02:05:06')\n",
    "tiempoy"
   ]
  },
  {
   "cell_type": "code",
   "execution_count": 11,
   "metadata": {},
   "outputs": [
    {
     "data": {
      "text/plain": [
       "Timedelta('1165 days 21:00:58')"
      ]
     },
     "execution_count": 11,
     "metadata": {},
     "output_type": "execute_result"
    }
   ],
   "source": [
    "tiempoy-tiempoq"
   ]
  },
  {
   "cell_type": "code",
   "execution_count": 12,
   "metadata": {},
   "outputs": [
    {
     "data": {
      "text/plain": [
       "pandas._libs.tslibs.timedeltas.Timedelta"
      ]
     },
     "execution_count": 12,
     "metadata": {},
     "output_type": "execute_result"
    }
   ],
   "source": [
    "type(tiempoy-tiempoq)"
   ]
  },
  {
   "cell_type": "code",
   "execution_count": 13,
   "metadata": {},
   "outputs": [
    {
     "data": {
      "text/plain": [
       "Timedelta('3 days 00:00:00')"
      ]
     },
     "execution_count": 13,
     "metadata": {},
     "output_type": "execute_result"
    }
   ],
   "source": [
    "pd.Timedelta(days=3) # casi los mismo que offset yaers no esta"
   ]
  },
  {
   "cell_type": "code",
   "execution_count": 14,
   "metadata": {},
   "outputs": [
    {
     "data": {
      "text/plain": [
       "Timedelta('0 days 12:00:00')"
      ]
     },
     "execution_count": 14,
     "metadata": {},
     "output_type": "execute_result"
    }
   ],
   "source": [
    "pd.Timedelta(hours=12) "
   ]
  },
  {
   "cell_type": "code",
   "execution_count": 15,
   "metadata": {},
   "outputs": [
    {
     "data": {
      "text/plain": [
       "Timedelta('52 days 07:00:00')"
      ]
     },
     "execution_count": 15,
     "metadata": {},
     "output_type": "execute_result"
    }
   ],
   "source": [
    "pd.Timedelta(days=3, hours=7,weeks=7) "
   ]
  },
  {
   "cell_type": "code",
   "execution_count": 25,
   "metadata": {},
   "outputs": [
    {
     "data": {
      "text/plain": [
       "Timedelta('14 days 06:12:58')"
      ]
     },
     "execution_count": 25,
     "metadata": {},
     "output_type": "execute_result"
    }
   ],
   "source": [
    "pd.Timedelta('14 days 6 hours 12 minutes 58 second')"
   ]
  },
  {
   "cell_type": "code",
   "execution_count": 28,
   "metadata": {
    "collapsed": true
   },
   "outputs": [
    {
     "data": {
      "text/plain": [
       "<bound method NDFrame.head of     order_date delivery_date\nID                          \n1      5/24/98        2/5/99\n2      4/22/92        3/6/98\n4      2/10/91       8/26/92\n5      7/21/92      11/20/97\n7       9/2/93       6/10/98\n8      6/10/93      11/11/93\n9      1/25/90       10/2/94\n10     2/23/92      12/30/98\n11     7/12/96       7/14/97\n18     6/18/95      10/13/97\n19     5/10/98       5/19/98\n20    10/17/92       10/6/98\n23     5/30/92       8/15/99\n26     4/11/96        5/4/98\n30    10/22/98       1/11/99\n32     1/20/90       7/24/98\n33     9/21/94      10/12/96\n35     9/10/93       4/28/96\n36     5/15/90       2/14/94\n39     3/26/90       1/25/93\n41      2/6/92       5/10/96\n46      9/5/95       7/19/96\n50      5/3/91       7/17/99\n52      9/2/94       5/14/97\n53    11/29/95       6/23/98\n54      8/7/96        4/4/98\n58     2/11/95       4/16/95\n59     9/29/95      12/16/95\n60     2/14/93        8/6/95\n63    12/22/90        9/2/95\n..         ...           ...\n932    7/25/97        4/9/98\n934    5/22/95       7/11/95\n935    9/26/90        3/7/98\n938    3/24/93       7/15/95\n939    10/1/98       12/7/98\n942    4/14/92        3/3/97\n943    1/30/91       12/2/99\n945   10/27/92       11/3/94\n946     7/2/91       2/23/96\n947    6/18/91       6/11/99\n949    10/7/91        1/7/92\n951    10/2/91       4/18/94\n953    9/26/91        5/8/94\n954     8/8/93       1/23/94\n956    8/23/95       1/10/99\n957    10/1/94       7/25/99\n958    4/26/90       6/29/97\n969    9/24/96      11/16/96\n972     2/7/90       11/5/95\n975    6/18/97       11/2/97\n981    1/31/97        3/4/98\n983   12/30/94       7/29/97\n984    7/25/91        2/9/99\n985    7/26/95       6/18/96\n986   12/10/90      12/16/92\n990    6/24/91        2/2/96\n991     9/9/91       3/30/98\n993   11/16/90       4/27/98\n994     6/3/93       6/13/93\n997     1/4/90       10/3/91\n\n[501 rows x 2 columns]>"
      ]
     },
     "execution_count": 28,
     "metadata": {},
     "output_type": "execute_result"
    }
   ],
   "source": [
    "ec.head"
   ]
  },
  {
   "cell_type": "code",
   "execution_count": 32,
   "metadata": {},
   "outputs": [
    {
     "name": "stdout",
     "output_type": "stream",
     "text": [
      "<class 'pandas.core.frame.DataFrame'>\nInt64Index: 501 entries, 1 to 997\nData columns (total 2 columns):\norder_date       501 non-null datetime64[ns]\ndelivery_date    501 non-null datetime64[ns]\ndtypes: datetime64[ns](2)\nmemory usage: 11.7 KB\n"
     ]
    }
   ],
   "source": [
    "ec.info()"
   ]
  },
  {
   "cell_type": "code",
   "execution_count": 33,
   "metadata": {
    "collapsed": true
   },
   "outputs": [
    {
     "data": {
      "text/plain": [
       "ID\n1      257 days\n2     2144 days\n4      563 days\n5     1948 days\n7     1742 days\n8      154 days\n9     1711 days\n10    2502 days\n11     367 days\n18     848 days\n19       9 days\n20    2180 days\n23    2633 days\n26     753 days\n30      81 days\n32    3107 days\n33     752 days\n35     961 days\n36    1371 days\n39    1036 days\n41    1555 days\n46     318 days\n50    2997 days\n52     985 days\n53     937 days\n54     605 days\n58      64 days\n59      78 days\n60     903 days\n63    1715 days\n         ...   \n932    258 days\n934     50 days\n935   2719 days\n938    843 days\n939     67 days\n942   1784 days\n943   3228 days\n945    737 days\n946   1697 days\n947   2915 days\n949     92 days\n951    929 days\n953    955 days\n954    168 days\n956   1236 days\n957   1758 days\n958   2621 days\n969     53 days\n972   2097 days\n975    137 days\n981    397 days\n983    942 days\n984   2756 days\n985    328 days\n986    737 days\n990   1684 days\n991   2394 days\n993   2719 days\n994     10 days\n997    637 days\nLength: 501, dtype: timedelta64[ns]"
      ]
     },
     "execution_count": 33,
     "metadata": {},
     "output_type": "execute_result"
    }
   ],
   "source": [
    "ec['delivery_date']-ec['order_date']"
   ]
  },
  {
   "cell_type": "code",
   "execution_count": 34,
   "metadata": {},
   "outputs": [],
   "source": [
    "ec['tiempoentrega']=ec['delivery_date']-ec['order_date']"
   ]
  },
  {
   "cell_type": "code",
   "execution_count": 35,
   "metadata": {},
   "outputs": [
    {
     "data": {
      "text/plain": [
       "count                          501\nmean     1217 days 22:53:53.532934\nstd       917 days 21:51:05.029340\nmin                8 days 00:00:00\n25%              423 days 00:00:00\n50%              998 days 00:00:00\n75%             1901 days 00:00:00\nmax             3583 days 00:00:00\nName: tiempoentrega, dtype: object"
      ]
     },
     "execution_count": 35,
     "metadata": {},
     "output_type": "execute_result"
    }
   ],
   "source": [
    "ec['tiempoentrega'].describe()"
   ]
  },
  {
   "cell_type": "code",
   "execution_count": 36,
   "metadata": {
    "collapsed": true
   },
   "outputs": [
    {
     "data": {
      "text/plain": [
       "ID\n1     1999-10-20\n2     2004-01-18\n4     1994-03-12\n5     2003-03-22\n7     2003-03-18\n8     1994-04-14\n9     1999-06-09\n10    2005-11-05\n11    1998-07-16\n18    2000-02-08\n19    1998-05-28\n20    2004-09-24\n23    2006-10-30\n26    2000-05-26\n30    1999-04-02\n32    2007-01-25\n33    1998-11-03\n35    1998-12-15\n36    1997-11-16\n39    1995-11-27\n41    2000-08-12\n46    1997-06-02\n50    2007-09-30\n52    2000-01-24\n53    2001-01-15\n54    1999-11-30\n58    1995-06-19\n59    1996-03-03\n60    1998-01-25\n63    2000-05-13\n         ...    \n932   1998-12-23\n934   1995-08-30\n935   2005-08-16\n938   1997-11-04\n939   1999-02-12\n942   2002-01-20\n943   2008-10-03\n945   1996-11-09\n946   2000-10-16\n947   2007-06-04\n949   1992-04-08\n951   1996-11-02\n953   1996-12-18\n954   1994-07-10\n956   2002-05-30\n957   2004-05-17\n958   2004-09-01\n969   1997-01-08\n972   2001-08-02\n975   1998-03-19\n981   1999-04-05\n983   2000-02-26\n984   2006-08-27\n985   1997-05-12\n986   1994-12-23\n990   2000-09-12\n991   2004-10-18\n993   2005-10-06\n994   1993-06-23\n997   1993-07-01\nLength: 501, dtype: datetime64[ns]"
      ]
     },
     "execution_count": 36,
     "metadata": {},
     "output_type": "execute_result"
    }
   ],
   "source": [
    "ec['delivery_date']+ec['tiempoentrega']"
   ]
  },
  {
   "cell_type": "code",
   "execution_count": 37,
   "metadata": {
    "collapsed": true
   },
   "outputs": [
    {
     "data": {
      "text/plain": [
       "ID\n1     1998-05-24\n2     1992-04-22\n4     1991-02-10\n5     1992-07-21\n7     1993-09-02\n8     1993-06-10\n9     1990-01-25\n10    1992-02-23\n11    1996-07-12\n18    1995-06-18\n19    1998-05-10\n20    1992-10-17\n23    1992-05-30\n26    1996-04-11\n30    1998-10-22\n32    1990-01-20\n33    1994-09-21\n35    1993-09-10\n36    1990-05-15\n39    1990-03-26\n41    1992-02-06\n46    1995-09-05\n50    1991-05-03\n52    1994-09-02\n53    1995-11-29\n54    1996-08-07\n58    1995-02-11\n59    1995-09-29\n60    1993-02-14\n63    1990-12-22\n         ...    \n932   1997-07-25\n934   1995-05-22\n935   1990-09-26\n938   1993-03-24\n939   1998-10-01\n942   1992-04-14\n943   1991-01-30\n945   1992-10-27\n946   1991-07-02\n947   1991-06-18\n949   1991-10-07\n951   1991-10-02\n953   1991-09-26\n954   1993-08-08\n956   1995-08-23\n957   1994-10-01\n958   1990-04-26\n969   1996-09-24\n972   1990-02-07\n975   1997-06-18\n981   1997-01-31\n983   1994-12-30\n984   1991-07-25\n985   1995-07-26\n986   1990-12-10\n990   1991-06-24\n991   1991-09-09\n993   1990-11-16\n994   1993-06-03\n997   1990-01-04\nLength: 501, dtype: datetime64[ns]"
      ]
     },
     "execution_count": 37,
     "metadata": {},
     "output_type": "execute_result"
    }
   ],
   "source": [
    "ec['delivery_date']-ec['tiempoentrega']"
   ]
  },
  {
   "cell_type": "code",
   "execution_count": 38,
   "metadata": {},
   "outputs": [],
   "source": [
    "ec['Largox2']=ec['delivery_date']+ec['tiempoentrega']"
   ]
  },
  {
   "cell_type": "code",
   "execution_count": 39,
   "metadata": {},
   "outputs": [
    {
     "data": {
      "text/plain": [
       "count                     501\nunique                    480\ntop       2000-01-24 00:00:00\nfreq                        2\nfirst     1990-03-09 00:00:00\nlast      2009-10-13 00:00:00\nName: Largox2, dtype: object"
      ]
     },
     "execution_count": 39,
     "metadata": {},
     "output_type": "execute_result"
    }
   ],
   "source": [
    "ec['Largox2'].describe()"
   ]
  },
  {
   "cell_type": "code",
   "execution_count": 40,
   "metadata": {},
   "outputs": [
    {
     "name": "stdout",
     "output_type": "stream",
     "text": [
      "<class 'pandas.core.frame.DataFrame'>\nInt64Index: 501 entries, 1 to 997\nData columns (total 4 columns):\norder_date       501 non-null datetime64[ns]\ndelivery_date    501 non-null datetime64[ns]\ntiempoentrega    501 non-null timedelta64[ns]\nLargox2          501 non-null datetime64[ns]\ndtypes: datetime64[ns](3), timedelta64[ns](1)\nmemory usage: 19.6 KB\n"
     ]
    }
   ],
   "source": [
    "ec.info()"
   ]
  },
  {
   "cell_type": "code",
   "execution_count": 41,
   "metadata": {
    "collapsed": true
   },
   "outputs": [
    {
     "data": {
      "text/plain": [
       "ID\n1      False\n2       True\n4       True\n5       True\n7       True\n8      False\n9       True\n10      True\n11      True\n18      True\n19     False\n20      True\n23      True\n26      True\n30     False\n32      True\n33      True\n35      True\n36      True\n39      True\n41      True\n46     False\n50      True\n52      True\n53      True\n54      True\n58     False\n59     False\n60      True\n63      True\n       ...  \n932    False\n934    False\n935     True\n938     True\n939    False\n942     True\n943     True\n945     True\n946     True\n947     True\n949    False\n951     True\n953     True\n954    False\n956     True\n957     True\n958     True\n969    False\n972     True\n975    False\n981     True\n983     True\n984     True\n985    False\n986     True\n990     True\n991     True\n993     True\n994    False\n997     True\nName: tiempoentrega, Length: 501, dtype: bool"
      ]
     },
     "execution_count": 41,
     "metadata": {},
     "output_type": "execute_result"
    }
   ],
   "source": [
    "ec['tiempoentrega'] > '365 days'"
   ]
  },
  {
   "cell_type": "code",
   "execution_count": 43,
   "metadata": {
    "collapsed": true
   },
   "outputs": [
    {
     "data": {
      "text/plain": [
       "<bound method NDFrame.head of     order_date delivery_date tiempoentrega    Largox2\nID                                                   \n2   1992-04-22    1998-03-06     2144 days 2004-01-18\n4   1991-02-10    1992-08-26      563 days 1994-03-12\n5   1992-07-21    1997-11-20     1948 days 2003-03-22\n7   1993-09-02    1998-06-10     1742 days 2003-03-18\n9   1990-01-25    1994-10-02     1711 days 1999-06-09\n10  1992-02-23    1998-12-30     2502 days 2005-11-05\n11  1996-07-12    1997-07-14      367 days 1998-07-16\n18  1995-06-18    1997-10-13      848 days 2000-02-08\n20  1992-10-17    1998-10-06     2180 days 2004-09-24\n23  1992-05-30    1999-08-15     2633 days 2006-10-30\n26  1996-04-11    1998-05-04      753 days 2000-05-26\n32  1990-01-20    1998-07-24     3107 days 2007-01-25\n33  1994-09-21    1996-10-12      752 days 1998-11-03\n35  1993-09-10    1996-04-28      961 days 1998-12-15\n36  1990-05-15    1994-02-14     1371 days 1997-11-16\n39  1990-03-26    1993-01-25     1036 days 1995-11-27\n41  1992-02-06    1996-05-10     1555 days 2000-08-12\n50  1991-05-03    1999-07-17     2997 days 2007-09-30\n52  1994-09-02    1997-05-14      985 days 2000-01-24\n53  1995-11-29    1998-06-23      937 days 2001-01-15\n54  1996-08-07    1998-04-04      605 days 1999-11-30\n60  1993-02-14    1995-08-06      903 days 1998-01-25\n63  1990-12-22    1995-09-02     1715 days 2000-05-13\n64  1990-11-25    1998-05-14     2727 days 2005-10-31\n66  1992-09-08    1998-12-29     2303 days 2005-04-19\n67  1990-05-04    1993-02-04     1007 days 1995-11-08\n70  1994-02-16    1999-11-06     2089 days 2005-07-26\n71  1990-11-25    1998-04-06     2689 days 2005-08-16\n73  1991-10-01    1993-05-19      596 days 1995-01-05\n75  1990-06-25    1996-12-18     2368 days 2003-06-13\n..         ...           ...           ...        ...\n907 1994-08-11    1998-09-28     1509 days 2002-11-15\n908 1993-11-04    1997-02-26     1210 days 2000-06-20\n909 1991-01-19    1998-08-22     2772 days 2006-03-25\n916 1994-12-03    1997-03-26      844 days 1999-07-18\n918 1994-12-29    1996-07-29      578 days 1998-02-27\n919 1992-01-25    1993-06-01      493 days 1994-10-07\n922 1996-07-06    1998-12-05      882 days 2001-05-05\n924 1991-03-17    1996-05-13     1884 days 2001-07-10\n926 1990-10-31    1994-04-12     1259 days 1997-09-22\n935 1990-09-26    1998-03-07     2719 days 2005-08-16\n938 1993-03-24    1995-07-15      843 days 1997-11-04\n942 1992-04-14    1997-03-03     1784 days 2002-01-20\n943 1991-01-30    1999-12-02     3228 days 2008-10-03\n945 1992-10-27    1994-11-03      737 days 1996-11-09\n946 1991-07-02    1996-02-23     1697 days 2000-10-16\n947 1991-06-18    1999-06-11     2915 days 2007-06-04\n951 1991-10-02    1994-04-18      929 days 1996-11-02\n953 1991-09-26    1994-05-08      955 days 1996-12-18\n956 1995-08-23    1999-01-10     1236 days 2002-05-30\n957 1994-10-01    1999-07-25     1758 days 2004-05-17\n958 1990-04-26    1997-06-29     2621 days 2004-09-01\n972 1990-02-07    1995-11-05     2097 days 2001-08-02\n981 1997-01-31    1998-03-04      397 days 1999-04-05\n983 1994-12-30    1997-07-29      942 days 2000-02-26\n984 1991-07-25    1999-02-09     2756 days 2006-08-27\n986 1990-12-10    1992-12-16      737 days 1994-12-23\n990 1991-06-24    1996-02-02     1684 days 2000-09-12\n991 1991-09-09    1998-03-30     2394 days 2004-10-18\n993 1990-11-16    1998-04-27     2719 days 2005-10-06\n997 1990-01-04    1991-10-03      637 days 1993-07-01\n\n[394 rows x 4 columns]>"
      ]
     },
     "execution_count": 43,
     "metadata": {},
     "output_type": "execute_result"
    }
   ],
   "source": [
    "ec[ec['tiempoentrega'] > '365 days'].head"
   ]
  },
  {
   "cell_type": "code",
   "execution_count": 48,
   "metadata": {},
   "outputs": [
    {
     "data": {
      "text/plain": [
       "<bound method NDFrame.head of Empty DataFrame\nColumns: [order_date, delivery_date, tiempoentrega, Largox2]\nIndex: []>"
      ]
     },
     "execution_count": 48,
     "metadata": {},
     "output_type": "execute_result"
    }
   ],
   "source": [
    "ec[ec['tiempoentrega'] =='321 days'].head"
   ]
  },
  {
   "cell_type": "code",
   "execution_count": 50,
   "metadata": {},
   "outputs": [
    {
     "data": {
      "text/plain": [
       "Timedelta('8 days 00:00:00')"
      ]
     },
     "execution_count": 50,
     "metadata": {},
     "output_type": "execute_result"
    }
   ],
   "source": [
    "ec['tiempoentrega'].min()"
   ]
  },
  {
   "cell_type": "code",
   "execution_count": null,
   "metadata": {},
   "outputs": [],
   "source": []
  }
 ],
 "metadata": {
  "kernelspec": {
   "display_name": "Python 2",
   "language": "python",
   "name": "python2"
  },
  "language_info": {
   "codemirror_mode": {
    "name": "ipython",
    "version": 2
   },
   "file_extension": ".py",
   "mimetype": "text/x-python",
   "name": "python",
   "nbconvert_exporter": "python",
   "pygments_lexer": "ipython2",
   "version": "2.7.6"
  }
 },
 "nbformat": 4,
 "nbformat_minor": 0
}
