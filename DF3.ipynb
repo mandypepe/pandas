{
 "cells": [
  {
   "cell_type": "code",
   "execution_count": 1,
   "metadata": {
    "collapsed": true
   },
   "outputs": [
    {
     "name": "stdout",
     "output_type": "stream",
     "text": [
      "<class 'pandas.core.frame.DataFrame'>\nRangeIndex: 458 entries, 0 to 457\nData columns (total 9 columns):\nName        457 non-null object\nTeam        457 non-null object\nNumber      457 non-null float64\nPosition    457 non-null object\nAge         457 non-null float64\nHeight      457 non-null object\nWeight      457 non-null float64\nCollege     373 non-null object\nSalary      446 non-null float64\ndtypes: float64(4), object(5)\nmemory usage: 32.3+ KB\n"
     ]
    }
   ],
   "source": [
    "import pandas as pd\n",
    "import matplotlib.pyplot as plt\n",
    "import numpy as np\n",
    "%matplotlib inline\n",
    "nba=pd.read_csv(\"csvs/nba.csv\")\n",
    "nba.info()\n"
   ]
  },
  {
   "cell_type": "code",
   "execution_count": 2,
   "metadata": {},
   "outputs": [
    {
     "data": {
      "text/plain": [
       "New Orleans Pelicans      19\nMemphis Grizzlies         18\nMilwaukee Bucks           16\nNew York Knicks           16\nSacramento Kings          15\nLos Angeles Clippers      15\nHouston Rockets           15\nChicago Bulls             15\nBoston Celtics            15\nMiami Heat                15\nAtlanta Hawks             15\nIndiana Pacers            15\nToronto Raptors           15\nDallas Mavericks          15\nDetroit Pistons           15\nGolden State Warriors     15\nLos Angeles Lakers        15\nDenver Nuggets            15\nUtah Jazz                 15\nPhiladelphia 76ers        15\nWashington Wizards        15\nCleveland Cavaliers       15\nPortland Trail Blazers    15\nOklahoma City Thunder     15\nSan Antonio Spurs         15\nBrooklyn Nets             15\nPhoenix Suns              15\nCharlotte Hornets         15\nMinnesota Timberwolves    14\nOrlando Magic             14\nName: Team, dtype: int64"
      ]
     },
     "execution_count": 2,
     "metadata": {},
     "output_type": "execute_result"
    }
   ],
   "source": [
    "nba['Team'].value_counts()"
   ]
  },
  {
   "cell_type": "code",
   "execution_count": 3,
   "metadata": {},
   "outputs": [
    {
     "data": {
      "text/plain": [
       "SG    102\nPF    100\nPG     92\nSF     85\nC      78\nName: Position, dtype: int64"
      ]
     },
     "execution_count": 3,
     "metadata": {},
     "output_type": "execute_result"
    }
   ],
   "source": [
    "nba['Position'].value_counts()"
   ]
  },
  {
   "cell_type": "code",
   "execution_count": 4,
   "metadata": {
    "collapsed": true
   },
   "outputs": [
    {
     "data": {
      "text/plain": [
       "220.0    29\n240.0    28\n250.0    26\n200.0    25\n205.0    22\n245.0    19\n235.0    17\n210.0    17\n225.0    17\n230.0    17\n185.0    16\n190.0    16\n195.0    15\n215.0    13\n175.0    12\n260.0    10\n255.0    10\n265.0     8\n228.0     7\n270.0     6\n275.0     5\n206.0     5\n189.0     4\n218.0     4\n194.0     4\n212.0     4\n180.0     4\n186.0     4\n237.0     4\n226.0     3\n         ..\n207.0     1\n216.0     1\n183.0     1\n280.0     1\n256.0     1\n279.0     1\n241.0     1\n290.0     1\n244.0     1\n173.0     1\n223.0     1\n161.0     1\n221.0     1\n170.0     1\n193.0     1\n233.0     1\n188.0     1\n243.0     1\n192.0     1\n229.0     1\n249.0     1\n217.0     1\n202.0     1\n252.0     1\n254.0     1\n278.0     1\n227.0     1\n239.0     1\n289.0     1\n307.0     1\nName: Weight, Length: 87, dtype: int64"
      ]
     },
     "execution_count": 4,
     "metadata": {},
     "output_type": "execute_result"
    }
   ],
   "source": [
    "nba['Weight'].value_counts()"
   ]
  },
  {
   "cell_type": "code",
   "execution_count": 5,
   "metadata": {
    "collapsed": true
   },
   "outputs": [
    {
     "data": {
      "text/plain": [
       "947276.0      31\n845059.0      18\n525093.0      13\n981348.0       6\n1100602.0      5\n16407500.0     5\n5000000.0      5\n12000000.0     5\n8000000.0      5\n4000000.0      5\n3000000.0      4\n7000000.0      4\n2814000.0      4\n1000000.0      4\n19689000.0     4\n200600.0       3\n8500000.0      3\n2500000.0      3\n1015421.0      3\n2854940.0      3\n13500000.0     3\n5543725.0      3\n2288205.0      2\n1270964.0      2\n2900000.0      2\n1007026.0      2\n111444.0       2\n13000000.0     2\n1500000.0      2\n1842000.0      2\n              ..\n2239800.0      1\n1474440.0      1\n19688000.0     1\n7900000.0      1\n2008748.0      1\n13800000.0     1\n2841960.0      1\n1404600.0      1\n1584480.0      1\n273038.0       1\n9213483.0      1\n3272091.0      1\n3075880.0      1\n2250000.0      1\n4626960.0      1\n1304520.0      1\n12100000.0     1\n7500000.0      1\n295327.0       1\n2836186.0      1\n6486486.0      1\n5016000.0      1\n3333333.0      1\n1824360.0      1\n8042895.0      1\n1242720.0      1\n2489530.0      1\n5103120.0      1\n9463484.0      1\n700902.0       1\nName: Salary, Length: 309, dtype: int64"
      ]
     },
     "execution_count": 5,
     "metadata": {},
     "output_type": "execute_result"
    }
   ],
   "source": [
    "nba['Salary'].value_counts()"
   ]
  },
  {
   "cell_type": "code",
   "execution_count": null,
   "metadata": {},
   "outputs": [],
   "source": []
  }
 ],
 "metadata": {
  "kernelspec": {
   "display_name": "Python 2",
   "language": "python",
   "name": "python2"
  },
  "language_info": {
   "codemirror_mode": {
    "name": "ipython",
    "version": 2
   },
   "file_extension": ".py",
   "mimetype": "text/x-python",
   "name": "python",
   "nbconvert_exporter": "python",
   "pygments_lexer": "ipython2",
   "version": "2.7.6"
  }
 },
 "nbformat": 4,
 "nbformat_minor": 0
}
