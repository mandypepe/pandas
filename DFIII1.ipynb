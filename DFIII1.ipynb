{
 "cells": [
  {
   "cell_type": "code",
   "execution_count": 16,
   "metadata": {
    "collapsed": true
   },
   "outputs": [
    {
     "name": "stdout",
     "output_type": "stream",
     "text": [
      "<class 'pandas.core.frame.DataFrame'>\nRangeIndex: 26 entries, 0 to 25\nData columns (total 7 columns):\nFilm                 26 non-null object\nYear                 26 non-null int64\nActor                26 non-null object\nDirector             26 non-null object\nBox Office           26 non-null float64\nBudget               26 non-null float64\nBond Actor Salary    18 non-null float64\ndtypes: float64(3), int64(1), object(3)\nmemory usage: 1.5+ KB\n"
     ]
    }
   ],
   "source": [
    "import pandas as pd\n",
    "import matplotlib.pyplot as plt\n",
    "import numpy as np\n",
    "%matplotlib inline\n",
    "bond=pd.read_csv(\"csvs/jamesbond.csv\")\n",
    "bond.info()"
   ]
  },
  {
   "cell_type": "code",
   "execution_count": 8,
   "metadata": {
    "collapsed": true
   },
   "outputs": [
    {
     "data": {
      "text/plain": [
       "<bound method NDFrame.head of                                  Year           Actor            Director  \\\nFilm                                                                        \nDr. No                           1962    Sean Connery       Terence Young   \nFrom Russia with Love            1963    Sean Connery       Terence Young   \nGoldfinger                       1964    Sean Connery        Guy Hamilton   \nThunderball                      1965    Sean Connery       Terence Young   \nCasino Royale                    1967     David Niven          Ken Hughes   \nYou Only Live Twice              1967    Sean Connery       Lewis Gilbert   \nOn Her Majesty's Secret Service  1969  George Lazenby       Peter R. Hunt   \nDiamonds Are Forever             1971    Sean Connery        Guy Hamilton   \nLive and Let Die                 1973     Roger Moore        Guy Hamilton   \nThe Man with the Golden Gun      1974     Roger Moore        Guy Hamilton   \nThe Spy Who Loved Me             1977     Roger Moore       Lewis Gilbert   \nMoonraker                        1979     Roger Moore       Lewis Gilbert   \nFor Your Eyes Only               1981     Roger Moore           John Glen   \nNever Say Never Again            1983    Sean Connery      Irvin Kershner   \nOctopussy                        1983     Roger Moore           John Glen   \nA View to a Kill                 1985     Roger Moore           John Glen   \nThe Living Daylights             1987  Timothy Dalton           John Glen   \nLicence to Kill                  1989  Timothy Dalton           John Glen   \nGoldenEye                        1995  Pierce Brosnan     Martin Campbell   \nTomorrow Never Dies              1997  Pierce Brosnan  Roger Spottiswoode   \nThe World Is Not Enough          1999  Pierce Brosnan       Michael Apted   \nDie Another Day                  2002  Pierce Brosnan        Lee Tamahori   \nCasino Royale                    2006    Daniel Craig     Martin Campbell   \nQuantum of Solace                2008    Daniel Craig        Marc Forster   \nSkyfall                          2012    Daniel Craig          Sam Mendes   \nSpectre                          2015    Daniel Craig          Sam Mendes   \n\n                                 Box Office  Budget  Bond Actor Salary  \nFilm                                                                    \nDr. No                                448.8     7.0                0.6  \nFrom Russia with Love                 543.8    12.6                1.6  \nGoldfinger                            820.4    18.6                3.2  \nThunderball                           848.1    41.9                4.7  \nCasino Royale                         315.0    85.0                NaN  \nYou Only Live Twice                   514.2    59.9                4.4  \nOn Her Majesty's Secret Service       291.5    37.3                0.6  \nDiamonds Are Forever                  442.5    34.7                5.8  \nLive and Let Die                      460.3    30.8                NaN  \nThe Man with the Golden Gun           334.0    27.7                NaN  \nThe Spy Who Loved Me                  533.0    45.1                NaN  \nMoonraker                             535.0    91.5                NaN  \nFor Your Eyes Only                    449.4    60.2                NaN  \nNever Say Never Again                 380.0    86.0                NaN  \nOctopussy                             373.8    53.9                7.8  \nA View to a Kill                      275.2    54.5                9.1  \nThe Living Daylights                  313.5    68.8                5.2  \nLicence to Kill                       250.9    56.7                7.9  \nGoldenEye                             518.5    76.9                5.1  \nTomorrow Never Dies                   463.2   133.9               10.0  \nThe World Is Not Enough               439.5   158.3               13.5  \nDie Another Day                       465.4   154.2               17.9  \nCasino Royale                         581.5   145.3                3.3  \nQuantum of Solace                     514.2   181.4                8.1  \nSkyfall                               943.5   170.2               14.5  \nSpectre                               726.7   206.3                NaN  >"
      ]
     },
     "execution_count": 8,
     "metadata": {},
     "output_type": "execute_result"
    }
   ],
   "source": [
    "bond.set_index('Film',inplace=True)\n",
    "bond.head"
   ]
  },
  {
   "cell_type": "code",
   "execution_count": 12,
   "metadata": {
    "collapsed": true
   },
   "outputs": [
    {
     "data": {
      "text/plain": [
       "<bound method NDFrame.head of                                Film  Year           Actor            Director  \\\n0                            Dr. No  1962    Sean Connery       Terence Young   \n1             From Russia with Love  1963    Sean Connery       Terence Young   \n2                        Goldfinger  1964    Sean Connery        Guy Hamilton   \n3                       Thunderball  1965    Sean Connery       Terence Young   \n4                     Casino Royale  1967     David Niven          Ken Hughes   \n5               You Only Live Twice  1967    Sean Connery       Lewis Gilbert   \n6   On Her Majesty's Secret Service  1969  George Lazenby       Peter R. Hunt   \n7              Diamonds Are Forever  1971    Sean Connery        Guy Hamilton   \n8                  Live and Let Die  1973     Roger Moore        Guy Hamilton   \n9       The Man with the Golden Gun  1974     Roger Moore        Guy Hamilton   \n10             The Spy Who Loved Me  1977     Roger Moore       Lewis Gilbert   \n11                        Moonraker  1979     Roger Moore       Lewis Gilbert   \n12               For Your Eyes Only  1981     Roger Moore           John Glen   \n13            Never Say Never Again  1983    Sean Connery      Irvin Kershner   \n14                        Octopussy  1983     Roger Moore           John Glen   \n15                 A View to a Kill  1985     Roger Moore           John Glen   \n16             The Living Daylights  1987  Timothy Dalton           John Glen   \n17                  Licence to Kill  1989  Timothy Dalton           John Glen   \n18                        GoldenEye  1995  Pierce Brosnan     Martin Campbell   \n19              Tomorrow Never Dies  1997  Pierce Brosnan  Roger Spottiswoode   \n20          The World Is Not Enough  1999  Pierce Brosnan       Michael Apted   \n21                  Die Another Day  2002  Pierce Brosnan        Lee Tamahori   \n22                    Casino Royale  2006    Daniel Craig     Martin Campbell   \n23                Quantum of Solace  2008    Daniel Craig        Marc Forster   \n24                          Skyfall  2012    Daniel Craig          Sam Mendes   \n25                          Spectre  2015    Daniel Craig          Sam Mendes   \n\n    Box Office  Budget  Bond Actor Salary  \n0        448.8     7.0                0.6  \n1        543.8    12.6                1.6  \n2        820.4    18.6                3.2  \n3        848.1    41.9                4.7  \n4        315.0    85.0                NaN  \n5        514.2    59.9                4.4  \n6        291.5    37.3                0.6  \n7        442.5    34.7                5.8  \n8        460.3    30.8                NaN  \n9        334.0    27.7                NaN  \n10       533.0    45.1                NaN  \n11       535.0    91.5                NaN  \n12       449.4    60.2                NaN  \n13       380.0    86.0                NaN  \n14       373.8    53.9                7.8  \n15       275.2    54.5                9.1  \n16       313.5    68.8                5.2  \n17       250.9    56.7                7.9  \n18       518.5    76.9                5.1  \n19       463.2   133.9               10.0  \n20       439.5   158.3               13.5  \n21       465.4   154.2               17.9  \n22       581.5   145.3                3.3  \n23       514.2   181.4                8.1  \n24       943.5   170.2               14.5  \n25       726.7   206.3                NaN  >"
      ]
     },
     "execution_count": 12,
     "metadata": {},
     "output_type": "execute_result"
    }
   ],
   "source": [
    "bond.reset_index(drop=False,inplace=True)\n",
    "bond.head"
   ]
  },
  {
   "cell_type": "code",
   "execution_count": 17,
   "metadata": {
    "collapsed": true
   },
   "outputs": [],
   "source": [
    "bond.set_index('Film',inplace=True)"
   ]
  },
  {
   "cell_type": "code",
   "execution_count": 18,
   "metadata": {
    "collapsed": true
   },
   "outputs": [
    {
     "data": {
      "text/plain": [
       "<bound method NDFrame.head of                Actor            Director  Box Office  Budget  \\\nYear                                                           \n1962    Sean Connery       Terence Young       448.8     7.0   \n1963    Sean Connery       Terence Young       543.8    12.6   \n1964    Sean Connery        Guy Hamilton       820.4    18.6   \n1965    Sean Connery       Terence Young       848.1    41.9   \n1967     David Niven          Ken Hughes       315.0    85.0   \n1967    Sean Connery       Lewis Gilbert       514.2    59.9   \n1969  George Lazenby       Peter R. Hunt       291.5    37.3   \n1971    Sean Connery        Guy Hamilton       442.5    34.7   \n1973     Roger Moore        Guy Hamilton       460.3    30.8   \n1974     Roger Moore        Guy Hamilton       334.0    27.7   \n1977     Roger Moore       Lewis Gilbert       533.0    45.1   \n1979     Roger Moore       Lewis Gilbert       535.0    91.5   \n1981     Roger Moore           John Glen       449.4    60.2   \n1983    Sean Connery      Irvin Kershner       380.0    86.0   \n1983     Roger Moore           John Glen       373.8    53.9   \n1985     Roger Moore           John Glen       275.2    54.5   \n1987  Timothy Dalton           John Glen       313.5    68.8   \n1989  Timothy Dalton           John Glen       250.9    56.7   \n1995  Pierce Brosnan     Martin Campbell       518.5    76.9   \n1997  Pierce Brosnan  Roger Spottiswoode       463.2   133.9   \n1999  Pierce Brosnan       Michael Apted       439.5   158.3   \n2002  Pierce Brosnan        Lee Tamahori       465.4   154.2   \n2006    Daniel Craig     Martin Campbell       581.5   145.3   \n2008    Daniel Craig        Marc Forster       514.2   181.4   \n2012    Daniel Craig          Sam Mendes       943.5   170.2   \n2015    Daniel Craig          Sam Mendes       726.7   206.3   \n\n      Bond Actor Salary  \nYear                     \n1962                0.6  \n1963                1.6  \n1964                3.2  \n1965                4.7  \n1967                NaN  \n1967                4.4  \n1969                0.6  \n1971                5.8  \n1973                NaN  \n1974                NaN  \n1977                NaN  \n1979                NaN  \n1981                NaN  \n1983                NaN  \n1983                7.8  \n1985                9.1  \n1987                5.2  \n1989                7.9  \n1995                5.1  \n1997               10.0  \n1999               13.5  \n2002               17.9  \n2006                3.3  \n2008                8.1  \n2012               14.5  \n2015                NaN  >"
      ]
     },
     "execution_count": 18,
     "metadata": {},
     "output_type": "execute_result"
    }
   ],
   "source": [
    "bond.set_index('Year').head"
   ]
  },
  {
   "cell_type": "code",
   "execution_count": 19,
   "metadata": {},
   "outputs": [],
   "source": [
    "bond.reset_index(drop=False,inplace=True)"
   ]
  },
  {
   "cell_type": "code",
   "execution_count": null,
   "metadata": {},
   "outputs": [],
   "source": []
  }
 ],
 "metadata": {
  "kernelspec": {
   "display_name": "Python 2",
   "language": "python",
   "name": "python2"
  },
  "language_info": {
   "codemirror_mode": {
    "name": "ipython",
    "version": 2
   },
   "file_extension": ".py",
   "mimetype": "text/x-python",
   "name": "python",
   "nbconvert_exporter": "python",
   "pygments_lexer": "ipython2",
   "version": "2.7.6"
  }
 },
 "nbformat": 4,
 "nbformat_minor": 0
}
