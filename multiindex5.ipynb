{
 "cells": [
  {
   "cell_type": "code",
   "execution_count": 1,
   "metadata": {
    "collapsed": true
   },
   "outputs": [
    {
     "name": "stdout",
     "output_type": "stream",
     "text": [
      "<class 'pandas.core.frame.DataFrame'>\nMultiIndex: 652 entries, (2010-01-01 00:00:00, Argentina) to (2016-01-01 00:00:00, Vietnam)\nData columns (total 1 columns):\nPrice in US Dollars    652 non-null float64\ndtypes: float64(1)\nmemory usage: 7.0+ KB\n"
     ]
    }
   ],
   "source": [
    "import pandas as pd\n",
    "import matplotlib.pyplot as plt\n",
    "import numpy as np\n",
    "%matplotlib inline\n",
    "bm=pd.read_csv(\"csvs/bigmac.csv\",parse_dates=['Date'], index_col=['Date','Country'])\n",
    "bm.sort_index(inplace=True)\n",
    "bm.info()"
   ]
  },
  {
   "cell_type": "code",
   "execution_count": 8,
   "metadata": {
    "collapsed": true
   },
   "outputs": [
    {
     "data": {
      "text/plain": [
       "<bound method NDFrame.head of                            Price in US Dollars\nDate       Country                            \n2010-01-01 Argentina                      1.84\n           Australia                      3.98\n           Brazil                         4.76\n           Britain                        3.67\n           Canada                         3.97\n           Chile                          3.18\n           China                          1.83\n           Colombia                       3.91\n           Costa Rica                     3.52\n           Czech Republic                 3.71\n           Denmark                        5.99\n           Egypt                          2.38\n           Euro area                      4.84\n           Hong Kong                      1.91\n           Hungary                        3.86\n           Indonesia                      2.24\n           Israel                         3.99\n           Japan                          3.50\n           Latvia                         3.09\n           Lithuania                      2.87\n           Malaysia                       2.08\n           Mexico                         2.50\n           New Zealand                    3.61\n           Norway                         7.02\n           Pakistan                       2.42\n           Peru                           2.81\n           Philippines                    2.21\n           Poland                         2.86\n           Russia                         2.34\n           Saudi Arabia                   2.67\n...                                        ...\n2016-01-01 Italy                          4.30\n           Japan                          3.12\n           Malaysia                       1.82\n           Mexico                         2.81\n           Netherlands                    3.71\n           New Zealand                    3.91\n           Norway                         5.21\n           Pakistan                       2.86\n           Peru                           2.93\n           Philippines                    2.79\n           Poland                         2.37\n           Portugal                       3.23\n           Russia                         1.53\n           Saudi Arabia                   3.20\n           Singapore                      3.27\n           South Africa                   1.77\n           South Korea                    3.59\n           Spain                          3.76\n           Sri Lanka                      2.43\n           Sweden                         5.23\n           Switzerland                    6.44\n           Taiwan                         2.08\n           Thailand                       3.09\n           Turkey                         3.41\n           UAE                            3.54\n           Ukraine                        1.54\n           United States                  4.93\n           Uruguay                        3.74\n           Venezuela                      0.66\n           Vietnam                        2.67\n\n[652 rows x 1 columns]>"
      ]
     },
     "execution_count": 8,
     "metadata": {},
     "output_type": "execute_result"
    }
   ],
   "source": [
    "bm.head"
   ]
  },
  {
   "cell_type": "code",
   "execution_count": 10,
   "metadata": {
    "collapsed": true
   },
   "outputs": [
    {
     "data": {
      "text/plain": [
       "<bound method NDFrame.head of                            Price in US Dollars\nCountry        Date                           \nArgentina      2010-01-01                 1.84\nAustralia      2010-01-01                 3.98\nBrazil         2010-01-01                 4.76\nBritain        2010-01-01                 3.67\nCanada         2010-01-01                 3.97\nChile          2010-01-01                 3.18\nChina          2010-01-01                 1.83\nColombia       2010-01-01                 3.91\nCosta Rica     2010-01-01                 3.52\nCzech Republic 2010-01-01                 3.71\nDenmark        2010-01-01                 5.99\nEgypt          2010-01-01                 2.38\nEuro area      2010-01-01                 4.84\nHong Kong      2010-01-01                 1.91\nHungary        2010-01-01                 3.86\nIndonesia      2010-01-01                 2.24\nIsrael         2010-01-01                 3.99\nJapan          2010-01-01                 3.50\nLatvia         2010-01-01                 3.09\nLithuania      2010-01-01                 2.87\nMalaysia       2010-01-01                 2.08\nMexico         2010-01-01                 2.50\nNew Zealand    2010-01-01                 3.61\nNorway         2010-01-01                 7.02\nPakistan       2010-01-01                 2.42\nPeru           2010-01-01                 2.81\nPhilippines    2010-01-01                 2.21\nPoland         2010-01-01                 2.86\nRussia         2010-01-01                 2.34\nSaudi Arabia   2010-01-01                 2.67\n...                                        ...\nItaly          2016-01-01                 4.30\nJapan          2016-01-01                 3.12\nMalaysia       2016-01-01                 1.82\nMexico         2016-01-01                 2.81\nNetherlands    2016-01-01                 3.71\nNew Zealand    2016-01-01                 3.91\nNorway         2016-01-01                 5.21\nPakistan       2016-01-01                 2.86\nPeru           2016-01-01                 2.93\nPhilippines    2016-01-01                 2.79\nPoland         2016-01-01                 2.37\nPortugal       2016-01-01                 3.23\nRussia         2016-01-01                 1.53\nSaudi Arabia   2016-01-01                 3.20\nSingapore      2016-01-01                 3.27\nSouth Africa   2016-01-01                 1.77\nSouth Korea    2016-01-01                 3.59\nSpain          2016-01-01                 3.76\nSri Lanka      2016-01-01                 2.43\nSweden         2016-01-01                 5.23\nSwitzerland    2016-01-01                 6.44\nTaiwan         2016-01-01                 2.08\nThailand       2016-01-01                 3.09\nTurkey         2016-01-01                 3.41\nUAE            2016-01-01                 3.54\nUkraine        2016-01-01                 1.54\nUnited States  2016-01-01                 4.93\nUruguay        2016-01-01                 3.74\nVenezuela      2016-01-01                 0.66\nVietnam        2016-01-01                 2.67\n\n[652 rows x 1 columns]>"
      ]
     },
     "execution_count": 10,
     "metadata": {},
     "output_type": "execute_result"
    }
   ],
   "source": [
    "cambia2=bm.swaplevel()\n",
    "cambia2.head"
   ]
  },
  {
   "cell_type": "code",
   "execution_count": 11,
   "metadata": {
    "collapsed": true
   },
   "outputs": [
    {
     "data": {
      "text/plain": [
       "<bound method NDFrame.head of                            Price in US Dollars\nDate       Country                            \n2010-01-01 Argentina                      1.84\n           Australia                      3.98\n           Brazil                         4.76\n           Britain                        3.67\n           Canada                         3.97\n           Chile                          3.18\n           China                          1.83\n           Colombia                       3.91\n           Costa Rica                     3.52\n           Czech Republic                 3.71\n           Denmark                        5.99\n           Egypt                          2.38\n           Euro area                      4.84\n           Hong Kong                      1.91\n           Hungary                        3.86\n           Indonesia                      2.24\n           Israel                         3.99\n           Japan                          3.50\n           Latvia                         3.09\n           Lithuania                      2.87\n           Malaysia                       2.08\n           Mexico                         2.50\n           New Zealand                    3.61\n           Norway                         7.02\n           Pakistan                       2.42\n           Peru                           2.81\n           Philippines                    2.21\n           Poland                         2.86\n           Russia                         2.34\n           Saudi Arabia                   2.67\n...                                        ...\n2016-01-01 Italy                          4.30\n           Japan                          3.12\n           Malaysia                       1.82\n           Mexico                         2.81\n           Netherlands                    3.71\n           New Zealand                    3.91\n           Norway                         5.21\n           Pakistan                       2.86\n           Peru                           2.93\n           Philippines                    2.79\n           Poland                         2.37\n           Portugal                       3.23\n           Russia                         1.53\n           Saudi Arabia                   3.20\n           Singapore                      3.27\n           South Africa                   1.77\n           South Korea                    3.59\n           Spain                          3.76\n           Sri Lanka                      2.43\n           Sweden                         5.23\n           Switzerland                    6.44\n           Taiwan                         2.08\n           Thailand                       3.09\n           Turkey                         3.41\n           UAE                            3.54\n           Ukraine                        1.54\n           United States                  4.93\n           Uruguay                        3.74\n           Venezuela                      0.66\n           Vietnam                        2.67\n\n[652 rows x 1 columns]>"
      ]
     },
     "execution_count": 11,
     "metadata": {},
     "output_type": "execute_result"
    }
   ],
   "source": [
    "cambio=cambia2.swaplevel()\n",
    "cambio.head"
   ]
  },
  {
   "cell_type": "code",
   "execution_count": null,
   "metadata": {},
   "outputs": [],
   "source": []
  }
 ],
 "metadata": {
  "kernelspec": {
   "display_name": "Python 2",
   "language": "python",
   "name": "python2"
  },
  "language_info": {
   "codemirror_mode": {
    "name": "ipython",
    "version": 2
   },
   "file_extension": ".py",
   "mimetype": "text/x-python",
   "name": "python",
   "nbconvert_exporter": "python",
   "pygments_lexer": "ipython2",
   "version": "2.7.6"
  }
 },
 "nbformat": 4,
 "nbformat_minor": 0
}
