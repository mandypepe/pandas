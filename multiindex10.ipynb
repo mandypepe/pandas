{
 "cells": [
  {
   "cell_type": "code",
   "execution_count": 3,
   "metadata": {
    "collapsed": true
   },
   "outputs": [
    {
     "name": "stdout",
     "output_type": "stream",
     "text": [
      "<class 'pandas.core.frame.DataFrame'>\nRangeIndex: 1000 entries, 0 to 999\nData columns (total 6 columns):\nFirst Name    1000 non-null object\nGender        1000 non-null object\nCity          1000 non-null object\nFrequency     1000 non-null object\nItem          1000 non-null object\nSpend         1000 non-null float64\ndtypes: float64(1), object(5)\nmemory usage: 47.0+ KB\n"
     ]
    }
   ],
   "source": [
    "import pandas as pd\n",
    "import matplotlib.pyplot as plt\n",
    "import numpy as np\n",
    "%matplotlib inline\n",
    "food=pd.read_csv(\"csvs/foods.csv\")\n",
    "food['Gender'].astype('category')\n",
    "food.info()\n"
   ]
  },
  {
   "cell_type": "code",
   "execution_count": 7,
   "metadata": {},
   "outputs": [
    {
     "data": {
      "text/plain": [
       "<bound method NDFrame.head of             Spend\nGender           \nFemale  50.709629\nMale    49.397623>"
      ]
     },
     "execution_count": 7,
     "metadata": {},
     "output_type": "execute_result"
    }
   ],
   "source": [
    "asss=food.pivot_table(values='Spend',index='Gender',aggfunc=\"mean\")\n",
    "asss.head"
   ]
  },
  {
   "cell_type": "code",
   "execution_count": 8,
   "metadata": {},
   "outputs": [
    {
     "data": {
      "text/plain": [
       "<bound method NDFrame.head of            Spend\nGender          \nFemale  25963.33\nMale    24106.04>"
      ]
     },
     "execution_count": 8,
     "metadata": {},
     "output_type": "execute_result"
    }
   ],
   "source": [
    "asss=food.pivot_table(values='Spend',index='Gender',aggfunc=\"sum\")\n",
    "asss.head"
   ]
  },
  {
   "cell_type": "code",
   "execution_count": 9,
   "metadata": {},
   "outputs": [
    {
     "data": {
      "text/plain": [
       "<bound method NDFrame.head of              Spend\nItem              \nBurger     7765.73\nBurrito    8270.44\nChalupa    7644.52\nDonut      8758.76\nIce Cream  8886.99\nSushi      8742.93>"
      ]
     },
     "execution_count": 9,
     "metadata": {},
     "output_type": "execute_result"
    }
   ],
   "source": [
    "assse=food.pivot_table(values='Spend',index=['Item'],aggfunc=\"sum\")\n",
    "assse.head"
   ]
  },
  {
   "cell_type": "code",
   "execution_count": 11,
   "metadata": {},
   "outputs": [
    {
     "data": {
      "text/plain": [
       "<bound method NDFrame.head of                     Spend\nGender Item              \nFemale Burger     4094.30\n       Burrito    4257.82\n       Chalupa    4152.26\n       Donut      4743.00\n       Ice Cream  4032.87\n       Sushi      4683.08\nMale   Burger     3671.43\n       Burrito    4012.62\n       Chalupa    3492.26\n       Donut      4015.76\n       Ice Cream  4854.12\n       Sushi      4059.85>"
      ]
     },
     "execution_count": 11,
     "metadata": {},
     "output_type": "execute_result"
    }
   ],
   "source": [
    "assse=food.pivot_table(values='Spend',index=['Gender','Item'],aggfunc=\"sum\")\n",
    "assse.head"
   ]
  },
  {
   "cell_type": "code",
   "execution_count": 14,
   "metadata": {},
   "outputs": [
    {
     "data": {
      "text/plain": [
       "<bound method NDFrame.head of City              New York  Philadelphia  Stamford\nGender Item                                       \nFemale Burger           24            31        27\n       Burrito          23            28        34\n       Chalupa          19            32        25\n       Donut            31            30        34\n       Ice Cream        27            32        22\n       Sushi            31            30        32\nMale   Burger           22            21        31\n       Burrito          25            30        28\n       Chalupa          25            23        23\n       Donut            30            33        29\n       Ice Cream        29            41        25\n       Sushi            27            28        18>"
      ]
     },
     "execution_count": 14,
     "metadata": {},
     "output_type": "execute_result"
    }
   ],
   "source": [
    "assse=food.pivot_table(values='Spend',index=['Gender','Item'],columns='City',\n",
    "                       aggfunc='count')\n",
    "assse.head"
   ]
  },
  {
   "cell_type": "code",
   "execution_count": 15,
   "metadata": {},
   "outputs": [
    {
     "data": {
      "text/plain": [
       "<bound method NDFrame.head of City              New York  Philadelphia  Stamford\nGender Item                                       \nFemale Burger        98.96         97.79     85.06\n       Burrito       92.25         96.79     99.21\n       Chalupa       98.43         99.29     98.78\n       Donut         95.63         96.52     91.75\n       Ice Cream     97.83         88.14     97.44\n       Sushi         99.51         99.02     95.43\nMale   Burger        90.32         99.68     97.20\n       Burrito       98.04         93.27     95.07\n       Chalupa       96.44         98.40     99.87\n       Donut         86.70         93.12     99.26\n       Ice Cream     97.65         99.24     99.17\n       Sushi         93.85         97.12     98.48>"
      ]
     },
     "execution_count": 15,
     "metadata": {},
     "output_type": "execute_result"
    }
   ],
   "source": [
    "assse=food.pivot_table(values='Spend',index=['Gender','Item'],columns='City',\n",
    "                       aggfunc='max')\n",
    "assse.head"
   ]
  },
  {
   "cell_type": "code",
   "execution_count": 16,
   "metadata": {},
   "outputs": [
    {
     "data": {
      "text/plain": [
       "<bound method NDFrame.head of City              New York  Philadelphia  Stamford\nGender Item                                       \nFemale Burger         2.25          1.97      6.24\n       Burrito        1.02          1.04      1.18\n       Chalupa        1.96          9.35      9.09\n       Donut          3.15          2.13      1.68\n       Ice Cream     13.39          7.61      8.80\n       Sushi          2.52         11.68      8.20\nMale   Burger         5.43          1.71      2.83\n       Burrito       15.90          8.58      3.64\n       Chalupa       11.61          1.94     10.56\n       Donut          1.49          1.26      6.63\n       Ice Cream     14.06          4.89      3.43\n       Sushi          3.28          2.01     32.15>"
      ]
     },
     "execution_count": 16,
     "metadata": {},
     "output_type": "execute_result"
    }
   ],
   "source": [
    "assse=food.pivot_table(values='Spend',index=['Gender','Item'],columns='City',\n",
    "                       aggfunc='min')\n",
    "assse.head"
   ]
  },
  {
   "cell_type": "code",
   "execution_count": 17,
   "metadata": {},
   "outputs": [
    {
     "data": {
      "text/html": [
       "<div>\n",
       "<style scoped>\n",
       "    .dataframe tbody tr th:only-of-type {\n",
       "        vertical-align: middle;\n",
       "    }\n",
       "\n",
       "    .dataframe tbody tr th {\n",
       "        vertical-align: top;\n",
       "    }\n",
       "\n",
       "    .dataframe thead th {\n",
       "        text-align: right;\n",
       "    }\n",
       "</style>\n",
       "<table border=\"1\" class=\"dataframe\">\n",
       "  <thead>\n",
       "    <tr style=\"text-align: right;\">\n",
       "      <th></th>\n",
       "      <th>City</th>\n",
       "      <th>New York</th>\n",
       "      <th>Philadelphia</th>\n",
       "      <th>Stamford</th>\n",
       "    </tr>\n",
       "    <tr>\n",
       "      <th>Gender</th>\n",
       "      <th>Item</th>\n",
       "      <th></th>\n",
       "      <th></th>\n",
       "      <th></th>\n",
       "    </tr>\n",
       "  </thead>\n",
       "  <tbody>\n",
       "    <tr>\n",
       "      <th rowspan=\"6\" valign=\"top\">Female</th>\n",
       "      <th>Burger</th>\n",
       "      <td>2.25</td>\n",
       "      <td>1.97</td>\n",
       "      <td>6.24</td>\n",
       "    </tr>\n",
       "    <tr>\n",
       "      <th>Burrito</th>\n",
       "      <td>1.02</td>\n",
       "      <td>1.04</td>\n",
       "      <td>1.18</td>\n",
       "    </tr>\n",
       "    <tr>\n",
       "      <th>Chalupa</th>\n",
       "      <td>1.96</td>\n",
       "      <td>9.35</td>\n",
       "      <td>9.09</td>\n",
       "    </tr>\n",
       "    <tr>\n",
       "      <th>Donut</th>\n",
       "      <td>3.15</td>\n",
       "      <td>2.13</td>\n",
       "      <td>1.68</td>\n",
       "    </tr>\n",
       "    <tr>\n",
       "      <th>Ice Cream</th>\n",
       "      <td>13.39</td>\n",
       "      <td>7.61</td>\n",
       "      <td>8.80</td>\n",
       "    </tr>\n",
       "    <tr>\n",
       "      <th>Sushi</th>\n",
       "      <td>2.52</td>\n",
       "      <td>11.68</td>\n",
       "      <td>8.20</td>\n",
       "    </tr>\n",
       "    <tr>\n",
       "      <th rowspan=\"6\" valign=\"top\">Male</th>\n",
       "      <th>Burger</th>\n",
       "      <td>5.43</td>\n",
       "      <td>1.71</td>\n",
       "      <td>2.83</td>\n",
       "    </tr>\n",
       "    <tr>\n",
       "      <th>Burrito</th>\n",
       "      <td>15.90</td>\n",
       "      <td>8.58</td>\n",
       "      <td>3.64</td>\n",
       "    </tr>\n",
       "    <tr>\n",
       "      <th>Chalupa</th>\n",
       "      <td>11.61</td>\n",
       "      <td>1.94</td>\n",
       "      <td>10.56</td>\n",
       "    </tr>\n",
       "    <tr>\n",
       "      <th>Donut</th>\n",
       "      <td>1.49</td>\n",
       "      <td>1.26</td>\n",
       "      <td>6.63</td>\n",
       "    </tr>\n",
       "    <tr>\n",
       "      <th>Ice Cream</th>\n",
       "      <td>14.06</td>\n",
       "      <td>4.89</td>\n",
       "      <td>3.43</td>\n",
       "    </tr>\n",
       "    <tr>\n",
       "      <th>Sushi</th>\n",
       "      <td>3.28</td>\n",
       "      <td>2.01</td>\n",
       "      <td>32.15</td>\n",
       "    </tr>\n",
       "  </tbody>\n",
       "</table>\n",
       "</div>"
      ],
      "text/plain": [
       "<div>\n",
       "<style scoped>\n",
       "    .dataframe tbody tr th:only-of-type {\n",
       "        vertical-align: middle;\n",
       "    }\n",
       "\n",
       "    .dataframe tbody tr th {\n",
       "        vertical-align: top;\n",
       "    }\n",
       "\n",
       "    .dataframe thead th {\n",
       "        text-align: right;\n",
       "    }\n",
       "</style>\n",
       "<table border=\"1\" class=\"dataframe\">\n",
       "  <thead>\n",
       "    <tr style=\"text-align: right;\">\n",
       "      <th></th>\n",
       "      <th>City</th>\n",
       "      <th>New York</th>\n",
       "      <th>Philadelphia</th>\n",
       "      <th>Stamford</th>\n",
       "    </tr>\n",
       "    <tr>\n",
       "      <th>Gender</th>\n",
       "      <th>Item</th>\n",
       "      <th></th>\n",
       "      <th></th>\n",
       "      <th></th>\n",
       "    </tr>\n",
       "  </thead>\n",
       "  <tbody>\n",
       "    <tr>\n",
       "      <th rowspan=\"6\" valign=\"top\">Female</th>\n",
       "      <th>Burger</th>\n",
       "      <td>2.25</td>\n",
       "      <td>1.97</td>\n",
       "      <td>6.24</td>\n",
       "    </tr>\n",
       "    <tr>\n",
       "      <th>Burrito</th>\n",
       "      <td>1.02</td>\n",
       "      <td>1.04</td>\n",
       "      <td>1.18</td>\n",
       "    </tr>\n",
       "    <tr>\n",
       "      <th>Chalupa</th>\n",
       "      <td>1.96</td>\n",
       "      <td>9.35</td>\n",
       "      <td>9.09</td>\n",
       "    </tr>\n",
       "    <tr>\n",
       "      <th>Donut</th>\n",
       "      <td>3.15</td>\n",
       "      <td>2.13</td>\n",
       "      <td>1.68</td>\n",
       "    </tr>\n",
       "    <tr>\n",
       "      <th>Ice Cream</th>\n",
       "      <td>13.39</td>\n",
       "      <td>7.61</td>\n",
       "      <td>8.80</td>\n",
       "    </tr>\n",
       "    <tr>\n",
       "      <th>Sushi</th>\n",
       "      <td>2.52</td>\n",
       "      <td>11.68</td>\n",
       "      <td>8.20</td>\n",
       "    </tr>\n",
       "    <tr>\n",
       "      <th rowspan=\"6\" valign=\"top\">Male</th>\n",
       "      <th>Burger</th>\n",
       "      <td>5.43</td>\n",
       "      <td>1.71</td>\n",
       "      <td>2.83</td>\n",
       "    </tr>\n",
       "    <tr>\n",
       "      <th>Burrito</th>\n",
       "      <td>15.90</td>\n",
       "      <td>8.58</td>\n",
       "      <td>3.64</td>\n",
       "    </tr>\n",
       "    <tr>\n",
       "      <th>Chalupa</th>\n",
       "      <td>11.61</td>\n",
       "      <td>1.94</td>\n",
       "      <td>10.56</td>\n",
       "    </tr>\n",
       "    <tr>\n",
       "      <th>Donut</th>\n",
       "      <td>1.49</td>\n",
       "      <td>1.26</td>\n",
       "      <td>6.63</td>\n",
       "    </tr>\n",
       "    <tr>\n",
       "      <th>Ice Cream</th>\n",
       "      <td>14.06</td>\n",
       "      <td>4.89</td>\n",
       "      <td>3.43</td>\n",
       "    </tr>\n",
       "    <tr>\n",
       "      <th>Sushi</th>\n",
       "      <td>3.28</td>\n",
       "      <td>2.01</td>\n",
       "      <td>32.15</td>\n",
       "    </tr>\n",
       "  </tbody>\n",
       "</table>\n",
       "</div>"
      ]
     },
     "execution_count": 17,
     "metadata": {},
     "output_type": "execute_result"
    }
   ],
   "source": [
    "pd.pivot_table(data=food,values='Spend',index=['Gender','Item'],columns='City',\n",
    "                       aggfunc='min')"
   ]
  },
  {
   "cell_type": "code",
   "execution_count": null,
   "metadata": {},
   "outputs": [],
   "source": []
  }
 ],
 "metadata": {
  "kernelspec": {
   "display_name": "Python 2",
   "language": "python",
   "name": "python2"
  },
  "language_info": {
   "codemirror_mode": {
    "name": "ipython",
    "version": 2
   },
   "file_extension": ".py",
   "mimetype": "text/x-python",
   "name": "python",
   "nbconvert_exporter": "python",
   "pygments_lexer": "ipython2",
   "version": "2.7.6"
  }
 },
 "nbformat": 4,
 "nbformat_minor": 0
}
