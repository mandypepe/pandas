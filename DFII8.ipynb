{
 "cells": [
  {
   "cell_type": "code",
   "execution_count": 1,
   "metadata": {
    "collapsed": true
   },
   "outputs": [
    {
     "name": "stdout",
     "output_type": "stream",
     "text": [
      "<class 'pandas.core.frame.DataFrame'>\nInt64Index: 1000 entries, 101 to 951\nData columns (total 8 columns):\nFirst Name           933 non-null object\nGender               855 non-null category\nStart Date           1000 non-null datetime64[ns]\nLast Login Time      1000 non-null datetime64[ns]\nSalary               1000 non-null int64\nBonus %              1000 non-null float64\nSenior Management    1000 non-null bool\nTeam                 957 non-null object\ndtypes: bool(1), category(1), datetime64[ns](2), float64(1), int64(1), object(2)\nmemory usage: 56.7+ KB\n"
     ]
    }
   ],
   "source": [
    "import pandas as pd\n",
    "import matplotlib.pyplot as plt\n",
    "import numpy as np\n",
    "%matplotlib inline\n",
    "df=pd.read_csv(\"csvs/employees.csv\",parse_dates=['Last Login Time','Start Date'])\n",
    "df['Senior Management']=df['Senior Management'].astype(\"bool\")\n",
    "df['Gender']=df['Gender'].astype('category')\n",
    "df.sort_values('First Name',inplace=True)\n",
    "df.info()"
   ]
  },
  {
   "cell_type": "code",
   "execution_count": 5,
   "metadata": {},
   "outputs": [
    {
     "data": {
      "text/plain": [
       "count      1000.000000\nmean      90662.181000\nstd       32923.693342\nmin       35013.000000\n25%       62613.000000\n50%       90428.000000\n75%      118740.250000\nmax      149908.000000\nName: Salary, dtype: float64"
      ]
     },
     "execution_count": 5,
     "metadata": {},
     "output_type": "execute_result"
    }
   ],
   "source": [
    "df['Salary'].describe()"
   ]
  },
  {
   "cell_type": "code",
   "execution_count": 6,
   "metadata": {
    "collapsed": true
   },
   "outputs": [
    {
     "data": {
      "text/plain": [
       "145988    2\n91462     2\n121160    2\n147183    2\n86676     2\n81919     1\n127654    1\n119082    1\n107351    1\n64164     1\n101036    1\n41643     1\n96941     1\n43694     1\n66224     1\n39335     1\n88733     1\n45724     1\n139959    1\n46602     1\n140347    1\n35477     1\n68028     1\n96914     1\n111249    1\n62096     1\n139917    1\n133772    1\n103050    1\n68230     1\n         ..\n134505    1\n144677    1\n46905     1\n138598    1\n42341     1\n89443     1\n50529     1\n55038     1\n89434     1\n46007     1\n95570     1\n136655    1\n70990     1\n58698     1\n57871     1\n144709    1\n73706     1\n63888     1\n81215     1\n144701    1\n54585     1\n42296     1\n81206     1\n128305    1\n114356    1\n90285     1\n79145     1\n107816    1\n75661     1\n69111     1\nName: Salary, Length: 995, dtype: int64"
      ]
     },
     "execution_count": 6,
     "metadata": {},
     "output_type": "execute_result"
    }
   ],
   "source": [
    "df['Salary'].value_counts()"
   ]
  },
  {
   "cell_type": "code",
   "execution_count": 7,
   "metadata": {
    "collapsed": true
   },
   "outputs": [
    {
     "data": {
      "text/plain": [
       "<bound method NDFrame.head of     First Name  Gender Start Date     Last Login Time  Salary  Bonus %  \\\n101      Aaron    Male 2012-02-17 2019-01-05 10:20:00   61602   11.849   \n137       Adam    Male 2011-05-21 2019-01-05 01:45:00   95327   15.120   \n300       Alan    Male 1988-06-26 2019-01-05 03:54:00  111786    3.592   \n372     Albert    Male 1997-02-01 2019-01-05 16:20:00   67827   19.717   \n988      Alice  Female 2004-10-05 2019-01-05 09:34:00   47638   11.209   \n639     Amanda     NaN 1991-08-11 2019-01-05 14:15:00   46665   19.391   \n879        Amy  Female 2009-05-20 2019-01-05 06:26:00   75415   19.132   \n430     Andrea  Female 2010-10-01 2019-01-05 11:54:00   79123   19.422   \n564     Andrew    Male 1985-03-29 2019-01-05 18:57:00   43414    7.563   \n8       Angela  Female 2005-11-22 2019-01-05 06:29:00   95570   18.523   \n509        Ann  Female 1984-11-04 2019-01-05 12:17:00   90719    6.220   \n645       Anna     NaN 1985-03-13 2019-01-05 09:19:00   45418   10.162   \n262       Anne  Female 1986-07-16 2019-01-05 14:08:00   69134    3.723   \n87       Annie  Female 1993-01-30 2019-01-05 02:05:00  144887    8.276   \n886    Anthony    Male 2014-01-30 2019-01-05 21:04:00   96795   14.837   \n129    Antonio    Male 1988-10-25 2019-01-05 13:50:00   60866   13.101   \n556     Arthur    Male 2014-12-16 2019-01-05 16:56:00   66819    6.639   \n138     Ashley  Female 2006-05-25 2019-01-05 11:30:00  112238    6.030   \n735    Barbara  Female 2002-11-26 2019-01-05 05:32:00   82884    6.837   \n757   Benjamin    Male 1988-04-12 2019-01-05 23:32:00  123409    7.783   \n894      Betty  Female 2002-11-19 2019-01-05 10:40:00   37005    7.645   \n956    Beverly  Female 1986-10-17 2019-01-05 00:51:00   80838    8.115   \n838      Billy    Male 2000-04-06 2019-01-05 15:14:00  115280    9.153   \n776      Bobby    Male 2004-09-30 2019-01-05 22:52:00   79047   18.784   \n79      Bonnie  Female 1988-11-13 2019-01-05 15:30:00  115814    4.990   \n892    Brandon    Male 1995-10-23 2019-01-05 12:04:00   60263    2.709   \n872     Brenda  Female 2015-01-18 2019-01-05 16:39:00   73749   19.332   \n688      Brian    Male 2007-04-07 2019-01-05 22:47:00   93901   17.821   \n604      Bruce    Male 2013-03-15 2019-01-05 23:13:00  141335   15.427   \n282       Carl     NaN 2014-02-07 2019-01-05 03:57:00  125104   12.345   \n..         ...     ...        ...                 ...     ...      ...   \n696     Samuel    Male 2012-05-25 2019-01-05 16:40:00   85550   11.593   \n589     Sandra  Female 1995-04-24 2019-01-05 19:14:00  116931    9.657   \n882       Sara     NaN 2014-11-18 2019-01-05 14:47:00  135990   14.344   \n417      Sarah     NaN 1981-08-31 2019-01-05 14:51:00   37748    9.047   \n452      Scott    Male 2012-11-17 2019-01-05 14:47:00  146812    1.965   \n501       Sean    Male 2013-02-11 2019-01-05 19:07:00   42748    9.765   \n489     Sharon  Female 2011-07-01 2019-01-05 09:50:00   46007   19.731   \n804      Shawn    Male 2008-03-17 2019-01-05 14:12:00   39335   10.664   \n130    Shirley  Female 1984-05-01 2019-01-05 13:15:00   41334    6.219   \n475  Stephanie  Female 1992-11-26 2019-01-05 00:54:00  122121    7.937   \n756    Stephen    Male 1984-10-21 2019-01-05 06:26:00  121816   10.615   \n525      Steve    Male 1995-08-22 2019-01-05 06:58:00   67780    9.540   \n743     Steven    Male 1980-05-30 2019-01-05 20:25:00  100949   13.813   \n975      Susan  Female 1995-04-07 2019-01-05 22:05:00   92436   12.467   \n291      Tammy  Female 1984-11-11 2019-01-05 10:30:00  132839   17.463   \n613     Teresa     NaN 1992-01-03 2019-01-05 15:47:00   63103   11.378   \n762      Terry    Male 2004-11-10 2019-01-05 04:33:00   35633    3.947   \n795    Theresa     NaN 1995-10-07 2019-01-05 10:16:00   42025    3.319   \n967     Thomas    Male 2016-03-12 2019-01-05 15:10:00  105681   19.572   \n664    Timothy    Male 2010-10-06 2019-01-05 22:49:00   49473   12.463   \n113       Tina  Female 2009-06-12 2019-01-05 07:16:00  114767    3.711   \n609       Todd    Male 2010-02-16 2019-01-05 11:29:00  103405   15.910   \n422     Victor    Male 2005-09-24 2019-01-05 12:04:00  123144   16.261   \n294   Virginia  Female 1999-10-20 2019-01-05 06:23:00   46905   19.154   \n288     Walter     NaN 1999-12-21 2019-01-05 22:33:00   66757   18.099   \n433      Wanda  Female 2008-07-20 2019-01-05 13:44:00   65362    7.132   \n177      Wayne    Male 2012-04-07 2019-01-05 08:00:00  102652   14.085   \n820    William    Male 1993-11-18 2019-01-05 12:27:00   54058    5.182   \n450     Willie    Male 2009-08-22 2019-01-05 13:03:00   55038   19.691   \n7          NaN  Female 2015-07-20 2019-01-05 10:43:00   45906   11.598   \n\n     Senior Management                  Team  \n101               True             Marketing  \n137              False          Distribution  \n300               True           Engineering  \n372               True           Engineering  \n988              False       Human Resources  \n639               True       Client Services  \n879              False       Client Services  \n430              False          Distribution  \n564               True       Client Services  \n8                 True           Engineering  \n509              False  Business Development  \n645              False             Marketing  \n262               True           Engineering  \n87                True                 Sales  \n886              False                 Sales  \n129               True  Business Development  \n556               True             Marketing  \n138               True           Engineering  \n735               True  Business Development  \n757              False               Product  \n894               True             Marketing  \n956              False           Engineering  \n838              False          Distribution  \n776              False       Human Resources  \n79               False               Product  \n892              False                 Sales  \n872              False  Business Development  \n688               True                 Legal  \n604               True           Engineering  \n282              False       Client Services  \n..                 ...                   ...  \n696               True             Marketing  \n589               True       Human Resources  \n882               True          Distribution  \n417              False       Human Resources  \n452               True             Marketing  \n501              False          Distribution  \n489               True       Client Services  \n804              False          Distribution  \n130               True       Human Resources  \n475               True           Engineering  \n756               True          Distribution  \n525               True       Human Resources  \n743               True       Human Resources  \n975              False                 Sales  \n291               True       Client Services  \n613              False               Finance  \n762               True          Distribution  \n795               True       Human Resources  \n967              False           Engineering  \n664              False                 Legal  \n113               True           Engineering  \n609              False                 Sales  \n422               True               Product  \n294              False          Distribution  \n288              False          Distribution  \n433               True                 Legal  \n177               True          Distribution  \n820               True       Human Resources  \n450              False                 Legal  \n7                 True               Finance  \n\n[201 rows x 8 columns]>"
      ]
     },
     "execution_count": 7,
     "metadata": {},
     "output_type": "execute_result"
    }
   ],
   "source": [
    "dfs=df.drop_duplicates(subset=['First Name'],keep='first')\n",
    "dfs.head"
   ]
  },
  {
   "cell_type": "code",
   "execution_count": 8,
   "metadata": {
    "collapsed": true
   },
   "outputs": [
    {
     "data": {
      "text/plain": [
       "<bound method NDFrame.head of     First Name  Gender Start Date     Last Login Time  Salary  Bonus %  \\\n937      Aaron     NaN 1986-01-22 2019-01-05 19:39:00   63126   18.424   \n538       Adam    Male 2010-10-08 2019-01-05 21:53:00   45181    3.491   \n610       Alan    Male 2012-02-17 2019-01-05 00:26:00   41453   10.084   \n959     Albert    Male 1992-09-19 2019-01-05 02:35:00   45094    5.850   \n693      Alice  Female 1995-10-16 2019-01-05 21:19:00   92799    2.782   \n641     Amanda  Female 1995-01-25 2019-01-05 05:06:00  102081    5.203   \n699        Amy     NaN 1984-05-19 2019-01-05 11:47:00  102839   10.385   \n793     Andrea  Female 1999-07-22 2019-01-05 09:25:00  149105   13.707   \n940     Andrew    Male 1990-09-28 2019-01-05 09:38:00  137386    8.611   \n8       Angela  Female 2005-11-22 2019-01-05 06:29:00   95570   18.523   \n713        Ann  Female 1994-09-28 2019-01-05 05:44:00   79796    9.851   \n543       Anna  Female 2008-04-15 2019-01-05 14:34:00  117293    2.366   \n555       Anne  Female 1996-10-26 2019-01-05 20:09:00   71930   18.451   \n453      Annie  Female 1994-12-19 2019-01-05 06:19:00   40119    4.338   \n992    Anthony    Male 2011-10-16 2019-01-05 08:35:00  112769   11.625   \n753    Antonio    Male 1999-06-06 2019-01-05 22:54:00   41928    5.478   \n281     Arthur    Male 2014-01-01 2019-01-05 19:46:00  134610    6.147   \n114     Ashley  Female 2002-08-04 2019-01-05 11:00:00   58698    6.811   \n499    Barbara     NaN 1980-12-10 2019-01-05 23:04:00   90187   14.764   \n309   Benjamin    Male 1984-09-11 2019-01-05 06:37:00   84810   15.794   \n249      Betty  Female 2002-06-12 2019-01-05 03:59:00  104896   19.550   \n42     Beverly  Female 1998-09-09 2019-01-05 20:26:00  121918   15.835   \n435      Billy    Male 2006-12-01 2019-01-05 15:32:00  144709   10.069   \n602      Bobby     NaN 2003-07-21 2019-01-05 15:50:00   84232   15.704   \n856     Bonnie     NaN 2006-01-18 2019-01-05 18:52:00  108946   12.211   \n376    Brandon    Male 2015-10-16 2019-01-05 02:44:00  112548    4.664   \n284     Brenda  Female 2005-10-06 2019-01-05 21:33:00  141521    4.337   \n688      Brian    Male 2007-04-07 2019-01-05 22:47:00   93901   17.821   \n46       Bruce    Male 2009-11-28 2019-01-05 22:47:00  114796    6.796   \n758       Carl     NaN 2007-08-18 2019-01-05 08:01:00   98295    7.617   \n..         ...     ...        ...                 ...     ...      ...   \n328     Samuel    Male 1991-12-19 2019-01-05 02:54:00   76076    5.319   \n786     Sandra  Female 1989-09-07 2019-01-05 16:17:00  111468    2.580   \n549       Sara  Female 1980-02-25 2019-01-05 22:50:00   75484    3.186   \n977      Sarah  Female 1995-12-04 2019-01-05 09:16:00  124566    5.949   \n27       Scott     NaN 1991-07-11 2019-01-05 18:58:00  122367    5.218   \n150       Sean    Male 1996-05-04 2019-01-05 20:59:00  135490   19.934   \n389     Sharon     NaN 1984-10-28 2019-01-05 17:59:00   97635   10.413   \n760      Shawn    Male 2006-12-29 2019-01-05 03:05:00   57871    4.020   \n110    Shirley  Female 2001-06-20 2019-01-05 22:39:00  147113   16.135   \n38   Stephanie  Female 1986-09-13 2019-01-05 01:52:00   36844    5.574   \n960    Stephen    Male 1989-10-29 2019-01-05 23:34:00   93997   18.093   \n659      Steve     NaN 2009-08-27 2019-01-05 15:41:00   53692    4.785   \n345     Steven    Male 2006-11-21 2019-01-05 08:30:00   83706    6.960   \n360      Susan  Female 2004-09-25 2019-01-05 01:30:00   80688   18.892   \n291      Tammy  Female 1984-11-11 2019-01-05 10:30:00  132839   17.463   \n143     Teresa     NaN 2016-01-28 2019-01-05 10:55:00  140013    8.689   \n451      Terry     NaN 2016-07-15 2019-01-05 00:29:00  140002   19.490   \n929    Theresa  Female 2001-04-27 2019-01-05 21:17:00   75661    1.079   \n704     Thomas    Male 1991-09-07 2019-01-05 09:51:00   65251   11.211   \n891    Timothy    Male 1991-08-25 2019-01-05 10:37:00   92587    8.475   \n751       Tina  Female 1999-08-06 2019-01-05 03:18:00  102841    3.369   \n70        Todd     NaN 2003-06-10 2019-01-05 14:26:00   84692    6.617   \n896     Victor    Male 2010-03-10 2019-01-05 17:01:00   45267    3.942   \n93    Virginia     NaN 1994-05-07 2019-01-05 17:58:00  111858    1.601   \n466     Walter    Male 2007-08-04 2019-01-05 13:59:00   58789    5.461   \n512      Wanda  Female 1993-04-06 2019-01-05 03:11:00   78883   19.695   \n637      Wayne    Male 2009-09-02 2019-01-05 01:37:00  126956   18.396   \n127    William    Male 2002-09-29 2019-01-05 16:09:00   66521    5.830   \n652     Willie    Male 2009-12-05 2019-01-05 05:39:00  141932    1.017   \n951        NaN  Female 2010-09-14 2019-01-05 05:19:00  143638    9.662   \n\n     Senior Management                  Team  \n937              False       Client Services  \n538              False       Human Resources  \n610              False               Product  \n959               True  Business Development  \n693              False                 Sales  \n641              False                 Sales  \n699               True          Distribution  \n793               True          Distribution  \n940               True          Distribution  \n8                 True           Engineering  \n713              False          Distribution  \n543              False       Client Services  \n555               True               Product  \n453               True       Human Resources  \n992               True               Finance  \n753               True                   NaN  \n281               True       Human Resources  \n114               True  Business Development  \n499               True          Distribution  \n309              False             Marketing  \n249               True  Business Development  \n42               False                 Legal  \n435               True          Distribution  \n602               True           Engineering  \n856              False               Finance  \n376              False           Engineering  \n284              False       Client Services  \n688               True                 Legal  \n46               False               Finance  \n758               True                 Legal  \n..                 ...                   ...  \n328               True               Finance  \n786               True               Product  \n549              False               Finance  \n977              False               Product  \n27               False                 Legal  \n150              False             Marketing  \n389               True       Client Services  \n760               True       Human Resources  \n110              False                 Legal  \n38                True  Business Development  \n960               True  Business Development  \n659               True             Marketing  \n345               True       Human Resources  \n360               True                 Sales  \n291               True       Client Services  \n143               True           Engineering  \n451               True             Marketing  \n929               True                 Legal  \n704              False          Distribution  \n891              False               Finance  \n751              False       Client Services  \n70               False       Client Services  \n896               True                 Sales  \n93                True                 Legal  \n466              False                 Sales  \n512              False                   NaN  \n637              False       Human Resources  \n127              False       Human Resources  \n652               True           Engineering  \n951               True                   NaN  \n\n[201 rows x 8 columns]>"
      ]
     },
     "execution_count": 8,
     "metadata": {},
     "output_type": "execute_result"
    }
   ],
   "source": [
    "dfs=df.drop_duplicates(subset=['First Name'],keep='last')\n",
    "dfs.head"
   ]
  },
  {
   "cell_type": "code",
   "execution_count": 9,
   "metadata": {},
   "outputs": [
    {
     "data": {
      "text/plain": [
       "<bound method NDFrame.head of     First Name  Gender Start Date     Last Login Time  Salary  Bonus %  \\\n8       Angela  Female 2005-11-22 2019-01-05 06:29:00   95570   18.523   \n688      Brian    Male 2007-04-07 2019-01-05 22:47:00   93901   17.821   \n190      Carol  Female 1996-03-19 2019-01-05 03:39:00   57783    9.129   \n887      David    Male 2009-12-05 2019-01-05 08:48:00   92242   15.407   \n5       Dennis    Male 1987-04-18 2019-01-05 01:35:00  115163   10.125   \n495     Eugene    Male 1984-05-24 2019-01-05 10:54:00   81077    2.117   \n33        Jean  Female 1993-12-18 2019-01-05 09:07:00  119082   16.180   \n832      Keith    Male 2003-02-12 2019-01-05 15:02:00  120672   19.467   \n291      Tammy  Female 1984-11-11 2019-01-05 10:30:00  132839   17.463   \n\n     Senior Management                  Team  \n8                 True           Engineering  \n688               True                 Legal  \n190              False               Finance  \n887              False                 Legal  \n5                False                 Legal  \n495              False                 Sales  \n33               False  Business Development  \n832              False                 Legal  \n291               True       Client Services  >"
      ]
     },
     "execution_count": 9,
     "metadata": {},
     "output_type": "execute_result"
    }
   ],
   "source": [
    "dfs=df.drop_duplicates(subset=['First Name'],keep=False) # eleimina todos los repetidos\n",
    "dfs.head"
   ]
  },
  {
   "cell_type": "code",
   "execution_count": 10,
   "metadata": {},
   "outputs": [
    {
     "data": {
      "text/plain": [
       "<bound method NDFrame.head of Empty DataFrame\nColumns: [First Name, Gender, Start Date, Last Login Time, Salary, Bonus %, Senior Management, Team]\nIndex: []>"
      ]
     },
     "execution_count": 10,
     "metadata": {},
     "output_type": "execute_result"
    }
   ],
   "source": [
    "ntdf=df.drop_duplicates(subset=['Team'],keep=False) \n",
    "ntdf.head"
   ]
  },
  {
   "cell_type": "code",
   "execution_count": 11,
   "metadata": {
    "collapsed": true
   },
   "outputs": [
    {
     "data": {
      "text/plain": [
       "<bound method NDFrame.head of     First Name  Gender Start Date     Last Login Time  Salary  Bonus %  \\\n137       Adam    Male 2011-05-21 2019-01-05 01:45:00   95327   15.120   \n141       Adam    Male 1990-12-24 2019-01-05 20:57:00  110194   14.727   \n300       Alan    Male 1988-06-26 2019-01-05 03:54:00  111786    3.592   \n53        Alan     NaN 2014-03-03 2019-01-05 13:28:00   40341   17.578   \n610       Alan    Male 2012-02-17 2019-01-05 00:26:00   41453   10.084   \n458     Albert    Male 2007-09-30 2019-01-05 17:34:00  102626   15.843   \n999     Albert    Male 2012-05-15 2019-01-05 18:24:00  129949   10.169   \n988      Alice  Female 2004-10-05 2019-01-05 09:34:00   47638   11.209   \n970      Alice  Female 1988-09-03 2019-01-05 20:54:00   63571   15.397   \n684      Alice  Female 2016-01-21 2019-01-05 17:07:00  117787   10.485   \n935      Alice  Female 1996-03-23 2019-01-05 03:09:00  131952   12.090   \n693      Alice  Female 1995-10-16 2019-01-05 21:19:00   92799    2.782   \n639     Amanda     NaN 1991-08-11 2019-01-05 14:15:00   46665   19.391   \n642     Amanda     NaN 2010-03-16 2019-01-05 09:17:00  135118   15.108   \n578     Amanda  Female 1982-03-17 2019-01-05 23:46:00  107111    1.438   \n553     Amanda  Female 2002-06-07 2019-01-05 07:46:00  109290   13.853   \n542     Amanda  Female 2004-08-01 2019-01-05 13:32:00   80803   14.077   \n641     Amanda  Female 1995-01-25 2019-01-05 05:06:00  102081    5.203   \n879        Amy  Female 2009-05-20 2019-01-05 06:26:00   75415   19.132   \n480        Amy  Female 2008-03-30 2019-01-05 22:54:00  106249   15.967   \n467        Amy  Female 2002-06-19 2019-01-05 03:06:00  122897    8.222   \n514        Amy     NaN 1984-12-25 2019-01-05 10:52:00   63888   18.115   \n699        Amy     NaN 1984-05-19 2019-01-05 11:47:00  102839   10.385   \n355     Andrea  Female 2003-09-14 2019-01-05 22:30:00  115913   12.121   \n564     Andrew    Male 1985-03-29 2019-01-05 18:57:00   43414    7.563   \n940     Andrew    Male 1990-09-28 2019-01-05 09:38:00  137386    8.611   \n8       Angela  Female 2005-11-22 2019-01-05 06:29:00   95570   18.523   \n509        Ann  Female 1984-11-04 2019-01-05 12:17:00   90719    6.220   \n963        Ann  Female 1994-09-23 2019-01-05 11:15:00   89443   17.940   \n731        Ann  Female 2001-07-16 2019-01-05 09:27:00  118431   12.772   \n..         ...     ...        ...                 ...     ...      ...   \n270     Thomas    Male 2011-04-06 2019-01-05 13:04:00  103235    9.554   \n350     Thomas     NaN 1995-08-31 2019-01-05 20:31:00   41549    3.950   \n704     Thomas    Male 1991-09-07 2019-01-05 09:51:00   65251   11.211   \n664    Timothy    Male 2010-10-06 2019-01-05 22:49:00   49473   12.463   \n891    Timothy    Male 1991-08-25 2019-01-05 10:37:00   92587    8.475   \n98        Tina  Female 2016-06-16 2019-01-05 19:47:00  100705   16.961   \n460       Tina  Female 2005-01-17 2019-01-05 09:11:00   88276   14.248   \n751       Tina  Female 1999-08-06 2019-01-05 03:18:00  102841    3.369   \n609       Todd    Male 2010-02-16 2019-01-05 11:29:00  103405   15.910   \n706       Todd    Male 1993-07-04 2019-01-05 18:53:00  128175   18.473   \n283       Todd    Male 2009-03-11 2019-01-05 03:43:00  107281    1.612   \n286       Todd    Male 1984-02-02 2019-01-05 10:13:00   69989   10.985   \n153     Victor     NaN 2011-03-10 2019-01-05 20:40:00   84546   10.489   \n245     Victor    Male 1991-04-11 2019-01-05 07:44:00   70817   17.138   \n294   Virginia  Female 1999-10-20 2019-01-05 06:23:00   46905   19.154   \n531   Virginia  Female 2010-05-02 2019-01-05 21:10:00  123649   10.154   \n93    Virginia     NaN 1994-05-07 2019-01-05 17:58:00  111858    1.601   \n288     Walter     NaN 1999-12-21 2019-01-05 22:33:00   66757   18.099   \n899     Walter    Male 1992-05-21 2019-01-05 00:39:00  144701   16.323   \n655     Walter    Male 2007-09-24 2019-01-05 23:16:00  125382   13.613   \n241     Walter    Male 1983-07-06 2019-01-05 23:54:00  127813    5.961   \n466     Walter    Male 2007-08-04 2019-01-05 13:59:00   58789    5.461   \n433      Wanda  Female 2008-07-20 2019-01-05 13:44:00   65362    7.132   \n512      Wanda  Female 1993-04-06 2019-01-05 03:11:00   78883   19.695   \n177      Wayne    Male 2012-04-07 2019-01-05 08:00:00  102652   14.085   \n448      Wayne    Male 1992-01-30 2019-01-05 15:01:00   81183   17.066   \n943      Wayne    Male 2006-09-08 2019-01-05 11:09:00   67471    2.728   \n637      Wayne    Male 2009-09-02 2019-01-05 01:37:00  126956   18.396   \n941    William    Male 1997-06-26 2019-01-05 08:33:00  104840   15.653   \n450     Willie    Male 2009-08-22 2019-01-05 13:03:00   55038   19.691   \n\n     Senior Management                  Team  \n137              False          Distribution  \n141               True               Product  \n300               True           Engineering  \n53                True               Finance  \n610              False               Product  \n458              False               Finance  \n999               True                 Sales  \n988              False       Human Resources  \n970               True               Product  \n684              False                   NaN  \n935              False           Engineering  \n693              False                 Sales  \n639               True       Client Services  \n642              False               Finance  \n578               True               Product  \n553              False           Engineering  \n542               True          Distribution  \n641              False                 Sales  \n879              False       Client Services  \n480              False                 Sales  \n467               True           Engineering  \n514               True               Product  \n699               True          Distribution  \n355              False                 Legal  \n564               True       Client Services  \n940               True          Distribution  \n8                 True           Engineering  \n509              False  Business Development  \n963               True                 Sales  \n731               True               Finance  \n..                 ...                   ...  \n270               True       Human Resources  \n350              False                 Sales  \n704              False          Distribution  \n664              False                 Legal  \n891              False               Finance  \n98                True             Marketing  \n460              False                 Legal  \n751              False       Client Services  \n609              False                 Sales  \n706               True                   NaN  \n283               True           Engineering  \n286               True               Finance  \n153               True               Finance  \n245              False           Engineering  \n294              False          Distribution  \n531               True             Marketing  \n93                True                 Legal  \n288              False          Distribution  \n899               True             Marketing  \n655               True       Client Services  \n241              False               Finance  \n466              False                 Sales  \n433               True                 Legal  \n512              False                   NaN  \n177               True          Distribution  \n448              False       Client Services  \n943              False           Engineering  \n637              False       Human Resources  \n941               True           Engineering  \n450              False                 Legal  \n\n[606 rows x 8 columns]>"
      ]
     },
     "execution_count": 11,
     "metadata": {},
     "output_type": "execute_result"
    }
   ],
   "source": [
    "ytdf=df.drop_duplicates(subset=['First Name','Team'],keep=False) \n",
    "ytdf.head"
   ]
  },
  {
   "cell_type": "code",
   "execution_count": 12,
   "metadata": {},
   "outputs": [
    {
     "data": {
      "text/plain": [
       "[Male, NaN, Female]\nCategories (2, object): [Male, Female]"
      ]
     },
     "execution_count": 12,
     "metadata": {},
     "output_type": "execute_result"
    }
   ],
   "source": [
    "df['Gender'].unique()"
   ]
  },
  {
   "cell_type": "code",
   "execution_count": 13,
   "metadata": {},
   "outputs": [
    {
     "data": {
      "text/plain": [
       "array(['Marketing', 'Client Services', 'Distribution', 'Product',\n       'Human Resources', 'Engineering', 'Finance',\n       'Business Development', 'Sales', nan, 'Legal'], dtype=object)"
      ]
     },
     "execution_count": 13,
     "metadata": {},
     "output_type": "execute_result"
    }
   ],
   "source": [
    "df['Team'].unique()"
   ]
  },
  {
   "cell_type": "code",
   "execution_count": 14,
   "metadata": {},
   "outputs": [
    {
     "data": {
      "text/plain": [
       "Client Services         106\nFinance                 102\nBusiness Development    101\nMarketing                98\nProduct                  95\nSales                    94\nEngineering              92\nHuman Resources          91\nDistribution             90\nLegal                    88\nName: Team, dtype: int64"
      ]
     },
     "execution_count": 14,
     "metadata": {},
     "output_type": "execute_result"
    }
   ],
   "source": [
    "df['Team'].value_counts()"
   ]
  },
  {
   "cell_type": "code",
   "execution_count": 15,
   "metadata": {},
   "outputs": [
    {
     "data": {
      "text/plain": [
       "11"
      ]
     },
     "execution_count": 15,
     "metadata": {},
     "output_type": "execute_result"
    }
   ],
   "source": [
    "len(df['Team'].unique())"
   ]
  },
  {
   "cell_type": "code",
   "execution_count": 18,
   "metadata": {},
   "outputs": [
    {
     "data": {
      "text/plain": [
       "10"
      ]
     },
     "execution_count": 18,
     "metadata": {},
     "output_type": "execute_result"
    }
   ],
   "source": [
    "df['Team'].nunique(dropna=True) # dropna=True no cuenta los NAN"
   ]
  },
  {
   "cell_type": "code",
   "execution_count": 19,
   "metadata": {},
   "outputs": [
    {
     "data": {
      "text/plain": [
       "11"
      ]
     },
     "execution_count": 19,
     "metadata": {},
     "output_type": "execute_result"
    }
   ],
   "source": [
    "df['Team'].nunique(dropna=False) # dropna=False  cuenta los NAN"
   ]
  },
  {
   "cell_type": "code",
   "execution_count": null,
   "metadata": {},
   "outputs": [],
   "source": []
  }
 ],
 "metadata": {
  "kernelspec": {
   "display_name": "Python 2",
   "language": "python",
   "name": "python2"
  },
  "language_info": {
   "codemirror_mode": {
    "name": "ipython",
    "version": 2
   },
   "file_extension": ".py",
   "mimetype": "text/x-python",
   "name": "python",
   "nbconvert_exporter": "python",
   "pygments_lexer": "ipython2",
   "version": "2.7.6"
  }
 },
 "nbformat": 4,
 "nbformat_minor": 0
}
