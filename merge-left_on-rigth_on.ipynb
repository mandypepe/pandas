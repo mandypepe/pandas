{
 "cells": [
  {
   "cell_type": "code",
   "execution_count": 1,
   "metadata": {
    "collapsed": true
   },
   "outputs": [
    {
     "name": "stdout",
     "output_type": "stream",
     "text": [
      "<class 'pandas.core.frame.DataFrame'>\nRangeIndex: 10 entries, 0 to 9\nData columns (total 3 columns):\nFood ID      10 non-null int64\nFood Item    10 non-null object\nPrice        10 non-null float64\ndtypes: float64(1), int64(1), object(1)\nmemory usage: 320.0+ bytes\n"
     ]
    }
   ],
   "source": [
    "import pandas as pd\n",
    "import matplotlib.pyplot as plt\n",
    "import numpy as np\n",
    "%matplotlib inline\n",
    "w1=pd.read_csv(\"csvs/Restaurant - Week 1 Sales.csv\")\n",
    "w2=pd.read_csv(\"csvs/Restaurant - Week 2 Sales.csv\")\n",
    "ct=pd.read_csv(\"csvs/Restaurant - Customers.csv\")\n",
    "fot=pd.read_csv(\"csvs/Restaurant - Foods.csv\")\n",
    "fot.info()"
   ]
  },
  {
   "cell_type": "code",
   "execution_count": 2,
   "metadata": {},
   "outputs": [
    {
     "name": "stdout",
     "output_type": "stream",
     "text": [
      "<class 'pandas.core.frame.DataFrame'>\nRangeIndex: 1000 entries, 0 to 999\nData columns (total 6 columns):\nID            1000 non-null int64\nFirst Name    1000 non-null object\nLast Name     1000 non-null object\nGender        1000 non-null object\nCompany       1000 non-null object\nOccupation    1000 non-null object\ndtypes: int64(1), object(5)\nmemory usage: 47.0+ KB\n"
     ]
    }
   ],
   "source": [
    "ct.info()"
   ]
  },
  {
   "cell_type": "code",
   "execution_count": 9,
   "metadata": {
    "collapsed": true
   },
   "outputs": [
    {
     "data": {
      "text/plain": [
       "<bound method NDFrame.head of      Customer ID  Food ID   First Name  Last Name  Gender        Company  \\\n0              8        6      Frances      Adams  Female       Dabshots   \n1             13        2         Ruth    Alvarez  Female    Twitterlist   \n2             21        4       Albert      Burns    Male      Rhynoodle   \n3             24        8        Donna     Thomas  Female        Jaxbean   \n4             27        4      Jessica    Bennett  Female  Twitternation   \n5             30        4       Pamela      Hicks  Female          Ntags   \n6             35        8       Nicole    Chapman  Female        Pixonyx   \n7             39       10       Teresa   Harrison  Female            Oba   \n8             45        8         Earl   Marshall    Male          Agivu   \n9             46        6         Adam       Cole    Male          Trupe   \n10            54        8       Amanda      Berry  Female        Jaxspan   \n11            55        9        Ralph       Ford    Male     Browsezoom   \n12            55        4        Ralph       Ford    Male     Browsezoom   \n13            56        3         Anne      Berry  Female        Twinder   \n14            70        2     Michelle     Bowman  Female        Gabvine   \n15            73        8      Kenneth     Miller    Male          Vimbo   \n16            75        4    Catherine  Carpenter  Female         Zoozzy   \n17            77        7         Lori    Edwards  Female        Dabvine   \n18            80        4       George      Mason    Male       Jaxworks   \n19            81       10      Mildred     Fowler  Female       Fivechat   \n20            98        5         Jean      Mills  Female     Fivebridge   \n21           101        4       Jeremy     Nelson    Male    Brainlounge   \n22           111        3      Patrick   Morrison    Male         Eimbee   \n23           122        2       Martin    Hawkins    Male        Centizu   \n24           122       10       Martin    Hawkins    Male        Centizu   \n25           127        1        Jesse  Henderson    Male          Eabox   \n26           131        1     Margaret     Porter  Female          Eazzy   \n27           132        8       Judith      Perez  Female       Jaxworks   \n28           136        1     Clarence        Fox    Male       Devshare   \n29           143        4  Christopher       Long    Male         Mybuzz   \n..           ...      ...          ...        ...     ...            ...   \n220          869        7         Paul  Carpenter    Male       Feedfire   \n221          877       10        Harry    Watkins    Male        Zoomdog   \n222          883        8        Sarah        Kim  Female     Topicshots   \n223          884        7    Christine     Weaver  Female         Meevee   \n224          888        2        Jimmy     Wright    Male          Npath   \n225          893        3         Adam      Lynch    Male          Jaloo   \n226          905        1      Richard  Fernandez    Male     Shuffletag   \n227          909        6       Cheryl      Davis  Female        Edgeify   \n228          913        2         Ryan    Simmons    Male          Eabox   \n229          919        8       Ronald      Welch    Male         Avamba   \n230          922        1       Willie      Payne    Male         Devify   \n231          922        2       Willie      Payne    Male         Devify   \n232          927        4     Nicholas     Morris    Male     Linkbridge   \n233          928       10      Michael      Lopez    Male         Ailane   \n234          936        9      Matthew     Wagner    Male       Feedspan   \n235          937       10       Sharon   Mcdonald  Female         Eimbee   \n236          937        2       Sharon   Mcdonald  Female         Eimbee   \n237          938       10       Steven      Reyes    Male      Jaxnation   \n238          940        8       Bonnie     Bowman  Female         Avavee   \n239          942        3      Deborah     Morgan  Female      Browsebug   \n240          945        4         Anne       Reed  Female   Twitterworks   \n241          951        5       Angela    Sanders  Female        Dabtype   \n242          957       10        Shawn     George    Male     Browseblab   \n243          959        4        Laura   Ferguson  Female        Pixonyx   \n244          959        2        Laura   Ferguson  Female        Pixonyx   \n245          968        4       Teresa   Reynolds  Female       Flashdog   \n246          969        3        Marie      Ortiz  Female          Meejo   \n247          977        7      Cynthia      Dixon  Female        Skalith   \n248          994        2     Clarence     Morgan    Male       Edgewire   \n249          996       10        Debra     Garcia  Female   Dazzlesphere   \n\n                         Occupation  \n0                     Developer III  \n1       Mechanical Systems Engineer  \n2                  Junior Executive  \n3             Chief Design Engineer  \n4                 Account Executive  \n5                   Cost Accountant  \n6               Electrical Engineer  \n7    Payment Adjustment Coordinator  \n8                  Dental Hygienist  \n9                    Accountant III  \n10        Automation Specialist III  \n11             Safety Technician IV  \n12             Safety Technician IV  \n13                         VP Sales  \n14                     VP Marketing  \n15                    Senior Editor  \n16                Marketing Manager  \n17             Sales Representative  \n18                       Engineer I  \n19                         Operator  \n20                 Product Engineer  \n21                 Web Developer IV  \n22      Mechanical Systems Engineer  \n23                Assistant Manager  \n24                Assistant Manager  \n25               Environmental Tech  \n26                  Sales Associate  \n27              Structural Engineer  \n28                 Graphic Designer  \n29         Accounting Assistant III  \n..                              ...  \n220                 Project Manager  \n221     Computer Systems Analyst IV  \n222                 Cost Accountant  \n223                 Data Coordiator  \n224   Analog Circuit Design manager  \n225                   Programmer IV  \n226                       Librarian  \n227                 Health Coach IV  \n228        Senior Financial Analyst  \n229            Help Desk Technician  \n230         Assistant Media Planner  \n231         Assistant Media Planner  \n232             Assistant Professor  \n233          Nuclear Power Engineer  \n234                  Civil Engineer  \n235              Recruiting Manager  \n236              Recruiting Manager  \n237                Technical Writer  \n238                Internal Auditor  \n239                  Tax Accountant  \n240               Director of Sales  \n241           Research Assistant IV  \n242         GIS Technical Architect  \n243             Electrical Engineer  \n244             Electrical Engineer  \n245    Budget/Accounting Analyst IV  \n246              Research Associate  \n247        Automation Specialist II  \n248                    Geologist II  \n249             Structural Engineer  \n\n[250 rows x 7 columns]>"
      ]
     },
     "execution_count": 9,
     "metadata": {},
     "output_type": "execute_result"
    }
   ],
   "source": [
    "w2.merge(ct,how='left',left_on='Customer ID',right_on='ID',sort=True).drop('ID',axis=1).head"
   ]
  },
  {
   "cell_type": "code",
   "execution_count": null,
   "metadata": {},
   "outputs": [],
   "source": []
  }
 ],
 "metadata": {
  "kernelspec": {
   "display_name": "Python 2",
   "language": "python",
   "name": "python2"
  },
  "language_info": {
   "codemirror_mode": {
    "name": "ipython",
    "version": 2
   },
   "file_extension": ".py",
   "mimetype": "text/x-python",
   "name": "python",
   "nbconvert_exporter": "python",
   "pygments_lexer": "ipython2",
   "version": "2.7.6"
  }
 },
 "nbformat": 4,
 "nbformat_minor": 0
}
