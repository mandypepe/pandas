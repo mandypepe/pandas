{
 "cells": [
  {
   "cell_type": "code",
   "execution_count": 3,
   "metadata": {
    "collapsed": true
   },
   "outputs": [],
   "source": [
    "import pandas as pd\n",
    "import matplotlib.pyplot as plt\n",
    "import numpy as np\n",
    "%matplotlib inline\n",
    "\n",
    "# squeeze=TRUE  import as series not as DF\n",
    "google=pd.read_csv('csvs/google_stock_price.csv',squeeze=True)\n"
   ]
  },
  {
   "cell_type": "code",
   "execution_count": 5,
   "metadata": {
    "collapsed": true
   },
   "outputs": [
    {
     "data": {
      "text/plain": [
       "array(['Bulbasaur', 'Ivysaur', 'Venusaur', 'Charmander', 'Charmeleon',\n       'Charizard', 'Squirtle', 'Wartortle', 'Blastoise', 'Caterpie',\n       'Metapod', 'Butterfree', 'Weedle', 'Kakuna', 'Beedrill', 'Pidgey',\n       'Pidgeotto', 'Pidgeot', 'Rattata', 'Raticate', 'Spearow', 'Fearow',\n       'Ekans', 'Arbok', 'Pikachu', 'Raichu', 'Sandshrew', 'Sandslash',\n       'Nidoran', 'Nidorina', 'Nidoqueen', 'Nidoran♂', 'Nidorino',\n       'Nidoking', 'Clefairy', 'Clefable', 'Vulpix', 'Ninetales',\n       'Jigglypuff', 'Wigglytuff', 'Zubat', 'Golbat', 'Oddish', 'Gloom',\n       'Vileplume', 'Paras', 'Parasect', 'Venonat', 'Venomoth', 'Diglett',\n       'Dugtrio', 'Meowth', 'Persian', 'Psyduck', 'Golduck', 'Mankey',\n       'Primeape', 'Growlithe', 'Arcanine', 'Poliwag', 'Poliwhirl',\n       'Poliwrath', 'Abra', 'Kadabra', 'Alakazam', 'Machop', 'Machoke',\n       'Machamp', 'Bellsprout', 'Weepinbell', 'Victreebel', 'Tentacool',\n       'Tentacruel', 'Geodude', 'Graveler', 'Golem', 'Ponyta', 'Rapidash',\n       'Slowpoke', 'Slowbro', 'Magnemite', 'Magneton', \"Farfetch'd\",\n       'Doduo', 'Dodrio', 'Seel', 'Dewgong', 'Grimer', 'Muk', 'Shellder',\n       'Cloyster', 'Gastly', 'Haunter', 'Gengar', 'Onix', 'Drowzee',\n       'Hypno', 'Krabby', 'Kingler', 'Voltorb', 'Electrode', 'Exeggcute',\n       'Exeggutor', 'Cubone', 'Marowak', 'Hitmonlee', 'Hitmonchan',\n       'Lickitung', 'Koffing', 'Weezing', 'Rhyhorn', 'Rhydon', 'Chansey',\n       'Tangela', 'Kangaskhan', 'Horsea', 'Seadra', 'Goldeen', 'Seaking',\n       'Staryu', 'Starmie', 'Mr. Mime', 'Scyther', 'Jynx', 'Electabuzz',\n       'Magmar', 'Pinsir', 'Tauros', 'Magikarp', 'Gyarados', 'Lapras',\n       'Ditto', 'Eevee', 'Vaporeon', 'Jolteon', 'Flareon', 'Porygon',\n       'Omanyte', 'Omastar', 'Kabuto', 'Kabutops', 'Aerodactyl',\n       'Snorlax', 'Articuno', 'Zapdos', 'Moltres', 'Dratini', 'Dragonair',\n       'Dragonite', 'Mewtwo', 'Mew', 'Chikorita', 'Bayleef', 'Meganium',\n       'Cyndaquil', 'Quilava', 'Typhlosion', 'Totodile', 'Croconaw',\n       'Feraligatr', 'Sentret', 'Furret', 'Hoothoot', 'Noctowl', 'Ledyba',\n       'Ledian', 'Spinarak', 'Ariados', 'Crobat', 'Chinchou', 'Lanturn',\n       'Pichu', 'Cleffa', 'Igglybuff', 'Togepi', 'Togetic', 'Natu',\n       'Xatu', 'Mareep', 'Flaaffy', 'Ampharos', 'Bellossom', 'Marill',\n       'Azumarill', 'Sudowoodo', 'Politoed', 'Hoppip', 'Skiploom',\n       'Jumpluff', 'Aipom', 'Sunkern', 'Sunflora', 'Yanma', 'Wooper',\n       'Quagsire', 'Espeon', 'Umbreon', 'Murkrow', 'Slowking',\n       'Misdreavus', 'Unown', 'Wobbuffet', 'Girafarig', 'Pineco',\n       'Forretress', 'Dunsparce', 'Gligar', 'Steelix', 'Snubbull',\n       'Granbull', 'Qwilfish', 'Scizor', 'Shuckle', 'Heracross',\n       'Sneasel', 'Teddiursa', 'Ursaring', 'Slugma', 'Magcargo', 'Swinub',\n       'Piloswine', 'Corsola', 'Remoraid', 'Octillery', 'Delibird',\n       'Mantine', 'Skarmory', 'Houndour', 'Houndoom', 'Kingdra', 'Phanpy',\n       'Donphan', 'Porygon2', 'Stantler', 'Smeargle', 'Tyrogue',\n       'Hitmontop', 'Smoochum', 'Elekid', 'Magby', 'Miltank', 'Blissey',\n       'Raikou', 'Entei', 'Suicune', 'Larvitar', 'Pupitar', 'Tyranitar',\n       'Lugia', 'Ho-oh', 'Celebi', 'Treecko', 'Grovyle', 'Sceptile',\n       'Torchic', 'Combusken', 'Blaziken', 'Mudkip', 'Marshtomp',\n       'Swampert', 'Poochyena', 'Mightyena', 'Zigzagoon', 'Linoone',\n       'Wurmple', 'Silcoon', 'Beautifly', 'Cascoon', 'Dustox', 'Lotad',\n       'Lombre', 'Ludicolo', 'Seedot', 'Nuzleaf', 'Shiftry', 'Taillow',\n       'Swellow', 'Wingull', 'Pelipper', 'Ralts', 'Kirlia', 'Gardevoir',\n       'Surskit', 'Masquerain', 'Shroomish', 'Breloom', 'Slakoth',\n       'Vigoroth', 'Slaking', 'Nincada', 'Ninjask', 'Shedinja', 'Whismur',\n       'Loudred', 'Exploud', 'Makuhita', 'Hariyama', 'Azurill',\n       'Nosepass', 'Skitty', 'Delcatty', 'Sableye', 'Mawile', 'Aron',\n       'Lairon', 'Aggron', 'Meditite', 'Medicham', 'Electrike',\n       'Manectric', 'Plusle', 'Minun', 'Volbeat', 'Illumise', 'Roselia',\n       'Gulpin', 'Swalot', 'Carvanha', 'Sharpedo', 'Wailmer', 'Wailord',\n       'Numel', 'Camerupt', 'Torkoal', 'Spoink', 'Grumpig', 'Spinda',\n       'Trapinch', 'Vibrava', 'Flygon', 'Cacnea', 'Cacturne', 'Swablu',\n       'Altaria', 'Zangoose', 'Seviper', 'Lunatone', 'Solrock',\n       'Barboach', 'Whiscash', 'Corphish', 'Crawdaunt', 'Baltoy',\n       'Claydol', 'Lileep', 'Cradily', 'Anorith', 'Armaldo', 'Feebas',\n       'Milotic', 'Castform', 'Kecleon', 'Shuppet', 'Banette', 'Duskull',\n       'Dusclops', 'Tropius', 'Chimecho', 'Absol', 'Wynaut', 'Snorunt',\n       'Glalie', 'Spheal', 'Sealeo', 'Walrein', 'Clamperl', 'Huntail',\n       'Gorebyss', 'Relicanth', 'Luvdisc', 'Bagon', 'Shelgon',\n       'Salamence', 'Beldum', 'Metang', 'Metagross', 'Regirock', 'Regice',\n       'Registeel', 'Latias', 'Latios', 'Kyogre', 'Groudon', 'Rayquaza',\n       'Jirachi', 'Deoxys', 'Turtwig', 'Grotle', 'Torterra', 'Chimchar',\n       'Monferno', 'Infernape', 'Piplup', 'Prinplup', 'Empoleon',\n       'Starly', 'Staravia', 'Staraptor', 'Bidoof', 'Bibarel',\n       'Kricketot', 'Kricketune', 'Shinx', 'Luxio', 'Luxray', 'Budew',\n       'Roserade', 'Cranidos', 'Rampardos', 'Shieldon', 'Bastiodon',\n       'Burmy', 'Wormadam', 'Mothim', 'Combee', 'Vespiquen', 'Pachirisu',\n       'Buizel', 'Floatzel', 'Cherubi', 'Cherrim', 'Shellos', 'Gastrodon',\n       'Ambipom', 'Drifloon', 'Drifblim', 'Buneary', 'Lopunny',\n       'Mismagius', 'Honchkrow', 'Glameow', 'Purugly', 'Chingling',\n       'Stunky', 'Skuntank', 'Bronzor', 'Bronzong', 'Bonsly', 'Mime Jr.',\n       'Happiny', 'Chatot', 'Spiritomb', 'Gible', 'Gabite', 'Garchomp',\n       'Munchlax', 'Riolu', 'Lucario', 'Hippopotas', 'Hippowdon',\n       'Skorupi', 'Drapion', 'Croagunk', 'Toxicroak', 'Carnivine',\n       'Finneon', 'Lumineon', 'Mantyke', 'Snover', 'Abomasnow', 'Weavile',\n       'Magnezone', 'Lickilicky', 'Rhyperior', 'Tangrowth', 'Electivire',\n       'Magmortar', 'Togekiss', 'Yanmega', 'Leafeon', 'Glaceon',\n       'Gliscor', 'Mamoswine', 'Porygon-Z', 'Gallade', 'Probopass',\n       'Dusknoir', 'Froslass', 'Rotom', 'Uxie', 'Mesprit', 'Azelf',\n       'Dialga', 'Palkia', 'Heatran', 'Regigigas', 'Giratina',\n       'Cresselia', 'Phione', 'Manaphy', 'Darkrai', 'Shaymin', 'Arceus',\n       'Victini', 'Snivy', 'Servine', 'Serperior', 'Tepig', 'Pignite',\n       'Emboar', 'Oshawott', 'Dewott', 'Samurott', 'Patrat', 'Watchog',\n       'Lillipup', 'Herdier', 'Stoutland', 'Purrloin', 'Liepard',\n       'Pansage', 'Simisage', 'Pansear', 'Simisear', 'Panpour',\n       'Simipour', 'Munna', 'Musharna', 'Pidove', 'Tranquill', 'Unfezant',\n       'Blitzle', 'Zebstrika', 'Roggenrola', 'Boldore', 'Gigalith',\n       'Woobat', 'Swoobat', 'Drilbur', 'Excadrill', 'Audino', 'Timburr',\n       'Gurdurr', 'Conkeldurr', 'Tympole', 'Palpitoad', 'Seismitoad',\n       'Throh', 'Sawk', 'Sewaddle', 'Swadloon', 'Leavanny', 'Venipede',\n       'Whirlipede', 'Scolipede', 'Cottonee', 'Whimsicott', 'Petilil',\n       'Lilligant', 'Basculin', 'Sandile', 'Krokorok', 'Krookodile',\n       'Darumaka', 'Darmanitan', 'Maractus', 'Dwebble', 'Crustle',\n       'Scraggy', 'Scrafty', 'Sigilyph', 'Yamask', 'Cofagrigus',\n       'Tirtouga', 'Carracosta', 'Archen', 'Archeops', 'Trubbish',\n       'Garbodor', 'Zorua', 'Zoroark', 'Minccino', 'Cinccino', 'Gothita',\n       'Gothorita', 'Gothitelle', 'Solosis', 'Duosion', 'Reuniclus',\n       'Ducklett', 'Swanna', 'Vanillite', 'Vanillish', 'Vanilluxe',\n       'Deerling', 'Sawsbuck', 'Emolga', 'Karrablast', 'Escavalier',\n       'Foongus', 'Amoonguss', 'Frillish', 'Jellicent', 'Alomomola',\n       'Joltik', 'Galvantula', 'Ferroseed', 'Ferrothorn', 'Klink',\n       'Klang', 'Klinklang', 'Tynamo', 'Eelektrik', 'Eelektross',\n       'Elgyem', 'Beheeyem', 'Litwick', 'Lampent', 'Chandelure', 'Axew',\n       'Fraxure', 'Haxorus', 'Cubchoo', 'Beartic', 'Cryogonal', 'Shelmet',\n       'Accelgor', 'Stunfisk', 'Mienfoo', 'Mienshao', 'Druddigon',\n       'Golett', 'Golurk', 'Pawniard', 'Bisharp', 'Bouffalant', 'Rufflet',\n       'Braviary', 'Vullaby', 'Mandibuzz', 'Heatmor', 'Durant', 'Deino',\n       'Zweilous', 'Hydreigon', 'Larvesta', 'Volcarona', 'Cobalion',\n       'Terrakion', 'Virizion', 'Tornadus', 'Thundurus', 'Reshiram',\n       'Zekrom', 'Landorus', 'Kyurem', 'Keldeo', 'Meloetta', 'Genesect',\n       'Chespin', 'Quilladin', 'Chesnaught', 'Fennekin', 'Braixen',\n       'Delphox', 'Froakie', 'Frogadier', 'Greninja', 'Bunnelby',\n       'Diggersby', 'Fletchling', 'Fletchinder', 'Talonflame',\n       'Scatterbug', 'Spewpa', 'Vivillon', 'Litleo', 'Pyroar', 'Flabébé',\n       'Floette', 'Florges', 'Skiddo', 'Gogoat', 'Pancham', 'Pangoro',\n       'Furfrou', 'Espurr', 'Meowstic', 'Honedge', 'Doublade',\n       'Aegislash', 'Spritzee', 'Aromatisse', 'Swirlix', 'Slurpuff',\n       'Inkay', 'Malamar', 'Binacle', 'Barbaracle', 'Skrelp', 'Dragalge',\n       'Clauncher', 'Clawitzer', 'Helioptile', 'Heliolisk', 'Tyrunt',\n       'Tyrantrum', 'Amaura', 'Aurorus', 'Sylveon', 'Hawlucha', 'Dedenne',\n       'Carbink', 'Goomy', 'Sliggoo', 'Goodra', 'Klefki', 'Phantump',\n       'Trevenant', 'Pumpkaboo', 'Gourgeist', 'Bergmite', 'Avalugg',\n       'Noibat', 'Noivern', 'Xerneas', 'Yveltal', 'Zygarde', 'Diancie',\n       'Hoopa', 'Volcanion'], dtype=object)"
      ]
     },
     "execution_count": 5,
     "metadata": {},
     "output_type": "execute_result"
    }
   ],
   "source": [
    "pokemon=pd.read_csv('csvs/pokemon.csv',usecols=['Pokemon'],squeeze=True)\n",
    "pokemon.values"
   ]
  },
  {
   "cell_type": "code",
   "execution_count": 6,
   "metadata": {},
   "outputs": [
    {
     "data": {
      "text/plain": [
       "array([ 50.12,  54.1 ,  54.65, ..., 773.18, 771.61, 782.22])"
      ]
     },
     "execution_count": 6,
     "metadata": {},
     "output_type": "execute_result"
    }
   ],
   "source": [
    "google.values"
   ]
  },
  {
   "cell_type": "code",
   "execution_count": 7,
   "metadata": {},
   "outputs": [
    {
     "data": {
      "text/plain": [
       "RangeIndex(start=0, stop=3012, step=1)"
      ]
     },
     "execution_count": 7,
     "metadata": {},
     "output_type": "execute_result"
    }
   ],
   "source": [
    "google.index"
   ]
  },
  {
   "cell_type": "code",
   "execution_count": 8,
   "metadata": {},
   "outputs": [
    {
     "data": {
      "text/plain": [
       "RangeIndex(start=0, stop=721, step=1)"
      ]
     },
     "execution_count": 8,
     "metadata": {},
     "output_type": "execute_result"
    }
   ],
   "source": [
    "pokemon.index"
   ]
  },
  {
   "cell_type": "code",
   "execution_count": 9,
   "metadata": {},
   "outputs": [
    {
     "data": {
      "text/plain": [
       "dtype('O')"
      ]
     },
     "execution_count": 9,
     "metadata": {},
     "output_type": "execute_result"
    }
   ],
   "source": [
    "pokemon.dtype"
   ]
  },
  {
   "cell_type": "code",
   "execution_count": 10,
   "metadata": {},
   "outputs": [
    {
     "data": {
      "text/plain": [
       "dtype('float64')"
      ]
     },
     "execution_count": 10,
     "metadata": {},
     "output_type": "execute_result"
    }
   ],
   "source": [
    "google.dtypes"
   ]
  },
  {
   "cell_type": "code",
   "execution_count": 11,
   "metadata": {
    "collapsed": false
   },
   "outputs": [
    {
     "data": {
      "text/plain": [
       "True"
      ]
     },
     "execution_count": 11,
     "metadata": {},
     "output_type": "execute_result"
    }
   ],
   "source": [
    "pokemon.is_unique\n",
    "# return true ,if all values don't  repeat"
   ]
  },
  {
   "cell_type": "code",
   "execution_count": 14,
   "metadata": {
    "collapsed": false
   },
   "outputs": [
    {
     "data": {
      "text/plain": [
       "False"
      ]
     },
     "execution_count": 14,
     "metadata": {},
     "output_type": "execute_result"
    }
   ],
   "source": [
    "google.is_unique\n",
    "# return False ,if almomst one  values repeat"
   ]
  },
  {
   "cell_type": "code",
   "execution_count": 15,
   "metadata": {
    "collapsed": false
   },
   "outputs": [
    {
     "data": {
      "text/plain": [
       "1"
      ]
     },
     "execution_count": 15,
     "metadata": {},
     "output_type": "execute_result"
    }
   ],
   "source": [
    "pokemon.ndim\n",
    "# dimenciones columnas( #) "
   ]
  },
  {
   "cell_type": "code",
   "execution_count": 16,
   "metadata": {
    "collapsed": false
   },
   "outputs": [
    {
     "data": {
      "text/plain": [
       "1"
      ]
     },
     "execution_count": 16,
     "metadata": {},
     "output_type": "execute_result"
    }
   ],
   "source": [
    "google.ndim"
   ]
  },
  {
   "cell_type": "code",
   "execution_count": 17,
   "metadata": {
    "collapsed": false
   },
   "outputs": [
    {
     "data": {
      "text/plain": [
       "(721,)"
      ]
     },
     "execution_count": 17,
     "metadata": {},
     "output_type": "execute_result"
    }
   ],
   "source": [
    "pokemon.shape\n",
    "# cantidad de filas y columnas"
   ]
  },
  {
   "cell_type": "code",
   "execution_count": 18,
   "metadata": {
    "collapsed": false
   },
   "outputs": [
    {
     "data": {
      "text/plain": [
       "(3012,)"
      ]
     },
     "execution_count": 18,
     "metadata": {},
     "output_type": "execute_result"
    }
   ],
   "source": [
    "google.shape\n",
    "# cantidad de filas y columnas"
   ]
  },
  {
   "cell_type": "code",
   "execution_count": 18,
   "metadata": {
    "collapsed": true
   },
   "outputs": [
    {
     "data": {
      "text/plain": [
       "{0: 'Bulbasaur',\n 1: 'Ivysaur',\n 2: 'Venusaur',\n 3: 'Charmander',\n 4: 'Charmeleon',\n 5: 'Charizard',\n 6: 'Squirtle',\n 7: 'Wartortle',\n 8: 'Blastoise',\n 9: 'Caterpie',\n 10: 'Metapod',\n 11: 'Butterfree',\n 12: 'Weedle',\n 13: 'Kakuna',\n 14: 'Beedrill',\n 15: 'Pidgey',\n 16: 'Pidgeotto',\n 17: 'Pidgeot',\n 18: 'Rattata',\n 19: 'Raticate',\n 20: 'Spearow',\n 21: 'Fearow',\n 22: 'Ekans',\n 23: 'Arbok',\n 24: 'Pikachu',\n 25: 'Raichu',\n 26: 'Sandshrew',\n 27: 'Sandslash',\n 28: 'Nidoran',\n 29: 'Nidorina',\n 30: 'Nidoqueen',\n 31: 'Nidoran♂',\n 32: 'Nidorino',\n 33: 'Nidoking',\n 34: 'Clefairy',\n 35: 'Clefable',\n 36: 'Vulpix',\n 37: 'Ninetales',\n 38: 'Jigglypuff',\n 39: 'Wigglytuff',\n 40: 'Zubat',\n 41: 'Golbat',\n 42: 'Oddish',\n 43: 'Gloom',\n 44: 'Vileplume',\n 45: 'Paras',\n 46: 'Parasect',\n 47: 'Venonat',\n 48: 'Venomoth',\n 49: 'Diglett',\n 50: 'Dugtrio',\n 51: 'Meowth',\n 52: 'Persian',\n 53: 'Psyduck',\n 54: 'Golduck',\n 55: 'Mankey',\n 56: 'Primeape',\n 57: 'Growlithe',\n 58: 'Arcanine',\n 59: 'Poliwag',\n 60: 'Poliwhirl',\n 61: 'Poliwrath',\n 62: 'Abra',\n 63: 'Kadabra',\n 64: 'Alakazam',\n 65: 'Machop',\n 66: 'Machoke',\n 67: 'Machamp',\n 68: 'Bellsprout',\n 69: 'Weepinbell',\n 70: 'Victreebel',\n 71: 'Tentacool',\n 72: 'Tentacruel',\n 73: 'Geodude',\n 74: 'Graveler',\n 75: 'Golem',\n 76: 'Ponyta',\n 77: 'Rapidash',\n 78: 'Slowpoke',\n 79: 'Slowbro',\n 80: 'Magnemite',\n 81: 'Magneton',\n 82: \"Farfetch'd\",\n 83: 'Doduo',\n 84: 'Dodrio',\n 85: 'Seel',\n 86: 'Dewgong',\n 87: 'Grimer',\n 88: 'Muk',\n 89: 'Shellder',\n 90: 'Cloyster',\n 91: 'Gastly',\n 92: 'Haunter',\n 93: 'Gengar',\n 94: 'Onix',\n 95: 'Drowzee',\n 96: 'Hypno',\n 97: 'Krabby',\n 98: 'Kingler',\n 99: 'Voltorb',\n 100: 'Electrode',\n 101: 'Exeggcute',\n 102: 'Exeggutor',\n 103: 'Cubone',\n 104: 'Marowak',\n 105: 'Hitmonlee',\n 106: 'Hitmonchan',\n 107: 'Lickitung',\n 108: 'Koffing',\n 109: 'Weezing',\n 110: 'Rhyhorn',\n 111: 'Rhydon',\n 112: 'Chansey',\n 113: 'Tangela',\n 114: 'Kangaskhan',\n 115: 'Horsea',\n 116: 'Seadra',\n 117: 'Goldeen',\n 118: 'Seaking',\n 119: 'Staryu',\n 120: 'Starmie',\n 121: 'Mr. Mime',\n 122: 'Scyther',\n 123: 'Jynx',\n 124: 'Electabuzz',\n 125: 'Magmar',\n 126: 'Pinsir',\n 127: 'Tauros',\n 128: 'Magikarp',\n 129: 'Gyarados',\n 130: 'Lapras',\n 131: 'Ditto',\n 132: 'Eevee',\n 133: 'Vaporeon',\n 134: 'Jolteon',\n 135: 'Flareon',\n 136: 'Porygon',\n 137: 'Omanyte',\n 138: 'Omastar',\n 139: 'Kabuto',\n 140: 'Kabutops',\n 141: 'Aerodactyl',\n 142: 'Snorlax',\n 143: 'Articuno',\n 144: 'Zapdos',\n 145: 'Moltres',\n 146: 'Dratini',\n 147: 'Dragonair',\n 148: 'Dragonite',\n 149: 'Mewtwo',\n 150: 'Mew',\n 151: 'Chikorita',\n 152: 'Bayleef',\n 153: 'Meganium',\n 154: 'Cyndaquil',\n 155: 'Quilava',\n 156: 'Typhlosion',\n 157: 'Totodile',\n 158: 'Croconaw',\n 159: 'Feraligatr',\n 160: 'Sentret',\n 161: 'Furret',\n 162: 'Hoothoot',\n 163: 'Noctowl',\n 164: 'Ledyba',\n 165: 'Ledian',\n 166: 'Spinarak',\n 167: 'Ariados',\n 168: 'Crobat',\n 169: 'Chinchou',\n 170: 'Lanturn',\n 171: 'Pichu',\n 172: 'Cleffa',\n 173: 'Igglybuff',\n 174: 'Togepi',\n 175: 'Togetic',\n 176: 'Natu',\n 177: 'Xatu',\n 178: 'Mareep',\n 179: 'Flaaffy',\n 180: 'Ampharos',\n 181: 'Bellossom',\n 182: 'Marill',\n 183: 'Azumarill',\n 184: 'Sudowoodo',\n 185: 'Politoed',\n 186: 'Hoppip',\n 187: 'Skiploom',\n 188: 'Jumpluff',\n 189: 'Aipom',\n 190: 'Sunkern',\n 191: 'Sunflora',\n 192: 'Yanma',\n 193: 'Wooper',\n 194: 'Quagsire',\n 195: 'Espeon',\n 196: 'Umbreon',\n 197: 'Murkrow',\n 198: 'Slowking',\n 199: 'Misdreavus',\n 200: 'Unown',\n 201: 'Wobbuffet',\n 202: 'Girafarig',\n 203: 'Pineco',\n 204: 'Forretress',\n 205: 'Dunsparce',\n 206: 'Gligar',\n 207: 'Steelix',\n 208: 'Snubbull',\n 209: 'Granbull',\n 210: 'Qwilfish',\n 211: 'Scizor',\n 212: 'Shuckle',\n 213: 'Heracross',\n 214: 'Sneasel',\n 215: 'Teddiursa',\n 216: 'Ursaring',\n 217: 'Slugma',\n 218: 'Magcargo',\n 219: 'Swinub',\n 220: 'Piloswine',\n 221: 'Corsola',\n 222: 'Remoraid',\n 223: 'Octillery',\n 224: 'Delibird',\n 225: 'Mantine',\n 226: 'Skarmory',\n 227: 'Houndour',\n 228: 'Houndoom',\n 229: 'Kingdra',\n 230: 'Phanpy',\n 231: 'Donphan',\n 232: 'Porygon2',\n 233: 'Stantler',\n 234: 'Smeargle',\n 235: 'Tyrogue',\n 236: 'Hitmontop',\n 237: 'Smoochum',\n 238: 'Elekid',\n 239: 'Magby',\n 240: 'Miltank',\n 241: 'Blissey',\n 242: 'Raikou',\n 243: 'Entei',\n 244: 'Suicune',\n 245: 'Larvitar',\n 246: 'Pupitar',\n 247: 'Tyranitar',\n 248: 'Lugia',\n 249: 'Ho-oh',\n 250: 'Celebi',\n 251: 'Treecko',\n 252: 'Grovyle',\n 253: 'Sceptile',\n 254: 'Torchic',\n 255: 'Combusken',\n 256: 'Blaziken',\n 257: 'Mudkip',\n 258: 'Marshtomp',\n 259: 'Swampert',\n 260: 'Poochyena',\n 261: 'Mightyena',\n 262: 'Zigzagoon',\n 263: 'Linoone',\n 264: 'Wurmple',\n 265: 'Silcoon',\n 266: 'Beautifly',\n 267: 'Cascoon',\n 268: 'Dustox',\n 269: 'Lotad',\n 270: 'Lombre',\n 271: 'Ludicolo',\n 272: 'Seedot',\n 273: 'Nuzleaf',\n 274: 'Shiftry',\n 275: 'Taillow',\n 276: 'Swellow',\n 277: 'Wingull',\n 278: 'Pelipper',\n 279: 'Ralts',\n 280: 'Kirlia',\n 281: 'Gardevoir',\n 282: 'Surskit',\n 283: 'Masquerain',\n 284: 'Shroomish',\n 285: 'Breloom',\n 286: 'Slakoth',\n 287: 'Vigoroth',\n 288: 'Slaking',\n 289: 'Nincada',\n 290: 'Ninjask',\n 291: 'Shedinja',\n 292: 'Whismur',\n 293: 'Loudred',\n 294: 'Exploud',\n 295: 'Makuhita',\n 296: 'Hariyama',\n 297: 'Azurill',\n 298: 'Nosepass',\n 299: 'Skitty',\n 300: 'Delcatty',\n 301: 'Sableye',\n 302: 'Mawile',\n 303: 'Aron',\n 304: 'Lairon',\n 305: 'Aggron',\n 306: 'Meditite',\n 307: 'Medicham',\n 308: 'Electrike',\n 309: 'Manectric',\n 310: 'Plusle',\n 311: 'Minun',\n 312: 'Volbeat',\n 313: 'Illumise',\n 314: 'Roselia',\n 315: 'Gulpin',\n 316: 'Swalot',\n 317: 'Carvanha',\n 318: 'Sharpedo',\n 319: 'Wailmer',\n 320: 'Wailord',\n 321: 'Numel',\n 322: 'Camerupt',\n 323: 'Torkoal',\n 324: 'Spoink',\n 325: 'Grumpig',\n 326: 'Spinda',\n 327: 'Trapinch',\n 328: 'Vibrava',\n 329: 'Flygon',\n 330: 'Cacnea',\n 331: 'Cacturne',\n 332: 'Swablu',\n 333: 'Altaria',\n 334: 'Zangoose',\n 335: 'Seviper',\n 336: 'Lunatone',\n 337: 'Solrock',\n 338: 'Barboach',\n 339: 'Whiscash',\n 340: 'Corphish',\n 341: 'Crawdaunt',\n 342: 'Baltoy',\n 343: 'Claydol',\n 344: 'Lileep',\n 345: 'Cradily',\n 346: 'Anorith',\n 347: 'Armaldo',\n 348: 'Feebas',\n 349: 'Milotic',\n 350: 'Castform',\n 351: 'Kecleon',\n 352: 'Shuppet',\n 353: 'Banette',\n 354: 'Duskull',\n 355: 'Dusclops',\n 356: 'Tropius',\n 357: 'Chimecho',\n 358: 'Absol',\n 359: 'Wynaut',\n 360: 'Snorunt',\n 361: 'Glalie',\n 362: 'Spheal',\n 363: 'Sealeo',\n 364: 'Walrein',\n 365: 'Clamperl',\n 366: 'Huntail',\n 367: 'Gorebyss',\n 368: 'Relicanth',\n 369: 'Luvdisc',\n 370: 'Bagon',\n 371: 'Shelgon',\n 372: 'Salamence',\n 373: 'Beldum',\n 374: 'Metang',\n 375: 'Metagross',\n 376: 'Regirock',\n 377: 'Regice',\n 378: 'Registeel',\n 379: 'Latias',\n 380: 'Latios',\n 381: 'Kyogre',\n 382: 'Groudon',\n 383: 'Rayquaza',\n 384: 'Jirachi',\n 385: 'Deoxys',\n 386: 'Turtwig',\n 387: 'Grotle',\n 388: 'Torterra',\n 389: 'Chimchar',\n 390: 'Monferno',\n 391: 'Infernape',\n 392: 'Piplup',\n 393: 'Prinplup',\n 394: 'Empoleon',\n 395: 'Starly',\n 396: 'Staravia',\n 397: 'Staraptor',\n 398: 'Bidoof',\n 399: 'Bibarel',\n 400: 'Kricketot',\n 401: 'Kricketune',\n 402: 'Shinx',\n 403: 'Luxio',\n 404: 'Luxray',\n 405: 'Budew',\n 406: 'Roserade',\n 407: 'Cranidos',\n 408: 'Rampardos',\n 409: 'Shieldon',\n 410: 'Bastiodon',\n 411: 'Burmy',\n 412: 'Wormadam',\n 413: 'Mothim',\n 414: 'Combee',\n 415: 'Vespiquen',\n 416: 'Pachirisu',\n 417: 'Buizel',\n 418: 'Floatzel',\n 419: 'Cherubi',\n 420: 'Cherrim',\n 421: 'Shellos',\n 422: 'Gastrodon',\n 423: 'Ambipom',\n 424: 'Drifloon',\n 425: 'Drifblim',\n 426: 'Buneary',\n 427: 'Lopunny',\n 428: 'Mismagius',\n 429: 'Honchkrow',\n 430: 'Glameow',\n 431: 'Purugly',\n 432: 'Chingling',\n 433: 'Stunky',\n 434: 'Skuntank',\n 435: 'Bronzor',\n 436: 'Bronzong',\n 437: 'Bonsly',\n 438: 'Mime Jr.',\n 439: 'Happiny',\n 440: 'Chatot',\n 441: 'Spiritomb',\n 442: 'Gible',\n 443: 'Gabite',\n 444: 'Garchomp',\n 445: 'Munchlax',\n 446: 'Riolu',\n 447: 'Lucario',\n 448: 'Hippopotas',\n 449: 'Hippowdon',\n 450: 'Skorupi',\n 451: 'Drapion',\n 452: 'Croagunk',\n 453: 'Toxicroak',\n 454: 'Carnivine',\n 455: 'Finneon',\n 456: 'Lumineon',\n 457: 'Mantyke',\n 458: 'Snover',\n 459: 'Abomasnow',\n 460: 'Weavile',\n 461: 'Magnezone',\n 462: 'Lickilicky',\n 463: 'Rhyperior',\n 464: 'Tangrowth',\n 465: 'Electivire',\n 466: 'Magmortar',\n 467: 'Togekiss',\n 468: 'Yanmega',\n 469: 'Leafeon',\n 470: 'Glaceon',\n 471: 'Gliscor',\n 472: 'Mamoswine',\n 473: 'Porygon-Z',\n 474: 'Gallade',\n 475: 'Probopass',\n 476: 'Dusknoir',\n 477: 'Froslass',\n 478: 'Rotom',\n 479: 'Uxie',\n 480: 'Mesprit',\n 481: 'Azelf',\n 482: 'Dialga',\n 483: 'Palkia',\n 484: 'Heatran',\n 485: 'Regigigas',\n 486: 'Giratina',\n 487: 'Cresselia',\n 488: 'Phione',\n 489: 'Manaphy',\n 490: 'Darkrai',\n 491: 'Shaymin',\n 492: 'Arceus',\n 493: 'Victini',\n 494: 'Snivy',\n 495: 'Servine',\n 496: 'Serperior',\n 497: 'Tepig',\n 498: 'Pignite',\n 499: 'Emboar',\n 500: 'Oshawott',\n 501: 'Dewott',\n 502: 'Samurott',\n 503: 'Patrat',\n 504: 'Watchog',\n 505: 'Lillipup',\n 506: 'Herdier',\n 507: 'Stoutland',\n 508: 'Purrloin',\n 509: 'Liepard',\n 510: 'Pansage',\n 511: 'Simisage',\n 512: 'Pansear',\n 513: 'Simisear',\n 514: 'Panpour',\n 515: 'Simipour',\n 516: 'Munna',\n 517: 'Musharna',\n 518: 'Pidove',\n 519: 'Tranquill',\n 520: 'Unfezant',\n 521: 'Blitzle',\n 522: 'Zebstrika',\n 523: 'Roggenrola',\n 524: 'Boldore',\n 525: 'Gigalith',\n 526: 'Woobat',\n 527: 'Swoobat',\n 528: 'Drilbur',\n 529: 'Excadrill',\n 530: 'Audino',\n 531: 'Timburr',\n 532: 'Gurdurr',\n 533: 'Conkeldurr',\n 534: 'Tympole',\n 535: 'Palpitoad',\n 536: 'Seismitoad',\n 537: 'Throh',\n 538: 'Sawk',\n 539: 'Sewaddle',\n 540: 'Swadloon',\n 541: 'Leavanny',\n 542: 'Venipede',\n 543: 'Whirlipede',\n 544: 'Scolipede',\n 545: 'Cottonee',\n 546: 'Whimsicott',\n 547: 'Petilil',\n 548: 'Lilligant',\n 549: 'Basculin',\n 550: 'Sandile',\n 551: 'Krokorok',\n 552: 'Krookodile',\n 553: 'Darumaka',\n 554: 'Darmanitan',\n 555: 'Maractus',\n 556: 'Dwebble',\n 557: 'Crustle',\n 558: 'Scraggy',\n 559: 'Scrafty',\n 560: 'Sigilyph',\n 561: 'Yamask',\n 562: 'Cofagrigus',\n 563: 'Tirtouga',\n 564: 'Carracosta',\n 565: 'Archen',\n 566: 'Archeops',\n 567: 'Trubbish',\n 568: 'Garbodor',\n 569: 'Zorua',\n 570: 'Zoroark',\n 571: 'Minccino',\n 572: 'Cinccino',\n 573: 'Gothita',\n 574: 'Gothorita',\n 575: 'Gothitelle',\n 576: 'Solosis',\n 577: 'Duosion',\n 578: 'Reuniclus',\n 579: 'Ducklett',\n 580: 'Swanna',\n 581: 'Vanillite',\n 582: 'Vanillish',\n 583: 'Vanilluxe',\n 584: 'Deerling',\n 585: 'Sawsbuck',\n 586: 'Emolga',\n 587: 'Karrablast',\n 588: 'Escavalier',\n 589: 'Foongus',\n 590: 'Amoonguss',\n 591: 'Frillish',\n 592: 'Jellicent',\n 593: 'Alomomola',\n 594: 'Joltik',\n 595: 'Galvantula',\n 596: 'Ferroseed',\n 597: 'Ferrothorn',\n 598: 'Klink',\n 599: 'Klang',\n 600: 'Klinklang',\n 601: 'Tynamo',\n 602: 'Eelektrik',\n 603: 'Eelektross',\n 604: 'Elgyem',\n 605: 'Beheeyem',\n 606: 'Litwick',\n 607: 'Lampent',\n 608: 'Chandelure',\n 609: 'Axew',\n 610: 'Fraxure',\n 611: 'Haxorus',\n 612: 'Cubchoo',\n 613: 'Beartic',\n 614: 'Cryogonal',\n 615: 'Shelmet',\n 616: 'Accelgor',\n 617: 'Stunfisk',\n 618: 'Mienfoo',\n 619: 'Mienshao',\n 620: 'Druddigon',\n 621: 'Golett',\n 622: 'Golurk',\n 623: 'Pawniard',\n 624: 'Bisharp',\n 625: 'Bouffalant',\n 626: 'Rufflet',\n 627: 'Braviary',\n 628: 'Vullaby',\n 629: 'Mandibuzz',\n 630: 'Heatmor',\n 631: 'Durant',\n 632: 'Deino',\n 633: 'Zweilous',\n 634: 'Hydreigon',\n 635: 'Larvesta',\n 636: 'Volcarona',\n 637: 'Cobalion',\n 638: 'Terrakion',\n 639: 'Virizion',\n 640: 'Tornadus',\n 641: 'Thundurus',\n 642: 'Reshiram',\n 643: 'Zekrom',\n 644: 'Landorus',\n 645: 'Kyurem',\n 646: 'Keldeo',\n 647: 'Meloetta',\n 648: 'Genesect',\n 649: 'Chespin',\n 650: 'Quilladin',\n 651: 'Chesnaught',\n 652: 'Fennekin',\n 653: 'Braixen',\n 654: 'Delphox',\n 655: 'Froakie',\n 656: 'Frogadier',\n 657: 'Greninja',\n 658: 'Bunnelby',\n 659: 'Diggersby',\n 660: 'Fletchling',\n 661: 'Fletchinder',\n 662: 'Talonflame',\n 663: 'Scatterbug',\n 664: 'Spewpa',\n 665: 'Vivillon',\n 666: 'Litleo',\n 667: 'Pyroar',\n 668: 'Flabébé',\n 669: 'Floette',\n 670: 'Florges',\n 671: 'Skiddo',\n 672: 'Gogoat',\n 673: 'Pancham',\n 674: 'Pangoro',\n 675: 'Furfrou',\n 676: 'Espurr',\n 677: 'Meowstic',\n 678: 'Honedge',\n 679: 'Doublade',\n 680: 'Aegislash',\n 681: 'Spritzee',\n 682: 'Aromatisse',\n 683: 'Swirlix',\n 684: 'Slurpuff',\n 685: 'Inkay',\n 686: 'Malamar',\n 687: 'Binacle',\n 688: 'Barbaracle',\n 689: 'Skrelp',\n 690: 'Dragalge',\n 691: 'Clauncher',\n 692: 'Clawitzer',\n 693: 'Helioptile',\n 694: 'Heliolisk',\n 695: 'Tyrunt',\n 696: 'Tyrantrum',\n 697: 'Amaura',\n 698: 'Aurorus',\n 699: 'Sylveon',\n 700: 'Hawlucha',\n 701: 'Dedenne',\n 702: 'Carbink',\n 703: 'Goomy',\n 704: 'Sliggoo',\n 705: 'Goodra',\n 706: 'Klefki',\n 707: 'Phantump',\n 708: 'Trevenant',\n 709: 'Pumpkaboo',\n 710: 'Gourgeist',\n 711: 'Bergmite',\n 712: 'Avalugg',\n 713: 'Noibat',\n 714: 'Noivern',\n 715: 'Xerneas',\n 716: 'Yveltal',\n 717: 'Zygarde',\n 718: 'Diancie',\n 719: 'Hoopa',\n 720: 'Volcanion'}"
      ]
     },
     "execution_count": 18,
     "metadata": {},
     "output_type": "execute_result"
    }
   ],
   "source": [
    "pokemon.size"
   ]
  },
  {
   "cell_type": "code",
   "execution_count": 19,
   "metadata": {},
   "outputs": [
    {
     "data": {
      "text/plain": [
       "3012"
      ]
     },
     "execution_count": 19,
     "metadata": {},
     "output_type": "execute_result"
    }
   ],
   "source": [
    "google.size\n",
    "# cuenta todos los eementos incluso los null"
   ]
  },
  {
   "cell_type": "code",
   "execution_count": 21,
   "metadata": {
    "collapsed": false
   },
   "outputs": [
    {
     "data": {
      "text/plain": [
       "'Pokemon'"
      ]
     },
     "execution_count": 21,
     "metadata": {},
     "output_type": "execute_result"
    }
   ],
   "source": [
    "pokemon.name\n",
    "# name= \"algo\" renombre "
   ]
  },
  {
   "cell_type": "code",
   "execution_count": 22,
   "metadata": {},
   "outputs": [
    {
     "data": {
      "text/plain": [
       "'Stock Price'"
      ]
     },
     "execution_count": 22,
     "metadata": {},
     "output_type": "execute_result"
    }
   ],
   "source": [
    "google.name"
   ]
  },
  {
   "cell_type": "code",
   "execution_count": 22,
   "metadata": {},
   "outputs": [],
   "source": [
    ""
   ]
  },
  {
   "cell_type": "code",
   "execution_count": null,
   "metadata": {},
   "outputs": [],
   "source": []
  }
 ],
 "metadata": {
  "kernelspec": {
   "display_name": "Python 2",
   "language": "python",
   "name": "python2"
  },
  "language_info": {
   "codemirror_mode": {
    "name": "ipython",
    "version": 2
   },
   "file_extension": ".py",
   "mimetype": "text/x-python",
   "name": "python",
   "nbconvert_exporter": "python",
   "pygments_lexer": "ipython2",
   "version": "2.7.6"
  }
 },
 "nbformat": 4,
 "nbformat_minor": 0
}
