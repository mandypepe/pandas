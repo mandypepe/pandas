{
 "cells": [
  {
   "cell_type": "code",
   "execution_count": 1,
   "metadata": {
    "collapsed": true
   },
   "outputs": [],
   "source": [
    "import pandas as pd\n",
    "import matplotlib.pyplot as plt\n",
    "import numpy as np\n",
    "%matplotlib inline\n",
    "w1=pd.read_csv(\"csvs/Restaurant - Week 1 Sales.csv\")\n",
    "w2=pd.read_csv(\"csvs/Restaurant - Week 2 Sales.csv\")\n",
    "ct=pd.read_csv(\"csvs/Restaurant - Customers.csv\")\n",
    "fot=pd.read_csv(\"csvs/Restaurant - Foods.csv\")\n"
   ]
  },
  {
   "cell_type": "code",
   "execution_count": 2,
   "metadata": {
    "collapsed": true
   },
   "outputs": [
    {
     "data": {
      "text/plain": [
       "<bound method NDFrame.head of     Customer ID  Food ID_x  Food ID_y\n0           537          9          5\n1           155          9          3\n2           155          1          3\n3           503          5          8\n4           503          5          9\n5           550          6          7\n6           101          7          4\n7            75          6          4\n8            77          1          7\n9            77          9          7\n10           77          2          7\n11           77          9          7\n12          628          4          7\n13          798          9          5\n14          798          1          5\n15          462          3          8\n16          304          3          3\n17          304          2          3\n18          189          4          5\n19          799          8          7\n20           30          2          4\n21          249          9          6\n22          677         10          3\n23          741          3          8\n24          540          3          3\n25          819          4          5\n26          937         10         10\n27          937         10          2\n28          233          3          3\n29           21          4          4\n..          ...        ...        ...\n32          816          7          2\n33          761          9          2\n34          761          9          3\n35           80          2          4\n36          479          6          3\n37          922          1          1\n38          922          1          2\n39          909          1          6\n40          909          4          6\n41          919         10          8\n42          574         10          9\n43           45          7          8\n44          529          7         10\n45          673          7          4\n46          310          2          5\n47          310          1          5\n48          867          9         10\n49          968          1          4\n50          482          3          1\n51          163          1         10\n52          321          1          3\n53          783          6         10\n54          578          5          5\n55          578          5          5\n56          520          8          7\n57          945          5          4\n58          343          3          5\n59          343          3          2\n60          343          3          7\n61          621          9          6\n\n[62 rows x 3 columns]>"
      ]
     },
     "execution_count": 2,
     "metadata": {},
     "output_type": "execute_result"
    }
   ],
   "source": [
    "w1.merge(w2,how='inner',on='Customer ID').head"
   ]
  },
  {
   "cell_type": "code",
   "execution_count": 3,
   "metadata": {
    "collapsed": false
   },
   "outputs": [
    {
     "data": {
      "text/plain": [
       "<bound method NDFrame.head of     Customer ID  Food ID-W1  Food ID-W2\n0           537           9           5\n1           155           9           3\n2           155           1           3\n3           503           5           8\n4           503           5           9\n5           550           6           7\n6           101           7           4\n7            75           6           4\n8            77           1           7\n9            77           9           7\n10           77           2           7\n11           77           9           7\n12          628           4           7\n13          798           9           5\n14          798           1           5\n15          462           3           8\n16          304           3           3\n17          304           2           3\n18          189           4           5\n19          799           8           7\n20           30           2           4\n21          249           9           6\n22          677          10           3\n23          741           3           8\n24          540           3           3\n25          819           4           5\n26          937          10          10\n27          937          10           2\n28          233           3           3\n29           21           4           4\n..          ...         ...         ...\n32          816           7           2\n33          761           9           2\n34          761           9           3\n35           80           2           4\n36          479           6           3\n37          922           1           1\n38          922           1           2\n39          909           1           6\n40          909           4           6\n41          919          10           8\n42          574          10           9\n43           45           7           8\n44          529           7          10\n45          673           7           4\n46          310           2           5\n47          310           1           5\n48          867           9          10\n49          968           1           4\n50          482           3           1\n51          163           1          10\n52          321           1           3\n53          783           6          10\n54          578           5           5\n55          578           5           5\n56          520           8           7\n57          945           5           4\n58          343           3           5\n59          343           3           2\n60          343           3           7\n61          621           9           6\n\n[62 rows x 3 columns]>"
      ]
     },
     "execution_count": 3,
     "metadata": {},
     "output_type": "execute_result"
    }
   ],
   "source": [
    "w1.merge(w2,how='inner',on='Customer ID', suffixes=['-W1','-W2'],sort=True).head"
   ]
  },
  {
   "cell_type": "code",
   "execution_count": 5,
   "metadata": {},
   "outputs": [
    {
     "data": {
      "text/plain": [
       "<bound method NDFrame.head of    Customer ID  Food ID\n0           21        4\n1           21        4\n2          233        3\n3          304        3\n4          540        3\n5          578        5\n6          578        5\n7          922        1\n8          937       10>"
      ]
     },
     "execution_count": 5,
     "metadata": {},
     "output_type": "execute_result"
    }
   ],
   "source": [
    "w1.merge(w2,how='inner',on=['Customer ID','Food ID'],sort=True).head"
   ]
  },
  {
   "cell_type": "code",
   "execution_count": null,
   "metadata": {},
   "outputs": [],
   "source": []
  }
 ],
 "metadata": {
  "kernelspec": {
   "display_name": "Python 2",
   "language": "python",
   "name": "python2"
  },
  "language_info": {
   "codemirror_mode": {
    "name": "ipython",
    "version": 2
   },
   "file_extension": ".py",
   "mimetype": "text/x-python",
   "name": "python",
   "nbconvert_exporter": "python",
   "pygments_lexer": "ipython2",
   "version": "2.7.6"
  }
 },
 "nbformat": 4,
 "nbformat_minor": 0
}
