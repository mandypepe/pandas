{
 "cells": [
  {
   "cell_type": "code",
   "execution_count": 8,
   "metadata": {
    "collapsed": false
   },
   "outputs": [
    {
     "name": "stdout",
     "output_type": "stream",
     "text": [
      "<class 'pandas.core.frame.DataFrame'>\nRangeIndex: 1830 entries, 0 to 1829\nData columns (total 3 columns):\nDate        1830 non-null datetime64[ns]\nSalesman    1830 non-null object\nRevenue     1830 non-null int64\ndtypes: datetime64[ns](1), int64(1), object(1)\nmemory usage: 43.0+ KB\n"
     ]
    }
   ],
   "source": [
    "import pandas as pd\n",
    "import matplotlib.pyplot as plt\n",
    "import numpy as np\n",
    "%matplotlib inline\n",
    "sales=pd.read_csv(\"csvs/salesmen.csv\",parse_dates=['Date'])\n",
    "sales['Salesman'].astype('category')\n",
    "sales.info()\n"
   ]
  },
  {
   "cell_type": "code",
   "execution_count": 5,
   "metadata": {
    "collapsed": true
   },
   "outputs": [
    {
     "data": {
      "text/plain": [
       "count       1830\nunique         5\ntop       Ronald\nfreq         366\nName: Salesman, dtype: object"
      ]
     },
     "execution_count": 5,
     "metadata": {},
     "output_type": "execute_result"
    }
   ],
   "source": [
    "sales['Salesman'].describe()"
   ]
  },
  {
   "cell_type": "code",
   "execution_count": 6,
   "metadata": {
    "collapsed": true
   },
   "outputs": [
    {
     "data": {
      "text/plain": [
       "Ronald    366\nJeb       366\nOscar     366\nBob       366\nDave      366\nName: Salesman, dtype: int64"
      ]
     },
     "execution_count": 6,
     "metadata": {},
     "output_type": "execute_result"
    }
   ],
   "source": [
    "sales['Salesman'].value_counts()"
   ]
  },
  {
   "cell_type": "code",
   "execution_count": 11,
   "metadata": {
    "collapsed": true
   },
   "outputs": [
    {
     "data": {
      "text/plain": [
       "<bound method NDFrame.head of Salesman     Bob  Dave   Jeb  Oscar  Ronald\nDate                                       \n2016-01-01  7172  1864  4430   5250    2639\n2016-01-02  6362  8278  8026   8661    4951\n2016-01-03  5982  4226  5188   7075    2703\n2016-01-04  7917  3868  3144   2524    4258\n2016-01-05  7837  2287   938   2793    7771\n2016-01-06  1744  7859  8702   7794    5930\n2016-01-07   918  8597  4250   9728    1933\n2016-01-08  9863  3092  9719   5263    5709\n2016-01-09  8337  1794  5614   7144    4707\n2016-01-10  7543  7105   301   7663    8267\n2016-01-11  1053  6851  9489   8888    1340\n2016-01-12  4362  7147  8719   3092     279\n2016-01-13  6812  6160  2349   6139    7540\n2016-01-14  9047  7533  7690   5235    4214\n2016-01-15  3594  9883  6917   5507    5346\n2016-01-16  9800  3622   474   4947    9636\n2016-01-17  7215  4565  8963   3325    6058\n2016-01-18  7744  8246  2351   2611    3602\n2016-01-19  9560  9229  5512   1905     316\n2016-01-20  9863  8358  9509   6005    9352\n2016-01-21   547  4229  2453   2798    6781\n2016-01-22  3505  4417  2875    879    5166\n2016-01-23  6969   358  8853   4245    2479\n2016-01-24   696  7817  6705   3798    4835\n2016-01-25  4302  6354  2882   1143    9750\n2016-01-26  9427  7544  1009    871    8738\n2016-01-27  7990  2255  4020   2403    1768\n2016-01-28  6271  3419  1735   3691    7264\n2016-01-29  5804  1378  6477    418    8545\n2016-01-30  3285  6456  2253   7776     658\n...          ...   ...   ...    ...     ...\n2016-12-02  5570  9842   982   5589    5956\n2016-12-03  7910  4284  9363   6009    2252\n2016-12-04  2869  8389  5980    537    1484\n2016-12-05  4013  3089  8999   3895    2867\n2016-12-06  1695  9142  4896   3060    5734\n2016-12-07  1010  3707  4634    295    5409\n2016-12-08  1149  3073  5930   5038    9951\n2016-12-09  4432  6820  8592    258      96\n2016-12-10   194  3938  3530   9392    8713\n2016-12-11  7676  8805  1134    690    5843\n2016-12-12  7290  3917  9004   5621    4524\n2016-12-13  7253  9168  8031   3284    5193\n2016-12-14  9777  2632  3162   2245    8161\n2016-12-15  7933  2051  4408   3449    9557\n2016-12-16  6742  1148  3020   1763    2318\n2016-12-17  5641  8921  6126   1641    9042\n2016-12-18  8445  9203  5843   1022    7979\n2016-12-19  3065  4255  8136   3366    2734\n2016-12-20  3864  7209  2082    364    5757\n2016-12-21  4080  1335  5940   3579     359\n2016-12-22  5294  6986  4389   6476     825\n2016-12-23  5063  5507     9   6495    9210\n2016-12-24  1731  5520  8230   9346    4114\n2016-12-25  8325  4004  6569   8321    7490\n2016-12-26  6664  3211  1572   6172    6170\n2016-12-27  2045  2843  6666    835    2981\n2016-12-28   100  8888  1243   3073    6129\n2016-12-29  4115  9490  3498   6424    7662\n2016-12-30  2577  3594  8858   7088    2570\n2016-12-31  3845  6830  9717   8408    2619\n\n[366 rows x 5 columns]>"
      ]
     },
     "execution_count": 11,
     "metadata": {},
     "output_type": "execute_result"
    }
   ],
   "source": [
    "pivote=sales.pivot(index='Date',columns='Salesman',values='Revenue')\n",
    "pivote.head"
   ]
  },
  {
   "cell_type": "code",
   "execution_count": null,
   "metadata": {},
   "outputs": [],
   "source": []
  }
 ],
 "metadata": {
  "kernelspec": {
   "display_name": "Python 2",
   "language": "python",
   "name": "python2"
  },
  "language_info": {
   "codemirror_mode": {
    "name": "ipython",
    "version": 2
   },
   "file_extension": ".py",
   "mimetype": "text/x-python",
   "name": "python",
   "nbconvert_exporter": "python",
   "pygments_lexer": "ipython2",
   "version": "2.7.6"
  }
 },
 "nbformat": 4,
 "nbformat_minor": 0
}
