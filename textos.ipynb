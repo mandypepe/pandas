{
 "cells": [
  {
   "cell_type": "code",
   "execution_count": 3,
   "metadata": {
    "collapsed": true
   },
   "outputs": [
    {
     "name": "stdout",
     "output_type": "stream",
     "text": [
      "<class 'pandas.core.frame.DataFrame'>\nRangeIndex: 32063 entries, 0 to 32062\nData columns (total 4 columns):\nName                      32062 non-null object\nPosition Title            32062 non-null object\nDepartment                32062 non-null object\nEmployee Annual Salary    32062 non-null object\ndtypes: object(4)\nmemory usage: 1002.0+ KB\n"
     ]
    }
   ],
   "source": [
    "import pandas as pd\n",
    "import matplotlib.pyplot as plt\n",
    "import numpy as np\n",
    "%matplotlib inline\n",
    "ch=pd.read_csv(\"csvs/chicago.csv\")\n",
    "\n",
    "ch.info()"
   ]
  },
  {
   "cell_type": "code",
   "execution_count": 4,
   "metadata": {
    "collapsed": true
   },
   "outputs": [
    {
     "data": {
      "text/plain": [
       "POLICE                   12618\nFIRE                      4796\nSTREETS & SAN             2152\nOEMC                      1982\nWATER MGMNT               1840\nAVIATION                  1521\nTRANSPORTN                1073\nPUBLIC LIBRARY             961\nGENERAL SERVICES           930\nFAMILY & SUPPORT           654\nFINANCE                    577\nHEALTH                     529\nLAW                        414\nCITY COUNCIL               396\nBUILDINGS                  262\nCOMMUNITY DEVELOPMENT      208\nBUSINESS AFFAIRS           161\nBOARD OF ELECTION          117\nDoIT                       102\nCITY CLERK                  94\nMAYOR'S OFFICE              86\nPROCUREMENT                 83\nIPRA                        82\nCULTURAL AFFAIRS            74\nHUMAN RESOURCES             70\nANIMAL CONTRL               67\nINSPECTOR GEN               57\nADMIN HEARNG                39\nBUDGET & MGMT               39\nDISABILITIES                28\nTREASURER                   22\nHUMAN RELATIONS             16\nBOARD OF ETHICS              9\nPOLICE BOARD                 2\nLICENSE APPL COMM            1\nName: Department, dtype: int64"
      ]
     },
     "execution_count": 4,
     "metadata": {},
     "output_type": "execute_result"
    }
   ],
   "source": [
    "ch['Department'].value_counts()"
   ]
  },
  {
   "cell_type": "code",
   "execution_count": 6,
   "metadata": {},
   "outputs": [
    {
     "data": {
      "text/plain": [
       "35"
      ]
     },
     "execution_count": 6,
     "metadata": {},
     "output_type": "execute_result"
    }
   ],
   "source": [
    "ch['Department'].nunique()"
   ]
  },
  {
   "cell_type": "code",
   "execution_count": 7,
   "metadata": {},
   "outputs": [],
   "source": [
    "ch['Department']=ch['Department'].astype('category')"
   ]
  },
  {
   "cell_type": "code",
   "execution_count": 8,
   "metadata": {},
   "outputs": [
    {
     "name": "stdout",
     "output_type": "stream",
     "text": [
      "<class 'pandas.core.frame.DataFrame'>\nRangeIndex: 32063 entries, 0 to 32062\nData columns (total 4 columns):\nName                      32062 non-null object\nPosition Title            32062 non-null object\nDepartment                32062 non-null category\nEmployee Annual Salary    32062 non-null object\ndtypes: category(1), object(3)\nmemory usage: 784.4+ KB\n"
     ]
    }
   ],
   "source": [
    "ch.info()"
   ]
  },
  {
   "cell_type": "code",
   "execution_count": null,
   "metadata": {},
   "outputs": [],
   "source": []
  }
 ],
 "metadata": {
  "kernelspec": {
   "display_name": "Python 2",
   "language": "python",
   "name": "python2"
  },
  "language_info": {
   "codemirror_mode": {
    "name": "ipython",
    "version": 2
   },
   "file_extension": ".py",
   "mimetype": "text/x-python",
   "name": "python",
   "nbconvert_exporter": "python",
   "pygments_lexer": "ipython2",
   "version": "2.7.6"
  }
 },
 "nbformat": 4,
 "nbformat_minor": 0
}
