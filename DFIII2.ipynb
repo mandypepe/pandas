{
 "cells": [
  {
   "cell_type": "code",
   "execution_count": 2,
   "metadata": {
    "collapsed": true
   },
   "outputs": [
    {
     "name": "stdout",
     "output_type": "stream",
     "text": [
      "<class 'pandas.core.frame.DataFrame'>\nIndex: 26 entries, A View to a Kill to You Only Live Twice\nData columns (total 6 columns):\nYear                 26 non-null int64\nActor                26 non-null object\nDirector             26 non-null object\nBox Office           26 non-null float64\nBudget               26 non-null float64\nBond Actor Salary    18 non-null float64\ndtypes: float64(3), int64(1), object(2)\nmemory usage: 1.4+ KB\n"
     ]
    }
   ],
   "source": [
    "import pandas as pd\n",
    "import matplotlib.pyplot as plt\n",
    "import numpy as np\n",
    "%matplotlib inline\n",
    "bond=pd.read_csv(\"csvs/jamesbond.csv\", index_col='Film')\n",
    "bond.sort_index(inplace=True)\n",
    "bond.info()\n"
   ]
  },
  {
   "cell_type": "code",
   "execution_count": 3,
   "metadata": {
    "collapsed": true
   },
   "outputs": [
    {
     "data": {
      "text/plain": [
       "<bound method NDFrame.head of                                  Year           Actor            Director  \\\nFilm                                                                        \nA View to a Kill                 1985     Roger Moore           John Glen   \nCasino Royale                    2006    Daniel Craig     Martin Campbell   \nCasino Royale                    1967     David Niven          Ken Hughes   \nDiamonds Are Forever             1971    Sean Connery        Guy Hamilton   \nDie Another Day                  2002  Pierce Brosnan        Lee Tamahori   \nDr. No                           1962    Sean Connery       Terence Young   \nFor Your Eyes Only               1981     Roger Moore           John Glen   \nFrom Russia with Love            1963    Sean Connery       Terence Young   \nGoldenEye                        1995  Pierce Brosnan     Martin Campbell   \nGoldfinger                       1964    Sean Connery        Guy Hamilton   \nLicence to Kill                  1989  Timothy Dalton           John Glen   \nLive and Let Die                 1973     Roger Moore        Guy Hamilton   \nMoonraker                        1979     Roger Moore       Lewis Gilbert   \nNever Say Never Again            1983    Sean Connery      Irvin Kershner   \nOctopussy                        1983     Roger Moore           John Glen   \nOn Her Majesty's Secret Service  1969  George Lazenby       Peter R. Hunt   \nQuantum of Solace                2008    Daniel Craig        Marc Forster   \nSkyfall                          2012    Daniel Craig          Sam Mendes   \nSpectre                          2015    Daniel Craig          Sam Mendes   \nThe Living Daylights             1987  Timothy Dalton           John Glen   \nThe Man with the Golden Gun      1974     Roger Moore        Guy Hamilton   \nThe Spy Who Loved Me             1977     Roger Moore       Lewis Gilbert   \nThe World Is Not Enough          1999  Pierce Brosnan       Michael Apted   \nThunderball                      1965    Sean Connery       Terence Young   \nTomorrow Never Dies              1997  Pierce Brosnan  Roger Spottiswoode   \nYou Only Live Twice              1967    Sean Connery       Lewis Gilbert   \n\n                                 Box Office  Budget  Bond Actor Salary  \nFilm                                                                    \nA View to a Kill                      275.2    54.5                9.1  \nCasino Royale                         581.5   145.3                3.3  \nCasino Royale                         315.0    85.0                NaN  \nDiamonds Are Forever                  442.5    34.7                5.8  \nDie Another Day                       465.4   154.2               17.9  \nDr. No                                448.8     7.0                0.6  \nFor Your Eyes Only                    449.4    60.2                NaN  \nFrom Russia with Love                 543.8    12.6                1.6  \nGoldenEye                             518.5    76.9                5.1  \nGoldfinger                            820.4    18.6                3.2  \nLicence to Kill                       250.9    56.7                7.9  \nLive and Let Die                      460.3    30.8                NaN  \nMoonraker                             535.0    91.5                NaN  \nNever Say Never Again                 380.0    86.0                NaN  \nOctopussy                             373.8    53.9                7.8  \nOn Her Majesty's Secret Service       291.5    37.3                0.6  \nQuantum of Solace                     514.2   181.4                8.1  \nSkyfall                               943.5   170.2               14.5  \nSpectre                               726.7   206.3                NaN  \nThe Living Daylights                  313.5    68.8                5.2  \nThe Man with the Golden Gun           334.0    27.7                NaN  \nThe Spy Who Loved Me                  533.0    45.1                NaN  \nThe World Is Not Enough               439.5   158.3               13.5  \nThunderball                           848.1    41.9                4.7  \nTomorrow Never Dies                   463.2   133.9               10.0  \nYou Only Live Twice                   514.2    59.9                4.4  >"
      ]
     },
     "execution_count": 3,
     "metadata": {},
     "output_type": "execute_result"
    }
   ],
   "source": [
    "bond.head"
   ]
  },
  {
   "cell_type": "code",
   "execution_count": 4,
   "metadata": {},
   "outputs": [
    {
     "data": {
      "text/plain": [
       "Year                         1964\nActor                Sean Connery\nDirector             Guy Hamilton\nBox Office                  820.4\nBudget                       18.6\nBond Actor Salary             3.2\nName: Goldfinger, dtype: object"
      ]
     },
     "execution_count": 4,
     "metadata": {},
     "output_type": "execute_result"
    }
   ],
   "source": [
    "bond.loc['Goldfinger']"
   ]
  },
  {
   "cell_type": "code",
   "execution_count": 5,
   "metadata": {},
   "outputs": [
    {
     "data": {
      "text/plain": [
       "Year                            1995\nActor                 Pierce Brosnan\nDirector             Martin Campbell\nBox Office                     518.5\nBudget                          76.9\nBond Actor Salary                5.1\nName: GoldenEye, dtype: object"
      ]
     },
     "execution_count": 5,
     "metadata": {},
     "output_type": "execute_result"
    }
   ],
   "source": [
    "bond.loc['GoldenEye']"
   ]
  },
  {
   "cell_type": "code",
   "execution_count": 9,
   "metadata": {},
   "outputs": [
    {
     "data": {
      "text/plain": [
       "<bound method NDFrame.head of                Year         Actor         Director  Box Office  Budget  \\\nFilm                                                                     \nCasino Royale  2006  Daniel Craig  Martin Campbell       581.5   145.3   \nCasino Royale  1967   David Niven       Ken Hughes       315.0    85.0   \n\n               Bond Actor Salary  \nFilm                              \nCasino Royale                3.3  \nCasino Royale                NaN  >"
      ]
     },
     "execution_count": 9,
     "metadata": {},
     "output_type": "execute_result"
    }
   ],
   "source": [
    "asss=bond.loc['Casino Royale']\n",
    "asss.head\n"
   ]
  },
  {
   "cell_type": "code",
   "execution_count": 11,
   "metadata": {},
   "outputs": [
    {
     "data": {
      "text/plain": [
       "<bound method NDFrame.head of                        Year           Actor         Director  Box Office  \\\nFilm                                                                       \nDiamonds Are Forever   1971    Sean Connery     Guy Hamilton       442.5   \nDie Another Day        2002  Pierce Brosnan     Lee Tamahori       465.4   \nDr. No                 1962    Sean Connery    Terence Young       448.8   \nFor Your Eyes Only     1981     Roger Moore        John Glen       449.4   \nFrom Russia with Love  1963    Sean Connery    Terence Young       543.8   \nGoldenEye              1995  Pierce Brosnan  Martin Campbell       518.5   \nGoldfinger             1964    Sean Connery     Guy Hamilton       820.4   \nLicence to Kill        1989  Timothy Dalton        John Glen       250.9   \nLive and Let Die       1973     Roger Moore     Guy Hamilton       460.3   \nMoonraker              1979     Roger Moore    Lewis Gilbert       535.0   \nNever Say Never Again  1983    Sean Connery   Irvin Kershner       380.0   \n\n                       Budget  Bond Actor Salary  \nFilm                                              \nDiamonds Are Forever     34.7                5.8  \nDie Another Day         154.2               17.9  \nDr. No                    7.0                0.6  \nFor Your Eyes Only       60.2                NaN  \nFrom Russia with Love    12.6                1.6  \nGoldenEye                76.9                5.1  \nGoldfinger               18.6                3.2  \nLicence to Kill          56.7                7.9  \nLive and Let Die         30.8                NaN  \nMoonraker                91.5                NaN  \nNever Say Never Again    86.0                NaN  >"
      ]
     },
     "execution_count": 11,
     "metadata": {},
     "output_type": "execute_result"
    }
   ],
   "source": [
    "films=bond.loc['Diamonds Are Forever':\"Noonraker\"]\n",
    "films.head"
   ]
  },
  {
   "cell_type": "code",
   "execution_count": 12,
   "metadata": {
    "collapsed": true
   },
   "outputs": [
    {
     "data": {
      "text/plain": [
       "<bound method NDFrame.head of                                  Year           Actor            Director  \\\nFilm                                                                        \nGoldenEye                        1995  Pierce Brosnan     Martin Campbell   \nGoldfinger                       1964    Sean Connery        Guy Hamilton   \nLicence to Kill                  1989  Timothy Dalton           John Glen   \nLive and Let Die                 1973     Roger Moore        Guy Hamilton   \nMoonraker                        1979     Roger Moore       Lewis Gilbert   \nNever Say Never Again            1983    Sean Connery      Irvin Kershner   \nOctopussy                        1983     Roger Moore           John Glen   \nOn Her Majesty's Secret Service  1969  George Lazenby       Peter R. Hunt   \nQuantum of Solace                2008    Daniel Craig        Marc Forster   \nSkyfall                          2012    Daniel Craig          Sam Mendes   \nSpectre                          2015    Daniel Craig          Sam Mendes   \nThe Living Daylights             1987  Timothy Dalton           John Glen   \nThe Man with the Golden Gun      1974     Roger Moore        Guy Hamilton   \nThe Spy Who Loved Me             1977     Roger Moore       Lewis Gilbert   \nThe World Is Not Enough          1999  Pierce Brosnan       Michael Apted   \nThunderball                      1965    Sean Connery       Terence Young   \nTomorrow Never Dies              1997  Pierce Brosnan  Roger Spottiswoode   \nYou Only Live Twice              1967    Sean Connery       Lewis Gilbert   \n\n                                 Box Office  Budget  Bond Actor Salary  \nFilm                                                                    \nGoldenEye                             518.5    76.9                5.1  \nGoldfinger                            820.4    18.6                3.2  \nLicence to Kill                       250.9    56.7                7.9  \nLive and Let Die                      460.3    30.8                NaN  \nMoonraker                             535.0    91.5                NaN  \nNever Say Never Again                 380.0    86.0                NaN  \nOctopussy                             373.8    53.9                7.8  \nOn Her Majesty's Secret Service       291.5    37.3                0.6  \nQuantum of Solace                     514.2   181.4                8.1  \nSkyfall                               943.5   170.2               14.5  \nSpectre                               726.7   206.3                NaN  \nThe Living Daylights                  313.5    68.8                5.2  \nThe Man with the Golden Gun           334.0    27.7                NaN  \nThe Spy Who Loved Me                  533.0    45.1                NaN  \nThe World Is Not Enough               439.5   158.3               13.5  \nThunderball                           848.1    41.9                4.7  \nTomorrow Never Dies                   463.2   133.9               10.0  \nYou Only Live Twice                   514.2    59.9                4.4  >"
      ]
     },
     "execution_count": 12,
     "metadata": {},
     "output_type": "execute_result"
    }
   ],
   "source": [
    "films=bond.loc['GoldenEye':]\n",
    "films.head"
   ]
  },
  {
   "cell_type": "code",
   "execution_count": 13,
   "metadata": {
    "collapsed": true
   },
   "outputs": [
    {
     "data": {
      "text/plain": [
       "<bound method NDFrame.head of                        Year           Actor         Director  Box Office  \\\nFilm                                                                       \nA View to a Kill       1985     Roger Moore        John Glen       275.2   \nCasino Royale          2006    Daniel Craig  Martin Campbell       581.5   \nCasino Royale          1967     David Niven       Ken Hughes       315.0   \nDiamonds Are Forever   1971    Sean Connery     Guy Hamilton       442.5   \nDie Another Day        2002  Pierce Brosnan     Lee Tamahori       465.4   \nDr. No                 1962    Sean Connery    Terence Young       448.8   \nFor Your Eyes Only     1981     Roger Moore        John Glen       449.4   \nFrom Russia with Love  1963    Sean Connery    Terence Young       543.8   \nGoldenEye              1995  Pierce Brosnan  Martin Campbell       518.5   \n\n                       Budget  Bond Actor Salary  \nFilm                                              \nA View to a Kill         54.5                9.1  \nCasino Royale           145.3                3.3  \nCasino Royale            85.0                NaN  \nDiamonds Are Forever     34.7                5.8  \nDie Another Day         154.2               17.9  \nDr. No                    7.0                0.6  \nFor Your Eyes Only       60.2                NaN  \nFrom Russia with Love    12.6                1.6  \nGoldenEye                76.9                5.1  >"
      ]
     },
     "execution_count": 13,
     "metadata": {},
     "output_type": "execute_result"
    }
   ],
   "source": [
    "films=bond.loc[:'GoldenEye']\n",
    "films.head"
   ]
  },
  {
   "cell_type": "code",
   "execution_count": 14,
   "metadata": {
    "collapsed": true
   },
   "outputs": [
    {
     "data": {
      "text/plain": [
       "<bound method NDFrame.head of            Year        Actor       Director  Box Office  Budget  \\\nFilm                                                              \nOctopussy  1983  Roger Moore      John Glen       373.8    53.9   \nMoonraker  1979  Roger Moore  Lewis Gilbert       535.0    91.5   \n\n           Bond Actor Salary  \nFilm                          \nOctopussy                7.8  \nMoonraker                NaN  >"
      ]
     },
     "execution_count": 14,
     "metadata": {},
     "output_type": "execute_result"
    }
   ],
   "source": [
    "malos=bond.loc[['Octopussy','Moonraker']] #espesificar elementos\n",
    "malos.head"
   ]
  },
  {
   "cell_type": "code",
   "execution_count": 15,
   "metadata": {
    "collapsed": true
   },
   "outputs": [
    {
     "data": {
      "text/plain": [
       "<bound method NDFrame.head of            Year        Actor       Director  Box Office  Budget  \\\nFilm                                                              \nMoonraker  1979  Roger Moore  Lewis Gilbert       535.0    91.5   \nOctopussy  1983  Roger Moore      John Glen       373.8    53.9   \n\n           Bond Actor Salary  \nFilm                          \nMoonraker                NaN  \nOctopussy                7.8  >"
      ]
     },
     "execution_count": 15,
     "metadata": {},
     "output_type": "execute_result"
    }
   ],
   "source": [
    "malos=bond.loc[['Moonraker','Octopussy']] # el orden no importa\n",
    "malos.head"
   ]
  },
  {
   "cell_type": "code",
   "execution_count": 16,
   "metadata": {
    "collapsed": true
   },
   "outputs": [
    {
     "name": "stderr",
     "output_type": "stream",
     "text": [
      "C:\\Users\\Casa\\Anaconda3\\envs\\tensor\\lib\\site-packages\\ipykernel_launcher.py:1: FutureWarning: \nPassing list-likes to .loc or [] with any missing label will raise\nKeyError in the future, you can use .reindex() as an alternative.\n\nSee the documentation here:\nhttps://pandas.pydata.org/pandas-docs/stable/indexing.html#deprecate-loc-reindex-listlike\n  \"\"\"Entry point for launching an IPython kernel.\n"
     ]
    },
    {
     "data": {
      "text/plain": [
       "<bound method NDFrame.head of                       Year        Actor      Director  Box Office  Budget  \\\nFilm                                                                        \nFor Your Eyes Only  1981.0  Roger Moore     John Glen       449.4    60.2   \nLive and Let Die    1973.0  Roger Moore  Guy Hamilton       460.3    30.8   \nGolden Bond            NaN          NaN           NaN         NaN     NaN   \n\n                    Bond Actor Salary  \nFilm                                   \nFor Your Eyes Only                NaN  \nLive and Let Die                  NaN  \nGolden Bond                       NaN  >"
      ]
     },
     "execution_count": 16,
     "metadata": {},
     "output_type": "execute_result"
    }
   ],
   "source": [
    "no_existe=bond.loc[['For Your Eyes Only','Live and Let Die','Golden Bond']] # no existe y llena con NAN\n",
    "no_existe.head "
   ]
  },
  {
   "cell_type": "code",
   "execution_count": 17,
   "metadata": {},
   "outputs": [
    {
     "data": {
      "text/plain": [
       "False"
      ]
     },
     "execution_count": 17,
     "metadata": {},
     "output_type": "execute_result"
    }
   ],
   "source": [
    "'Golden Bond' in bond.index"
   ]
  },
  {
   "cell_type": "code",
   "execution_count": 19,
   "metadata": {
    "collapsed": true
   },
   "outputs": [
    {
     "data": {
      "text/plain": [
       "<bound method NDFrame.head of                                  Year           Actor         Director  \\\nFilm                                                                     \nA View to a Kill                 1985     Roger Moore        John Glen   \nCasino Royale                    2006    Daniel Craig  Martin Campbell   \nCasino Royale                    1967     David Niven       Ken Hughes   \nDiamonds Are Forever             1971    Sean Connery     Guy Hamilton   \nDie Another Day                  2002  Pierce Brosnan     Lee Tamahori   \nDr. No                           1962    Sean Connery    Terence Young   \nFor Your Eyes Only               1981     Roger Moore        John Glen   \nFrom Russia with Love            1963    Sean Connery    Terence Young   \nGoldenEye                        1995  Pierce Brosnan  Martin Campbell   \nGoldfinger                       1964    Sean Connery     Guy Hamilton   \nLicence to Kill                  1989  Timothy Dalton        John Glen   \nLive and Let Die                 1973     Roger Moore     Guy Hamilton   \nMoonraker                        1979     Roger Moore    Lewis Gilbert   \nNever Say Never Again            1983    Sean Connery   Irvin Kershner   \nOctopussy                        1983     Roger Moore        John Glen   \nOn Her Majesty's Secret Service  1969  George Lazenby    Peter R. Hunt   \nQuantum of Solace                2008    Daniel Craig     Marc Forster   \nSkyfall                          2012    Daniel Craig       Sam Mendes   \nSpectre                          2015    Daniel Craig       Sam Mendes   \nThe Living Daylights             1987  Timothy Dalton        John Glen   \nThe Man with the Golden Gun      1974     Roger Moore     Guy Hamilton   \nThe Spy Who Loved Me             1977     Roger Moore    Lewis Gilbert   \n\n                                 Box Office  Budget  Bond Actor Salary  \nFilm                                                                    \nA View to a Kill                      275.2    54.5                9.1  \nCasino Royale                         581.5   145.3                3.3  \nCasino Royale                         315.0    85.0                NaN  \nDiamonds Are Forever                  442.5    34.7                5.8  \nDie Another Day                       465.4   154.2               17.9  \nDr. No                                448.8     7.0                0.6  \nFor Your Eyes Only                    449.4    60.2                NaN  \nFrom Russia with Love                 543.8    12.6                1.6  \nGoldenEye                             518.5    76.9                5.1  \nGoldfinger                            820.4    18.6                3.2  \nLicence to Kill                       250.9    56.7                7.9  \nLive and Let Die                      460.3    30.8                NaN  \nMoonraker                             535.0    91.5                NaN  \nNever Say Never Again                 380.0    86.0                NaN  \nOctopussy                             373.8    53.9                7.8  \nOn Her Majesty's Secret Service       291.5    37.3                0.6  \nQuantum of Solace                     514.2   181.4                8.1  \nSkyfall                               943.5   170.2               14.5  \nSpectre                               726.7   206.3                NaN  \nThe Living Daylights                  313.5    68.8                5.2  \nThe Man with the Golden Gun           334.0    27.7                NaN  \nThe Spy Who Loved Me                  533.0    45.1                NaN  >"
      ]
     },
     "execution_count": 19,
     "metadata": {},
     "output_type": "execute_result"
    }
   ],
   "source": [
    "#BONUS\n",
    "bonus=bond.iloc[:22]\n",
    "bonus.head\n",
    "# los labesl tambien tiene indices numericos"
   ]
  },
  {
   "cell_type": "code",
   "execution_count": null,
   "metadata": {},
   "outputs": [],
   "source": []
  }
 ],
 "metadata": {
  "kernelspec": {
   "display_name": "Python 2",
   "language": "python",
   "name": "python2"
  },
  "language_info": {
   "codemirror_mode": {
    "name": "ipython",
    "version": 2
   },
   "file_extension": ".py",
   "mimetype": "text/x-python",
   "name": "python",
   "nbconvert_exporter": "python",
   "pygments_lexer": "ipython2",
   "version": "2.7.6"
  }
 },
 "nbformat": 4,
 "nbformat_minor": 0
}
