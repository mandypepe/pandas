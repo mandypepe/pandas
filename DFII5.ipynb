{
 "cells": [
  {
   "cell_type": "code",
   "execution_count": 1,
   "metadata": {
    "collapsed": true
   },
   "outputs": [
    {
     "name": "stdout",
     "output_type": "stream",
     "text": [
      "<class 'pandas.core.frame.DataFrame'>\nRangeIndex: 1000 entries, 0 to 999\nData columns (total 8 columns):\nFirst Name           933 non-null object\nGender               855 non-null category\nStart Date           1000 non-null datetime64[ns]\nLast Login Time      1000 non-null datetime64[ns]\nSalary               1000 non-null int64\nBonus %              1000 non-null float64\nSenior Management    1000 non-null bool\nTeam                 957 non-null object\ndtypes: bool(1), category(1), datetime64[ns](2), float64(1), int64(1), object(2)\nmemory usage: 49.0+ KB\n"
     ]
    }
   ],
   "source": [
    "import pandas as pd\n",
    "import matplotlib.pyplot as plt\n",
    "import numpy as np\n",
    "%matplotlib inline\n",
    "df=pd.read_csv(\"csvs/employees.csv\",parse_dates=['Last Login Time','Start Date'])\n",
    "df['Senior Management']=df['Senior Management'].astype(\"bool\")\n",
    "df['Gender']=df['Gender'].astype('category')\n",
    "df.info()"
   ]
  },
  {
   "cell_type": "code",
   "execution_count": 3,
   "metadata": {
    "collapsed": true
   },
   "outputs": [
    {
     "data": {
      "text/plain": [
       "0      False\n1       True\n2      False\n3      False\n4      False\n5      False\n6      False\n7      False\n8      False\n9      False\n10      True\n11     False\n12     False\n13     False\n14     False\n15     False\n16     False\n17     False\n18     False\n19     False\n20     False\n21     False\n22     False\n23      True\n24     False\n25     False\n26     False\n27     False\n28     False\n29     False\n       ...  \n970    False\n971    False\n972    False\n973    False\n974    False\n975    False\n976    False\n977    False\n978    False\n979    False\n980    False\n981    False\n982    False\n983    False\n984    False\n985    False\n986    False\n987    False\n988    False\n989    False\n990    False\n991    False\n992    False\n993    False\n994    False\n995    False\n996    False\n997    False\n998    False\n999    False\nName: Team, Length: 1000, dtype: bool"
      ]
     },
     "execution_count": 3,
     "metadata": {},
     "output_type": "execute_result"
    }
   ],
   "source": [
    "df['Team'].isnull()"
   ]
  },
  {
   "cell_type": "code",
   "execution_count": 6,
   "metadata": {
    "collapsed": true
   },
   "outputs": [
    {
     "data": {
      "text/plain": [
       "0       True\n1       True\n2       True\n3       True\n4       True\n5       True\n6       True\n7       True\n8       True\n9       True\n10      True\n11      True\n12      True\n13      True\n14      True\n15      True\n16      True\n17      True\n18      True\n19      True\n20     False\n21      True\n22     False\n23      True\n24      True\n25      True\n26      True\n27     False\n28      True\n29      True\n       ...  \n970     True\n971     True\n972    False\n973     True\n974     True\n975     True\n976     True\n977     True\n978     True\n979     True\n980     True\n981     True\n982     True\n983     True\n984     True\n985    False\n986     True\n987     True\n988     True\n989    False\n990     True\n991     True\n992     True\n993     True\n994     True\n995    False\n996     True\n997     True\n998     True\n999     True\nName: Gender, Length: 1000, dtype: bool"
      ]
     },
     "execution_count": 6,
     "metadata": {},
     "output_type": "execute_result"
    }
   ],
   "source": [
    "df['Gender'].notnull()"
   ]
  },
  {
   "cell_type": "code",
   "execution_count": null,
   "metadata": {},
   "outputs": [],
   "source": []
  }
 ],
 "metadata": {
  "kernelspec": {
   "display_name": "Python 2",
   "language": "python",
   "name": "python2"
  },
  "language_info": {
   "codemirror_mode": {
    "name": "ipython",
    "version": 2
   },
   "file_extension": ".py",
   "mimetype": "text/x-python",
   "name": "python",
   "nbconvert_exporter": "python",
   "pygments_lexer": "ipython2",
   "version": "2.7.6"
  }
 },
 "nbformat": 4,
 "nbformat_minor": 0
}
