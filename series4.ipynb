{
 "cells": [
  {
   "cell_type": "code",
   "execution_count": 1,
   "metadata": {
    "collapsed": true
   },
   "outputs": [],
   "source": [
    "import pandas as pd\n",
    "import matplotlib.pyplot as plt\n",
    "import numpy as np\n",
    "%matplotlib inline\n",
    "\n",
    "# squeeze=TRUE  import as series not as DF\n",
    "google=pd.read_csv('csvs/google_stock_price.csv',squeeze=True)\n",
    "pokemon=pd.read_csv('csvs/pokemon.csv',usecols=['Pokemon'],squeeze=True)\n"
   ]
  },
  {
   "cell_type": "code",
   "execution_count": 2,
   "metadata": {
    "collapsed": true
   },
   "outputs": [
    {
     "data": {
      "text/plain": [
       "459     Abomasnow\n62           Abra\n358         Absol\n616      Accelgor\n680     Aegislash\n141    Aerodactyl\n305        Aggron\n189         Aipom\n64       Alakazam\n593     Alomomola\n333       Altaria\n697        Amaura\n423       Ambipom\n590     Amoonguss\n180      Ampharos\n346       Anorith\n23          Arbok\n58       Arcanine\n492        Arceus\n565        Archen\n566      Archeops\n167       Ariados\n347       Armaldo\n682    Aromatisse\n303          Aron\n143      Articuno\n530        Audino\n698       Aurorus\n712       Avalugg\n609          Axew\n          ...    \n69     Weepinbell\n109       Weezing\n546    Whimsicott\n543    Whirlipede\n339      Whiscash\n292       Whismur\n39     Wigglytuff\n277       Wingull\n201     Wobbuffet\n526        Woobat\n193        Wooper\n412      Wormadam\n264       Wurmple\n359        Wynaut\n177          Xatu\n715       Xerneas\n561        Yamask\n192         Yanma\n468       Yanmega\n716       Yveltal\n334      Zangoose\n144        Zapdos\n522     Zebstrika\n643        Zekrom\n262     Zigzagoon\n570       Zoroark\n569         Zorua\n40          Zubat\n633      Zweilous\n717       Zygarde\nName: Pokemon, Length: 721, dtype: object"
      ]
     },
     "execution_count": 2,
     "metadata": {},
     "output_type": "execute_result"
    }
   ],
   "source": [
    "pokemon.sort_values()"
   ]
  },
  {
   "cell_type": "code",
   "execution_count": 3,
   "metadata": {},
   "outputs": [
    {
     "data": {
      "text/plain": [
       "459    Abomasnow\n62          Abra\n358        Absol\n616     Accelgor\n680    Aegislash\nName: Pokemon, dtype: object"
      ]
     },
     "execution_count": 3,
     "metadata": {},
     "output_type": "execute_result"
    }
   ],
   "source": [
    "pokemon.sort_values().head()"
   ]
  },
  {
   "cell_type": "code",
   "execution_count": 5,
   "metadata": {},
   "outputs": [
    {
     "data": {
      "text/plain": [
       "717     Zygarde\n633    Zweilous\n40        Zubat\n569       Zorua\n570     Zoroark\nName: Pokemon, dtype: object"
      ]
     },
     "execution_count": 5,
     "metadata": {},
     "output_type": "execute_result"
    }
   ],
   "source": [
    "pokemon.sort_values(ascending=False).head()"
   ]
  },
  {
   "cell_type": "code",
   "execution_count": 6,
   "metadata": {},
   "outputs": [
    {
     "data": {
      "text/plain": [
       "11    49.95\n9     50.07\n0     50.12\n10    50.70\n12    50.74\nName: Stock Price, dtype: float64"
      ]
     },
     "execution_count": 6,
     "metadata": {},
     "output_type": "execute_result"
    }
   ],
   "source": [
    "google.sort_values().head()"
   ]
  },
  {
   "cell_type": "code",
   "execution_count": 7,
   "metadata": {},
   "outputs": [
    {
     "data": {
      "text/plain": [
       "3011    782.22\n2859    776.60\n3009    773.18\n3007    772.88\n3010    771.61\nName: Stock Price, dtype: float64"
      ]
     },
     "execution_count": 7,
     "metadata": {},
     "output_type": "execute_result"
    }
   ],
   "source": [
    "google.sort_values(ascending=False).head()"
   ]
  },
  {
   "cell_type": "code",
   "execution_count": null,
   "metadata": {},
   "outputs": [],
   "source": [
    " "
   ]
  }
 ],
 "metadata": {
  "kernelspec": {
   "display_name": "Python 2",
   "language": "python",
   "name": "python2"
  },
  "language_info": {
   "codemirror_mode": {
    "name": "ipython",
    "version": 2
   },
   "file_extension": ".py",
   "mimetype": "text/x-python",
   "name": "python",
   "nbconvert_exporter": "python",
   "pygments_lexer": "ipython2",
   "version": "2.7.6"
  }
 },
 "nbformat": 4,
 "nbformat_minor": 0
}
